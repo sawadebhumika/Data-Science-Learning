{
 "cells": [
  {
   "cell_type": "markdown",
   "id": "fd2fc553",
   "metadata": {},
   "source": [
    "# Print Statement"
   ]
  },
  {
   "cell_type": "code",
   "execution_count": 1,
   "id": "417c1ebd",
   "metadata": {},
   "outputs": [
    {
     "name": "stdout",
     "output_type": "stream",
     "text": [
      "Hello Neurons\n"
     ]
    }
   ],
   "source": [
    "print(\"Hello Neurons\")"
   ]
  },
  {
   "cell_type": "code",
   "execution_count": 2,
   "id": "f8f0a098",
   "metadata": {},
   "outputs": [
    {
     "name": "stdout",
     "output_type": "stream",
     "text": [
      "greetings from iNeuron\n",
      "Goood Evening\n"
     ]
    }
   ],
   "source": [
    "print('greetings from iNeuron')\n",
    "print(\"Goood Evening\")"
   ]
  },
  {
   "cell_type": "code",
   "execution_count": 3,
   "id": "47368540",
   "metadata": {},
   "outputs": [
    {
     "ename": "NameError",
     "evalue": "name 'Print' is not defined",
     "output_type": "error",
     "traceback": [
      "\u001b[1;31m---------------------------------------------------------------------------\u001b[0m",
      "\u001b[1;31mNameError\u001b[0m                                 Traceback (most recent call last)",
      "Cell \u001b[1;32mIn[3], line 2\u001b[0m\n\u001b[0;32m      1\u001b[0m \u001b[38;5;66;03m## Mistakes we can make\u001b[39;00m\n\u001b[1;32m----> 2\u001b[0m \u001b[43mPrint\u001b[49m(\u001b[38;5;124m\"\u001b[39m\u001b[38;5;124mGood Evening\u001b[39m\u001b[38;5;124m\"\u001b[39m)\n",
      "\u001b[1;31mNameError\u001b[0m: name 'Print' is not defined"
     ]
    }
   ],
   "source": [
    "## Mistakes we can make\n",
    "Print(\"Good Evening\")"
   ]
  },
  {
   "cell_type": "code",
   "execution_count": 4,
   "id": "c226dcbc",
   "metadata": {},
   "outputs": [
    {
     "ename": "SyntaxError",
     "evalue": "invalid syntax. Perhaps you forgot a comma? (3904026530.py, line 1)",
     "output_type": "error",
     "traceback": [
      "\u001b[1;36m  Cell \u001b[1;32mIn[4], line 1\u001b[1;36m\u001b[0m\n\u001b[1;33m    print(good evening)\u001b[0m\n\u001b[1;37m          ^\u001b[0m\n\u001b[1;31mSyntaxError\u001b[0m\u001b[1;31m:\u001b[0m invalid syntax. Perhaps you forgot a comma?\n"
     ]
    }
   ],
   "source": [
    "print(good evening)"
   ]
  },
  {
   "cell_type": "code",
   "execution_count": 5,
   "id": "27198883",
   "metadata": {},
   "outputs": [
    {
     "ename": "SyntaxError",
     "evalue": "Missing parentheses in call to 'print'. Did you mean print(...)? (251419130.py, line 1)",
     "output_type": "error",
     "traceback": [
      "\u001b[1;36m  Cell \u001b[1;32mIn[5], line 1\u001b[1;36m\u001b[0m\n\u001b[1;33m    print \"good evening\"\u001b[0m\n\u001b[1;37m    ^\u001b[0m\n\u001b[1;31mSyntaxError\u001b[0m\u001b[1;31m:\u001b[0m Missing parentheses in call to 'print'. Did you mean print(...)?\n"
     ]
    }
   ],
   "source": [
    "print \"good evening\""
   ]
  },
  {
   "cell_type": "code",
   "execution_count": 6,
   "id": "0a6fd7aa",
   "metadata": {
    "scrolled": true
   },
   "outputs": [
    {
     "ename": "SyntaxError",
     "evalue": "unterminated string literal (detected at line 1) (1922152922.py, line 1)",
     "output_type": "error",
     "traceback": [
      "\u001b[1;36m  Cell \u001b[1;32mIn[6], line 1\u001b[1;36m\u001b[0m\n\u001b[1;33m    print(\"Good\u001b[0m\n\u001b[1;37m          ^\u001b[0m\n\u001b[1;31mSyntaxError\u001b[0m\u001b[1;31m:\u001b[0m unterminated string literal (detected at line 1)\n"
     ]
    }
   ],
   "source": [
    "print(\"Good \n",
    "Evening\")"
   ]
  },
  {
   "cell_type": "code",
   "execution_count": 7,
   "id": "43838bcd",
   "metadata": {},
   "outputs": [
    {
     "name": "stdout",
     "output_type": "stream",
     "text": [
      "Good \n",
      "Evening\n"
     ]
    }
   ],
   "source": [
    "# multi line comment or multi line string\n",
    "print(\"\"\"Good \n",
    "Evening\"\"\")"
   ]
  },
  {
   "cell_type": "code",
   "execution_count": 8,
   "id": "8f4772e9",
   "metadata": {},
   "outputs": [
    {
     "data": {
      "text/plain": [
       "'Good morning'"
      ]
     },
     "execution_count": 8,
     "metadata": {},
     "output_type": "execute_result"
    }
   ],
   "source": [
    "\"Good morning\""
   ]
  },
  {
   "cell_type": "code",
   "execution_count": 9,
   "id": "81093e73",
   "metadata": {},
   "outputs": [
    {
     "name": "stdout",
     "output_type": "stream",
     "text": [
      "Goood Evening\n"
     ]
    }
   ],
   "source": [
    "\"Good morning\"\n",
    "print(\"Goood Evening\")"
   ]
  },
  {
   "cell_type": "markdown",
   "id": "5ee29208",
   "metadata": {},
   "source": [
    "# Comments"
   ]
  },
  {
   "cell_type": "code",
   "execution_count": 10,
   "id": "93ef23c5",
   "metadata": {},
   "outputs": [
    {
     "name": "stdout",
     "output_type": "stream",
     "text": [
      "Hi Students\n"
     ]
    }
   ],
   "source": [
    "# say hello to the students:\n",
    "print(\"Hi Students\")"
   ]
  },
  {
   "cell_type": "code",
   "execution_count": 11,
   "id": "0eb7478f",
   "metadata": {},
   "outputs": [],
   "source": [
    "# say hello to the students:\n",
    "# print(\"Hi Students\")"
   ]
  },
  {
   "cell_type": "markdown",
   "id": "dc313d46",
   "metadata": {},
   "source": [
    "# Multi Line Comments"
   ]
  },
  {
   "cell_type": "code",
   "execution_count": 12,
   "id": "f58cdac4",
   "metadata": {},
   "outputs": [
    {
     "name": "stdout",
     "output_type": "stream",
     "text": [
      "Hii Students\n"
     ]
    }
   ],
   "source": [
    "\"\"\"\n",
    "Say Hi\n",
    "To the students\n",
    "\"\"\"\n",
    "print(\"Hii Students\")"
   ]
  },
  {
   "cell_type": "code",
   "execution_count": 13,
   "id": "0f6aca5d",
   "metadata": {},
   "outputs": [
    {
     "ename": "SyntaxError",
     "evalue": "invalid syntax. Perhaps you forgot a comma? (3789430678.py, line 3)",
     "output_type": "error",
     "traceback": [
      "\u001b[1;36m  Cell \u001b[1;32mIn[13], line 3\u001b[1;36m\u001b[0m\n\u001b[1;33m    print(\"Hi my name is \"Bhumik\" \")\u001b[0m\n\u001b[1;37m          ^\u001b[0m\n\u001b[1;31mSyntaxError\u001b[0m\u001b[1;31m:\u001b[0m invalid syntax. Perhaps you forgot a comma?\n"
     ]
    }
   ],
   "source": [
    "# exceptional cases in print Statements:\n",
    "\n",
    "print(\"Hi my name is \"Bhumik\" \")"
   ]
  },
  {
   "cell_type": "code",
   "execution_count": 14,
   "id": "dd15a52b",
   "metadata": {},
   "outputs": [
    {
     "name": "stdout",
     "output_type": "stream",
     "text": [
      "Hi my name is \"Bhumika\" \n"
     ]
    }
   ],
   "source": [
    "print('Hi my name is \"Bhumika\" ')"
   ]
  },
  {
   "cell_type": "code",
   "execution_count": 15,
   "id": "3ae41994",
   "metadata": {},
   "outputs": [
    {
     "name": "stdout",
     "output_type": "stream",
     "text": [
      "Hi my name is 'Bhumika' \n"
     ]
    }
   ],
   "source": [
    "print(\"Hi my name is 'Bhumika' \")"
   ]
  },
  {
   "cell_type": "code",
   "execution_count": 16,
   "id": "5e6b344f",
   "metadata": {},
   "outputs": [
    {
     "name": "stdout",
     "output_type": "stream",
     "text": [
      "Hi my name is 'Bhumika' \n"
     ]
    }
   ],
   "source": [
    "print(\"\"\"Hi my name is 'Bhumika' \"\"\")  # best to deal with"
   ]
  },
  {
   "cell_type": "code",
   "execution_count": 17,
   "id": "14cdd201",
   "metadata": {
    "scrolled": true
   },
   "outputs": [
    {
     "name": "stdout",
     "output_type": "stream",
     "text": [
      "Hi my name is \"Bhumika\" \n"
     ]
    }
   ],
   "source": [
    "print(\"Hi my name is \\\"Bhumika\\\" \")  # \\will avoid the character"
   ]
  },
  {
   "cell_type": "code",
   "execution_count": null,
   "id": "a8fd15fe",
   "metadata": {},
   "outputs": [],
   "source": []
  },
  {
   "cell_type": "code",
   "execution_count": 18,
   "id": "63de44e8",
   "metadata": {
    "scrolled": true
   },
   "outputs": [
    {
     "data": {
      "text/plain": [
       "544"
      ]
     },
     "execution_count": 18,
     "metadata": {},
     "output_type": "execute_result"
    }
   ],
   "source": [
    "123+ 421 # sum of 2 no."
   ]
  },
  {
   "cell_type": "code",
   "execution_count": 19,
   "id": "baf9f6cf",
   "metadata": {},
   "outputs": [
    {
     "data": {
      "text/plain": [
       "231710"
      ]
     },
     "execution_count": 19,
     "metadata": {},
     "output_type": "execute_result"
    }
   ],
   "source": [
    "235*986"
   ]
  },
  {
   "cell_type": "code",
   "execution_count": 20,
   "id": "cae4f91f",
   "metadata": {
    "scrolled": true
   },
   "outputs": [
    {
     "data": {
      "text/plain": [
       "283.5"
      ]
     },
     "execution_count": 20,
     "metadata": {},
     "output_type": "execute_result"
    }
   ],
   "source": [
    "567/2  # gives quotient"
   ]
  },
  {
   "cell_type": "code",
   "execution_count": 21,
   "id": "8e817306",
   "metadata": {},
   "outputs": [
    {
     "data": {
      "text/plain": [
       "283"
      ]
     },
     "execution_count": 21,
     "metadata": {},
     "output_type": "execute_result"
    }
   ],
   "source": [
    "567//2"
   ]
  },
  {
   "cell_type": "code",
   "execution_count": 22,
   "id": "8cf2ea46",
   "metadata": {},
   "outputs": [
    {
     "data": {
      "text/plain": [
       "1"
      ]
     },
     "execution_count": 22,
     "metadata": {},
     "output_type": "execute_result"
    }
   ],
   "source": [
    "# modulo operator\n",
    "567 % 2  #gives remainder"
   ]
  },
  {
   "cell_type": "code",
   "execution_count": 23,
   "id": "487154cc",
   "metadata": {},
   "outputs": [
    {
     "data": {
      "text/plain": [
       "207936"
      ]
     },
     "execution_count": 23,
     "metadata": {},
     "output_type": "execute_result"
    }
   ],
   "source": [
    "456**2    # Power of 456 raised to 2"
   ]
  },
  {
   "cell_type": "code",
   "execution_count": 24,
   "id": "7d17ca56",
   "metadata": {},
   "outputs": [
    {
     "data": {
      "text/plain": [
       "207936"
      ]
     },
     "execution_count": 24,
     "metadata": {},
     "output_type": "execute_result"
    }
   ],
   "source": [
    "(-456)**2"
   ]
  },
  {
   "cell_type": "code",
   "execution_count": 25,
   "id": "667c2f06",
   "metadata": {},
   "outputs": [
    {
     "name": "stdout",
     "output_type": "stream",
     "text": [
      "235*986\n"
     ]
    }
   ],
   "source": [
    "235*986\n",
    "print(\"235*986\")"
   ]
  },
  {
   "cell_type": "code",
   "execution_count": 26,
   "id": "19809dd0",
   "metadata": {},
   "outputs": [
    {
     "name": "stdout",
     "output_type": "stream",
     "text": [
      "231710\n"
     ]
    }
   ],
   "source": [
    "print(235*986)"
   ]
  },
  {
   "cell_type": "markdown",
   "id": "0bfb372a",
   "metadata": {},
   "source": [
    "# Variables in Python"
   ]
  },
  {
   "cell_type": "markdown",
   "id": "8dd01895",
   "metadata": {},
   "source": [
    "# Variables in Python\n",
    "## Variables in Python\n",
    "### Variables in Python\n",
    "#### Variables in Python\n",
    "##### Variables in Python\n",
    "###### Variables in Python"
   ]
  },
  {
   "cell_type": "code",
   "execution_count": 27,
   "id": "1cb4c0de",
   "metadata": {},
   "outputs": [],
   "source": [
    "x = 10"
   ]
  },
  {
   "cell_type": "code",
   "execution_count": 28,
   "id": "9acf7801",
   "metadata": {},
   "outputs": [
    {
     "name": "stdout",
     "output_type": "stream",
     "text": [
      "10\n"
     ]
    }
   ],
   "source": [
    "print(x)"
   ]
  },
  {
   "cell_type": "code",
   "execution_count": 29,
   "id": "ba158e46",
   "metadata": {},
   "outputs": [
    {
     "name": "stdout",
     "output_type": "stream",
     "text": [
      "20\n"
     ]
    }
   ],
   "source": [
    "y=20\n",
    "print(y)"
   ]
  },
  {
   "cell_type": "code",
   "execution_count": 30,
   "id": "4f09f30c",
   "metadata": {},
   "outputs": [
    {
     "name": "stdout",
     "output_type": "stream",
     "text": [
      "30\n",
      "0.5\n"
     ]
    }
   ],
   "source": [
    "print(x+y)\n",
    "print(x/y)    "
   ]
  },
  {
   "cell_type": "markdown",
   "id": "2d90898a",
   "metadata": {},
   "source": [
    "    1. Variable names should with alphabets\n",
    "    2. Variables names should not contain any special characters like ^ %  ! @ # & * ()\n",
    "    3. Variables name can contain no. but you can't start with numbers.\n",
    "    4. It's not a strict rule that you should start variables names with a capital letter. But it's recommended to use small      letters for the variables"
   ]
  },
  {
   "cell_type": "code",
   "execution_count": 31,
   "id": "7c75514c",
   "metadata": {},
   "outputs": [],
   "source": [
    "ten = 10\n",
    "ten_number = 10\n",
    "tenNumber = 10"
   ]
  },
  {
   "cell_type": "code",
   "execution_count": 32,
   "id": "5ff69eca",
   "metadata": {},
   "outputs": [
    {
     "ename": "SyntaxError",
     "evalue": "invalid syntax (1983975256.py, line 1)",
     "output_type": "error",
     "traceback": [
      "\u001b[1;36m  Cell \u001b[1;32mIn[32], line 1\u001b[1;36m\u001b[0m\n\u001b[1;33m    ten* = 10  # cannot have special character\u001b[0m\n\u001b[1;37m         ^\u001b[0m\n\u001b[1;31mSyntaxError\u001b[0m\u001b[1;31m:\u001b[0m invalid syntax\n"
     ]
    }
   ],
   "source": [
    "ten* = 10  # cannot have special character"
   ]
  },
  {
   "cell_type": "code",
   "execution_count": 33,
   "id": "4ab8e7e8",
   "metadata": {},
   "outputs": [
    {
     "ename": "SyntaxError",
     "evalue": "cannot assign to expression here. Maybe you meant '==' instead of '='? (1559910169.py, line 1)",
     "output_type": "error",
     "traceback": [
      "\u001b[1;36m  Cell \u001b[1;32mIn[33], line 1\u001b[1;36m\u001b[0m\n\u001b[1;33m    ten%number = 10\u001b[0m\n\u001b[1;37m    ^\u001b[0m\n\u001b[1;31mSyntaxError\u001b[0m\u001b[1;31m:\u001b[0m cannot assign to expression here. Maybe you meant '==' instead of '='?\n"
     ]
    }
   ],
   "source": [
    "ten%number = 10"
   ]
  },
  {
   "cell_type": "code",
   "execution_count": 34,
   "id": "064288a8",
   "metadata": {},
   "outputs": [
    {
     "ename": "SyntaxError",
     "evalue": "cannot assign to expression here. Maybe you meant '==' instead of '='? (2167743853.py, line 3)",
     "output_type": "error",
     "traceback": [
      "\u001b[1;36m  Cell \u001b[1;32mIn[34], line 3\u001b[1;36m\u001b[0m\n\u001b[1;33m    ten%Number = 10\u001b[0m\n\u001b[1;37m    ^\u001b[0m\n\u001b[1;31mSyntaxError\u001b[0m\u001b[1;31m:\u001b[0m cannot assign to expression here. Maybe you meant '==' instead of '='?\n"
     ]
    }
   ],
   "source": [
    "ten = 10\n",
    "ten_number = 10\n",
    "ten%Number = 10"
   ]
  },
  {
   "cell_type": "code",
   "execution_count": 35,
   "id": "639016f2",
   "metadata": {},
   "outputs": [
    {
     "ename": "SyntaxError",
     "evalue": "cannot assign to expression here. Maybe you meant '==' instead of '='? (3434713923.py, line 3)",
     "output_type": "error",
     "traceback": [
      "\u001b[1;36m  Cell \u001b[1;32mIn[35], line 3\u001b[1;36m\u001b[0m\n\u001b[1;33m    ten%Number = 10  #interpreted language, whichever line it get's error stops there and there\u001b[0m\n\u001b[1;37m    ^\u001b[0m\n\u001b[1;31mSyntaxError\u001b[0m\u001b[1;31m:\u001b[0m cannot assign to expression here. Maybe you meant '==' instead of '='?\n"
     ]
    }
   ],
   "source": [
    "ten = 10\n",
    "ten_number = 10\n",
    "ten%Number = 10  #interpreted language, whichever line it get's error stops there and there\n",
    "ten_number = 10"
   ]
  },
  {
   "cell_type": "code",
   "execution_count": 36,
   "id": "5562227b",
   "metadata": {},
   "outputs": [],
   "source": [
    "ten10 = 10"
   ]
  },
  {
   "cell_type": "code",
   "execution_count": 37,
   "id": "473ab8fd",
   "metadata": {},
   "outputs": [
    {
     "ename": "SyntaxError",
     "evalue": "invalid decimal literal (216338716.py, line 1)",
     "output_type": "error",
     "traceback": [
      "\u001b[1;36m  Cell \u001b[1;32mIn[37], line 1\u001b[1;36m\u001b[0m\n\u001b[1;33m    10ten = 10  #can't start with no.\u001b[0m\n\u001b[1;37m     ^\u001b[0m\n\u001b[1;31mSyntaxError\u001b[0m\u001b[1;31m:\u001b[0m invalid decimal literal\n"
     ]
    }
   ],
   "source": [
    "10ten = 10  #can't start with no."
   ]
  },
  {
   "cell_type": "code",
   "execution_count": 38,
   "id": "4c55c7e6",
   "metadata": {},
   "outputs": [],
   "source": [
    "__num = 10  #hidden varables, If you don't won't user to see it or use it"
   ]
  },
  {
   "cell_type": "code",
   "execution_count": 39,
   "id": "0ff162d8",
   "metadata": {},
   "outputs": [
    {
     "ename": "SyntaxError",
     "evalue": "invalid syntax (1754195070.py, line 2)",
     "output_type": "error",
     "traceback": [
      "\u001b[1;36m  Cell \u001b[1;32mIn[39], line 2\u001b[1;36m\u001b[0m\n\u001b[1;33m    starting with capital is not preferable\u001b[0m\n\u001b[1;37m             ^\u001b[0m\n\u001b[1;31mSyntaxError\u001b[0m\u001b[1;31m:\u001b[0m invalid syntax\n"
     ]
    }
   ],
   "source": [
    "Ten = 10  # do not restrict, but \n",
    "starting with capital is not preferable"
   ]
  },
  {
   "cell_type": "code",
   "execution_count": 40,
   "id": "3da5ed51",
   "metadata": {},
   "outputs": [],
   "source": [
    "____r_=0\n"
   ]
  },
  {
   "cell_type": "code",
   "execution_count": 41,
   "id": "6c5a7f67",
   "metadata": {},
   "outputs": [
    {
     "ename": "SyntaxError",
     "evalue": "invalid syntax (1489706555.py, line 1)",
     "output_type": "error",
     "traceback": [
      "\u001b[1;36m  Cell \u001b[1;32mIn[41], line 1\u001b[1;36m\u001b[0m\n\u001b[1;33m    ten num = 10\u001b[0m\n\u001b[1;37m        ^\u001b[0m\n\u001b[1;31mSyntaxError\u001b[0m\u001b[1;31m:\u001b[0m invalid syntax\n"
     ]
    }
   ],
   "source": [
    "ten num = 10"
   ]
  },
  {
   "cell_type": "code",
   "execution_count": 42,
   "id": "e7e0f7d9",
   "metadata": {},
   "outputs": [],
   "source": [
    "ten_num = 10"
   ]
  },
  {
   "cell_type": "code",
   "execution_count": 43,
   "id": "9f1b6575",
   "metadata": {},
   "outputs": [],
   "source": [
    "_ = 10  #dummy variable"
   ]
  },
  {
   "cell_type": "markdown",
   "id": "f1d3bf8a",
   "metadata": {},
   "source": [
    "# Fundamental data types    "
   ]
  },
  {
   "cell_type": "markdown",
   "id": "a73241b3",
   "metadata": {},
   "source": [
    "### integers"
   ]
  },
  {
   "cell_type": "code",
   "execution_count": 44,
   "id": "6832feef",
   "metadata": {},
   "outputs": [],
   "source": [
    "a = 7"
   ]
  },
  {
   "cell_type": "code",
   "execution_count": 45,
   "id": "ef85a58d",
   "metadata": {},
   "outputs": [
    {
     "data": {
      "text/plain": [
       "int"
      ]
     },
     "execution_count": 45,
     "metadata": {},
     "output_type": "execute_result"
    }
   ],
   "source": [
    "type(a)"
   ]
  },
  {
   "cell_type": "code",
   "execution_count": 46,
   "id": "1a9fc593",
   "metadata": {},
   "outputs": [
    {
     "data": {
      "text/plain": [
       "int"
      ]
     },
     "execution_count": 46,
     "metadata": {},
     "output_type": "execute_result"
    }
   ],
   "source": [
    "b = 8989\n",
    "type(b)"
   ]
  },
  {
   "cell_type": "markdown",
   "id": "4c177ca2",
   "metadata": {},
   "source": [
    "### floats:  no. containing decimal"
   ]
  },
  {
   "cell_type": "code",
   "execution_count": 47,
   "id": "2ca4649c",
   "metadata": {},
   "outputs": [],
   "source": [
    "x = 2.0"
   ]
  },
  {
   "cell_type": "code",
   "execution_count": 48,
   "id": "991d258a",
   "metadata": {},
   "outputs": [
    {
     "data": {
      "text/plain": [
       "float"
      ]
     },
     "execution_count": 48,
     "metadata": {},
     "output_type": "execute_result"
    }
   ],
   "source": [
    "type(x)"
   ]
  },
  {
   "cell_type": "code",
   "execution_count": 49,
   "id": "81109a6e",
   "metadata": {},
   "outputs": [
    {
     "data": {
      "text/plain": [
       "float"
      ]
     },
     "execution_count": 49,
     "metadata": {},
     "output_type": "execute_result"
    }
   ],
   "source": [
    "pi=3.14\n",
    "type(pi)"
   ]
  },
  {
   "cell_type": "code",
   "execution_count": 50,
   "id": "858795b4",
   "metadata": {},
   "outputs": [
    {
     "data": {
      "text/plain": [
       "3.142857142857143"
      ]
     },
     "execution_count": 50,
     "metadata": {},
     "output_type": "execute_result"
    }
   ],
   "source": [
    "pi = 22/7\n",
    "pi"
   ]
  },
  {
   "cell_type": "code",
   "execution_count": 51,
   "id": "6d966389",
   "metadata": {},
   "outputs": [
    {
     "data": {
      "text/plain": [
       "float"
      ]
     },
     "execution_count": 51,
     "metadata": {},
     "output_type": "execute_result"
    }
   ],
   "source": [
    "type(pi)"
   ]
  },
  {
   "cell_type": "markdown",
   "id": "67e58cdb",
   "metadata": {},
   "source": [
    "### complex no."
   ]
  },
  {
   "cell_type": "code",
   "execution_count": 52,
   "id": "259f4c7e",
   "metadata": {},
   "outputs": [
    {
     "data": {
      "text/plain": [
       "(2+3j)"
      ]
     },
     "execution_count": 52,
     "metadata": {},
     "output_type": "execute_result"
    }
   ],
   "source": [
    "a = 2+3j\n",
    "a"
   ]
  },
  {
   "cell_type": "code",
   "execution_count": 53,
   "id": "e06b1d71",
   "metadata": {},
   "outputs": [
    {
     "data": {
      "text/plain": [
       "complex"
      ]
     },
     "execution_count": 53,
     "metadata": {},
     "output_type": "execute_result"
    }
   ],
   "source": [
    "type(a)"
   ]
  },
  {
   "cell_type": "code",
   "execution_count": 54,
   "id": "c85b8db2",
   "metadata": {},
   "outputs": [
    {
     "data": {
      "text/plain": [
       "3.0"
      ]
     },
     "execution_count": 54,
     "metadata": {},
     "output_type": "execute_result"
    }
   ],
   "source": [
    "a.imag"
   ]
  },
  {
   "cell_type": "code",
   "execution_count": 55,
   "id": "9b272fdd",
   "metadata": {},
   "outputs": [
    {
     "data": {
      "text/plain": [
       "2.0"
      ]
     },
     "execution_count": 55,
     "metadata": {},
     "output_type": "execute_result"
    }
   ],
   "source": [
    "a.real"
   ]
  },
  {
   "cell_type": "markdown",
   "id": "ca4b81c4",
   "metadata": {},
   "source": [
    "# Dynamic Typing"
   ]
  },
  {
   "cell_type": "code",
   "execution_count": 56,
   "id": "6da0876f",
   "metadata": {},
   "outputs": [
    {
     "name": "stdout",
     "output_type": "stream",
     "text": [
      "<class 'int'>\n",
      "<class 'float'>\n"
     ]
    }
   ],
   "source": [
    "a = 22\n",
    "print(type(a))\n",
    "a = 22.2\n",
    "print(type(a))"
   ]
  },
  {
   "cell_type": "code",
   "execution_count": 57,
   "id": "a848feef",
   "metadata": {},
   "outputs": [
    {
     "name": "stdout",
     "output_type": "stream",
     "text": [
      "22.2\n"
     ]
    }
   ],
   "source": [
    "print(a)  # updated a"
   ]
  },
  {
   "cell_type": "code",
   "execution_count": 58,
   "id": "82585c09",
   "metadata": {},
   "outputs": [
    {
     "name": "stdout",
     "output_type": "stream",
     "text": [
      "<class 'str'>\n"
     ]
    },
    {
     "data": {
      "text/plain": [
       "'sunny'"
      ]
     },
     "execution_count": 58,
     "metadata": {},
     "output_type": "execute_result"
    }
   ],
   "source": [
    "a = \"sunny\"\n",
    "print(type(a))\n",
    "a"
   ]
  },
  {
   "cell_type": "markdown",
   "id": "a24e12f6",
   "metadata": {},
   "source": [
    "# Strong Typing"
   ]
  },
  {
   "cell_type": "code",
   "execution_count": 59,
   "id": "72feb3bf",
   "metadata": {},
   "outputs": [
    {
     "ename": "TypeError",
     "evalue": "can only concatenate str (not \"int\") to str",
     "output_type": "error",
     "traceback": [
      "\u001b[1;31m---------------------------------------------------------------------------\u001b[0m",
      "\u001b[1;31mTypeError\u001b[0m                                 Traceback (most recent call last)",
      "Cell \u001b[1;32mIn[59], line 1\u001b[0m\n\u001b[1;32m----> 1\u001b[0m \u001b[38;5;124;43m\"\u001b[39;49m\u001b[38;5;124;43mDay\u001b[39;49m\u001b[38;5;124;43m\"\u001b[39;49m\u001b[43m \u001b[49m\u001b[38;5;241;43m+\u001b[39;49m\u001b[43m \u001b[49m\u001b[38;5;241;43m1\u001b[39;49m\n",
      "\u001b[1;31mTypeError\u001b[0m: can only concatenate str (not \"int\") to str"
     ]
    }
   ],
   "source": [
    "\"Day\" + 1"
   ]
  },
  {
   "cell_type": "code",
   "execution_count": 60,
   "id": "628d9d69",
   "metadata": {},
   "outputs": [
    {
     "data": {
      "text/plain": [
       "'Day1'"
      ]
     },
     "execution_count": 60,
     "metadata": {},
     "output_type": "execute_result"
    }
   ],
   "source": [
    "\"Day\" + \"1\""
   ]
  },
  {
   "cell_type": "code",
   "execution_count": 61,
   "id": "5a46f9d9",
   "metadata": {
    "scrolled": true
   },
   "outputs": [
    {
     "data": {
      "text/plain": [
       "'2222'"
      ]
     },
     "execution_count": 61,
     "metadata": {},
     "output_type": "execute_result"
    }
   ],
   "source": [
    "\"22\" + \"22\""
   ]
  },
  {
   "cell_type": "code",
   "execution_count": 62,
   "id": "e449e217",
   "metadata": {},
   "outputs": [
    {
     "data": {
      "text/plain": [
       "44"
      ]
     },
     "execution_count": 62,
     "metadata": {},
     "output_type": "execute_result"
    }
   ],
   "source": [
    "22 + 22"
   ]
  },
  {
   "cell_type": "code",
   "execution_count": 63,
   "id": "5448ca3e",
   "metadata": {},
   "outputs": [
    {
     "ename": "TypeError",
     "evalue": "unsupported operand type(s) for +: 'int' and 'str'",
     "output_type": "error",
     "traceback": [
      "\u001b[1;31m---------------------------------------------------------------------------\u001b[0m",
      "\u001b[1;31mTypeError\u001b[0m                                 Traceback (most recent call last)",
      "Cell \u001b[1;32mIn[63], line 1\u001b[0m\n\u001b[1;32m----> 1\u001b[0m \u001b[38;5;241;43m22\u001b[39;49m\u001b[43m \u001b[49m\u001b[38;5;241;43m+\u001b[39;49m\u001b[43m \u001b[49m\u001b[38;5;124;43m\"\u001b[39;49m\u001b[38;5;124;43m22\u001b[39;49m\u001b[38;5;124;43m\"\u001b[39;49m\n",
      "\u001b[1;31mTypeError\u001b[0m: unsupported operand type(s) for +: 'int' and 'str'"
     ]
    }
   ],
   "source": [
    "22 + \"22\""
   ]
  },
  {
   "cell_type": "code",
   "execution_count": 64,
   "id": "ea170c43",
   "metadata": {},
   "outputs": [
    {
     "data": {
      "text/plain": [
       "'Bhumikasawade'"
      ]
     },
     "execution_count": 64,
     "metadata": {},
     "output_type": "execute_result"
    }
   ],
   "source": [
    " \"Bhumika\" + \"sawade\""
   ]
  },
  {
   "cell_type": "code",
   "execution_count": 65,
   "id": "0ecd8a64",
   "metadata": {},
   "outputs": [],
   "source": [
    "a = 29     # int data type\n",
    "b = 23.0   # float data type\n",
    "c = 29 + 23j # complex data type ,rarely in use\n",
    "d = \"bhumi\"  # string data type"
   ]
  },
  {
   "cell_type": "code",
   "execution_count": 66,
   "id": "a0510c95",
   "metadata": {},
   "outputs": [],
   "source": [
    "## why concatenation"
   ]
  },
  {
   "cell_type": "code",
   "execution_count": 67,
   "id": "fa8912d1",
   "metadata": {},
   "outputs": [
    {
     "name": "stdout",
     "output_type": "stream",
     "text": [
      "hii ,welcome to class of python language\n"
     ]
    }
   ],
   "source": [
    "print(\"hii ,welcome to class of python language\")"
   ]
  },
  {
   "cell_type": "code",
   "execution_count": 68,
   "id": "5f2f58fe",
   "metadata": {},
   "outputs": [
    {
     "name": "stdout",
     "output_type": "stream",
     "text": [
      "Hii ,Welcome to class of python language\n"
     ]
    }
   ],
   "source": [
    "language = \"python\"\n",
    "print(\"Hii ,Welcome to class of \" + language + \" language\") #rarey used"
   ]
  },
  {
   "cell_type": "code",
   "execution_count": 69,
   "id": "021fdcc5",
   "metadata": {},
   "outputs": [
    {
     "name": "stdout",
     "output_type": "stream",
     "text": [
      "Hii ,Welcome to class of python language\n"
     ]
    }
   ],
   "source": [
    "# f- formatted string method\n",
    "language = \"python\"\n",
    "print(f\"Hii ,Welcome to class of {language} language\") # current standard approach used"
   ]
  },
  {
   "cell_type": "code",
   "execution_count": 70,
   "id": "d3fc1f34",
   "metadata": {},
   "outputs": [
    {
     "name": "stdout",
     "output_type": "stream",
     "text": [
      "Hii ,Welcome to class of python language\n"
     ]
    }
   ],
   "source": [
    "language = \"python\"\n",
    "print(\"Hii ,Welcome to class of {} language\".format(language)) #old method"
   ]
  },
  {
   "cell_type": "code",
   "execution_count": 71,
   "id": "d9b66fb8",
   "metadata": {},
   "outputs": [
    {
     "name": "stdout",
     "output_type": "stream",
     "text": [
      " Today is the second class of python language\n"
     ]
    }
   ],
   "source": [
    "num = \"second\"\n",
    "language = \"python\"\n",
    "print(f\" Today is the {num} class of {language} language\")"
   ]
  },
  {
   "cell_type": "code",
   "execution_count": 72,
   "id": "71b2f47d",
   "metadata": {},
   "outputs": [
    {
     "name": "stdout",
     "output_type": "stream",
     "text": [
      " Today is the second class of python language\n"
     ]
    }
   ],
   "source": [
    "num = \"second\"\n",
    "language = \"python\"\n",
    "print(\" Today is the {} class of {} language\".format(num,language))"
   ]
  },
  {
   "cell_type": "code",
   "execution_count": 73,
   "id": "01aec48b",
   "metadata": {},
   "outputs": [
    {
     "name": "stdout",
     "output_type": "stream",
     "text": [
      "The result of sum of two no. 67 and 78 is 145\n"
     ]
    }
   ],
   "source": [
    "a = 67\n",
    "b = 78\n",
    "c = a + b\n",
    "print(f\"The result of sum of two no. {a} and {b} is {c}\")"
   ]
  },
  {
   "cell_type": "markdown",
   "id": "6a1afa0d",
   "metadata": {},
   "source": [
    "# Boolean  : True  False"
   ]
  },
  {
   "cell_type": "code",
   "execution_count": 74,
   "id": "9ee1bf75",
   "metadata": {},
   "outputs": [
    {
     "name": "stdout",
     "output_type": "stream",
     "text": [
      "<class 'bool'>\n",
      "<class 'bool'>\n"
     ]
    }
   ],
   "source": [
    "one = True\n",
    "two = False\n",
    "\n",
    "print(type(one))\n",
    "print(type(two))"
   ]
  },
  {
   "cell_type": "code",
   "execution_count": 75,
   "id": "a6d3efaf",
   "metadata": {},
   "outputs": [
    {
     "name": "stdout",
     "output_type": "stream",
     "text": [
      "You understood everythting?? : False\n"
     ]
    }
   ],
   "source": [
    "class_starts_at = 1500\n",
    "you_came_at = 1600\n",
    "\n",
    "you_understood_all_concept = you_came_at < class_starts_at\n",
    "print(f\"You understood everythting?? : {you_understood_all_concept}\")"
   ]
  },
  {
   "cell_type": "code",
   "execution_count": 76,
   "id": "1316a2b5",
   "metadata": {},
   "outputs": [
    {
     "name": "stdout",
     "output_type": "stream",
     "text": [
      "You understood everythting?? : True\n"
     ]
    }
   ],
   "source": [
    "class_starts_at = 4\n",
    "you_came_at = 3\n",
    "\n",
    "you_understood_all_concept = you_came_at < class_starts_at\n",
    "print(f\"You understood everythting?? : {you_understood_all_concept}\")"
   ]
  },
  {
   "cell_type": "code",
   "execution_count": null,
   "id": "82f4365e",
   "metadata": {},
   "outputs": [],
   "source": []
  }
 ],
 "metadata": {
  "kernelspec": {
   "display_name": "Python 3 (ipykernel)",
   "language": "python",
   "name": "python3"
  },
  "language_info": {
   "codemirror_mode": {
    "name": "ipython",
    "version": 3
   },
   "file_extension": ".py",
   "mimetype": "text/x-python",
   "name": "python",
   "nbconvert_exporter": "python",
   "pygments_lexer": "ipython3",
   "version": "3.10.9"
  }
 },
 "nbformat": 4,
 "nbformat_minor": 5
}

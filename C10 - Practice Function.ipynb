{
 "cells": [
  {
   "cell_type": "markdown",
   "id": "b34e49ca",
   "metadata": {},
   "source": [
    "    Write a function which will try to find out len of the string without using a inbuilt len function\n",
    "\n",
    "    Write a function which will be able to print all index of list element without using index function\n",
    "\n",
    "    Write a function which will be able to print an ip adress of your system\n",
    "\n",
    "    Write a function which will shutdown your system\n",
    "\n",
    "    Write a function which will take input as a list with any kind of numeric value and give an output as a multiplcation of all the numeric data , l=[3.5,6.56,4,5,\"bhumik\",\"ineuron\",\"bootcamp\"]\n",
    "    \n",
    "    Write a function which will be able to able to read all the mails\n",
    "    \n",
    "    Write a function which will be able to send a mail to anyone\n",
    "    \n",
    "    Write a function which will be able to red a doc/word file from your system\n",
    "\n"
   ]
  },
  {
   "cell_type": "code",
   "execution_count": 1,
   "id": "5174cbb3",
   "metadata": {},
   "outputs": [
    {
     "name": "stdout",
     "output_type": "stream",
     "text": [
      "7\n"
     ]
    }
   ],
   "source": [
    "# Write a function which will try to find out len of the string without using a inbuilt len function\n",
    "\n",
    "a = \"bhumika\"\n",
    "count = 0\n",
    "\n",
    "for i in a:\n",
    "    count = count + 1\n",
    "print(count)"
   ]
  },
  {
   "cell_type": "code",
   "execution_count": 2,
   "id": "948a680e",
   "metadata": {},
   "outputs": [
    {
     "data": {
      "text/plain": [
       "7"
      ]
     },
     "execution_count": 2,
     "metadata": {},
     "output_type": "execute_result"
    }
   ],
   "source": [
    "len(a)"
   ]
  },
  {
   "cell_type": "code",
   "execution_count": 3,
   "id": "b9d08dd7",
   "metadata": {},
   "outputs": [],
   "source": [
    "def test(s):\n",
    "    \"\"\"This is a programme which will help to find a length of string\"\"\"\n",
    "    count = 0\n",
    "    for i in s:\n",
    "        if type(i) == str:\n",
    "            count = count + 1\n",
    "    return count    "
   ]
  },
  {
   "cell_type": "code",
   "execution_count": 4,
   "id": "c97a7f1b",
   "metadata": {},
   "outputs": [
    {
     "data": {
      "text/plain": [
       "7"
      ]
     },
     "execution_count": 4,
     "metadata": {},
     "output_type": "execute_result"
    }
   ],
   "source": [
    "test(\"bhumika\")"
   ]
  },
  {
   "cell_type": "code",
   "execution_count": 5,
   "id": "d73e2e5e",
   "metadata": {},
   "outputs": [],
   "source": [
    "def test1(l1): \n",
    "    \n",
    "    for i in range(0,len(l1)):\n",
    "        print(l1[i ], \":\",i)"
   ]
  },
  {
   "cell_type": "code",
   "execution_count": 6,
   "id": "fc156fb5",
   "metadata": {},
   "outputs": [],
   "source": [
    "# Write a function which will be able to print all index of list element without using index function\n",
    "\n",
    "def test(s):\n",
    "    \"\"\"This is a programme which will help to find a length of string\"\"\"\n",
    "    count = 0\n",
    "    for i in s:\n",
    "#         if type(i) == str:\n",
    "            count = count + 1\n",
    "    return count \n",
    "\n",
    "def test1(l1): \n",
    "    for i in range(0,test(l1)):\n",
    "        print(l1[i ], \":\",i)"
   ]
  },
  {
   "cell_type": "code",
   "execution_count": 7,
   "id": "e2a16149",
   "metadata": {
    "scrolled": true
   },
   "outputs": [
    {
     "name": "stdout",
     "output_type": "stream",
     "text": [
      "3.5 : 0\n",
      "6.56 : 1\n",
      "4 : 2\n",
      "5 : 3\n",
      "bhumik : 4\n",
      "ineuron : 5\n",
      "bootcamp : 6\n"
     ]
    }
   ],
   "source": [
    "test1([3.5,6.56,4,5,\"bhumik\",\"ineuron\",\"bootcamp\"])"
   ]
  },
  {
   "cell_type": "code",
   "execution_count": 8,
   "id": "90c3eb3d",
   "metadata": {},
   "outputs": [],
   "source": [
    "l=[3.5,6.56,4,5,\"bhumik\",\"ineuron\",\"bootcamp\"]"
   ]
  },
  {
   "cell_type": "code",
   "execution_count": 9,
   "id": "60ce7d6e",
   "metadata": {},
   "outputs": [],
   "source": [
    "def test1(l1): \n",
    "    \"\"\"This is a function which will find the index of elements present in list\"\"\"\n",
    "    count = 0\n",
    "    \n",
    "    for i in l1:\n",
    "        print(count,i)\n",
    "        count = count + 1"
   ]
  },
  {
   "cell_type": "code",
   "execution_count": 10,
   "id": "b722d147",
   "metadata": {},
   "outputs": [
    {
     "name": "stdout",
     "output_type": "stream",
     "text": [
      "0 3.5\n",
      "1 6.56\n",
      "2 4\n",
      "3 5\n",
      "4 bhumik\n",
      "5 ineuron\n",
      "6 bootcamp\n"
     ]
    }
   ],
   "source": [
    "test1(l)"
   ]
  },
  {
   "cell_type": "code",
   "execution_count": 11,
   "id": "cd6225bd",
   "metadata": {},
   "outputs": [],
   "source": [
    "# Write a function which will be able to print an ip adress of your system  #ipconfig in command prompt"
   ]
  },
  {
   "cell_type": "code",
   "execution_count": 12,
   "id": "6f2f48c1",
   "metadata": {},
   "outputs": [
    {
     "data": {
      "text/plain": [
       "'192.168.43.118'"
      ]
     },
     "execution_count": 12,
     "metadata": {},
     "output_type": "execute_result"
    }
   ],
   "source": [
    "import socket\n",
    "socket.gethostbyname(socket.gethostname())"
   ]
  },
  {
   "cell_type": "code",
   "execution_count": 13,
   "id": "9212fad4",
   "metadata": {},
   "outputs": [],
   "source": [
    "def my_ip():\n",
    "    ip = socket.gethostbyname(socket.gethostname())\n",
    "    return ip\n",
    "    "
   ]
  },
  {
   "cell_type": "code",
   "execution_count": 14,
   "id": "afe027c4",
   "metadata": {},
   "outputs": [
    {
     "data": {
      "text/plain": [
       "'192.168.43.118'"
      ]
     },
     "execution_count": 14,
     "metadata": {},
     "output_type": "execute_result"
    }
   ],
   "source": [
    "my_ip()"
   ]
  },
  {
   "cell_type": "code",
   "execution_count": 15,
   "id": "1c47d00e",
   "metadata": {},
   "outputs": [],
   "source": [
    "# Write a function which will shutdown your system (loocal system)\n",
    "# /s - shutdown\n",
    "# /r - restart\n",
    "# /t 1(timer)\n",
    "\n",
    "# import os\n",
    "# os.system(\"shutdown /s /t 4\")   ## initiate a shutdown after 4 second\n",
    "# os.system(\"shutdown /r /t 4\")   ## initiate a restart after 4 second"
   ]
  },
  {
   "cell_type": "code",
   "execution_count": 16,
   "id": "04f6404d",
   "metadata": {},
   "outputs": [],
   "source": [
    "# Write a function which will take input as a list with any kind of numeric value and give an output as a\n",
    "# multiplcation of all the numeric data , l=[3.5,6.56,4,5,\"bhumik\",\"ineuron\",\"bootcamp\"]"
   ]
  },
  {
   "cell_type": "code",
   "execution_count": 17,
   "id": "b667a063",
   "metadata": {},
   "outputs": [],
   "source": [
    " l=[3.5,6.56,4,5,\"bhumik\",\"ineuron\",\"bootcamp\"]\n",
    "    \n",
    "def test3(l):\n",
    "    mul = 1\n",
    "    for i in l:\n",
    "        if type(i) == int or type(i) == float:\n",
    "            mul = mul*i\n",
    "    return mul"
   ]
  },
  {
   "cell_type": "code",
   "execution_count": 18,
   "id": "d51e7417",
   "metadata": {},
   "outputs": [
    {
     "data": {
      "text/plain": [
       "459.19999999999993"
      ]
     },
     "execution_count": 18,
     "metadata": {},
     "output_type": "execute_result"
    }
   ],
   "source": [
    "test3(l)"
   ]
  },
  {
   "cell_type": "code",
   "execution_count": 19,
   "id": "1798e39c",
   "metadata": {},
   "outputs": [],
   "source": [
    "# Write a function which will be able to able to read all the mails"
   ]
  },
  {
   "cell_type": "code",
   "execution_count": null,
   "id": "daa10844",
   "metadata": {},
   "outputs": [],
   "source": [
    "import smtplib\n",
    "import time\n",
    "import imaplib\n",
    "import email\n",
    "\n",
    "ORG_EMAIL = \"@gmail.com\"\n",
    "FROM_EMAIL = \"sawadebhumika@gmail.com\"\n",
    "FROM_PWD = \"12345\"  # congigure the password in App-password\n",
    "SMTP_SERVER = \"imap.gmail.com\"\n",
    "SMTP_PORT = 993\n",
    "imaplib._MAXLINE = 400000000\n",
    "\n",
    "def read_email_from_gmail():\n",
    "    try:\n",
    "        mail = imaplib.IMAP4_SSL(SMTP_SERVER)\n",
    "        mail.login(FROM_EMAIL,FROM_PWD)\n",
    "        mail.select(\"inbox\")\n",
    "            \n",
    "        data = mail.search(None, \"ALL\")\n",
    "        mail_ids = data[1]\n",
    "        id_list = mail_ids[0].split()\n",
    "        first_email_id = int(id_list[0])\n",
    "        latest_email_id = int(id_list[-1])\n",
    "            \n",
    "        for i in range(latest_email_id,first_email_id,-1):\n",
    "            data = mail.fetch(str(i), \"(RFC822)\")\n",
    "            for response_part in data:               \n",
    "                arr = response_part in data:\n",
    "                if isinstance(arr, tuple):\n",
    "                    msg = email.message_from_string(str(arr[1],'utf-8'))\n",
    "                    email_subject = msg['subject']\n",
    "                    email_from = msg['from']\n",
    "                    print('From : ' + email_from + '\\n')\n",
    "                    print('Subject: ' + email_subject + '\\')\n",
    "                              \n",
    "    except Exception as e:\n",
    "        traceback.print_exc()\n",
    "        print(str(e))\n",
    "                              \n",
    "read_email_from_gmail()       "
   ]
  },
  {
   "cell_type": "code",
   "execution_count": null,
   "id": "e3b54c37",
   "metadata": {},
   "outputs": [],
   "source": [
    "# Write a function which will be able to send a mail to anyone\n",
    "\n",
    "import smtplib, ssl  # simple mail transfer protocol library, secure server\n",
    "\n",
    "port = 465   # for SSL\n",
    "smtp_server = \"smtp.gmail.com\"\n",
    "sender_email = \"sawadebhumika@gmail.com\"  # Enter your address\n",
    "receiver_email = \"sawadebhumika@gmail.com\"  # Enter receiver address\n",
    "password = \"12345\"  # congigure this password from App-password in gmail security\n",
    "message = \"\"\"THIS IS MY MESSAGE FROM PYTHON CODE\"\"\"\n",
    "\n",
    "context = ssl.create_default_context()\n",
    "with smtplib.SMTP_SSL(smtp_server, port, context = context) as server:\n",
    "    server.login(sender_email,password)\n",
    "    server.sendmail(sender_email, receiver_email, message)\n"
   ]
  },
  {
   "cell_type": "code",
   "execution_count": null,
   "id": "0702bd4c",
   "metadata": {},
   "outputs": [],
   "source": [
    "# Write a function which will be able to read a doc/word file from your system\n",
    "\n",
    "# pip install docx2txt\n",
    "import docx2txt\n",
    "a = docx2txt.process(\"filename.docx\")\n",
    "print(a)"
   ]
  }
 ],
 "metadata": {
  "kernelspec": {
   "display_name": "Python 3 (ipykernel)",
   "language": "python",
   "name": "python3"
  },
  "language_info": {
   "codemirror_mode": {
    "name": "ipython",
    "version": 3
   },
   "file_extension": ".py",
   "mimetype": "text/x-python",
   "name": "python",
   "nbconvert_exporter": "python",
   "pygments_lexer": "ipython3",
   "version": "3.10.9"
  }
 },
 "nbformat": 4,
 "nbformat_minor": 5
}

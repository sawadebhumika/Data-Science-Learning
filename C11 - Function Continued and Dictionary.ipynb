{
 "cells": [
  {
   "cell_type": "markdown",
   "id": "d1f71b46",
   "metadata": {},
   "source": [
    "    Function always try to increase the reusability of the code"
   ]
  },
  {
   "cell_type": "code",
   "execution_count": 115,
   "id": "b3662ccb",
   "metadata": {},
   "outputs": [],
   "source": [
    "def test():\n",
    "    a = 5+6\n",
    "    return a"
   ]
  },
  {
   "cell_type": "code",
   "execution_count": 116,
   "id": "131e780b",
   "metadata": {},
   "outputs": [
    {
     "data": {
      "text/plain": [
       "11"
      ]
     },
     "execution_count": 116,
     "metadata": {},
     "output_type": "execute_result"
    }
   ],
   "source": [
    "test()"
   ]
  },
  {
   "cell_type": "code",
   "execution_count": 117,
   "id": "ceff0f2a",
   "metadata": {},
   "outputs": [],
   "source": [
    "def test2(a,b):\n",
    "    return a + b"
   ]
  },
  {
   "cell_type": "code",
   "execution_count": 118,
   "id": "50c7f773",
   "metadata": {},
   "outputs": [
    {
     "data": {
      "text/plain": [
       "12"
      ]
     },
     "execution_count": 118,
     "metadata": {},
     "output_type": "execute_result"
    }
   ],
   "source": [
    "test2(6,6)"
   ]
  },
  {
   "cell_type": "code",
   "execution_count": 119,
   "id": "fcbf864f",
   "metadata": {},
   "outputs": [
    {
     "data": {
      "text/plain": [
       "'bhumiksawade'"
      ]
     },
     "execution_count": 119,
     "metadata": {},
     "output_type": "execute_result"
    }
   ],
   "source": [
    "test2(\"bhumik\",\"sawade\")"
   ]
  },
  {
   "cell_type": "markdown",
   "id": "3dce117c",
   "metadata": {},
   "source": [
    "    In test2(), we know how many data we need to input,(i.e 2), suppose in a function we don't know how many data we need to input\n",
    "         create a function which will take any no. of input , it should accomadate each and everything as list and give the final output as list"
   ]
  },
  {
   "cell_type": "code",
   "execution_count": 120,
   "id": "75c941d7",
   "metadata": {},
   "outputs": [],
   "source": [
    "def test3(*args):    # * means any no. of input can be pass\n",
    "    return args"
   ]
  },
  {
   "cell_type": "code",
   "execution_count": 121,
   "id": "a15131f6",
   "metadata": {},
   "outputs": [
    {
     "data": {
      "text/plain": [
       "(1, 2, 3, 4, 'bhumik')"
      ]
     },
     "execution_count": 121,
     "metadata": {},
     "output_type": "execute_result"
    }
   ],
   "source": [
    "test3(1,2,3,4,\"bhumik\")"
   ]
  },
  {
   "cell_type": "code",
   "execution_count": 122,
   "id": "21f695a4",
   "metadata": {},
   "outputs": [
    {
     "data": {
      "text/plain": [
       "tuple"
      ]
     },
     "execution_count": 122,
     "metadata": {},
     "output_type": "execute_result"
    }
   ],
   "source": [
    "type(test3(1,2,3,4,\"bhumik\"))"
   ]
  },
  {
   "cell_type": "code",
   "execution_count": 123,
   "id": "9a3d42b6",
   "metadata": {},
   "outputs": [
    {
     "data": {
      "text/plain": [
       "([1, 2, 3, 4], 'bhumik', 'datascience', (6+7j), (4, 5, 6))"
      ]
     },
     "execution_count": 123,
     "metadata": {},
     "output_type": "execute_result"
    }
   ],
   "source": [
    "test3([1,2,3,4],\"bhumik\",\"datascience\",6+7j,(4,5,6))"
   ]
  },
  {
   "cell_type": "code",
   "execution_count": 124,
   "id": "e0017499",
   "metadata": {},
   "outputs": [],
   "source": [
    "def test4(*args):\n",
    "    return list(args)   # type casting"
   ]
  },
  {
   "cell_type": "code",
   "execution_count": 125,
   "id": "69da860e",
   "metadata": {},
   "outputs": [
    {
     "data": {
      "text/plain": [
       "[3, 4, 'bhumik', 'datascience', (6+7j), (4, 5, 6)]"
      ]
     },
     "execution_count": 125,
     "metadata": {},
     "output_type": "execute_result"
    }
   ],
   "source": [
    "test4(3,4,\"bhumik\",\"datascience\",6+7j,(4,5,6))"
   ]
  },
  {
   "cell_type": "code",
   "execution_count": 126,
   "id": "1628e898",
   "metadata": {},
   "outputs": [],
   "source": [
    "def test5(*args):\n",
    "    l = []\n",
    "    for i in args:\n",
    "        l.append(i)\n",
    "    return l"
   ]
  },
  {
   "cell_type": "code",
   "execution_count": 127,
   "id": "249b5e36",
   "metadata": {},
   "outputs": [
    {
     "data": {
      "text/plain": [
       "[1, 2, 3, 4, 'bhumik']"
      ]
     },
     "execution_count": 127,
     "metadata": {},
     "output_type": "execute_result"
    }
   ],
   "source": [
    "test5(1,2,3,4,\"bhumik\")"
   ]
  },
  {
   "cell_type": "code",
   "execution_count": 128,
   "id": "2a484f6f",
   "metadata": {},
   "outputs": [],
   "source": [
    "def test6(*bhumik):   # args is not a keyword\n",
    "    return bhumik"
   ]
  },
  {
   "cell_type": "code",
   "execution_count": 129,
   "id": "c3a3f7d8",
   "metadata": {},
   "outputs": [
    {
     "data": {
      "text/plain": [
       "(1, 2, 3, 4, 'bhumik')"
      ]
     },
     "execution_count": 129,
     "metadata": {},
     "output_type": "execute_result"
    }
   ],
   "source": [
    "test6(1,2,3,4,\"bhumik\")"
   ]
  },
  {
   "cell_type": "markdown",
   "id": "feee4396",
   "metadata": {},
   "source": [
    "# Dictionary"
   ]
  },
  {
   "cell_type": "code",
   "execution_count": 130,
   "id": "14b2dbf4",
   "metadata": {},
   "outputs": [],
   "source": [
    "l = [1,2,3,4,5,6]\n",
    "t = (4,5,6,7,8+9j)\n",
    "s = {3,4,5,6,3,4,8,9,7,8}"
   ]
  },
  {
   "cell_type": "code",
   "execution_count": 131,
   "id": "3a518b5c",
   "metadata": {},
   "outputs": [
    {
     "data": {
      "text/plain": [
       "{3, 4, 5, 6, 7, 8, 9}"
      ]
     },
     "execution_count": 131,
     "metadata": {},
     "output_type": "execute_result"
    }
   ],
   "source": [
    "s"
   ]
  },
  {
   "cell_type": "code",
   "execution_count": 132,
   "id": "84bf6ab3",
   "metadata": {},
   "outputs": [
    {
     "data": {
      "text/plain": [
       "dict"
      ]
     },
     "execution_count": 132,
     "metadata": {},
     "output_type": "execute_result"
    }
   ],
   "source": [
    "d = {}\n",
    "type(d)"
   ]
  },
  {
   "cell_type": "code",
   "execution_count": 133,
   "id": "b8b3aec8",
   "metadata": {},
   "outputs": [
    {
     "data": {
      "text/plain": [
       "set"
      ]
     },
     "execution_count": 133,
     "metadata": {},
     "output_type": "execute_result"
    }
   ],
   "source": [
    "d1 = {2,3,4,3}\n",
    "type(d1)"
   ]
  },
  {
   "cell_type": "code",
   "execution_count": 134,
   "id": "de0862e8",
   "metadata": {},
   "outputs": [],
   "source": [
    "d2 = {\"key1\":\"bhumik\",\"key2\":[2,3,4,5]}"
   ]
  },
  {
   "cell_type": "code",
   "execution_count": 135,
   "id": "f9094faa",
   "metadata": {},
   "outputs": [
    {
     "data": {
      "text/plain": [
       "[1, 2, 3, 4, 5, 6]"
      ]
     },
     "execution_count": 135,
     "metadata": {},
     "output_type": "execute_result"
    }
   ],
   "source": [
    "l"
   ]
  },
  {
   "cell_type": "markdown",
   "id": "1983d746",
   "metadata": {},
   "source": [
    "    in case of tuple and in case of list we don't have any kind of control over the indexes , we cannot give our own naming convention,"
   ]
  },
  {
   "cell_type": "code",
   "execution_count": 136,
   "id": "c52d89ce",
   "metadata": {},
   "outputs": [
    {
     "data": {
      "text/plain": [
       "{'key1': 'bhumik', 'key2': [2, 3, 4, 5]}"
      ]
     },
     "execution_count": 136,
     "metadata": {},
     "output_type": "execute_result"
    }
   ],
   "source": [
    "d2"
   ]
  },
  {
   "cell_type": "code",
   "execution_count": 137,
   "id": "db565190",
   "metadata": {},
   "outputs": [],
   "source": [
    "d3 = {2345:\"bhumik\"}"
   ]
  },
  {
   "cell_type": "code",
   "execution_count": 138,
   "id": "4d4d0bcf",
   "metadata": {},
   "outputs": [
    {
     "ename": "SyntaxError",
     "evalue": "invalid syntax (2680937067.py, line 1)",
     "output_type": "error",
     "traceback": [
      "\u001b[1;36m  Cell \u001b[1;32mIn[138], line 1\u001b[1;36m\u001b[0m\n\u001b[1;33m    d4 = {@ : \"sudg\"}   # special character does not work for key\u001b[0m\n\u001b[1;37m          ^\u001b[0m\n\u001b[1;31mSyntaxError\u001b[0m\u001b[1;31m:\u001b[0m invalid syntax\n"
     ]
    }
   ],
   "source": [
    "d4 = {@ : \"sudg\"}   # special character does not work for key"
   ]
  },
  {
   "cell_type": "code",
   "execution_count": 139,
   "id": "5040d3db",
   "metadata": {},
   "outputs": [
    {
     "ename": "TypeError",
     "evalue": "unhashable type: 'list'",
     "output_type": "error",
     "traceback": [
      "\u001b[1;31m---------------------------------------------------------------------------\u001b[0m",
      "\u001b[1;31mTypeError\u001b[0m                                 Traceback (most recent call last)",
      "Cell \u001b[1;32mIn[139], line 1\u001b[0m\n\u001b[1;32m----> 1\u001b[0m d5 \u001b[38;5;241m=\u001b[39m {[\u001b[38;5;241m1\u001b[39m,\u001b[38;5;241m2\u001b[39m,\u001b[38;5;241m3\u001b[39m] : \u001b[38;5;124m\"\u001b[39m\u001b[38;5;124mbhumk\u001b[39m\u001b[38;5;124m\"\u001b[39m}\n",
      "\u001b[1;31mTypeError\u001b[0m: unhashable type: 'list'"
     ]
    }
   ],
   "source": [
    "d5 = {[1,2,3] : \"bhumk\"}   #list as a key does not work , but tuple as a key will work"
   ]
  },
  {
   "cell_type": "code",
   "execution_count": 140,
   "id": "aca4c82b",
   "metadata": {},
   "outputs": [
    {
     "data": {
      "text/plain": [
       "{(1, 2, 4): 'bhumik'}"
      ]
     },
     "execution_count": 140,
     "metadata": {},
     "output_type": "execute_result"
    }
   ],
   "source": [
    "d6 = {(1,2,4) : \"bhumik\"}\n",
    "d6"
   ]
  },
  {
   "cell_type": "code",
   "execution_count": 141,
   "id": "91e49897",
   "metadata": {},
   "outputs": [],
   "source": [
    "d7 = {\"name\":\"bhumika\",\"org\":\"iNeuron\",\"mail_id\": \"sawadebhumika@gmail.com\", \"name \" : \"bhum\"}\n",
    "# try to adopt the latest value, here name is different"
   ]
  },
  {
   "cell_type": "code",
   "execution_count": 142,
   "id": "c90c0355",
   "metadata": {},
   "outputs": [
    {
     "data": {
      "text/plain": [
       "{'name': 'bhumika',\n",
       " 'org': 'iNeuron',\n",
       " 'mail_id': 'sawadebhumika@gmail.com',\n",
       " 'name ': 'bhum'}"
      ]
     },
     "execution_count": 142,
     "metadata": {},
     "output_type": "execute_result"
    }
   ],
   "source": [
    "d7"
   ]
  },
  {
   "cell_type": "code",
   "execution_count": 143,
   "id": "8df2cbf4",
   "metadata": {},
   "outputs": [],
   "source": [
    "d7 = {\"name\":\"bhumika\",\"org\":\"iNeuron\",\"mail_id\": \"sawadebhumika@gmail.com\", \"name\" : \"bhum\"}"
   ]
  },
  {
   "cell_type": "code",
   "execution_count": 144,
   "id": "773fb4ee",
   "metadata": {},
   "outputs": [
    {
     "data": {
      "text/plain": [
       "{'name': 'bhum', 'org': 'iNeuron', 'mail_id': 'sawadebhumika@gmail.com'}"
      ]
     },
     "execution_count": 144,
     "metadata": {},
     "output_type": "execute_result"
    }
   ],
   "source": [
    "d7"
   ]
  },
  {
   "cell_type": "markdown",
   "id": "950bd185",
   "metadata": {},
   "source": [
    "    keywords are not going to be duplicate at any pt. of time , value can be duplicate that's possible"
   ]
  },
  {
   "cell_type": "code",
   "execution_count": 145,
   "id": "34129eb8",
   "metadata": {},
   "outputs": [
    {
     "data": {
      "text/plain": [
       "{'name': 'bhumika',\n",
       " 'org': 'iNeuron',\n",
       " 'mail_id': 'sawadebhumika@gmail.com',\n",
       " 'my_name': 'bhumika'}"
      ]
     },
     "execution_count": 145,
     "metadata": {},
     "output_type": "execute_result"
    }
   ],
   "source": [
    "d7 = {\"name\":\"bhumika\",\"org\":\"iNeuron\",\"mail_id\": \"sawadebhumika@gmail.com\", \"my_name\" : \"bhumika\"}\n",
    "d7"
   ]
  },
  {
   "cell_type": "code",
   "execution_count": 146,
   "id": "c7c47386",
   "metadata": {},
   "outputs": [
    {
     "data": {
      "text/plain": [
       "'sawadebhumika@gmail.com'"
      ]
     },
     "execution_count": 146,
     "metadata": {},
     "output_type": "execute_result"
    }
   ],
   "source": [
    "d7[\"mail_id\"]   # you have to give a key name"
   ]
  },
  {
   "cell_type": "code",
   "execution_count": 147,
   "id": "2814ddd5",
   "metadata": {},
   "outputs": [
    {
     "data": {
      "text/plain": [
       "dict_keys(['name', 'org', 'mail_id', 'my_name'])"
      ]
     },
     "execution_count": 147,
     "metadata": {},
     "output_type": "execute_result"
    }
   ],
   "source": [
    "d7.keys()"
   ]
  },
  {
   "cell_type": "code",
   "execution_count": 148,
   "id": "8b189481",
   "metadata": {},
   "outputs": [
    {
     "data": {
      "text/plain": [
       "dict_values(['bhumika', 'iNeuron', 'sawadebhumika@gmail.com', 'bhumika'])"
      ]
     },
     "execution_count": 148,
     "metadata": {},
     "output_type": "execute_result"
    }
   ],
   "source": [
    "d7.values()"
   ]
  },
  {
   "cell_type": "code",
   "execution_count": 149,
   "id": "aa363c97",
   "metadata": {},
   "outputs": [
    {
     "data": {
      "text/plain": [
       "dict_items([('name', 'bhumika'), ('org', 'iNeuron'), ('mail_id', 'sawadebhumika@gmail.com'), ('my_name', 'bhumika')])"
      ]
     },
     "execution_count": 149,
     "metadata": {},
     "output_type": "execute_result"
    }
   ],
   "source": [
    "d7.items()"
   ]
  },
  {
   "cell_type": "code",
   "execution_count": 150,
   "id": "b1745c22",
   "metadata": {},
   "outputs": [
    {
     "data": {
      "text/plain": [
       "{'name': 'bhumika',\n",
       " 'mentor': {'fsds': 'abcd', 'fsda': 'mnop', 'bigdata': 'ai'}}"
      ]
     },
     "execution_count": 150,
     "metadata": {},
     "output_type": "execute_result"
    }
   ],
   "source": [
    "# dictionary inside a dictionary\n",
    "\n",
    "d8 = {'name':'bhumika','mentor':{'fsds':'abcd','fsda':'mnop','bigdata':'ai'}}\n",
    "d8"
   ]
  },
  {
   "cell_type": "code",
   "execution_count": 151,
   "id": "ae80a3a9",
   "metadata": {},
   "outputs": [
    {
     "data": {
      "text/plain": [
       "'ai'"
      ]
     },
     "execution_count": 151,
     "metadata": {},
     "output_type": "execute_result"
    }
   ],
   "source": [
    "d8[\"mentor\"][\"bigdata\"]"
   ]
  },
  {
   "cell_type": "code",
   "execution_count": 152,
   "id": "1c337e1b",
   "metadata": {},
   "outputs": [],
   "source": [
    "# jave script object notation - json---------------"
   ]
  },
  {
   "cell_type": "code",
   "execution_count": 153,
   "id": "4266a605",
   "metadata": {},
   "outputs": [
    {
     "data": {
      "text/plain": [
       "{'name': 'bhumika',\n",
       " 'mentor': {'fsds': 'abcd', 'fsda': 'mnop', 'bigdata': 'ai'}}"
      ]
     },
     "execution_count": 153,
     "metadata": {},
     "output_type": "execute_result"
    }
   ],
   "source": [
    "d8"
   ]
  },
  {
   "cell_type": "markdown",
   "id": "74c05567",
   "metadata": {},
   "source": [
    "     if values are available as a dictionary , in that case it should give the list of all the values from that dictionary"
   ]
  },
  {
   "cell_type": "code",
   "execution_count": 154,
   "id": "669ff40e",
   "metadata": {},
   "outputs": [
    {
     "data": {
      "text/plain": [
       "['abcd', 'mnop', 'ai']"
      ]
     },
     "execution_count": 154,
     "metadata": {},
     "output_type": "execute_result"
    }
   ],
   "source": [
    "list(d8[\"mentor\"].values())"
   ]
  },
  {
   "cell_type": "code",
   "execution_count": 155,
   "id": "f2baaea5",
   "metadata": {},
   "outputs": [],
   "source": [
    "# for any no. of dict. :\n",
    "l = []\n",
    "for i in d8.keys():\n",
    "    if type(d8[i]) == dict:\n",
    "        l.append(list(d8[i].values()))\n",
    "        "
   ]
  },
  {
   "cell_type": "code",
   "execution_count": 156,
   "id": "1a835a33",
   "metadata": {},
   "outputs": [
    {
     "data": {
      "text/plain": [
       "[['abcd', 'mnop', 'ai']]"
      ]
     },
     "execution_count": 156,
     "metadata": {},
     "output_type": "execute_result"
    }
   ],
   "source": [
    "l"
   ]
  },
  {
   "cell_type": "code",
   "execution_count": 157,
   "id": "53f3f408",
   "metadata": {},
   "outputs": [],
   "source": [
    "d9 = {'name': 'bhumika','mentor': {'fsds': 'abcd', 'fsda': 'mnop', 'bigdata': 'ai'},\"mail_id\" : {\"abc\":\"abc@gmail.com\",\"xyz\":\"xyz@gmail.com\",\"pqr\":\"pqr@gmail.com\"}}"
   ]
  },
  {
   "cell_type": "code",
   "execution_count": 158,
   "id": "738dba39",
   "metadata": {},
   "outputs": [
    {
     "data": {
      "text/plain": [
       "{'name': 'bhumika',\n",
       " 'mentor': {'fsds': 'abcd', 'fsda': 'mnop', 'bigdata': 'ai'},\n",
       " 'mail_id': {'abc': 'abc@gmail.com',\n",
       "  'xyz': 'xyz@gmail.com',\n",
       "  'pqr': 'pqr@gmail.com'}}"
      ]
     },
     "execution_count": 158,
     "metadata": {},
     "output_type": "execute_result"
    }
   ],
   "source": [
    "d9"
   ]
  },
  {
   "cell_type": "code",
   "execution_count": 159,
   "id": "2a736c6d",
   "metadata": {},
   "outputs": [],
   "source": [
    "l = []\n",
    "for i in d9.keys():\n",
    "    if type(d9[i]) == dict:\n",
    "        l.append(list(d9[i].values()))\n",
    "        "
   ]
  },
  {
   "cell_type": "code",
   "execution_count": 160,
   "id": "a9946f25",
   "metadata": {},
   "outputs": [
    {
     "data": {
      "text/plain": [
       "[['abcd', 'mnop', 'ai'], ['abc@gmail.com', 'xyz@gmail.com', 'pqr@gmail.com']]"
      ]
     },
     "execution_count": 160,
     "metadata": {},
     "output_type": "execute_result"
    }
   ],
   "source": [
    "l"
   ]
  },
  {
   "cell_type": "code",
   "execution_count": 161,
   "id": "c362dcde",
   "metadata": {},
   "outputs": [],
   "source": [
    "def test9(d):\n",
    "    l = []\n",
    "    for i in d9.keys():\n",
    "        if type(d9[i]) == dict:\n",
    "            l.append(list(d9[i].values()))\n",
    "    return l"
   ]
  },
  {
   "cell_type": "code",
   "execution_count": 162,
   "id": "a479d471",
   "metadata": {},
   "outputs": [
    {
     "data": {
      "text/plain": [
       "[['abcd', 'mnop', 'ai'], ['abc@gmail.com', 'xyz@gmail.com', 'pqr@gmail.com']]"
      ]
     },
     "execution_count": 162,
     "metadata": {},
     "output_type": "execute_result"
    }
   ],
   "source": [
    "test9(d9)"
   ]
  },
  {
   "cell_type": "code",
   "execution_count": 163,
   "id": "1fc3bb4b",
   "metadata": {},
   "outputs": [
    {
     "data": {
      "text/plain": [
       "{'name': 'bhumika',\n",
       " 'mentor': {'fsds': 'abcd', 'fsda': 'mnop', 'bigdata': 'ai'}}"
      ]
     },
     "execution_count": 163,
     "metadata": {},
     "output_type": "execute_result"
    }
   ],
   "source": [
    "d8"
   ]
  },
  {
   "cell_type": "code",
   "execution_count": 164,
   "id": "7e2bffba",
   "metadata": {},
   "outputs": [],
   "source": [
    "## adding a new key value pair\n",
    "\n",
    "d8[\"mob.no\"] = (2345,5678,8901)"
   ]
  },
  {
   "cell_type": "code",
   "execution_count": 165,
   "id": "1868b23e",
   "metadata": {},
   "outputs": [
    {
     "data": {
      "text/plain": [
       "{'name': 'bhumika',\n",
       " 'mentor': {'fsds': 'abcd', 'fsda': 'mnop', 'bigdata': 'ai'},\n",
       " 'mob.no': (2345, 5678, 8901)}"
      ]
     },
     "execution_count": 165,
     "metadata": {},
     "output_type": "execute_result"
    }
   ],
   "source": [
    "d8"
   ]
  },
  {
   "cell_type": "code",
   "execution_count": 166,
   "id": "111d5b1a",
   "metadata": {},
   "outputs": [],
   "source": [
    "d8[\"name\"] = \"bhumika sawade\"   # updating a value"
   ]
  },
  {
   "cell_type": "code",
   "execution_count": 167,
   "id": "a61a4fae",
   "metadata": {},
   "outputs": [
    {
     "data": {
      "text/plain": [
       "{'name': 'bhumika sawade',\n",
       " 'mentor': {'fsds': 'abcd', 'fsda': 'mnop', 'bigdata': 'ai'},\n",
       " 'mob.no': (2345, 5678, 8901)}"
      ]
     },
     "execution_count": 167,
     "metadata": {},
     "output_type": "execute_result"
    }
   ],
   "source": [
    "d8"
   ]
  },
  {
   "cell_type": "code",
   "execution_count": 168,
   "id": "1e3048da",
   "metadata": {},
   "outputs": [],
   "source": [
    "del d8[\"name\"]"
   ]
  },
  {
   "cell_type": "code",
   "execution_count": 169,
   "id": "7c7c8853",
   "metadata": {},
   "outputs": [
    {
     "data": {
      "text/plain": [
       "{'mentor': {'fsds': 'abcd', 'fsda': 'mnop', 'bigdata': 'ai'},\n",
       " 'mob.no': (2345, 5678, 8901)}"
      ]
     },
     "execution_count": 169,
     "metadata": {},
     "output_type": "execute_result"
    }
   ],
   "source": [
    "d8"
   ]
  },
  {
   "cell_type": "code",
   "execution_count": 170,
   "id": "57a6f7ab",
   "metadata": {},
   "outputs": [
    {
     "data": {
      "text/plain": [
       "{'fsds': 'abcd', 'fsda': 'mnop', 'bigdata': 'ai'}"
      ]
     },
     "execution_count": 170,
     "metadata": {},
     "output_type": "execute_result"
    }
   ],
   "source": [
    "d8.pop(\"mentor\")"
   ]
  },
  {
   "cell_type": "code",
   "execution_count": 171,
   "id": "6ffac251",
   "metadata": {},
   "outputs": [
    {
     "data": {
      "text/plain": [
       "{'mob.no': (2345, 5678, 8901)}"
      ]
     },
     "execution_count": 171,
     "metadata": {},
     "output_type": "execute_result"
    }
   ],
   "source": [
    "d8"
   ]
  },
  {
   "cell_type": "code",
   "execution_count": 172,
   "id": "e11ba74a",
   "metadata": {},
   "outputs": [
    {
     "data": {
      "text/plain": [
       "{'mob.no': (2345, 5678, 8901), 'name': 'bhumika sawade'}"
      ]
     },
     "execution_count": 172,
     "metadata": {},
     "output_type": "execute_result"
    }
   ],
   "source": [
    "d8[\"name\"] = \"bhumika sawade\"\n",
    "d8"
   ]
  },
  {
   "cell_type": "code",
   "execution_count": 173,
   "id": "7fba1efd",
   "metadata": {},
   "outputs": [],
   "source": [
    "# create a function which will able to take a input as variable name and values\n",
    "\n",
    "def test10(**kwargs):     # key-word arguments\n",
    "    return kwargs"
   ]
  },
  {
   "cell_type": "code",
   "execution_count": 174,
   "id": "1e0f14b0",
   "metadata": {},
   "outputs": [
    {
     "ename": "TypeError",
     "evalue": "test10() takes 0 positional arguments but 4 were given",
     "output_type": "error",
     "traceback": [
      "\u001b[1;31m---------------------------------------------------------------------------\u001b[0m",
      "\u001b[1;31mTypeError\u001b[0m                                 Traceback (most recent call last)",
      "Cell \u001b[1;32mIn[174], line 1\u001b[0m\n\u001b[1;32m----> 1\u001b[0m \u001b[43mtest10\u001b[49m\u001b[43m(\u001b[49m\u001b[38;5;241;43m4\u001b[39;49m\u001b[43m,\u001b[49m\u001b[38;5;241;43m5\u001b[39;49m\u001b[43m,\u001b[49m\u001b[38;5;241;43m6\u001b[39;49m\u001b[43m,\u001b[49m\u001b[38;5;241;43m7\u001b[39;49m\u001b[43m)\u001b[49m\n",
      "\u001b[1;31mTypeError\u001b[0m: test10() takes 0 positional arguments but 4 were given"
     ]
    }
   ],
   "source": [
    "test10(4,5,6,7)"
   ]
  },
  {
   "cell_type": "code",
   "execution_count": 175,
   "id": "678c574d",
   "metadata": {},
   "outputs": [
    {
     "data": {
      "text/plain": [
       "{'a': 4, 'b': 5, 'c': 6, 'd': 7}"
      ]
     },
     "execution_count": 175,
     "metadata": {},
     "output_type": "execute_result"
    }
   ],
   "source": [
    "test10(a=4,b=5,c=6,d=7)"
   ]
  },
  {
   "cell_type": "markdown",
   "id": "1a7049ce",
   "metadata": {},
   "source": [
    "    in case of single \"*\" it will give or try to take the data input as tuples, and in case of double \"**\" it will take as a dictionary"
   ]
  },
  {
   "cell_type": "code",
   "execution_count": 176,
   "id": "a8905d1a",
   "metadata": {},
   "outputs": [
    {
     "data": {
      "text/plain": [
       "dict"
      ]
     },
     "execution_count": 176,
     "metadata": {},
     "output_type": "execute_result"
    }
   ],
   "source": [
    "type(test10())"
   ]
  },
  {
   "cell_type": "code",
   "execution_count": 177,
   "id": "469cd8c1",
   "metadata": {},
   "outputs": [],
   "source": [
    "def test11(**bhumik):\n",
    "    return bhumik"
   ]
  },
  {
   "cell_type": "code",
   "execution_count": 178,
   "id": "9cf05764",
   "metadata": {},
   "outputs": [
    {
     "data": {
      "text/plain": [
       "{'b': 1234, 'c': 78910}"
      ]
     },
     "execution_count": 178,
     "metadata": {},
     "output_type": "execute_result"
    }
   ],
   "source": [
    "test11(b = 1234,c = 78910)"
   ]
  },
  {
   "cell_type": "markdown",
   "id": "19a93066",
   "metadata": {},
   "source": [
    "    function is called as first class citizen..means we can pass function inside a function we can return function from a function, we can create a object of the function and then call it from anywhere"
   ]
  },
  {
   "cell_type": "code",
   "execution_count": 179,
   "id": "4bcab50a",
   "metadata": {},
   "outputs": [],
   "source": [
    "# function within a function\n",
    "def test12(a):\n",
    "    return a\n",
    "\n",
    "def test13(b):\n",
    "    return b\n",
    "\n",
    "def test14(func):\n",
    "    return func(\"bhumika\")"
   ]
  },
  {
   "cell_type": "code",
   "execution_count": 180,
   "id": "df57384e",
   "metadata": {},
   "outputs": [
    {
     "data": {
      "text/plain": [
       "'bhumika'"
      ]
     },
     "execution_count": 180,
     "metadata": {},
     "output_type": "execute_result"
    }
   ],
   "source": [
    "test14(test12)"
   ]
  },
  {
   "cell_type": "code",
   "execution_count": 181,
   "id": "6e74c955",
   "metadata": {},
   "outputs": [
    {
     "data": {
      "text/plain": [
       "'bhumika'"
      ]
     },
     "execution_count": 181,
     "metadata": {},
     "output_type": "execute_result"
    }
   ],
   "source": [
    "test14(test13)"
   ]
  },
  {
   "cell_type": "code",
   "execution_count": 182,
   "id": "9ba48652",
   "metadata": {},
   "outputs": [],
   "source": [
    "def test12(a):\n",
    "    return a\n",
    "\n",
    "def test13():\n",
    "    return \"bhumika\"\n",
    "\n",
    "def test14(func):\n",
    "    return func(\"bhumika\")"
   ]
  },
  {
   "cell_type": "code",
   "execution_count": 183,
   "id": "78865760",
   "metadata": {},
   "outputs": [
    {
     "data": {
      "text/plain": [
       "'bhumika'"
      ]
     },
     "execution_count": 183,
     "metadata": {},
     "output_type": "execute_result"
    }
   ],
   "source": [
    "test14(test12)"
   ]
  },
  {
   "cell_type": "code",
   "execution_count": 184,
   "id": "2d5654fb",
   "metadata": {
    "scrolled": true
   },
   "outputs": [
    {
     "ename": "TypeError",
     "evalue": "test13() takes 0 positional arguments but 1 was given",
     "output_type": "error",
     "traceback": [
      "\u001b[1;31m---------------------------------------------------------------------------\u001b[0m",
      "\u001b[1;31mTypeError\u001b[0m                                 Traceback (most recent call last)",
      "Cell \u001b[1;32mIn[184], line 1\u001b[0m\n\u001b[1;32m----> 1\u001b[0m \u001b[43mtest14\u001b[49m\u001b[43m(\u001b[49m\u001b[43mtest13\u001b[49m\u001b[43m)\u001b[49m\n",
      "Cell \u001b[1;32mIn[182], line 8\u001b[0m, in \u001b[0;36mtest14\u001b[1;34m(func)\u001b[0m\n\u001b[0;32m      7\u001b[0m \u001b[38;5;28;01mdef\u001b[39;00m \u001b[38;5;21mtest14\u001b[39m(func):\n\u001b[1;32m----> 8\u001b[0m     \u001b[38;5;28;01mreturn\u001b[39;00m \u001b[43mfunc\u001b[49m\u001b[43m(\u001b[49m\u001b[38;5;124;43m\"\u001b[39;49m\u001b[38;5;124;43mbhumika\u001b[39;49m\u001b[38;5;124;43m\"\u001b[39;49m\u001b[43m)\u001b[49m\n",
      "\u001b[1;31mTypeError\u001b[0m: test13() takes 0 positional arguments but 1 was given"
     ]
    }
   ],
   "source": [
    "test14(test13)"
   ]
  },
  {
   "cell_type": "code",
   "execution_count": 185,
   "id": "ce602fae",
   "metadata": {},
   "outputs": [],
   "source": [
    "# function as argument inside a function\n",
    "def test12(a):\n",
    "    return a\n",
    "\n",
    "def test13(*args):\n",
    "    return \"bhumik\"\n",
    "\n",
    "def test14(func):\n",
    "    return func(\"bhumika\")"
   ]
  },
  {
   "cell_type": "code",
   "execution_count": 186,
   "id": "27337828",
   "metadata": {},
   "outputs": [
    {
     "data": {
      "text/plain": [
       "'bhumik'"
      ]
     },
     "execution_count": 186,
     "metadata": {},
     "output_type": "execute_result"
    }
   ],
   "source": [
    "test14(test13)"
   ]
  },
  {
   "cell_type": "code",
   "execution_count": 187,
   "id": "f84ee0e5",
   "metadata": {},
   "outputs": [],
   "source": [
    "# function inside a function\n",
    "\n",
    "def test15():\n",
    "    print(\"This is my test15\")\n",
    "    \n",
    "    def test16():\n",
    "        print(\"This is my test16\")\n",
    "    \n",
    "    def test17():\n",
    "        print(\"This is my test17\")\n",
    "        "
   ]
  },
  {
   "cell_type": "code",
   "execution_count": 188,
   "id": "f46b31c9",
   "metadata": {},
   "outputs": [
    {
     "name": "stdout",
     "output_type": "stream",
     "text": [
      "This is my test15\n"
     ]
    }
   ],
   "source": [
    "test15()"
   ]
  },
  {
   "cell_type": "code",
   "execution_count": 189,
   "id": "fe7dc0be",
   "metadata": {},
   "outputs": [],
   "source": [
    "def test15(a):\n",
    "    print(\"This is my test15\")\n",
    "    \n",
    "    def test16():\n",
    "        print(\"This is my test16\")\n",
    "    \n",
    "    def test17():\n",
    "        print(\"This is my test17\")\n",
    "        \n",
    "    if a == \"bhumi\":\n",
    "        return test16()\n",
    "    elif a == \"sawade\":\n",
    "        return test17()"
   ]
  },
  {
   "cell_type": "code",
   "execution_count": 190,
   "id": "aef5df90",
   "metadata": {},
   "outputs": [
    {
     "name": "stdout",
     "output_type": "stream",
     "text": [
      "This is my test15\n",
      "This is my test16\n"
     ]
    }
   ],
   "source": [
    "test15(\"bhumi\")"
   ]
  },
  {
   "cell_type": "code",
   "execution_count": 191,
   "id": "a9a6f33d",
   "metadata": {},
   "outputs": [
    {
     "name": "stdout",
     "output_type": "stream",
     "text": [
      "This is my test15\n"
     ]
    }
   ],
   "source": [
    "test15(\"bhumbgftui\")"
   ]
  },
  {
   "cell_type": "code",
   "execution_count": 192,
   "id": "05bb2586",
   "metadata": {},
   "outputs": [
    {
     "name": "stdout",
     "output_type": "stream",
     "text": [
      "This is my test15\n",
      "This is my test17\n"
     ]
    }
   ],
   "source": [
    "test15(\"sawade\")"
   ]
  },
  {
   "cell_type": "code",
   "execution_count": 193,
   "id": "ca7ca51c",
   "metadata": {},
   "outputs": [],
   "source": [
    "def test13(*args):\n",
    "    print(\"This is a return of test13\")"
   ]
  },
  {
   "cell_type": "code",
   "execution_count": 194,
   "id": "e3627449",
   "metadata": {},
   "outputs": [],
   "source": [
    "def test18(func):\n",
    "    def test19():\n",
    "        print(\"I am inside test19\")\n",
    "#         func()\n",
    "    return test19()"
   ]
  },
  {
   "cell_type": "code",
   "execution_count": 195,
   "id": "fe99aa02",
   "metadata": {},
   "outputs": [
    {
     "name": "stdout",
     "output_type": "stream",
     "text": [
      "I am inside test19\n"
     ]
    }
   ],
   "source": [
    "test18(test13)   # try to call a outsider funvtion, , able to call test19 as well"
   ]
  },
  {
   "cell_type": "code",
   "execution_count": 196,
   "id": "1a05c746",
   "metadata": {},
   "outputs": [],
   "source": [
    "# call test19:\n",
    "def test18():\n",
    "    def test19():\n",
    "        print(\"I am inside test19\")\n",
    "    return test19()"
   ]
  },
  {
   "cell_type": "code",
   "execution_count": 197,
   "id": "d6105e90",
   "metadata": {},
   "outputs": [
    {
     "name": "stdout",
     "output_type": "stream",
     "text": [
      "I am inside test19\n"
     ]
    }
   ],
   "source": [
    "test18()"
   ]
  },
  {
   "cell_type": "code",
   "execution_count": 198,
   "id": "9a8fe887",
   "metadata": {},
   "outputs": [],
   "source": [
    "def test18(func):\n",
    "    def test19():\n",
    "        print(\"I am inside test19\")\n",
    "        func()\n",
    "    return test19()"
   ]
  },
  {
   "cell_type": "code",
   "execution_count": 199,
   "id": "825aa24c",
   "metadata": {},
   "outputs": [
    {
     "name": "stdout",
     "output_type": "stream",
     "text": [
      "I am inside test19\n",
      "This is a return of test13\n"
     ]
    }
   ],
   "source": [
    "test18(test13)\n",
    "# on a call of one different funvtion, we are able to call another different function"
   ]
  },
  {
   "cell_type": "code",
   "execution_count": 200,
   "id": "d03d3e9b",
   "metadata": {},
   "outputs": [],
   "source": [
    "# decorator w.r.t function : \n",
    "\n",
    "import os\n",
    "def test18(func):\n",
    "    def test19():\n",
    "        print(\"I am inside test19 and this will behave as a decorator to any function that i am going to call\")  # in evry/any function that I am going to create it should print this statement in the first place\n",
    "        print(os.getcwd())\n",
    "        func()\n",
    "    return test19"
   ]
  },
  {
   "cell_type": "code",
   "execution_count": 201,
   "id": "4a30b7b8",
   "metadata": {},
   "outputs": [],
   "source": [
    "def test20():\n",
    "    print('This is my test20')"
   ]
  },
  {
   "cell_type": "code",
   "execution_count": 202,
   "id": "f49eb41d",
   "metadata": {},
   "outputs": [
    {
     "name": "stdout",
     "output_type": "stream",
     "text": [
      "This is my test20\n"
     ]
    }
   ],
   "source": [
    "test20()"
   ]
  },
  {
   "cell_type": "code",
   "execution_count": 203,
   "id": "3c106964",
   "metadata": {},
   "outputs": [
    {
     "data": {
      "text/plain": [
       "<function __main__.test18.<locals>.test19()>"
      ]
     },
     "execution_count": 203,
     "metadata": {},
     "output_type": "execute_result"
    }
   ],
   "source": [
    "test18(test20)"
   ]
  },
  {
   "cell_type": "code",
   "execution_count": 204,
   "id": "8cb48465",
   "metadata": {},
   "outputs": [],
   "source": [
    "@test18\n",
    "def test20():\n",
    "    print('This is my test20')"
   ]
  },
  {
   "cell_type": "code",
   "execution_count": 205,
   "id": "61055ee8",
   "metadata": {},
   "outputs": [
    {
     "name": "stdout",
     "output_type": "stream",
     "text": [
      "I am inside test19 and this will behave as a decorator to any function that i am going to call\n",
      "E:\\Job\\PenDrive\\INeuron\n",
      "This is my test20\n"
     ]
    }
   ],
   "source": [
    "test20()     # automaticlly calling test18"
   ]
  },
  {
   "cell_type": "code",
   "execution_count": 206,
   "id": "c2cdd801",
   "metadata": {},
   "outputs": [
    {
     "data": {
      "text/plain": [
       "'E:\\\\Job\\\\PenDrive\\\\INeuron'"
      ]
     },
     "execution_count": 206,
     "metadata": {},
     "output_type": "execute_result"
    }
   ],
   "source": [
    "pwd()"
   ]
  },
  {
   "cell_type": "code",
   "execution_count": 207,
   "id": "edea4def",
   "metadata": {},
   "outputs": [],
   "source": [
    "def test20(func):\n",
    "    def test21():\n",
    "        func()\n",
    "        print(os.getcwd())\n",
    "    return test21"
   ]
  },
  {
   "cell_type": "code",
   "execution_count": 208,
   "id": "cf630666",
   "metadata": {},
   "outputs": [],
   "source": [
    "@test18\n",
    "@test20\n",
    "def test22():\n",
    "    print(\"This will print inside test22\")"
   ]
  },
  {
   "cell_type": "code",
   "execution_count": 209,
   "id": "8fbba534",
   "metadata": {},
   "outputs": [
    {
     "name": "stdout",
     "output_type": "stream",
     "text": [
      "I am inside test19 and this will behave as a decorator to any function that i am going to call\n",
      "E:\\Job\\PenDrive\\INeuron\n",
      "This will print inside test22\n",
      "E:\\Job\\PenDrive\\INeuron\n"
     ]
    }
   ],
   "source": [
    "test22()"
   ]
  },
  {
   "cell_type": "code",
   "execution_count": 210,
   "id": "0ffe4f6a",
   "metadata": {},
   "outputs": [
    {
     "name": "stdout",
     "output_type": "stream",
     "text": [
      "helllo\n",
      "0.0\n"
     ]
    }
   ],
   "source": [
    "# write a programme which will find the execution time of the function\n",
    "\n",
    "import time\n",
    "\n",
    "start = time.time()\n",
    "print(\"helllo\")\n",
    "end = time.time()\n",
    "print(end - start)"
   ]
  },
  {
   "cell_type": "code",
   "execution_count": 211,
   "id": "42772535",
   "metadata": {},
   "outputs": [
    {
     "data": {
      "text/plain": [
       "1700577226.9903414"
      ]
     },
     "execution_count": 211,
     "metadata": {},
     "output_type": "execute_result"
    }
   ],
   "source": [
    "time.time()"
   ]
  },
  {
   "cell_type": "code",
   "execution_count": 212,
   "id": "1458dd79",
   "metadata": {},
   "outputs": [],
   "source": [
    "def test25(func):\n",
    "    def test26():\n",
    "        print(\"This will give you the execution time of the function\")\n",
    "        start = time.time()\n",
    "        func()\n",
    "        print(func())\n",
    "        end = time.time()\n",
    "        print(end - start)\n",
    "    return test26\n",
    "        "
   ]
  },
  {
   "cell_type": "code",
   "execution_count": 213,
   "id": "6d28669b",
   "metadata": {},
   "outputs": [],
   "source": [
    "@test25\n",
    "def test27():\n",
    "    \"\"\"This is a function which will take a decorator for calculating a execution timing of a function\"\"\"\n",
    "    l = [4,5,6,7,8]\n",
    "    l1 = []\n",
    "    for i in l:\n",
    "        if type(i) == int:\n",
    "            l1.append(i)\n",
    "    return l1\n",
    "        "
   ]
  },
  {
   "cell_type": "code",
   "execution_count": 214,
   "id": "272a113b",
   "metadata": {},
   "outputs": [
    {
     "name": "stdout",
     "output_type": "stream",
     "text": [
      "This will give you the execution time of the function\n",
      "[4, 5, 6, 7, 8]\n",
      "0.0\n"
     ]
    }
   ],
   "source": [
    "test27()"
   ]
  },
  {
   "cell_type": "code",
   "execution_count": null,
   "id": "9a48c12f",
   "metadata": {},
   "outputs": [],
   "source": []
  }
 ],
 "metadata": {
  "kernelspec": {
   "display_name": "Python 3 (ipykernel)",
   "language": "python",
   "name": "python3"
  },
  "language_info": {
   "codemirror_mode": {
    "name": "ipython",
    "version": 3
   },
   "file_extension": ".py",
   "mimetype": "text/x-python",
   "name": "python",
   "nbconvert_exporter": "python",
   "pygments_lexer": "ipython3",
   "version": "3.10.9"
  }
 },
 "nbformat": 4,
 "nbformat_minor": 5
}

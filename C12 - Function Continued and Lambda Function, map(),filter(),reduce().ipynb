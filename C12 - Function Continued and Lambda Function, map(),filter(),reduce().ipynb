{
 "cells": [
  {
   "cell_type": "code",
   "execution_count": 98,
   "id": "e8672169",
   "metadata": {},
   "outputs": [],
   "source": [
    "def test1(func):\n",
    "    def test2():\n",
    "        print(\"I am inside test2\")\n",
    "        func()\n",
    "        print(func())\n",
    "        print(\"function executed\")\n",
    "        return func() #  ----------------\n",
    "    return test2\n",
    "    "
   ]
  },
  {
   "cell_type": "code",
   "execution_count": 99,
   "id": "981c3712",
   "metadata": {},
   "outputs": [],
   "source": [
    "def test3():\n",
    "    return 5+6"
   ]
  },
  {
   "cell_type": "code",
   "execution_count": 100,
   "id": "16a82b0e",
   "metadata": {},
   "outputs": [
    {
     "data": {
      "text/plain": [
       "11"
      ]
     },
     "execution_count": 100,
     "metadata": {},
     "output_type": "execute_result"
    }
   ],
   "source": [
    "test3()"
   ]
  },
  {
   "cell_type": "code",
   "execution_count": 101,
   "id": "eb8855c3",
   "metadata": {},
   "outputs": [
    {
     "data": {
      "text/plain": [
       "<function __main__.test1.<locals>.test2()>"
      ]
     },
     "execution_count": 101,
     "metadata": {},
     "output_type": "execute_result"
    }
   ],
   "source": [
    "test1(test3())"
   ]
  },
  {
   "cell_type": "code",
   "execution_count": 102,
   "id": "b8484e32",
   "metadata": {},
   "outputs": [],
   "source": [
    "@test1\n",
    "def test3():\n",
    "    print(\"This is my test3\")"
   ]
  },
  {
   "cell_type": "code",
   "execution_count": 103,
   "id": "7b7d5800",
   "metadata": {},
   "outputs": [
    {
     "name": "stdout",
     "output_type": "stream",
     "text": [
      "I am inside test2\n",
      "This is my test3\n",
      "This is my test3\n",
      "None\n",
      "function executed\n",
      "This is my test3\n"
     ]
    }
   ],
   "source": [
    "test3()"
   ]
  },
  {
   "cell_type": "code",
   "execution_count": 104,
   "id": "5c6a1bfc",
   "metadata": {},
   "outputs": [],
   "source": [
    "@test1\n",
    "def test4():\n",
    "    return 5+6"
   ]
  },
  {
   "cell_type": "code",
   "execution_count": 105,
   "id": "595096eb",
   "metadata": {},
   "outputs": [
    {
     "name": "stdout",
     "output_type": "stream",
     "text": [
      "I am inside test2\n",
      "11\n",
      "function executed\n"
     ]
    },
    {
     "data": {
      "text/plain": [
       "11"
      ]
     },
     "execution_count": 105,
     "metadata": {},
     "output_type": "execute_result"
    }
   ],
   "source": [
    "test4()    # here we are able to get 11, after adding.... print(func())..."
   ]
  },
  {
   "cell_type": "code",
   "execution_count": 88,
   "id": "1a931b1a",
   "metadata": {},
   "outputs": [
    {
     "name": "stdout",
     "output_type": "stream",
     "text": [
      "I am inside test2\n",
      "function executed\n"
     ]
    }
   ],
   "source": [
    "a = test4()"
   ]
  },
  {
   "cell_type": "code",
   "execution_count": 89,
   "id": "e36b92c1",
   "metadata": {},
   "outputs": [],
   "source": [
    "a"
   ]
  },
  {
   "cell_type": "code",
   "execution_count": 90,
   "id": "72bec298",
   "metadata": {},
   "outputs": [
    {
     "name": "stdout",
     "output_type": "stream",
     "text": [
      "None\n"
     ]
    }
   ],
   "source": [
    "print(a) \n",
    "# if there is a function which is giving you return of none type,so we won't be able to perform the primitive operation "
   ]
  },
  {
   "cell_type": "code",
   "execution_count": 91,
   "id": "d26b26e4",
   "metadata": {
    "scrolled": true
   },
   "outputs": [
    {
     "name": "stdout",
     "output_type": "stream",
     "text": [
      "I am inside test2\n",
      "function executed\n"
     ]
    },
    {
     "ename": "TypeError",
     "evalue": "unsupported operand type(s) for +: 'NoneType' and 'int'",
     "output_type": "error",
     "traceback": [
      "\u001b[1;31m---------------------------------------------------------------------------\u001b[0m",
      "\u001b[1;31mTypeError\u001b[0m                                 Traceback (most recent call last)",
      "Cell \u001b[1;32mIn[91], line 1\u001b[0m\n\u001b[1;32m----> 1\u001b[0m \u001b[43mtest4\u001b[49m\u001b[43m(\u001b[49m\u001b[43m)\u001b[49m\u001b[43m \u001b[49m\u001b[38;5;241;43m+\u001b[39;49m\u001b[43m \u001b[49m\u001b[38;5;241;43m12\u001b[39;49m\n",
      "\u001b[1;31mTypeError\u001b[0m: unsupported operand type(s) for +: 'NoneType' and 'int'"
     ]
    }
   ],
   "source": [
    "test4() + 12"
   ]
  },
  {
   "cell_type": "code",
   "execution_count": 106,
   "id": "3c6e12ad",
   "metadata": {
    "scrolled": true
   },
   "outputs": [
    {
     "name": "stdout",
     "output_type": "stream",
     "text": [
      "I am inside test2\n",
      "11\n",
      "function executed\n"
     ]
    },
    {
     "data": {
      "text/plain": [
       "67"
      ]
     },
     "execution_count": 106,
     "metadata": {},
     "output_type": "execute_result"
    }
   ],
   "source": [
    "# after adding \"return func()\"\n",
    "test4() + 56"
   ]
  },
  {
   "cell_type": "code",
   "execution_count": 107,
   "id": "94be4442",
   "metadata": {},
   "outputs": [],
   "source": [
    "def test5():   # no decorator used\n",
    "    return 5+6"
   ]
  },
  {
   "cell_type": "code",
   "execution_count": 108,
   "id": "2d4107fc",
   "metadata": {},
   "outputs": [
    {
     "data": {
      "text/plain": [
       "int"
      ]
     },
     "execution_count": 108,
     "metadata": {},
     "output_type": "execute_result"
    }
   ],
   "source": [
    "type(test5())"
   ]
  },
  {
   "cell_type": "code",
   "execution_count": 109,
   "id": "fff17bde",
   "metadata": {},
   "outputs": [
    {
     "data": {
      "text/plain": [
       "16"
      ]
     },
     "execution_count": 109,
     "metadata": {},
     "output_type": "execute_result"
    }
   ],
   "source": [
    "test5() + 5"
   ]
  },
  {
   "cell_type": "code",
   "execution_count": 110,
   "id": "1170c929",
   "metadata": {},
   "outputs": [],
   "source": [
    "def test6(func):\n",
    "    def test7():\n",
    "        func()\n",
    "        print(func())\n",
    "        print(\"This is my decorator funcion\")\n",
    "        return func()\n",
    "    return test7\n",
    "    "
   ]
  },
  {
   "cell_type": "code",
   "execution_count": 111,
   "id": "70ec5976",
   "metadata": {},
   "outputs": [],
   "source": [
    "def test8():\n",
    "    return 5 + 7"
   ]
  },
  {
   "cell_type": "code",
   "execution_count": 112,
   "id": "c9f23710",
   "metadata": {},
   "outputs": [
    {
     "data": {
      "text/plain": [
       "1111124"
      ]
     },
     "execution_count": 112,
     "metadata": {},
     "output_type": "execute_result"
    }
   ],
   "source": [
    "test8() + 1111112"
   ]
  },
  {
   "cell_type": "code",
   "execution_count": 113,
   "id": "494e38a0",
   "metadata": {},
   "outputs": [],
   "source": [
    "@test6\n",
    "def test8():\n",
    "    return 5 + 7"
   ]
  },
  {
   "cell_type": "code",
   "execution_count": 114,
   "id": "532fbff2",
   "metadata": {},
   "outputs": [
    {
     "name": "stdout",
     "output_type": "stream",
     "text": [
      "12\n",
      "This is my decorator funcion\n"
     ]
    },
    {
     "data": {
      "text/plain": [
       "12"
      ]
     },
     "execution_count": 114,
     "metadata": {},
     "output_type": "execute_result"
    }
   ],
   "source": [
    "test8()"
   ]
  },
  {
   "cell_type": "code",
   "execution_count": 79,
   "id": "7961590f",
   "metadata": {},
   "outputs": [
    {
     "name": "stdout",
     "output_type": "stream",
     "text": [
      "12\n",
      "This is my decorator funcion\n"
     ]
    },
    {
     "ename": "TypeError",
     "evalue": "unsupported operand type(s) for +: 'NoneType' and 'int'",
     "output_type": "error",
     "traceback": [
      "\u001b[1;31m---------------------------------------------------------------------------\u001b[0m",
      "\u001b[1;31mTypeError\u001b[0m                                 Traceback (most recent call last)",
      "Cell \u001b[1;32mIn[79], line 1\u001b[0m\n\u001b[1;32m----> 1\u001b[0m \u001b[43mtest8\u001b[49m\u001b[43m(\u001b[49m\u001b[43m)\u001b[49m\u001b[43m \u001b[49m\u001b[38;5;241;43m+\u001b[39;49m\u001b[43m \u001b[49m\u001b[38;5;241;43m8\u001b[39;49m\n",
      "\u001b[1;31mTypeError\u001b[0m: unsupported operand type(s) for +: 'NoneType' and 'int'"
     ]
    }
   ],
   "source": [
    "test8() + 8    # to resolve this error , include \"return func()\" in above code"
   ]
  },
  {
   "cell_type": "code",
   "execution_count": 115,
   "id": "84d90b79",
   "metadata": {
    "scrolled": true
   },
   "outputs": [
    {
     "name": "stdout",
     "output_type": "stream",
     "text": [
      "12\n",
      "This is my decorator funcion\n"
     ]
    },
    {
     "data": {
      "text/plain": [
       "20"
      ]
     },
     "execution_count": 115,
     "metadata": {},
     "output_type": "execute_result"
    }
   ],
   "source": [
    "test8() + 8 "
   ]
  },
  {
   "cell_type": "code",
   "execution_count": 116,
   "id": "7eb60ad7",
   "metadata": {},
   "outputs": [],
   "source": [
    "def test6(func):\n",
    "    def test7():\n",
    "        func()\n",
    "        print(func())\n",
    "        print(\"This is my decorator funcion\")\n",
    "        return func()\n",
    "    return test7"
   ]
  },
  {
   "cell_type": "code",
   "execution_count": 117,
   "id": "eb4aff4d",
   "metadata": {},
   "outputs": [],
   "source": [
    "def test8(a,b):\n",
    "    return a + b"
   ]
  },
  {
   "cell_type": "code",
   "execution_count": 118,
   "id": "863d475b",
   "metadata": {},
   "outputs": [
    {
     "data": {
      "text/plain": [
       "'bhumikasawde'"
      ]
     },
     "execution_count": 118,
     "metadata": {},
     "output_type": "execute_result"
    }
   ],
   "source": [
    "test8(\"bhumika\",\"sawde\")"
   ]
  },
  {
   "cell_type": "code",
   "execution_count": 119,
   "id": "88251982",
   "metadata": {},
   "outputs": [],
   "source": [
    "@test6\n",
    "def test8(a,b):\n",
    "    return a + b"
   ]
  },
  {
   "cell_type": "code",
   "execution_count": 120,
   "id": "b73c78f1",
   "metadata": {
    "scrolled": true
   },
   "outputs": [
    {
     "ename": "TypeError",
     "evalue": "test6.<locals>.test7() takes 0 positional arguments but 2 were given",
     "output_type": "error",
     "traceback": [
      "\u001b[1;31m---------------------------------------------------------------------------\u001b[0m",
      "\u001b[1;31mTypeError\u001b[0m                                 Traceback (most recent call last)",
      "Cell \u001b[1;32mIn[120], line 1\u001b[0m\n\u001b[1;32m----> 1\u001b[0m \u001b[43mtest8\u001b[49m\u001b[43m(\u001b[49m\u001b[38;5;124;43m\"\u001b[39;49m\u001b[38;5;124;43mbhumika\u001b[39;49m\u001b[38;5;124;43m\"\u001b[39;49m\u001b[43m,\u001b[49m\u001b[38;5;124;43m\"\u001b[39;49m\u001b[38;5;124;43msawde\u001b[39;49m\u001b[38;5;124;43m\"\u001b[39;49m\u001b[43m)\u001b[49m\n",
      "\u001b[1;31mTypeError\u001b[0m: test6.<locals>.test7() takes 0 positional arguments but 2 were given"
     ]
    }
   ],
   "source": [
    "test8(\"bhumika\",\"sawde\")"
   ]
  },
  {
   "cell_type": "code",
   "execution_count": 121,
   "id": "32332525",
   "metadata": {},
   "outputs": [],
   "source": [
    "def test6(func):\n",
    "    def test7(a,b):\n",
    "        func(a,b)\n",
    "        print(func(a,b))\n",
    "        print(\"This is my decorator funcion\")\n",
    "        return func(a,b)\n",
    "    return test7"
   ]
  },
  {
   "cell_type": "code",
   "execution_count": 122,
   "id": "808f0246",
   "metadata": {},
   "outputs": [],
   "source": [
    "@test6\n",
    "def test8(a,b):\n",
    "    return a + b"
   ]
  },
  {
   "cell_type": "code",
   "execution_count": 123,
   "id": "3435d013",
   "metadata": {},
   "outputs": [
    {
     "name": "stdout",
     "output_type": "stream",
     "text": [
      "bhumikasawde\n",
      "This is my decorator funcion\n"
     ]
    },
    {
     "data": {
      "text/plain": [
       "'bhumikasawde'"
      ]
     },
     "execution_count": 123,
     "metadata": {},
     "output_type": "execute_result"
    }
   ],
   "source": [
    "test8(\"bhumika\",\"sawde\")"
   ]
  },
  {
   "cell_type": "code",
   "execution_count": 124,
   "id": "98631fe5",
   "metadata": {},
   "outputs": [],
   "source": [
    "def test6(func):\n",
    "    def test7(*args):\n",
    "        func(*args)\n",
    "        print(func(*args))\n",
    "        print(\"This is my decorator funcion\")\n",
    "        return func(*args)\n",
    "    return test7"
   ]
  },
  {
   "cell_type": "code",
   "execution_count": 125,
   "id": "5902aa8d",
   "metadata": {},
   "outputs": [],
   "source": [
    "@test6\n",
    "def test8(a,b,c):\n",
    "    return a + b + c"
   ]
  },
  {
   "cell_type": "code",
   "execution_count": 126,
   "id": "dea80a4b",
   "metadata": {},
   "outputs": [
    {
     "name": "stdout",
     "output_type": "stream",
     "text": [
      "bhumikasawadepra\n",
      "This is my decorator funcion\n"
     ]
    },
    {
     "data": {
      "text/plain": [
       "'bhumikasawadepra'"
      ]
     },
     "execution_count": 126,
     "metadata": {},
     "output_type": "execute_result"
    }
   ],
   "source": [
    "test8(\"bhumika\",\"sawade\",\"pra\")"
   ]
  },
  {
   "cell_type": "code",
   "execution_count": 127,
   "id": "fa2c8893",
   "metadata": {},
   "outputs": [],
   "source": [
    "@test6\n",
    "def test9(**kwargs):\n",
    "    return kwargs"
   ]
  },
  {
   "cell_type": "code",
   "execution_count": 128,
   "id": "8692601b",
   "metadata": {},
   "outputs": [
    {
     "ename": "TypeError",
     "evalue": "test6.<locals>.test7() got an unexpected keyword argument 'a'",
     "output_type": "error",
     "traceback": [
      "\u001b[1;31m---------------------------------------------------------------------------\u001b[0m",
      "\u001b[1;31mTypeError\u001b[0m                                 Traceback (most recent call last)",
      "Cell \u001b[1;32mIn[128], line 1\u001b[0m\n\u001b[1;32m----> 1\u001b[0m \u001b[43mtest9\u001b[49m\u001b[43m(\u001b[49m\u001b[43ma\u001b[49m\u001b[43m \u001b[49m\u001b[38;5;241;43m=\u001b[39;49m\u001b[43m \u001b[49m\u001b[38;5;241;43m89\u001b[39;49m\u001b[43m,\u001b[49m\u001b[43m \u001b[49m\u001b[43mb\u001b[49m\u001b[43m \u001b[49m\u001b[38;5;241;43m=\u001b[39;49m\u001b[43m \u001b[49m\u001b[38;5;241;43m67\u001b[39;49m\u001b[43m)\u001b[49m\n",
      "\u001b[1;31mTypeError\u001b[0m: test6.<locals>.test7() got an unexpected keyword argument 'a'"
     ]
    }
   ],
   "source": [
    "test9(a = 89, b = 67)"
   ]
  },
  {
   "cell_type": "code",
   "execution_count": 129,
   "id": "64621d1f",
   "metadata": {},
   "outputs": [],
   "source": [
    "def test6(func):\n",
    "    def test7(*args,**kwargs):\n",
    "        func(*args,**kwargs)\n",
    "        print(func(*args,**kwargs))\n",
    "        print(\"This is my decorator funcion\")\n",
    "        return func(*args,**kwargs)\n",
    "    return test7"
   ]
  },
  {
   "cell_type": "code",
   "execution_count": 130,
   "id": "6cf6379d",
   "metadata": {},
   "outputs": [],
   "source": [
    "@test6\n",
    "def test9(**kwargs):\n",
    "    return kwargs"
   ]
  },
  {
   "cell_type": "code",
   "execution_count": 131,
   "id": "32e9a865",
   "metadata": {},
   "outputs": [
    {
     "name": "stdout",
     "output_type": "stream",
     "text": [
      "{'a': 89, 'b': 67}\n",
      "This is my decorator funcion\n"
     ]
    },
    {
     "data": {
      "text/plain": [
       "{'a': 89, 'b': 67}"
      ]
     },
     "execution_count": 131,
     "metadata": {},
     "output_type": "execute_result"
    }
   ],
   "source": [
    "test9(a = 89, b = 67)"
   ]
  },
  {
   "cell_type": "markdown",
   "id": "26526925",
   "metadata": {},
   "source": [
    "     whenever we try to create a wrapper function its a standrd procedure try to use both(*args,**kwargs) together in every function by default, so that we don't need to make changes acc. to the no. of parameter or type of parameter that we are going to pass and also always try to return so that the user wants the return of there own function they would be able to get it and they would be able to perform any other operations with reutrn of their original functions"
   ]
  },
  {
   "cell_type": "markdown",
   "id": "b3bfc0ca",
   "metadata": {},
   "source": [
    "## Lambda Function - \n",
    "    anonymous function (a function without name)"
   ]
  },
  {
   "cell_type": "code",
   "execution_count": 132,
   "id": "7991349a",
   "metadata": {},
   "outputs": [],
   "source": [
    "def test10(a,b):\n",
    "    return a + b"
   ]
  },
  {
   "cell_type": "code",
   "execution_count": 133,
   "id": "91480f76",
   "metadata": {},
   "outputs": [
    {
     "data": {
      "text/plain": [
       "18"
      ]
     },
     "execution_count": 133,
     "metadata": {},
     "output_type": "execute_result"
    }
   ],
   "source": [
    "test10(9,9)"
   ]
  },
  {
   "cell_type": "code",
   "execution_count": 134,
   "id": "6ba2e81a",
   "metadata": {},
   "outputs": [
    {
     "data": {
      "text/plain": [
       "<function __main__.test10(a, b)>"
      ]
     },
     "execution_count": 134,
     "metadata": {},
     "output_type": "execute_result"
    }
   ],
   "source": [
    "test10"
   ]
  },
  {
   "cell_type": "code",
   "execution_count": 135,
   "id": "eaf5d467",
   "metadata": {},
   "outputs": [
    {
     "data": {
      "text/plain": [
       "<function __main__.<lambda>(a, b)>"
      ]
     },
     "execution_count": 135,
     "metadata": {},
     "output_type": "execute_result"
    }
   ],
   "source": [
    "lambda a,b :a+b"
   ]
  },
  {
   "cell_type": "code",
   "execution_count": 136,
   "id": "f1658b4e",
   "metadata": {},
   "outputs": [],
   "source": [
    "c = lambda a,b :a+b  # function inside a variable\n",
    "# as we write lambda python we will uderstand we are trying to initialise the anonymous function"
   ]
  },
  {
   "cell_type": "code",
   "execution_count": 137,
   "id": "7a840d35",
   "metadata": {},
   "outputs": [
    {
     "data": {
      "text/plain": [
       "'bhumikasawdae'"
      ]
     },
     "execution_count": 137,
     "metadata": {},
     "output_type": "execute_result"
    }
   ],
   "source": [
    "c(\"bhumika\",\"sawdae\")"
   ]
  },
  {
   "cell_type": "markdown",
   "id": "3db3a6e6",
   "metadata": {},
   "source": [
    "    if you have a complex logic or big function to write than , we won't be able to use lambda becz , it would be hectic for maintainance,\n",
    "    so if we are writing a complex logic inside a function than don't go after lambda , but we are writing a simple logicthan we can go for lambda it will behave in exact same way as the function"
   ]
  },
  {
   "cell_type": "code",
   "execution_count": 138,
   "id": "0883a21c",
   "metadata": {},
   "outputs": [],
   "source": [
    "d = lambda a,b,c,d : a*b+c/d"
   ]
  },
  {
   "cell_type": "code",
   "execution_count": 139,
   "id": "3dcd3e4d",
   "metadata": {},
   "outputs": [
    {
     "data": {
      "text/plain": [
       "17.0"
      ]
     },
     "execution_count": 139,
     "metadata": {},
     "output_type": "execute_result"
    }
   ],
   "source": [
    "d(3,5,4,2)"
   ]
  },
  {
   "cell_type": "code",
   "execution_count": 140,
   "id": "9bd36d66",
   "metadata": {},
   "outputs": [],
   "source": [
    "e = lambda * args : args"
   ]
  },
  {
   "cell_type": "code",
   "execution_count": 141,
   "id": "9f88e85f",
   "metadata": {},
   "outputs": [
    {
     "data": {
      "text/plain": [
       "()"
      ]
     },
     "execution_count": 141,
     "metadata": {},
     "output_type": "execute_result"
    }
   ],
   "source": [
    "e()"
   ]
  },
  {
   "cell_type": "code",
   "execution_count": 142,
   "id": "57e94672",
   "metadata": {
    "scrolled": true
   },
   "outputs": [
    {
     "data": {
      "text/plain": [
       "(3, 4, 5)"
      ]
     },
     "execution_count": 142,
     "metadata": {},
     "output_type": "execute_result"
    }
   ],
   "source": [
    "e(3,4,5)"
   ]
  },
  {
   "cell_type": "markdown",
   "id": "f3888c58",
   "metadata": {},
   "source": [
    "### Mapper"
   ]
  },
  {
   "cell_type": "code",
   "execution_count": 143,
   "id": "eaea116d",
   "metadata": {},
   "outputs": [],
   "source": [
    "## map()"
   ]
  },
  {
   "cell_type": "code",
   "execution_count": 144,
   "id": "70e68994",
   "metadata": {},
   "outputs": [],
   "source": [
    "l = [1,2,3,4,5,6,7]"
   ]
  },
  {
   "cell_type": "code",
   "execution_count": 145,
   "id": "639a3f1a",
   "metadata": {},
   "outputs": [],
   "source": [
    "l1 = []\n",
    "for i in l:\n",
    "    i = i + 10\n",
    "    l1.append(i)\n"
   ]
  },
  {
   "cell_type": "code",
   "execution_count": 146,
   "id": "8c64f5ce",
   "metadata": {},
   "outputs": [
    {
     "data": {
      "text/plain": [
       "[11, 12, 13, 14, 15, 16, 17]"
      ]
     },
     "execution_count": 146,
     "metadata": {},
     "output_type": "execute_result"
    }
   ],
   "source": [
    "l1"
   ]
  },
  {
   "cell_type": "code",
   "execution_count": 147,
   "id": "68348f2d",
   "metadata": {},
   "outputs": [],
   "source": [
    "def test14(a):\n",
    "    return a+10"
   ]
  },
  {
   "cell_type": "code",
   "execution_count": 148,
   "id": "c44f303f",
   "metadata": {},
   "outputs": [
    {
     "data": {
      "text/plain": [
       "<map at 0x1dfd7c0c9a0>"
      ]
     },
     "execution_count": 148,
     "metadata": {},
     "output_type": "execute_result"
    }
   ],
   "source": [
    "map(test14,l)"
   ]
  },
  {
   "cell_type": "code",
   "execution_count": 149,
   "id": "0c239045",
   "metadata": {
    "scrolled": true
   },
   "outputs": [
    {
     "data": {
      "text/plain": [
       "[11, 12, 13, 14, 15, 16, 17]"
      ]
     },
     "execution_count": 149,
     "metadata": {},
     "output_type": "execute_result"
    }
   ],
   "source": [
    "list(map(test14,l))"
   ]
  },
  {
   "cell_type": "markdown",
   "id": "ab4b0148",
   "metadata": {},
   "source": [
    "    map function tries to map each and everything, each and every element which is inside the iterator, map is going to do the mapping with the iterable object and the function that you have passed ."
   ]
  },
  {
   "cell_type": "code",
   "execution_count": 150,
   "id": "61ac6b34",
   "metadata": {},
   "outputs": [
    {
     "data": {
      "text/plain": [
       "[11, 12, 13, 14, 15, 16, 17]"
      ]
     },
     "execution_count": 150,
     "metadata": {},
     "output_type": "execute_result"
    }
   ],
   "source": [
    "list(map(lambda a : a+10 ,l))   # instead of external function"
   ]
  },
  {
   "cell_type": "code",
   "execution_count": 151,
   "id": "038a1afc",
   "metadata": {},
   "outputs": [
    {
     "data": {
      "text/plain": [
       "[11, 12, 13, 14, 15, 16, 17]"
      ]
     },
     "execution_count": 151,
     "metadata": {},
     "output_type": "execute_result"
    }
   ],
   "source": [
    "# or\n",
    "n = lambda a : a+10\n",
    "list(map(n,l))"
   ]
  },
  {
   "cell_type": "code",
   "execution_count": 152,
   "id": "a9d70a4d",
   "metadata": {},
   "outputs": [],
   "source": [
    "l = [\"bhumi\",\"sawwde\",\"ineuron\"]"
   ]
  },
  {
   "cell_type": "code",
   "execution_count": 153,
   "id": "d943a5c9",
   "metadata": {},
   "outputs": [
    {
     "data": {
      "text/plain": [
       "['BHUMI', 'SAWWDE', 'INEURON']"
      ]
     },
     "execution_count": 153,
     "metadata": {},
     "output_type": "execute_result"
    }
   ],
   "source": [
    "list(map(lambda a:a.upper(),l))"
   ]
  },
  {
   "cell_type": "code",
   "execution_count": 154,
   "id": "51194d1a",
   "metadata": {},
   "outputs": [
    {
     "data": {
      "text/plain": [
       "['BHUMI', 'SAWWDE', 'INEURON']"
      ]
     },
     "execution_count": 154,
     "metadata": {},
     "output_type": "execute_result"
    }
   ],
   "source": [
    "list(map(str.upper,l))"
   ]
  },
  {
   "cell_type": "code",
   "execution_count": 155,
   "id": "0c6e1b5e",
   "metadata": {},
   "outputs": [],
   "source": [
    "def upper_string(a):\n",
    "    return a.upper()"
   ]
  },
  {
   "cell_type": "code",
   "execution_count": 156,
   "id": "56efdcc2",
   "metadata": {},
   "outputs": [
    {
     "data": {
      "text/plain": [
       "['BHUMI', 'SAWWDE', 'INEURON']"
      ]
     },
     "execution_count": 156,
     "metadata": {},
     "output_type": "execute_result"
    }
   ],
   "source": [
    "list(map(upper_string,l))"
   ]
  },
  {
   "cell_type": "code",
   "execution_count": 157,
   "id": "f4727315",
   "metadata": {},
   "outputs": [
    {
     "data": {
      "text/plain": [
       "['bhumi', 'sawwde', 'ineuron']"
      ]
     },
     "execution_count": 157,
     "metadata": {},
     "output_type": "execute_result"
    }
   ],
   "source": [
    "l"
   ]
  },
  {
   "cell_type": "code",
   "execution_count": 158,
   "id": "e554ac3c",
   "metadata": {},
   "outputs": [
    {
     "data": {
      "text/plain": [
       "[5, 6, 7]"
      ]
     },
     "execution_count": 158,
     "metadata": {},
     "output_type": "execute_result"
    }
   ],
   "source": [
    "list(map(lambda a : len(a) , l))"
   ]
  },
  {
   "cell_type": "code",
   "execution_count": 159,
   "id": "8a1423f3",
   "metadata": {},
   "outputs": [
    {
     "data": {
      "text/plain": [
       "[5, 6, 7]"
      ]
     },
     "execution_count": 159,
     "metadata": {},
     "output_type": "execute_result"
    }
   ],
   "source": [
    "list(map(len,l))"
   ]
  },
  {
   "cell_type": "code",
   "execution_count": 160,
   "id": "08f78f16",
   "metadata": {},
   "outputs": [],
   "source": [
    "def test23(a):\n",
    "    return len(a)"
   ]
  },
  {
   "cell_type": "code",
   "execution_count": 161,
   "id": "ea3065e2",
   "metadata": {},
   "outputs": [
    {
     "data": {
      "text/plain": [
       "[5, 6, 7]"
      ]
     },
     "execution_count": 161,
     "metadata": {},
     "output_type": "execute_result"
    }
   ],
   "source": [
    "list(map(test23,l))"
   ]
  },
  {
   "cell_type": "markdown",
   "id": "dc5506ef",
   "metadata": {},
   "source": [
    "### Filter"
   ]
  },
  {
   "cell_type": "code",
   "execution_count": 162,
   "id": "ff7cec3b",
   "metadata": {},
   "outputs": [],
   "source": [
    "l = [1,2,3,4,5,6,7,8]"
   ]
  },
  {
   "cell_type": "code",
   "execution_count": 163,
   "id": "d560b621",
   "metadata": {},
   "outputs": [],
   "source": [
    "# give list of 'just' even no."
   ]
  },
  {
   "cell_type": "code",
   "execution_count": 164,
   "id": "d5bde840",
   "metadata": {},
   "outputs": [
    {
     "data": {
      "text/plain": [
       "[False, True, False, True, False, True, False, True]"
      ]
     },
     "execution_count": 164,
     "metadata": {},
     "output_type": "execute_result"
    }
   ],
   "source": [
    "list(map(lambda a : a%2 == 0,l ))"
   ]
  },
  {
   "cell_type": "code",
   "execution_count": 165,
   "id": "5e4f25ac",
   "metadata": {},
   "outputs": [
    {
     "data": {
      "text/plain": [
       "[None, 2, None, 4, None, 6, None, 8]"
      ]
     },
     "execution_count": 165,
     "metadata": {},
     "output_type": "execute_result"
    }
   ],
   "source": [
    "list(map(lambda a :a if a%2 == 0 else None ,l ))"
   ]
  },
  {
   "cell_type": "code",
   "execution_count": 166,
   "id": "e3a81c54",
   "metadata": {},
   "outputs": [],
   "source": [
    "l1 = []\n",
    "\n",
    "for i in l:\n",
    "    if i%2 == 0:\n",
    "        l1.append(i)"
   ]
  },
  {
   "cell_type": "code",
   "execution_count": 167,
   "id": "d4db67d7",
   "metadata": {},
   "outputs": [
    {
     "data": {
      "text/plain": [
       "[2, 4, 6, 8]"
      ]
     },
     "execution_count": 167,
     "metadata": {},
     "output_type": "execute_result"
    }
   ],
   "source": [
    "l1"
   ]
  },
  {
   "cell_type": "code",
   "execution_count": 168,
   "id": "82610265",
   "metadata": {},
   "outputs": [
    {
     "data": {
      "text/plain": [
       "[2, 4, 6, 8]"
      ]
     },
     "execution_count": 168,
     "metadata": {},
     "output_type": "execute_result"
    }
   ],
   "source": [
    "[i for i in l if i%2==0]"
   ]
  },
  {
   "cell_type": "code",
   "execution_count": 169,
   "id": "9b8cf178",
   "metadata": {},
   "outputs": [],
   "source": [
    "def test24(a):\n",
    "    l = []\n",
    "    if type(a) == list:\n",
    "        for i in a:\n",
    "            if i%2 ==0:\n",
    "                l.append(i)\n",
    "    return l"
   ]
  },
  {
   "cell_type": "code",
   "execution_count": 170,
   "id": "ebb07e78",
   "metadata": {},
   "outputs": [
    {
     "data": {
      "text/plain": [
       "[2, 4, 6, 8]"
      ]
     },
     "execution_count": 170,
     "metadata": {},
     "output_type": "execute_result"
    }
   ],
   "source": [
    "test24(l)"
   ]
  },
  {
   "cell_type": "code",
   "execution_count": 171,
   "id": "8122a261",
   "metadata": {},
   "outputs": [],
   "source": [
    "# mapper tries to map with 'every single' element"
   ]
  },
  {
   "cell_type": "code",
   "execution_count": 172,
   "id": "e44deaed",
   "metadata": {},
   "outputs": [],
   "source": [
    "a = lambda a : a if a%2 == 0 else None"
   ]
  },
  {
   "cell_type": "code",
   "execution_count": 173,
   "id": "a2b32385",
   "metadata": {},
   "outputs": [
    {
     "data": {
      "text/plain": [
       "[2, 4, 6, 8]"
      ]
     },
     "execution_count": 173,
     "metadata": {},
     "output_type": "execute_result"
    }
   ],
   "source": [
    "list(filter(a,l))"
   ]
  },
  {
   "cell_type": "markdown",
   "id": "df0e3739",
   "metadata": {},
   "source": [
    "    filter function works on two condition i.e true or false ,if the condition return true in the element it will try to return that element"
   ]
  },
  {
   "cell_type": "code",
   "execution_count": 174,
   "id": "60e7d316",
   "metadata": {},
   "outputs": [],
   "source": [
    "def test25(a):\n",
    "    if a%2 == 0:\n",
    "        return True\n",
    "    else:\n",
    "        return False"
   ]
  },
  {
   "cell_type": "code",
   "execution_count": 175,
   "id": "9b0b946d",
   "metadata": {},
   "outputs": [
    {
     "data": {
      "text/plain": [
       "True"
      ]
     },
     "execution_count": 175,
     "metadata": {},
     "output_type": "execute_result"
    }
   ],
   "source": [
    "test25(32)"
   ]
  },
  {
   "cell_type": "code",
   "execution_count": 176,
   "id": "d234f819",
   "metadata": {},
   "outputs": [
    {
     "data": {
      "text/plain": [
       "False"
      ]
     },
     "execution_count": 176,
     "metadata": {},
     "output_type": "execute_result"
    }
   ],
   "source": [
    "test25(9)"
   ]
  },
  {
   "cell_type": "code",
   "execution_count": 177,
   "id": "dac228c3",
   "metadata": {},
   "outputs": [
    {
     "data": {
      "text/plain": [
       "[2, 4, 6, 8]"
      ]
     },
     "execution_count": 177,
     "metadata": {},
     "output_type": "execute_result"
    }
   ],
   "source": [
    "list(filter(test25,l))"
   ]
  },
  {
   "cell_type": "code",
   "execution_count": 178,
   "id": "80b917c4",
   "metadata": {},
   "outputs": [
    {
     "data": {
      "text/plain": [
       "[1, 2, 3, 4, 5, 6, 7, 8]"
      ]
     },
     "execution_count": 178,
     "metadata": {},
     "output_type": "execute_result"
    }
   ],
   "source": [
    "l"
   ]
  },
  {
   "cell_type": "code",
   "execution_count": 179,
   "id": "bc47e293",
   "metadata": {},
   "outputs": [
    {
     "data": {
      "text/plain": [
       "36"
      ]
     },
     "execution_count": 179,
     "metadata": {},
     "output_type": "execute_result"
    }
   ],
   "source": [
    "sum(l)"
   ]
  },
  {
   "cell_type": "markdown",
   "id": "f1a805db",
   "metadata": {},
   "source": [
    "### Reduce"
   ]
  },
  {
   "cell_type": "code",
   "execution_count": 180,
   "id": "9ac2f9f9",
   "metadata": {},
   "outputs": [],
   "source": [
    "from functools import reduce"
   ]
  },
  {
   "cell_type": "code",
   "execution_count": 181,
   "id": "75d7625a",
   "metadata": {},
   "outputs": [
    {
     "data": {
      "text/plain": [
       "40320"
      ]
     },
     "execution_count": 181,
     "metadata": {},
     "output_type": "execute_result"
    }
   ],
   "source": [
    "reduce(lambda a,b:a*b,l)"
   ]
  },
  {
   "cell_type": "code",
   "execution_count": 182,
   "id": "0a101f15",
   "metadata": {},
   "outputs": [
    {
     "ename": "TypeError",
     "evalue": "<lambda>() missing 1 required positional argument: 'c'",
     "output_type": "error",
     "traceback": [
      "\u001b[1;31m---------------------------------------------------------------------------\u001b[0m",
      "\u001b[1;31mTypeError\u001b[0m                                 Traceback (most recent call last)",
      "Cell \u001b[1;32mIn[182], line 1\u001b[0m\n\u001b[1;32m----> 1\u001b[0m \u001b[43mreduce\u001b[49m\u001b[43m(\u001b[49m\u001b[38;5;28;43;01mlambda\u001b[39;49;00m\u001b[43m \u001b[49m\u001b[43ma\u001b[49m\u001b[43m,\u001b[49m\u001b[43mb\u001b[49m\u001b[43m,\u001b[49m\u001b[43mc\u001b[49m\u001b[43m:\u001b[49m\u001b[43ma\u001b[49m\u001b[38;5;241;43m*\u001b[39;49m\u001b[43mb\u001b[49m\u001b[38;5;241;43m*\u001b[39;49m\u001b[43mc\u001b[49m\u001b[43m,\u001b[49m\u001b[43ml\u001b[49m\u001b[43m)\u001b[49m\n",
      "\u001b[1;31mTypeError\u001b[0m: <lambda>() missing 1 required positional argument: 'c'"
     ]
    }
   ],
   "source": [
    "reduce(lambda a,b,c:a*b*c,l)"
   ]
  },
  {
   "cell_type": "markdown",
   "id": "a054ed57",
   "metadata": {},
   "source": [
    "    whenver we are trying to pass any function inside a reduce it should always take only two argument "
   ]
  },
  {
   "cell_type": "code",
   "execution_count": null,
   "id": "727492c9",
   "metadata": {},
   "outputs": [],
   "source": [
    "l"
   ]
  },
  {
   "cell_type": "code",
   "execution_count": 183,
   "id": "353ddd07",
   "metadata": {},
   "outputs": [
    {
     "data": {
      "text/plain": [
       "3"
      ]
     },
     "execution_count": 183,
     "metadata": {},
     "output_type": "execute_result"
    }
   ],
   "source": [
    "l1 = [3]    # excepton in lambda, if there is one element\n",
    "reduce(lambda a,b :a*b,l1)"
   ]
  },
  {
   "cell_type": "markdown",
   "id": "4fe7c801",
   "metadata": {},
   "source": [
    "    1,2,  3,  4\n",
    "    | |   |   |\n",
    "    a  b  |   |\n",
    "     \\/   |   |\n",
    "    (a*b) |   |\n",
    "      |   b   |\n",
    "      a /     |\n",
    "      (a*b)   |\n",
    "       |      b\n",
    "       a-----/\n",
    "          |\n",
    "        (a*b)\n",
    "          |\n",
    "          a\n",
    "     # working of reduce function  "
   ]
  },
  {
   "cell_type": "code",
   "execution_count": null,
   "id": "b436866e",
   "metadata": {},
   "outputs": [],
   "source": []
  }
 ],
 "metadata": {
  "kernelspec": {
   "display_name": "Python 3 (ipykernel)",
   "language": "python",
   "name": "python3"
  },
  "language_info": {
   "codemirror_mode": {
    "name": "ipython",
    "version": 3
   },
   "file_extension": ".py",
   "mimetype": "text/x-python",
   "name": "python",
   "nbconvert_exporter": "python",
   "pygments_lexer": "ipython3",
   "version": "3.10.9"
  }
 },
 "nbformat": 4,
 "nbformat_minor": 5
}

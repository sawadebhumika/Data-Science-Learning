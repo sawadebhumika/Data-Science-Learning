{
 "cells": [
  {
   "cell_type": "markdown",
   "id": "8a6b7903",
   "metadata": {},
   "source": [
    "    1. Print the first 5 positive integers in ascending order with one number in each line"
   ]
  },
  {
   "cell_type": "code",
   "execution_count": 1,
   "id": "7621092f",
   "metadata": {},
   "outputs": [
    {
     "name": "stdout",
     "output_type": "stream",
     "text": [
      "1\n",
      "2\n",
      "3\n",
      "4\n",
      "5\n"
     ]
    }
   ],
   "source": [
    "for i in range(1,6):\n",
    "    print(i)"
   ]
  },
  {
   "cell_type": "markdown",
   "id": "a0043f87",
   "metadata": {},
   "source": [
    "    2. Print the following pattern\n",
    "    *\n",
    "    **\n",
    "    ***\n",
    "    ****\n",
    "    *****\n",
    "    There are no spaces between consecutive stars. There are no spaces \n",
    "    at the end of each line."
   ]
  },
  {
   "cell_type": "code",
   "execution_count": 2,
   "id": "893b1ac4",
   "metadata": {},
   "outputs": [
    {
     "name": "stdout",
     "output_type": "stream",
     "text": [
      "*\n",
      "**\n",
      "***\n",
      "****\n",
      "*****\n"
     ]
    }
   ],
   "source": [
    "for i in range(1,6):\n",
    "    print(i*\"*\")"
   ]
  },
  {
   "cell_type": "markdown",
   "id": "a663509a",
   "metadata": {},
   "source": [
    "    3. Accept an integer as input and print its square as output."
   ]
  },
  {
   "cell_type": "code",
   "execution_count": 3,
   "id": "b788afeb",
   "metadata": {},
   "outputs": [
    {
     "name": "stdout",
     "output_type": "stream",
     "text": [
      "Enter  no.: 23\n",
      "Square of input: 529\n"
     ]
    }
   ],
   "source": [
    "a = int(input(\"Enter  no.: \"))\n",
    "print(f\"Square of input: {a*a}\")"
   ]
  },
  {
   "cell_type": "markdown",
   "id": "6c4fbd5a",
   "metadata": {},
   "source": [
    "    4.Accept two integers as input and print their sum as output."
   ]
  },
  {
   "cell_type": "code",
   "execution_count": 4,
   "id": "729b88be",
   "metadata": {},
   "outputs": [
    {
     "name": "stdout",
     "output_type": "stream",
     "text": [
      "Enter a no.: 2\n",
      "Enter a no.: 4\n",
      "Sum of two no is : 6\n"
     ]
    }
   ],
   "source": [
    "a = int(input(\"Enter a no.: \"))\n",
    "b = int(input(\"Enter a no.: \"))\n",
    "\n",
    "print(f\"Sum of two no is : {a + b}\")"
   ]
  },
  {
   "cell_type": "markdown",
   "id": "7723f3a2",
   "metadata": {},
   "source": [
    "    5. Accept two words as input and print the two words after adding a space between them"
   ]
  },
  {
   "cell_type": "code",
   "execution_count": 5,
   "id": "70c4cffe",
   "metadata": {},
   "outputs": [
    {
     "name": "stdout",
     "output_type": "stream",
     "text": [
      "Enter first word: bhumika \n",
      "Enter second word: sawaade\n",
      "bhumika  sawaade\n"
     ]
    }
   ],
   "source": [
    "a = input(\"Enter first word: \")\n",
    "b = input(\"Enter second word: \")\n",
    "\n",
    "# a + \" \"+ b\n",
    "print(f\"{a} {b}\" )"
   ]
  },
  {
   "cell_type": "markdown",
   "id": "a3c0443c",
   "metadata": {},
   "source": [
    "    6. Accept the registration number of a vehicle as input and print its state-code as output."
   ]
  },
  {
   "cell_type": "code",
   "execution_count": 6,
   "id": "cba8597d",
   "metadata": {},
   "outputs": [
    {
     "name": "stdout",
     "output_type": "stream",
     "text": [
      "MH31234\n"
     ]
    },
    {
     "data": {
      "text/plain": [
       "'State code: MH'"
      ]
     },
     "execution_count": 6,
     "metadata": {},
     "output_type": "execute_result"
    }
   ],
   "source": [
    "a = input()  # MH311234\n",
    "(f\"State code: {a[:2]}\")"
   ]
  },
  {
   "cell_type": "markdown",
   "id": "b0e16d87",
   "metadata": {},
   "source": [
    "    7.Accept a five-digit number as input and print the sum of its digits as output."
   ]
  },
  {
   "cell_type": "code",
   "execution_count": 8,
   "id": "9d82493a",
   "metadata": {},
   "outputs": [
    {
     "name": "stdout",
     "output_type": "stream",
     "text": [
      "15\n"
     ]
    }
   ],
   "source": [
    "a = \"12345\"\n",
    "l = 0\n",
    "for i in a:\n",
    "    sum_ = int(i) + l\n",
    "    l = sum_\n",
    "print(l)\n",
    "    "
   ]
  },
  {
   "cell_type": "markdown",
   "id": "c2cd5224",
   "metadata": {},
   "source": [
    "    8.Accept five words as input and print the sentence formed by these words after adding a space between consecutive words and a full stop at the end."
   ]
  },
  {
   "cell_type": "code",
   "execution_count": 9,
   "id": "fec0704a",
   "metadata": {},
   "outputs": [
    {
     "name": "stdout",
     "output_type": "stream",
     "text": [
      "bhumik\n",
      "sawade\n",
      "is \n",
      "data\n",
      "analyst\n",
      " bhumik sawade is  data analyst .\n"
     ]
    }
   ],
   "source": [
    "l = \" \"\n",
    "for i in range(0,5):\n",
    "    a = l + input() \n",
    "    b = a + \" \" \n",
    "    l = b\n",
    "print(l + \".\")\n"
   ]
  },
  {
   "cell_type": "markdown",
   "id": "15a44626",
   "metadata": {},
   "source": [
    "    9.Accept the date in DD-MM-YYYY format as input and print the year as output."
   ]
  },
  {
   "cell_type": "code",
   "execution_count": 10,
   "id": "8155b7f6",
   "metadata": {},
   "outputs": [
    {
     "name": "stdout",
     "output_type": "stream",
     "text": [
      "Enter date in the format DD-MM-YYYY: 12-1-23\n"
     ]
    },
    {
     "data": {
      "text/plain": [
       "'23'"
      ]
     },
     "execution_count": 10,
     "metadata": {},
     "output_type": "execute_result"
    }
   ],
   "source": [
    "date = input(\"Enter date in the format DD-MM-YYYY: \")\n",
    "date = date.split(\"-\")\n",
    "date[2]\n"
   ]
  },
  {
   "cell_type": "markdown",
   "id": "29aa74c9",
   "metadata": {},
   "source": [
    "    10.Accept a sequence of five single digit numbers separated by commas as input. Print the product of all five numbers."
   ]
  },
  {
   "cell_type": "code",
   "execution_count": 11,
   "id": "ed36a04c",
   "metadata": {},
   "outputs": [
    {
     "name": "stdout",
     "output_type": "stream",
     "text": [
      "2,3,4,5,6\n"
     ]
    },
    {
     "data": {
      "text/plain": [
       "['2', '3', '4', '5', '6']"
      ]
     },
     "execution_count": 11,
     "metadata": {},
     "output_type": "execute_result"
    }
   ],
   "source": [
    "num = input()\n",
    "number = num.split(\",\")\n",
    "number"
   ]
  },
  {
   "cell_type": "code",
   "execution_count": 12,
   "id": "bfbbfbb6",
   "metadata": {},
   "outputs": [
    {
     "name": "stdout",
     "output_type": "stream",
     "text": [
      "720\n"
     ]
    }
   ],
   "source": [
    "l = 1\n",
    "for i in number: \n",
    "    a = int(i) * l\n",
    "    l = a\n",
    "print(l)"
   ]
  },
  {
   "cell_type": "markdown",
   "id": "8adf00e1",
   "metadata": {},
   "source": [
    "    11. Accept two positive integers x and y as input. Print the number of digits in xy(x to the power of y"
   ]
  },
  {
   "cell_type": "code",
   "execution_count": 13,
   "id": "6b78096a",
   "metadata": {},
   "outputs": [
    {
     "name": "stdout",
     "output_type": "stream",
     "text": [
      "233\n",
      "2\n",
      "Product of x:233 and y:2 is 54289\n",
      "No. of digits : 5\n"
     ]
    }
   ],
   "source": [
    "x = int(input())\n",
    "y = int(input())\n",
    "print(f\"Product of x:{x} and y:{y} is {x**y}\")\n",
    "print(f\"No. of digits : {len(str(x**y))}\")\n"
   ]
  },
  {
   "cell_type": "markdown",
   "id": "3d50b07b",
   "metadata": {},
   "source": [
    "    12. Accept a string as input. If the input string is of odd length, then continue with it. If the input string is of even length, make the string of odd length as below:\n",
    "    • If the last character is a period (.), then remove it \n",
    "    • If the last character is not a period, then add a period (.) to the \n",
    "      end of the stringCall this string of odd length word. Select a substring made up of three consecutive characters from word such that there are an equal number of characters to the left and right of this substring. Print this substring as output. You can assume that all input strings will be in lower case and will have a length of at least four"
   ]
  },
  {
   "cell_type": "code",
   "execution_count": 14,
   "id": "7c4d049e",
   "metadata": {},
   "outputs": [
    {
     "name": "stdout",
     "output_type": "stream",
     "text": [
      "welcome\n",
      "lco\n"
     ]
    }
   ],
   "source": [
    "word = input()\n",
    "n = len(word)\n",
    "\n",
    "if n%2 == 0:\n",
    "    if word[-1] == \".\":\n",
    "        word = word[:-1]\n",
    "    else:\n",
    "        word = word + \".\"\n",
    "a = int((n-1)/2)\n",
    "print(word[a-1:a+2])  "
   ]
  },
  {
   "cell_type": "code",
   "execution_count": 16,
   "id": "314e1737",
   "metadata": {},
   "outputs": [
    {
     "name": "stdout",
     "output_type": "stream",
     "text": [
      "hi\n",
      "hi.\n"
     ]
    }
   ],
   "source": [
    "word = input()\n",
    "n = len(word)\n",
    "\n",
    "if n%2 == 0:\n",
    "    if word[n-1] == \".\":\n",
    "        word = word[:-1]\n",
    "    else:\n",
    "        word = word + \".\"\n",
    "n = int((len(word)-1)/2)\n",
    "print(word[n-1:n+2])"
   ]
  },
  {
   "cell_type": "markdown",
   "id": "444933fa",
   "metadata": {},
   "source": [
    "    13. Accept three positive integers as input and check if they form the sides of a right triangle. Print YES if they form one, and NO is they do not. The input will have three lines, with one integer on each line. The output should be a single line containing one of these two strings: YES or NO."
   ]
  },
  {
   "cell_type": "code",
   "execution_count": 17,
   "id": "524de3fc",
   "metadata": {},
   "outputs": [
    {
     "name": "stdout",
     "output_type": "stream",
     "text": [
      "3\n",
      "4\n",
      "5\n",
      "Yes\n"
     ]
    }
   ],
   "source": [
    "a = int(input())\n",
    "b = int(input())\n",
    "c = int(input())\n",
    "\n",
    "if ((a**2 + b**2 == c**2) or\n",
    "    (a**2 + c**2 == b**2) or\n",
    "    (b**2 + c**2 == a**2)\n",
    "   ):\n",
    "    print(\"Yes\")\n",
    "else:\n",
    "    print(\"No\")\n"
   ]
  },
  {
   "cell_type": "markdown",
   "id": "08d7b9dc",
   "metadata": {},
   "source": [
    "    14. EvenOdd is a tech startup. Each employee at the startup is given an employee id which is a unique positive integer. On one warm Sunday evening, five employees of the company come together for a meeting and sit at a circular table:\n",
    "    The employees follow a strange convention. They will continue the meeting only if the following \n",
    "    condition is satisfied.\n",
    "    The sum of the employee-ids of every pair of adjacent employees at the table must be an even \n",
    "    number.\n",
    "    They are so lazy that they won’t move around to satisfy the above condition, If the current seating \n",
    "    plan doesn’t satisfy the condition, the meeting will be cancelled. You are given the employee-id of all \n",
    "    five employees. Your task is to decide if the meeting happened or not.\n",
    "    The input will be five lined, each containing an integer. The ith line will have the employee-id of Ei. \n",
    "    The output will be a single line containing one of these two strings: YES or NO"
   ]
  },
  {
   "cell_type": "code",
   "execution_count": 18,
   "id": "3cd37f4c",
   "metadata": {},
   "outputs": [
    {
     "name": "stdout",
     "output_type": "stream",
     "text": [
      "Enter employee id: 2\n",
      "Enter employee id: 4\n",
      "Enter employee id: 6\n",
      "Enter employee id: 8\n",
      "Enter employee id: 8\n",
      "Yes, meeting happened\n"
     ]
    }
   ],
   "source": [
    "# E1,E2,E3,E4,E5\n",
    "\n",
    "emp1 = int(input(\"Enter employee id: \"))\n",
    "emp2 = int(input(\"Enter employee id: \"))\n",
    "emp3 = int(input(\"Enter employee id: \"))\n",
    "emp4 = int(input(\"Enter employee id: \"))\n",
    "emp5 = int(input(\"Enter employee id: \"))\n",
    "# l=[emp1,emp2,emp3,emp4,emp2]\n",
    "\n",
    "if ((emp1+emp2)%2==0 or (emp2+emp3)%2==0 or (emp3+emp4)%2==0 or (emp4+emp5)%2==0 or(emp5+emp1)%2==0):\n",
    "    print(\"Yes, meeting happened\")\n",
    "else:\n",
    "    print(\"No, meeting not happened\")"
   ]
  },
  {
   "cell_type": "markdown",
   "id": "541b5b08",
   "metadata": {},
   "source": [
    "    15. Accept a string as input and print the vowels present in the string in alphabetical order. If the string doesn’t contain any vowels, then print the string none as output. Each vowel that appears in the input string – irrespective of its case should appear just once in lower case in the output"
   ]
  },
  {
   "cell_type": "code",
   "execution_count": 19,
   "id": "d0475244",
   "metadata": {},
   "outputs": [
    {
     "name": "stdout",
     "output_type": "stream",
     "text": [
      "Enter a string: bhumika\n"
     ]
    },
    {
     "data": {
      "text/plain": [
       "['b', 'h', 'u', 'm', 'i', 'k', 'a']"
      ]
     },
     "execution_count": 19,
     "metadata": {},
     "output_type": "execute_result"
    }
   ],
   "source": [
    "word = input(\"Enter a string: \").lower()\n",
    "\n",
    "word = list(word)\n",
    "word"
   ]
  },
  {
   "cell_type": "code",
   "execution_count": 20,
   "id": "b6cbb9d8",
   "metadata": {},
   "outputs": [
    {
     "name": "stdout",
     "output_type": "stream",
     "text": [
      "Vowels found are: ['a', 'i', 'u']\n"
     ]
    }
   ],
   "source": [
    "vols = [\"a\",\"e\",\"i\",\"o\",\"u\"]\n",
    "l=list()\n",
    "for i in vols:\n",
    "    if i in word:\n",
    "        l.append(i)\n",
    "print(f\"Vowels found are: {l}\")\n",
    "  "
   ]
  },
  {
   "cell_type": "markdown",
   "id": "0d22bbec",
   "metadata": {},
   "source": [
    "    16.You are given the date of birth of two persons, not necessarily from the same family. Your task is to find the younger of the two. If both of them share the same date of birth, then the younger of the two is assumed to be that person whose name comes first in alphabetical order.\n",
    "    The input will have four lines. The first two lines correspond to the first person, while the last two lines correspond to the second person. For each person, the first line corresponds to the name and the second line corresponds to the date of birth in “DD-MM-YYYY” format. Your output should be the name of the younger of the two."
   ]
  },
  {
   "cell_type": "code",
   "execution_count": 21,
   "id": "f4bcf144",
   "metadata": {},
   "outputs": [],
   "source": [
    "n1 = \"sawade\"\n",
    "n2 = \"mik\"\n",
    "if n1<n2:\n",
    "    print(n1)"
   ]
  },
  {
   "cell_type": "code",
   "execution_count": 22,
   "id": "3a6ab56f",
   "metadata": {},
   "outputs": [
    {
     "name": "stdout",
     "output_type": "stream",
     "text": [
      "Enter name: bhumika\n",
      "Enter DOB in format DD-MM-YYYY: 17-01-2007\n",
      "Enter name: bhumi\n",
      "Enter DOB in format DD-MM-YYYY: 25-11-2005\n",
      "bhumika\n"
     ]
    }
   ],
   "source": [
    "person1 = input(\"Enter name: \")\n",
    "dob1 = input(\"Enter DOB in format DD-MM-YYYY: \")\n",
    "person2 = input(\"Enter name: \")\n",
    "dob2 = input(\"Enter DOB in format DD-MM-YYYY: \")\n",
    "\n",
    "if dob1 == dob2:\n",
    "    if person1 < person2:\n",
    "        print(person1)\n",
    "    else:\n",
    "        print(person2)\n",
    "elif dob1[-4:] != dob2[-4:]:      #year\n",
    "    if int(dob1[-4:]) < int(dob1[-4:]):\n",
    "        print(person2)\n",
    "    else:\n",
    "        print(person1)\n",
    "elif dob1[3:5] != dob2[3:5]:    #month\n",
    "    if int(dob1[3:5]) < int(dob1[3:5]):\n",
    "        print(person2)\n",
    "    else:\n",
    "        print(person1)\n",
    "else:\n",
    "    if int(dob1[0:2]) < int(dob1[0:2]):\n",
    "        print(person2)\n",
    "    else:\n",
    "        print(person1)"
   ]
  },
  {
   "cell_type": "markdown",
   "id": "8986abe2",
   "metadata": {},
   "source": [
    "    17.Accept a string as input. Your task is to determine if the input string is a valid password or not. For a string to be a valid password, it must satisfy all the conditions given below:\n",
    "    (1) It should have at least 8 and at most 32 characters\n",
    "    (2) It should start with an uppercase or lowercase letter\n",
    "    (3) It should not have any of these characters: / \\ = ' \"\n",
    "    (4) It should not have spaces\n",
    "    It could have any character that is not mentioned in the list of characters to be avoided (points 3 and \n",
    "    4). Output True if the string forms a valid password and False otherwise"
   ]
  },
  {
   "cell_type": "code",
   "execution_count": 23,
   "id": "ecfa24b5",
   "metadata": {},
   "outputs": [
    {
     "name": "stdout",
     "output_type": "stream",
     "text": [
      "bhucdnkd//\n",
      "False\n"
     ]
    }
   ],
   "source": [
    "password = input()\n",
    "\n",
    "if 8 <= len(password)<=32 and password[0].isalpha() and '/' not in password and \"=\" not in password and \"\\'\" not in password:\n",
    "    print(\"True\")\n",
    "else:\n",
    "    print(\"False\")"
   ]
  },
  {
   "cell_type": "markdown",
   "id": "9000ffc6",
   "metadata": {},
   "source": [
    "    18. Accept a positive integer n as input and print the first n positive integers, one number on each line."
   ]
  },
  {
   "cell_type": "code",
   "execution_count": 24,
   "id": "a1a6fe53",
   "metadata": {},
   "outputs": [
    {
     "name": "stdout",
     "output_type": "stream",
     "text": [
      "Enter a no.: 5\n",
      "1\n",
      "2\n",
      "3\n",
      "4\n",
      "5\n"
     ]
    }
   ],
   "source": [
    "num = int(input(\"Enter a no.: \"))\n",
    "\n",
    "for i in range(1,num+1):\n",
    "    print(i)"
   ]
  },
  {
   "cell_type": "markdown",
   "id": "438e0623",
   "metadata": {},
   "source": [
    "    19.Accept a positive integer n as input, where n is greater than 1. Print PRIME ifnis a prime number and NOTPRIME otherwise."
   ]
  },
  {
   "cell_type": "code",
   "execution_count": 25,
   "id": "a19879f5",
   "metadata": {},
   "outputs": [
    {
     "name": "stdout",
     "output_type": "stream",
     "text": [
      "Enter a no.: 27\n"
     ]
    }
   ],
   "source": [
    "num = int(input(\"Enter a no.: \"))\n",
    "\n",
    "if num == 1:\n",
    "    print(f\"{num}, Not a prime\")\n",
    "else:\n",
    "    if num%2 == 0:\n",
    "        print(f\"{num} is a prime\")\n",
    "\n",
    "\n",
    "    "
   ]
  },
  {
   "cell_type": "markdown",
   "id": "e63039a5",
   "metadata": {},
   "source": [
    "    20. Accept two strings as input and form a new string by removing all characters from the second string which are present in the first string. Print this new string as output. You can assume that all input strings will be in lower case."
   ]
  },
  {
   "cell_type": "code",
   "execution_count": 26,
   "id": "b19ee8e4",
   "metadata": {},
   "outputs": [
    {
     "name": "stdout",
     "output_type": "stream",
     "text": [
      "bhumika\n",
      "sawade\n",
      "swde\n"
     ]
    }
   ],
   "source": [
    "a = input()\n",
    "b = input()\n",
    "\n",
    "for c in a:\n",
    "    if c in b:\n",
    "        b = b.replace(c,\"\")\n",
    "print(b)"
   ]
  },
  {
   "cell_type": "markdown",
   "id": "a478ba6a",
   "metadata": {},
   "source": [
    "    21.Accept a phone number as input. A valid phone number should satisfy the following constraints.\n",
    "    (1) The number should start with one of these digits: 6, 7, 8, 9\n",
    "    (2) The number should be exactly 10 digits long.\n",
    "    (3) No digit should appear more than 7 times in the number.\n",
    "    (4) No digit should appear more than 5 times in a row in the number.\n",
    "    If the fourth condition is not very clear, then consider this example: \n",
    "    the number 9888888765 is invalid because the digit 8 appears more than 5 times in a row. Print the string valid if the phone number is valid. If not, print the string invalid."
   ]
  },
  {
   "cell_type": "code",
   "execution_count": 27,
   "id": "666ef4cc",
   "metadata": {},
   "outputs": [
    {
     "name": "stdout",
     "output_type": "stream",
     "text": [
      "9888888765\n",
      "Invalid\n"
     ]
    }
   ],
   "source": [
    "n = input()\n",
    "a = False\n",
    "\n",
    "if len(n) == 10 and int(n[0])>5 and n.isdigit():\n",
    "    for i in range(10):\n",
    "        if n.count(n[i])<8:\n",
    "            a = True\n",
    "            if n[i]*6 in n:\n",
    "                a = False\n",
    "                break\n",
    "        else:\n",
    "            break\n",
    "\n",
    "if a:\n",
    "    print(\"Valid\")\n",
    "else:\n",
    "    print(\"Invalid\")"
   ]
  },
  {
   "cell_type": "markdown",
   "id": "a0b1e663",
   "metadata": {},
   "source": [
    "    22. In the first line of input, accept a sequence of space-separated words. In the second line of input, accept a single word. If this word is not present in the sequence, print NO. If this word is present in the sequence, then print YES and in the next line of the output, print the number of times the word appears in the sequence."
   ]
  },
  {
   "cell_type": "code",
   "execution_count": 30,
   "id": "683b4fdd",
   "metadata": {},
   "outputs": [
    {
     "name": "stdout",
     "output_type": "stream",
     "text": [
      "i write code i write code in ineuron\n",
      "Yes\n",
      "2\n"
     ]
    }
   ],
   "source": [
    "a = input().split(\" \")\n",
    "b = \"code\"\n",
    "if b in a:\n",
    "    print(\"Yes\")\n",
    "    print(a.count(b))\n",
    "else:\n",
    "    print(\"No\")"
   ]
  },
  {
   "cell_type": "markdown",
   "id": "1511bec1",
   "metadata": {},
   "source": [
    "    23. Write a function named factorial that accepts an integer n as argument. It should return the factorial of n if n is a positive integer. It should return -1 if n is a negative integer, and it should return 1 if n is zero."
   ]
  },
  {
   "cell_type": "code",
   "execution_count": 31,
   "id": "0eac75f7",
   "metadata": {},
   "outputs": [],
   "source": [
    "def factorial(n):\n",
    "    if n<0:\n",
    "        return -1\n",
    "    elif n==0:\n",
    "        return 1\n",
    "    else:\n",
    "        f = 1\n",
    "        for i in range(1,n+1):\n",
    "            f*=i\n",
    "        return f"
   ]
  },
  {
   "cell_type": "code",
   "execution_count": 32,
   "id": "422207b1",
   "metadata": {},
   "outputs": [
    {
     "data": {
      "text/plain": [
       "720"
      ]
     },
     "execution_count": 32,
     "metadata": {},
     "output_type": "execute_result"
    }
   ],
   "source": [
    "factorial(6)"
   ]
  },
  {
   "cell_type": "markdown",
   "id": "2f03c141",
   "metadata": {},
   "source": [
    "    24.The range of a list of numbers is the difference between the maximum and minimum values in the list\n",
    "    Write a function named get_range that accepts a non-empty list of real numbers as argument. It should return the range of the list.\n",
    "    (1) Avoid using built-in function such as max and min.\n",
    "    (2) You do not have to accept input from the user or print output to the console. You just have to write the function definition."
   ]
  },
  {
   "cell_type": "code",
   "execution_count": 33,
   "id": "93c8853e",
   "metadata": {},
   "outputs": [],
   "source": [
    "def get_max(l):\n",
    "    maxi = l[0]\n",
    "    for x in l:\n",
    "        if x>maxi:\n",
    "            maxi = x\n",
    "    return maxi\n",
    "\n",
    "def get_min(l):\n",
    "    mini = l[0]\n",
    "    for x in l:\n",
    "        if x < mini:\n",
    "            mini = x\n",
    "    return mini\n",
    "\n",
    "def get_range(l):\n",
    "    maxi = get_max(l)\n",
    "    mini = get_min(l)\n",
    "    return maxi - mini"
   ]
  },
  {
   "cell_type": "code",
   "execution_count": 34,
   "id": "29f6e35c",
   "metadata": {},
   "outputs": [
    {
     "data": {
      "text/plain": [
       "8"
      ]
     },
     "execution_count": 34,
     "metadata": {},
     "output_type": "execute_result"
    }
   ],
   "source": [
    "get_range([1,2,3,4,5,6,7,8,9])\n",
    "    "
   ]
  },
  {
   "cell_type": "markdown",
   "id": "5132c29b",
   "metadata": {},
   "source": [
    "    25. Write a function named read_file that accepts a text file named filename as argument. Within the function, read the file and print each line of the file on a separate line in the console. You shouldn't print any extra characters at the end of a line. There shouldn't be an empty line between any two consecutive lines.\n",
    "    (1) filename is a string variable that holds the name of the file. For example, in the first test case, it \n",
    "    is filename = 'public_1.txt'.\n",
    "    (2) You do not have to accept input from the console. You have to write the function definition and \n",
    "    print the contents of the file within the function"
   ]
  },
  {
   "cell_type": "code",
   "execution_count": null,
   "id": "21c57932",
   "metadata": {},
   "outputs": [],
   "source": [
    "def read_file(file: str):\n",
    "    with open(file,\"r\") as f:\n",
    "        lines = f.read()\n",
    "        print(lines)"
   ]
  },
  {
   "cell_type": "markdown",
   "id": "b9e1830e",
   "metadata": {},
   "source": [
    "    26. A simple algorithm has to be designed to find out whether a student belongs to the Data Science branch or not. The input will be a student's roll number, which is of the form BR18B0000. Here, BR represents the branch code, 18 represents the year of joining, B represents the education level and 0000 represents the specific identification given to the student of that batch. The branch code for Data Science is DS. Print True if the student belongs to Data Science branch and False otherwise."
   ]
  },
  {
   "cell_type": "code",
   "execution_count": 35,
   "id": "9ff5735f",
   "metadata": {},
   "outputs": [
    {
     "name": "stdout",
     "output_type": "stream",
     "text": [
      "Enter your roll no.: BR18B0000\n",
      "False\n"
     ]
    }
   ],
   "source": [
    "roll_no = input(\"Enter your roll no.: \")\n",
    "\n",
    "if roll_no[:2] == \"DS\":\n",
    "    print(\"True, student belong to Data Science branch\")\n",
    "else:\n",
    "    print(\"False\")"
   ]
  },
  {
   "cell_type": "markdown",
   "id": "5f0e9f8a",
   "metadata": {},
   "source": [
    "    27.The police are trying to track a criminal based on the evidence available at a crime site. Their main clue is a vehicle's damaged number plate. Only the string TN07 is visible. The format of the registration number is AA00AA00, where the first two letters are alphabets, next two are numbers, next two are again alphabets followed by two numbers at the end. A number plate is picked from a database of registration numbers and is given to you as input. Your task is to determine if this could belong to the criminal or not. Print True if the number plate contains TN07 and False otherwise."
   ]
  },
  {
   "cell_type": "code",
   "execution_count": 36,
   "id": "17336f05",
   "metadata": {},
   "outputs": [
    {
     "name": "stdout",
     "output_type": "stream",
     "text": [
      "AA00AA00\n",
      "False\n"
     ]
    }
   ],
   "source": [
    "n = input()\n",
    "\n",
    "if \"TN07\" in n:\n",
    "    print(\"True\")\n",
    "else:\n",
    "    print(\"False\")"
   ]
  },
  {
   "cell_type": "code",
   "execution_count": 37,
   "id": "5fdee33e",
   "metadata": {},
   "outputs": [
    {
     "name": "stdout",
     "output_type": "stream",
     "text": [
      "AA00AA00\n",
      "False\n"
     ]
    }
   ],
   "source": [
    "n = input()\n",
    "\n",
    "if (n[0:4]) == \"TN07\" or (n[4:8]==\"TN07\"):\n",
    "    print(\"True\")\n",
    "else:\n",
    "    print(\"False\")\n"
   ]
  },
  {
   "cell_type": "markdown",
   "id": "7b696a10",
   "metadata": {},
   "source": [
    "    28. You are given a string and two non-negative integers as input. The two integers specify the start and end indices of a substring in the given string. Create a new string by replicating the substring a minimum number of times so that the resulting string is longer than the input string. The input parameters are the string, start index of the substring and the end index of substring (endpoints inclusive) each on a different line."
   ]
  },
  {
   "cell_type": "code",
   "execution_count": 38,
   "id": "b095e1f0",
   "metadata": {},
   "outputs": [
    {
     "name": "stdout",
     "output_type": "stream",
     "text": [
      "code\n",
      "2\n",
      "3\n",
      "dedede\n"
     ]
    }
   ],
   "source": [
    "n = input()\n",
    "a = int(input())\n",
    "b = int(input())\n",
    "\n",
    "x = n[a:b+1]\n",
    "y = len(n)\n",
    "ans = \"\"\n",
    "while (y>=len(ans)):\n",
    "    ans+=x\n",
    "print(ans)"
   ]
  },
  {
   "cell_type": "markdown",
   "id": "5b487dcc",
   "metadata": {},
   "source": [
    "    29. A class teacher has decided to split her entire class into four groups, namely Sapphire, Peridot, Ruby,and Emerald for sports competitions. For dividing the students into these four groups, she has followed the pattern given below:\n",
    "    Sapphire - 1, 5, 9, 13, 17, 21, ...\n",
    "    Peridot - 2, 6, 10, 14, 18, 22, ...\n",
    "    Ruby - 3, 7, 11, 15, 19, 23, ...\n",
    "    Emerald - 4, 8, 12, 16, 20, 24, ...\n",
    "    All the students are represented by their roll numbers. Based on the above pattern, given the roll number as input, print the group the student belongs to. Note that the roll number can be any positive integer and not necessarily less than 25."
   ]
  },
  {
   "cell_type": "code",
   "execution_count": 39,
   "id": "a69b0299",
   "metadata": {},
   "outputs": [
    {
     "name": "stdout",
     "output_type": "stream",
     "text": [
      "6\n",
      "PERIDOT\n"
     ]
    }
   ],
   "source": [
    "n = int(input())\n",
    "\n",
    "for i in range(1,n+1,4):\n",
    "    if n == i:\n",
    "        print(\"SAPPHIRE\")\n",
    "for j in range(2,n+1,4):\n",
    "    if n == j:\n",
    "        print(\"PERIDOT\") \n",
    "for k in range(3,n+1,4):\n",
    "    if n == k:\n",
    "        print(\"RUBY\")\n",
    "for l in range(4,n+1,4):\n",
    "    if n == l:\n",
    "        print(\"EMERALD\")"
   ]
  },
  {
   "cell_type": "markdown",
   "id": "5ee92c29",
   "metadata": {},
   "source": [
    "    30. A data science company wants to hire data scientists from abc college. The company follows a certain criteria for selection: for a student to be selected, the number of backlogs should be at most 5 and the CGPA (Cumulative Grade Point Average) should be greater than 6. If the student does not fit the above criteria, then the student is not offered the job. If the student is selected, then the salary offered is equal to 5 times his/her CGPA (in lakhs).Accept the number of backlogs (integer) and the CGPA (float) of the student as input. Your task is to determine if the student is selected or not. If the student is selected, then print the package. If not, then print the string Not Selected."
   ]
  },
  {
   "cell_type": "code",
   "execution_count": 40,
   "id": "4ffd1aa8",
   "metadata": {},
   "outputs": [
    {
     "name": "stdout",
     "output_type": "stream",
     "text": [
      "No. of backlogs4\n",
      "Enter cgpa: 8\n",
      "Student is selected\n",
      "Salary: 40.0 lakhs\n"
     ]
    }
   ],
   "source": [
    "backlogs = int(input(\"No. of backlogs\"))\n",
    "cgpa = float(input(\"Enter cgpa: \"))\n",
    "\n",
    "if backlogs <= 5 and cgpa > 6:\n",
    "    print(\"Student is selected\")\n",
    "    print(f\"Salary: {5*cgpa} lakhs\")\n",
    "else:\n",
    "    print(\"Not selected\")"
   ]
  },
  {
   "cell_type": "markdown",
   "id": "92cee73a",
   "metadata": {},
   "source": [
    "    31. Accept a string as input and print PALINDROME if it is a palindrome, and NOT PALINDROME otherwise"
   ]
  },
  {
   "cell_type": "code",
   "execution_count": 41,
   "id": "307bdd49",
   "metadata": {},
   "outputs": [
    {
     "name": "stdout",
     "output_type": "stream",
     "text": [
      "malyaylam\n",
      "String is a PALINDROME\n"
     ]
    }
   ],
   "source": [
    "s = input()\n",
    "reverse = s[::-1]\n",
    "\n",
    "if s == reverse:\n",
    "    print(\"String is a PALINDROME\")\n",
    "else:\n",
    "    print(\"Not a PALINDROME\")"
   ]
  },
  {
   "cell_type": "markdown",
   "id": "77bca517",
   "metadata": {},
   "source": [
    "    32. In a portal login website, you are asked to write a function get_password_strength to decide \n",
    "    the strength of a password. The strength is decided based on the total score of the password, Use \n",
    "    following conditions:\n",
    "    1) If password has length greater than 7 then score increases by one point.\n",
    "    2) If password has at least one upper case and one lower case alphabets score increases by one point.\n",
    "    3) If password has at least one number and no consecutive numbers like 12 or 234 then score \n",
    "    increases by one point.\n",
    "    4) If password has at least one special character (any character other than numbers and alphabets) then \n",
    "    score increases by one point.\n",
    "    5) If password contains username, then it is invalid password.\n",
    "    If the password has score of four points, three points, two points, or one point then print Very \n",
    "    Strong, Strong, Moderate, or Weak respectively. If the password is invalid, then \n",
    "    print PASSWORD SHOULD NOT CONTAIN USERNAME and If the score is zero, then print Use a \n",
    "    different password.The arguments to the function are username and password which are \n",
    "    already defined"
   ]
  },
  {
   "cell_type": "code",
   "execution_count": 42,
   "id": "a1d57034",
   "metadata": {},
   "outputs": [
    {
     "data": {
      "text/plain": [
       "'abcdefghijklmnopqrstuvwxyz'"
      ]
     },
     "execution_count": 42,
     "metadata": {},
     "output_type": "execute_result"
    }
   ],
   "source": [
    "capital = \"ABCDEFGHIJKLMNOPQRSTUVWXYZ\"\n",
    "capital.lower()"
   ]
  },
  {
   "cell_type": "code",
   "execution_count": null,
   "id": "ad4efaa8",
   "metadata": {},
   "outputs": [],
   "source": [
    "def get_password_strength(username,password):\n",
    "    c = 0\n",
    "    capital = \"ABCDEFGHIJKLMNOPQRSTUVWXYZ\"\n",
    "    c_flag = False\n",
    "    small = 'abcdefghijklmnopqrstuvwxyz'\n",
    "    s_flag = False\n",
    "    num = \"0123456789\"\n",
    "    n_flag = False\n",
    "    if username in password:\n",
    "        print(\"Password should not contain username\")\n",
    "        return\n",
    "    if len(password)>7:\n",
    "        c = c+1\n",
    "    for i in range(len(password)):\n",
    "        if password[i] in small:\n",
    "            s_flag = True\n",
    "        elif password[i] ==capital:\n",
    "            c_flag = True\n",
    "        elif password[i] in num:\n",
    "            n_flag = True\n",
    "        if n_flag:\n",
    "            if i!=len(password)-1:\n",
    "                if num[((num.index(password[i]))+ 1)] == password[i+1]:\n",
    "                    nc_flag = False    \n",
    "    if c_flag and s_flag:\n",
    "                    c+=1\n",
    "    if n_flag and nc_flag:\n",
    "                     c+=1\n",
    "    if not password.isalnum():\n",
    "                     c+=1\n",
    "            \n",
    "    if c == 4:\n",
    "                     print(\"very strong\")\n",
    "                     return\n",
    "    if c == 3:\n",
    "                     print(\"strong\")\n",
    "                     return\n",
    "    if c == 2:\n",
    "                     print(\"Moderate\")\n",
    "                     return   \n",
    "    if c == 1:\n",
    "                     print(\"Weak\")\n",
    "                     return\n",
    "    if c == 0:\n",
    "                     print(\"Use a different password\")\n",
    "                     return\n",
    "  #check"
   ]
  },
  {
   "cell_type": "code",
   "execution_count": null,
   "id": "7875d941",
   "metadata": {},
   "outputs": [],
   "source": [
    "get_password_strength(\"bhumika\",\"bhu365657vgft4\")"
   ]
  },
  {
   "cell_type": "markdown",
   "id": "00a94041",
   "metadata": {},
   "source": [
    "    33.decorator that logs the date and time"
   ]
  },
  {
   "cell_type": "code",
   "execution_count": 43,
   "id": "72e48aa0",
   "metadata": {},
   "outputs": [],
   "source": [
    "# if you want to add more fuctionality to the existent function so in python we call that decorator\n",
    "\n",
    "from datetime import datetime\n",
    "\n",
    "def log_datetime(func):\n",
    "    \n",
    "    def wrapper():\n",
    "        print(f'function: {func.__name__} \\nRun on {datetime.today().strftime(\"%Y-%m-%d %H:%M:%S\")}')\n",
    "        print(f'{\"-\"*30}')\n",
    "        func()\n",
    "    return wrapper\n",
    "\n",
    "@log_datetime\n",
    "def daily_backup():\n",
    "    print(\"Daily backup job has finished\")\n",
    "    "
   ]
  },
  {
   "cell_type": "code",
   "execution_count": 44,
   "id": "1f6f8355",
   "metadata": {},
   "outputs": [
    {
     "name": "stdout",
     "output_type": "stream",
     "text": [
      "function: daily_backup \n",
      "Run on 2023-12-01 13:49:57\n",
      "------------------------------\n",
      "Daily backup job has finished\n"
     ]
    }
   ],
   "source": [
    "daily_backup()"
   ]
  },
  {
   "cell_type": "markdown",
   "id": "5b89b208",
   "metadata": {},
   "source": [
    "    34.Program to Get Data Items From a List Appearing Odd Number of Times"
   ]
  },
  {
   "cell_type": "code",
   "execution_count": 45,
   "id": "6d5df29a",
   "metadata": {},
   "outputs": [
    {
     "name": "stdout",
     "output_type": "stream",
     "text": [
      "1\n",
      "3\n",
      "7\n",
      "8\n",
      "9\n"
     ]
    }
   ],
   "source": [
    "l = [2,2,1,3,7,8,9]\n",
    "\n",
    "for i in l :\n",
    "    if l.count(i) %2 != 0:\n",
    "        print(i)"
   ]
  },
  {
   "cell_type": "code",
   "execution_count": 46,
   "id": "7889c59e",
   "metadata": {},
   "outputs": [
    {
     "name": "stdout",
     "output_type": "stream",
     "text": [
      "[2, 3, 5]\n"
     ]
    }
   ],
   "source": [
    "x = [1,2,3,4,5,1,3,3,4]\n",
    "l1 = []\n",
    "for i in x:\n",
    "    if x.count(i)%2 != 0:\n",
    "        if i not in l1:\n",
    "            l1.append(i)\n",
    "print(l1)"
   ]
  },
  {
   "cell_type": "markdown",
   "id": "3ea82106",
   "metadata": {},
   "source": [
    "    35.What are decorators in Python?\n",
    "    adding more fuctionality to the existing function"
   ]
  },
  {
   "cell_type": "code",
   "execution_count": 49,
   "id": "f9f798ea",
   "metadata": {},
   "outputs": [],
   "source": [
    "@test2\n",
    "def test1():\n",
    "    a = \"Hello World\"\n",
    "    return a.lower()\n",
    "     "
   ]
  },
  {
   "cell_type": "code",
   "execution_count": 50,
   "id": "7b5ac329",
   "metadata": {},
   "outputs": [
    {
     "data": {
      "text/plain": [
       "['hello', 'world']"
      ]
     },
     "execution_count": 50,
     "metadata": {},
     "output_type": "execute_result"
    }
   ],
   "source": [
    "test1()"
   ]
  },
  {
   "cell_type": "code",
   "execution_count": 48,
   "id": "5cbdaef1",
   "metadata": {},
   "outputs": [],
   "source": [
    "def test2(function):\n",
    "    def wrapper():\n",
    "        func = function()\n",
    "        b = func.split()\n",
    "        return b\n",
    "    return wrapper"
   ]
  },
  {
   "cell_type": "code",
   "execution_count": 51,
   "id": "04f4a619",
   "metadata": {},
   "outputs": [],
   "source": [
    "#decorator function to convert to lowercase:\n",
    "def lowercase_dec(function):\n",
    "    def wrapper():\n",
    "        func = function()\n",
    "        string_lowercase = func.lower()\n",
    "        return string_lowercase\n",
    "    return wrapper\n",
    "\n",
    "# decorator function to split words:\n",
    "def splitter_dec(function):\n",
    "    def wrapper():\n",
    "        func = function()\n",
    "        string_split = func.split()\n",
    "        return string_split\n",
    "    return wrapper\n",
    "\n",
    "@splitter_dec    \n",
    "@lowercase_dec \n",
    "def hello():\n",
    "    return \"Hello World\""
   ]
  },
  {
   "cell_type": "code",
   "execution_count": 52,
   "id": "edac8808",
   "metadata": {},
   "outputs": [
    {
     "data": {
      "text/plain": [
       "['hello', 'world']"
      ]
     },
     "execution_count": 52,
     "metadata": {},
     "output_type": "execute_result"
    }
   ],
   "source": [
    "hello()"
   ]
  },
  {
   "cell_type": "markdown",
   "id": "6fdc4001",
   "metadata": {},
   "source": [
    "    36. remove items from a list while iterating but without creating a different copy of a list.\n",
    "    Remove numbers greater than 50\n",
    "    number_list = [10, 20, 30, 40, 50, 60, 70, 80, 90, 100]\n",
    "    Expected Output: [10, 20, 30, 40, 50]"
   ]
  },
  {
   "cell_type": "code",
   "execution_count": 53,
   "id": "cba8585e",
   "metadata": {},
   "outputs": [
    {
     "name": "stdout",
     "output_type": "stream",
     "text": [
      "[10, 20, 30, 40, 50]\n"
     ]
    }
   ],
   "source": [
    "number_list = [10, 20, 30, 40, 50, 60, 70, 80, 90, 100]\n",
    "number_list =  [ele for ele in number_list if ele<=50]\n",
    "print(number_list)"
   ]
  },
  {
   "cell_type": "code",
   "execution_count": 54,
   "id": "dbd3183e",
   "metadata": {},
   "outputs": [
    {
     "name": "stdout",
     "output_type": "stream",
     "text": [
      "[10, 20, 30, 40, 50]\n"
     ]
    }
   ],
   "source": [
    "number_list = [10, 20, 30, 40, 50, 60, 70, 80, 90, 100]\n",
    "i = 0\n",
    "n = len(number_list)\n",
    "while i<n:\n",
    "    if number_list[i]>50:\n",
    "        del number_list[i]\n",
    "        n = n-1\n",
    "    else:\n",
    "        i = i+1\n",
    "print(number_list)       "
   ]
  },
  {
   "cell_type": "markdown",
   "id": "ca971d4d",
   "metadata": {},
   "source": [
    "    37.  Display all duplicate items from a list\n",
    "    sample_list = [10, 20, 60, 30, 20, 40, 30, 60, 70, 80]\n",
    "    Expected Output: [20, 60, 30]"
   ]
  },
  {
   "cell_type": "code",
   "execution_count": 55,
   "id": "de0c8a09",
   "metadata": {},
   "outputs": [
    {
     "name": "stdout",
     "output_type": "stream",
     "text": [
      "[20, 60, 30]\n"
     ]
    }
   ],
   "source": [
    "sample_list = [10, 20, 60, 30, 20, 40, 30, 60, 70, 80]\n",
    "l = []\n",
    "for i in sample_list:\n",
    "    if sample_list.count(i)>1:\n",
    "        l.append(i)\n",
    "print(list(set(l)))"
   ]
  },
  {
   "cell_type": "markdown",
   "id": "d731de68",
   "metadata": {},
   "source": [
    "    38. Create an outer function that will accept two strings, x and y. (x= 'Emma' and y = 'Kelly'.Create an inner function inside an outer function that will concatenate x and y.At last, an outer function will join the word 'developer' to it."
   ]
  },
  {
   "cell_type": "code",
   "execution_count": 56,
   "id": "07f56c21",
   "metadata": {},
   "outputs": [],
   "source": [
    "def outer(x,y):\n",
    "    def inner(x,y):\n",
    "        return x + y\n",
    "    z = inner(x,y)\n",
    "    return z + \"developer\""
   ]
  },
  {
   "cell_type": "code",
   "execution_count": 57,
   "id": "2ccd1359",
   "metadata": {},
   "outputs": [
    {
     "data": {
      "text/plain": [
       "'EmmaKellydeveloper'"
      ]
     },
     "execution_count": 57,
     "metadata": {},
     "output_type": "execute_result"
    }
   ],
   "source": [
    "outer(\"Emma\",\"Kelly\")"
   ]
  },
  {
   "cell_type": "code",
   "execution_count": 58,
   "id": "3c0da595",
   "metadata": {},
   "outputs": [
    {
     "data": {
      "text/plain": [
       "'bhumisawddeveloper'"
      ]
     },
     "execution_count": 58,
     "metadata": {},
     "output_type": "execute_result"
    }
   ],
   "source": [
    "outer(\"bhumi\",\"sawd\")"
   ]
  },
  {
   "cell_type": "markdown",
   "id": "ce624c1a",
   "metadata": {},
   "source": [
    "    39. Modify the element of a nested list inside the following list. Change the element 35 to 3500\n",
    "    list1 = [5, [10, 15, [20, 25, [30, 35], 40], 45], 50]"
   ]
  },
  {
   "cell_type": "code",
   "execution_count": 59,
   "id": "d2db71c8",
   "metadata": {},
   "outputs": [],
   "source": [
    "list1 = [5, [10, 15, [20, 25, [30, 35], 40], 45], 50]\n",
    "list1[1][2][2][1] = 3500"
   ]
  },
  {
   "cell_type": "code",
   "execution_count": 60,
   "id": "27c1451d",
   "metadata": {},
   "outputs": [
    {
     "data": {
      "text/plain": [
       "[5, [10, 15, [20, 25, [30, 3500], 40], 45], 50]"
      ]
     },
     "execution_count": 60,
     "metadata": {},
     "output_type": "execute_result"
    }
   ],
   "source": [
    "list1 "
   ]
  },
  {
   "cell_type": "markdown",
   "id": "1b8b830d",
   "metadata": {},
   "source": [
    "    40.  Access the nested key increment from the following dictionary\n",
    "    Access 12\n",
    "    emp_dict = {\n",
    "        \"company\": {\n",
    "            \"employee\": {\n",
    "                \"name\": \"Jess\",\n",
    "                \"payable\": {\n",
    "                    \"salary\": 9000,\n",
    "                    \"increment\": 12\n",
    "                }\n",
    "            }\n",
    "        }\n",
    "    }"
   ]
  },
  {
   "cell_type": "code",
   "execution_count": 61,
   "id": "fbfd63a6",
   "metadata": {},
   "outputs": [],
   "source": [
    "emp_dict = {\n",
    "    \"company\": {\n",
    "        \"employee\": {\n",
    "            \"name\": \"Jess\",\n",
    "            \"payable\": {\n",
    "                \"salary\": 9000,\n",
    "                \"increment\": 12\n",
    "            }\n",
    "        }\n",
    "    }\n",
    "}"
   ]
  },
  {
   "cell_type": "code",
   "execution_count": 62,
   "id": "fff51a1c",
   "metadata": {},
   "outputs": [
    {
     "data": {
      "text/plain": [
       "12"
      ]
     },
     "execution_count": 62,
     "metadata": {},
     "output_type": "execute_result"
    }
   ],
   "source": [
    "emp_dict[\"company\"][\"employee\"][\"payable\"][\"increment\"]"
   ]
  },
  {
   "cell_type": "markdown",
   "id": "7baf62c0",
   "metadata": {},
   "source": [
    "    41. Print the sum of the current number and the previous numberWrite a program to iterate the first 10 numbers and in each iteration, print the sum of the current and previous number.\n",
    "    Printing current and previous number sum in a range(10)\n",
    "    Current Number 0 Previous Number  0  Sum:  0\n",
    "    Current Number 1 Previous Number  0  Sum:  1\n",
    "    Current Number 2 Previous Number  1  Sum:  3\n",
    "    Current Number 3 Previous Number  2  Sum:  5\n",
    "    Current Number 4 Previous Number  3  Sum:  7\n",
    "    Current Number 5 Previous Number  4  Sum:  9\n",
    "    Current Number 6 Previous Number  5  Sum:  11\n",
    "    Current Number 7 Previous Number  6  Sum:  13\n",
    "    Current Number 8 Previous Number  7  Sum:  15\n",
    "    Current Number 9 Previous Number  8  Sum:  17"
   ]
  },
  {
   "cell_type": "code",
   "execution_count": 63,
   "id": "5ea34502",
   "metadata": {
    "scrolled": true
   },
   "outputs": [
    {
     "name": "stdout",
     "output_type": "stream",
     "text": [
      "Current No.: 0 Previous No.: -1 Sum: -1\n",
      "Current No.: 1 Previous No.: 0 Sum: 1\n",
      "Current No.: 2 Previous No.: 1 Sum: 3\n",
      "Current No.: 3 Previous No.: 2 Sum: 5\n",
      "Current No.: 4 Previous No.: 3 Sum: 7\n",
      "Current No.: 5 Previous No.: 4 Sum: 9\n",
      "Current No.: 6 Previous No.: 5 Sum: 11\n",
      "Current No.: 7 Previous No.: 6 Sum: 13\n",
      "Current No.: 8 Previous No.: 7 Sum: 15\n",
      "Current No.: 9 Previous No.: 8 Sum: 17\n"
     ]
    }
   ],
   "source": [
    "for i in range(0,10):\n",
    "    print(f\"Current No.: {i} Previous No.: {i-1} Sum: {i+i-1}\")"
   ]
  },
  {
   "cell_type": "code",
   "execution_count": 64,
   "id": "4723c5ce",
   "metadata": {},
   "outputs": [
    {
     "name": "stdout",
     "output_type": "stream",
     "text": [
      "Current No.: 0 Previous No.: 0 Sum: 0\n",
      "Current No.: 1 Previous No.: 0 Sum: 1\n",
      "Current No.: 2 Previous No.: 1 Sum: 3\n",
      "Current No.: 3 Previous No.: 2 Sum: 5\n",
      "Current No.: 4 Previous No.: 3 Sum: 7\n",
      "Current No.: 5 Previous No.: 4 Sum: 9\n",
      "Current No.: 6 Previous No.: 5 Sum: 11\n",
      "Current No.: 7 Previous No.: 6 Sum: 13\n",
      "Current No.: 8 Previous No.: 7 Sum: 15\n",
      "Current No.: 9 Previous No.: 8 Sum: 17\n"
     ]
    }
   ],
   "source": [
    "prev = 0\n",
    "for i in range(0,10):\n",
    "    sum_ = i + prev\n",
    "    print(f\"Current No.: {i} Previous No.: {prev} Sum: {sum_}\")\n",
    "    prev = i\n",
    "    "
   ]
  },
  {
   "cell_type": "markdown",
   "id": "bcdbe943",
   "metadata": {},
   "source": [
    "    42. Print characters from a string that are present at an even index number Write a program to accept a string from the user and display characters that are present at an even index number.\n",
    "\n",
    "    For example, str = \"ineuron\" so you should display ‘i’, ‘e’, ‘r’, ‘n’."
   ]
  },
  {
   "cell_type": "code",
   "execution_count": 65,
   "id": "5bcd124c",
   "metadata": {},
   "outputs": [
    {
     "name": "stdout",
     "output_type": "stream",
     "text": [
      "Enter string:ineuron\n",
      "i e r n "
     ]
    }
   ],
   "source": [
    "str_ = input(\"Enter string:\" )\n",
    "\n",
    "for i in range(0,len(str_)):\n",
    "    if i%2 == 0:\n",
    "        print(str_[i],end = \" \")"
   ]
  },
  {
   "cell_type": "markdown",
   "id": "3f22ae20",
   "metadata": {},
   "source": [
    "    43. Print multiplication table form 1 to 10\n",
    "    1  2 3 4 5 6 7 8 9 10 \t\t\n",
    "    2  4 6 8 10 12 14 16 18 20 \t\t\n",
    "    3  6 9 12 15 18 21 24 27 30 \t\t\n",
    "    4  8 12 16 20 24 28 32 36 40 \t\t\n",
    "    5  10 15 20 25 30 35 40 45 50 \t\t\n",
    "    6  12 18 24 30 36 42 48 54 60 \t\t\n",
    "    7  14 21 28 35 42 49 56 63 70 \t\t\n",
    "    8  16 24 32 40 48 56 64 72 80 \t\t\n",
    "    9  18 27 36 45 54 63 72 81 90 \t\t\n",
    "    10 20 30 40 50 60 70 80 90 100 "
   ]
  },
  {
   "cell_type": "code",
   "execution_count": 66,
   "id": "a1efedf0",
   "metadata": {},
   "outputs": [
    {
     "name": "stdout",
     "output_type": "stream",
     "text": [
      "1  2  3  4  5  6  7  8  9  10  \n",
      "\n",
      "2  4  6  8  10  12  14  16  18  20  \n",
      "\n",
      "3  6  9  12  15  18  21  24  27  30  \n",
      "\n",
      "4  8  12  16  20  24  28  32  36  40  \n",
      "\n",
      "5  10  15  20  25  30  35  40  45  50  \n",
      "\n",
      "6  12  18  24  30  36  42  48  54  60  \n",
      "\n",
      "7  14  21  28  35  42  49  56  63  70  \n",
      "\n",
      "8  16  24  32  40  48  56  64  72  80  \n",
      "\n",
      "9  18  27  36  45  54  63  72  81  90  \n",
      "\n",
      "10  20  30  40  50  60  70  80  90  100  \n",
      "\n"
     ]
    }
   ],
   "source": [
    "for i in range(1,11):\n",
    "    for j in range(1,11):\n",
    "        c = i * j\n",
    "        \n",
    "        print(f\"{c} \",end = \" \")\n",
    "    print(\"\\n\")"
   ]
  },
  {
   "cell_type": "markdown",
   "id": "fc8ea018",
   "metadata": {},
   "source": [
    "    44. Remove duplicates from a list and create a tuple and find the minimum and maximum number\n",
    "    sample_list = [87, 45, 41, 65, 94, 41, 99, 94]\n",
    "    Expected Outcome:\n",
    "    unique items [87, 45, 41, 65, 99]\n",
    "    tuple (87, 45, 41, 65, 99)\n",
    "    min: 41\n",
    "    max: 99"
   ]
  },
  {
   "cell_type": "code",
   "execution_count": 67,
   "id": "eb115da8",
   "metadata": {},
   "outputs": [
    {
     "name": "stdout",
     "output_type": "stream",
     "text": [
      "unique items: [87, 45, 65, 99]\n",
      "tuple: (87, 45, 65, 99)\n",
      "min: 41\n",
      "max: 99\n"
     ]
    }
   ],
   "source": [
    "sample_list = [87, 45, 41, 65, 94, 41, 99, 94]\n",
    "l = []\n",
    "for i in sample_list:\n",
    "    if sample_list.count(i)<=1:\n",
    "        l.append(i)\n",
    "print(f\"unique items: {l}\")\n",
    "print(f\"tuple: {tuple(l)}\")\n",
    "print(f\"min: {min(sample_list)}\")\n",
    "print(f\"max: {max(sample_list)}\")"
   ]
  },
  {
   "cell_type": "markdown",
   "id": "378e3ffd",
   "metadata": {},
   "source": [
    "    45. Write a Python program to create a lambda function that adds 15 to a given number passed in as an argument,also create a lambda function that multiplies argument x with argument y and print the result."
   ]
  },
  {
   "cell_type": "code",
   "execution_count": 68,
   "id": "42e3cdc1",
   "metadata": {},
   "outputs": [
    {
     "name": "stdout",
     "output_type": "stream",
     "text": [
      "Addition: 17\n"
     ]
    }
   ],
   "source": [
    "add_15 = lambda x: x + 15\n",
    "print(\"Addition:\",add_15(2))"
   ]
  },
  {
   "cell_type": "code",
   "execution_count": 69,
   "id": "159e8ab1",
   "metadata": {},
   "outputs": [
    {
     "name": "stdout",
     "output_type": "stream",
     "text": [
      "Multiplication: 45\n"
     ]
    }
   ],
   "source": [
    "multi = lambda x,y: x*y\n",
    "print(\"Multiplication:\",multi(5,9))"
   ]
  },
  {
   "cell_type": "markdown",
   "id": "39773c9b",
   "metadata": {},
   "source": [
    "    46. Write a Python program to sort a list of tuples using Lambda."
   ]
  },
  {
   "cell_type": "code",
   "execution_count": 70,
   "id": "4f24de92",
   "metadata": {},
   "outputs": [],
   "source": [
    "sort_list = lambda x : sorted(x)"
   ]
  },
  {
   "cell_type": "code",
   "execution_count": 71,
   "id": "0056e8a2",
   "metadata": {},
   "outputs": [
    {
     "data": {
      "text/plain": [
       "[(1, 'o'), (2, 'n'), (3, 'm')]"
      ]
     },
     "execution_count": 71,
     "metadata": {},
     "output_type": "execute_result"
    }
   ],
   "source": [
    "l = [(3,\"m\"),(2,\"n\"),(1,\"o\")]\n",
    "sort_list(l)"
   ]
  },
  {
   "cell_type": "markdown",
   "id": "acbb161d",
   "metadata": {},
   "source": [
    "    47. Write a Python program to extract year, month, date and time using Lambda."
   ]
  },
  {
   "cell_type": "code",
   "execution_count": 72,
   "id": "f217ce78",
   "metadata": {},
   "outputs": [
    {
     "name": "stdout",
     "output_type": "stream",
     "text": [
      "2023-12-01 13:55:59.558425\n"
     ]
    }
   ],
   "source": [
    "import datetime\n",
    "\n",
    "now = datetime.datetime.now()\n",
    "print(now)"
   ]
  },
  {
   "cell_type": "code",
   "execution_count": 73,
   "id": "13dfe5af",
   "metadata": {},
   "outputs": [],
   "source": [
    "year = lambda x: x.year\n",
    "month = lambda x: x.month\n",
    "day = lambda x: x.day\n",
    "t = lambda x: x.time()\n"
   ]
  },
  {
   "cell_type": "code",
   "execution_count": 74,
   "id": "24e6b1f2",
   "metadata": {},
   "outputs": [
    {
     "name": "stdout",
     "output_type": "stream",
     "text": [
      "2023\n",
      "12\n",
      "1\n",
      "13:55:59.558425\n"
     ]
    }
   ],
   "source": [
    "print(year(now))\n",
    "print(month(now))\n",
    "print(day(now))\n",
    "print(t(now))"
   ]
  },
  {
   "cell_type": "markdown",
   "id": "0455a461",
   "metadata": {},
   "source": [
    "    48. Write a Python program to count the even, odd numbers in a given array of integers using Lambda."
   ]
  },
  {
   "cell_type": "code",
   "execution_count": 75,
   "id": "36e2f650",
   "metadata": {},
   "outputs": [],
   "source": [
    "l = [5,8,6,3,2,5,2,1,8]\n",
    "\n",
    "even = len(list(filter(lambda x: x%2 == 0 ,l)))\n",
    "odd = len(list(filter(lambda x: x%2 != 0 ,l)))"
   ]
  },
  {
   "cell_type": "code",
   "execution_count": 76,
   "id": "3ac300db",
   "metadata": {},
   "outputs": [
    {
     "name": "stdout",
     "output_type": "stream",
     "text": [
      "Total even no 5\n",
      "Total odd no 4\n"
     ]
    }
   ],
   "source": [
    "print(\"Total even no\",even)\n",
    "print(\"Total odd no\",odd)"
   ]
  },
  {
   "cell_type": "markdown",
   "id": "03f963a2",
   "metadata": {},
   "source": [
    "    49. Write a Python program to convert all the characters in uppercase and lowercase and eliminate duplicate letters from a given sequence.Use map() function."
   ]
  },
  {
   "cell_type": "code",
   "execution_count": 77,
   "id": "f3dc2fd6",
   "metadata": {},
   "outputs": [],
   "source": [
    "def test(s):\n",
    "    return str(s).upper(),str(s).lower()\n",
    "\n",
    "chars = [\"e\",\"E\",\"N\",\"c\"]"
   ]
  },
  {
   "cell_type": "code",
   "execution_count": 78,
   "id": "21513095",
   "metadata": {},
   "outputs": [
    {
     "name": "stdout",
     "output_type": "stream",
     "text": [
      "{('C', 'c'), ('N', 'n'), ('E', 'e')}\n"
     ]
    }
   ],
   "source": [
    "result = map(test,chars)\n",
    "print(set(result))"
   ]
  },
  {
   "cell_type": "markdown",
   "id": "6e6908e2",
   "metadata": {},
   "source": [
    "    50.  Write a Python program to square the elements of a list using map() function."
   ]
  },
  {
   "cell_type": "code",
   "execution_count": 79,
   "id": "588f9b99",
   "metadata": {},
   "outputs": [],
   "source": [
    "def square(n):\n",
    "    return n * n "
   ]
  },
  {
   "cell_type": "code",
   "execution_count": 80,
   "id": "397b7d54",
   "metadata": {},
   "outputs": [],
   "source": [
    "numbers = (1,2,3,43,2)"
   ]
  },
  {
   "cell_type": "code",
   "execution_count": 81,
   "id": "8b906b2f",
   "metadata": {},
   "outputs": [
    {
     "name": "stdout",
     "output_type": "stream",
     "text": [
      "[1, 4, 9, 1849, 4]\n"
     ]
    }
   ],
   "source": [
    "result = map(square,numbers)\n",
    "print(list(result))"
   ]
  },
  {
   "cell_type": "code",
   "execution_count": null,
   "id": "609d9650",
   "metadata": {},
   "outputs": [],
   "source": []
  }
 ],
 "metadata": {
  "kernelspec": {
   "display_name": "Python 3 (ipykernel)",
   "language": "python",
   "name": "python3"
  },
  "language_info": {
   "codemirror_mode": {
    "name": "ipython",
    "version": 3
   },
   "file_extension": ".py",
   "mimetype": "text/x-python",
   "name": "python",
   "nbconvert_exporter": "python",
   "pygments_lexer": "ipython3",
   "version": "3.10.9"
  }
 },
 "nbformat": 4,
 "nbformat_minor": 5
}

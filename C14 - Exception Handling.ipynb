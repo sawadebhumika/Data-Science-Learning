{
 "cells": [
  {
   "cell_type": "code",
   "execution_count": 1,
   "id": "d1732910",
   "metadata": {},
   "outputs": [],
   "source": [
    "# ---- Syntax Error / Parsing error\n",
    "# ---- Logical Error "
   ]
  },
  {
   "cell_type": "markdown",
   "id": "b0f07d86",
   "metadata": {},
   "source": [
    "### Syntax Error"
   ]
  },
  {
   "cell_type": "markdown",
   "id": "144e7454",
   "metadata": {},
   "source": [
    "    Syntax error or parsing error- if you dont write in a proper structure we get a syntax error"
   ]
  },
  {
   "cell_type": "code",
   "execution_count": 2,
   "id": "e743bc27",
   "metadata": {
    "scrolled": true
   },
   "outputs": [
    {
     "ename": "IndentationError",
     "evalue": "unexpected indent (430364130.py, line 2)",
     "output_type": "error",
     "traceback": [
      "\u001b[1;36m  Cell \u001b[1;32mIn[2], line 2\u001b[1;36m\u001b[0m\n\u001b[1;33m    print(\"iNeuron\")\u001b[0m\n\u001b[1;37m    ^\u001b[0m\n\u001b[1;31mIndentationError\u001b[0m\u001b[1;31m:\u001b[0m unexpected indent\n"
     ]
    }
   ],
   "source": [
    "print(\"I write code\")\n",
    "    print(\"iNeuron\")"
   ]
  },
  {
   "cell_type": "code",
   "execution_count": 3,
   "id": "c9e518d8",
   "metadata": {},
   "outputs": [],
   "source": [
    "a = 10"
   ]
  },
  {
   "cell_type": "code",
   "execution_count": 4,
   "id": "38a993bf",
   "metadata": {
    "scrolled": true
   },
   "outputs": [
    {
     "ename": "SyntaxError",
     "evalue": "expected ':' (137280695.py, line 1)",
     "output_type": "error",
     "traceback": [
      "\u001b[1;36m  Cell \u001b[1;32mIn[4], line 1\u001b[1;36m\u001b[0m\n\u001b[1;33m    if (a<10)\u001b[0m\n\u001b[1;37m             ^\u001b[0m\n\u001b[1;31mSyntaxError\u001b[0m\u001b[1;31m:\u001b[0m expected ':'\n"
     ]
    }
   ],
   "source": [
    "if (a<10)\n",
    "    print(\"a is less than 10\")"
   ]
  },
  {
   "cell_type": "markdown",
   "id": "dceae78e",
   "metadata": {},
   "source": [
    "### Logical Error"
   ]
  },
  {
   "cell_type": "markdown",
   "id": "5574d118",
   "metadata": {},
   "source": [
    "    Logical Errors or Exception error - file not found, division not found, import error\n",
    "    Logical errors occur during run time , while excuting it"
   ]
  },
  {
   "cell_type": "code",
   "execution_count": 5,
   "id": "8f9697ae",
   "metadata": {},
   "outputs": [
    {
     "ename": "ZeroDivisionError",
     "evalue": "division by zero",
     "output_type": "error",
     "traceback": [
      "\u001b[1;31m---------------------------------------------------------------------------\u001b[0m",
      "\u001b[1;31mZeroDivisionError\u001b[0m                         Traceback (most recent call last)",
      "Cell \u001b[1;32mIn[5], line 1\u001b[0m\n\u001b[1;32m----> 1\u001b[0m \u001b[38;5;241;43m1\u001b[39;49m\u001b[38;5;241;43m/\u001b[39;49m\u001b[38;5;241;43m0\u001b[39;49m\n",
      "\u001b[1;31mZeroDivisionError\u001b[0m: division by zero"
     ]
    }
   ],
   "source": [
    "1/0   # logical error"
   ]
  },
  {
   "cell_type": "code",
   "execution_count": 6,
   "id": "f873fda7",
   "metadata": {},
   "outputs": [
    {
     "data": {
      "text/plain": [
       "<_io.TextIOWrapper name='test.txt' mode='r' encoding='cp1252'>"
      ]
     },
     "execution_count": 6,
     "metadata": {},
     "output_type": "execute_result"
    }
   ],
   "source": [
    "open(\"test.txt\")"
   ]
  },
  {
   "cell_type": "code",
   "execution_count": 7,
   "id": "e1fcbe61",
   "metadata": {},
   "outputs": [
    {
     "ename": "NameError",
     "evalue": "name 'c' is not defined",
     "output_type": "error",
     "traceback": [
      "\u001b[1;31m---------------------------------------------------------------------------\u001b[0m",
      "\u001b[1;31mNameError\u001b[0m                                 Traceback (most recent call last)",
      "Cell \u001b[1;32mIn[7], line 3\u001b[0m\n\u001b[0;32m      1\u001b[0m a \u001b[38;5;241m=\u001b[39m \u001b[38;5;241m10\u001b[39m\n\u001b[0;32m      2\u001b[0m b \u001b[38;5;241m=\u001b[39m \u001b[38;5;241m20\u001b[39m\n\u001b[1;32m----> 3\u001b[0m \u001b[38;5;28mprint\u001b[39m(\u001b[38;5;124m\"\u001b[39m\u001b[38;5;124mAddition\u001b[39m\u001b[38;5;124m\"\u001b[39m, a\u001b[38;5;241m+\u001b[39m\u001b[43mc\u001b[49m)\n",
      "\u001b[1;31mNameError\u001b[0m: name 'c' is not defined"
     ]
    }
   ],
   "source": [
    "a = 10\n",
    "b = 20\n",
    "print(\"Addition\", a+c)"
   ]
  },
  {
   "cell_type": "code",
   "execution_count": 8,
   "id": "3fdcc02e",
   "metadata": {
    "scrolled": true
   },
   "outputs": [
    {
     "name": "stdout",
     "output_type": "stream",
     "text": [
      "['ArithmeticError', 'AssertionError', 'AttributeError', 'BaseException', 'BlockingIOError', 'BrokenPipeError', 'BufferError', 'BytesWarning', 'ChildProcessError', 'ConnectionAbortedError', 'ConnectionError', 'ConnectionRefusedError', 'ConnectionResetError', 'DeprecationWarning', 'EOFError', 'Ellipsis', 'EncodingWarning', 'EnvironmentError', 'Exception', 'False', 'FileExistsError', 'FileNotFoundError', 'FloatingPointError', 'FutureWarning', 'GeneratorExit', 'IOError', 'ImportError', 'ImportWarning', 'IndentationError', 'IndexError', 'InterruptedError', 'IsADirectoryError', 'KeyError', 'KeyboardInterrupt', 'LookupError', 'MemoryError', 'ModuleNotFoundError', 'NameError', 'None', 'NotADirectoryError', 'NotImplemented', 'NotImplementedError', 'OSError', 'OverflowError', 'PendingDeprecationWarning', 'PermissionError', 'ProcessLookupError', 'RecursionError', 'ReferenceError', 'ResourceWarning', 'RuntimeError', 'RuntimeWarning', 'StopAsyncIteration', 'StopIteration', 'SyntaxError', 'SyntaxWarning', 'SystemError', 'SystemExit', 'TabError', 'TimeoutError', 'True', 'TypeError', 'UnboundLocalError', 'UnicodeDecodeError', 'UnicodeEncodeError', 'UnicodeError', 'UnicodeTranslateError', 'UnicodeWarning', 'UserWarning', 'ValueError', 'Warning', 'WindowsError', 'ZeroDivisionError', '__IPYTHON__', '__build_class__', '__debug__', '__doc__', '__import__', '__loader__', '__name__', '__package__', '__spec__', 'abs', 'aiter', 'all', 'anext', 'any', 'ascii', 'bin', 'bool', 'breakpoint', 'bytearray', 'bytes', 'callable', 'chr', 'classmethod', 'compile', 'complex', 'copyright', 'credits', 'delattr', 'dict', 'dir', 'display', 'divmod', 'enumerate', 'eval', 'exec', 'execfile', 'filter', 'float', 'format', 'frozenset', 'get_ipython', 'getattr', 'globals', 'hasattr', 'hash', 'help', 'hex', 'id', 'input', 'int', 'isinstance', 'issubclass', 'iter', 'len', 'license', 'list', 'locals', 'map', 'max', 'memoryview', 'min', 'next', 'object', 'oct', 'open', 'ord', 'pow', 'print', 'property', 'range', 'repr', 'reversed', 'round', 'runfile', 'set', 'setattr', 'slice', 'sorted', 'staticmethod', 'str', 'sum', 'super', 'tuple', 'type', 'vars', 'zip']\n"
     ]
    }
   ],
   "source": [
    "print(dir(locals()['__builtins__']))"
   ]
  },
  {
   "cell_type": "markdown",
   "id": "d362f895",
   "metadata": {},
   "source": [
    "    Assertion Error"
   ]
  },
  {
   "cell_type": "code",
   "execution_count": 9,
   "id": "35ca4fde",
   "metadata": {},
   "outputs": [
    {
     "ename": "AssertionError",
     "evalue": "Invalid Operation",
     "output_type": "error",
     "traceback": [
      "\u001b[1;31m---------------------------------------------------------------------------\u001b[0m",
      "\u001b[1;31mAssertionError\u001b[0m                            Traceback (most recent call last)",
      "Cell \u001b[1;32mIn[9], line 5\u001b[0m\n\u001b[0;32m      3\u001b[0m x \u001b[38;5;241m=\u001b[39m \u001b[38;5;241m1\u001b[39m\n\u001b[0;32m      4\u001b[0m y \u001b[38;5;241m=\u001b[39m \u001b[38;5;241m0\u001b[39m\n\u001b[1;32m----> 5\u001b[0m \u001b[38;5;28;01massert\u001b[39;00m y \u001b[38;5;241m!=\u001b[39m \u001b[38;5;241m0\u001b[39m,\u001b[38;5;124m\"\u001b[39m\u001b[38;5;124mInvalid Operation\u001b[39m\u001b[38;5;124m\"\u001b[39m  \u001b[38;5;66;03m# raising false\u001b[39;00m\n\u001b[0;32m      6\u001b[0m \u001b[38;5;28mprint\u001b[39m(x\u001b[38;5;241m/\u001b[39my)\n",
      "\u001b[1;31mAssertionError\u001b[0m: Invalid Operation"
     ]
    }
   ],
   "source": [
    "# Assertion Error: to check the condition if it is true , if it's not true then it will give assertion error\n",
    "\n",
    "x = 1\n",
    "y = 0\n",
    "assert y != 0,\"Invalid Operation\"  # raising false\n",
    "print(x/y)\n"
   ]
  },
  {
   "cell_type": "code",
   "execution_count": 10,
   "id": "37774a67",
   "metadata": {},
   "outputs": [
    {
     "name": "stdout",
     "output_type": "stream",
     "text": [
      "0.3333333333333333\n"
     ]
    }
   ],
   "source": [
    "x = 1\n",
    "y = 3\n",
    "assert y == 3,\"Invalid Operation\"  # raising false\n",
    "print(x/y)"
   ]
  },
  {
   "cell_type": "markdown",
   "id": "21997181",
   "metadata": {},
   "source": [
    "    Attribute Error"
   ]
  },
  {
   "cell_type": "code",
   "execution_count": 11,
   "id": "d22de06a",
   "metadata": {},
   "outputs": [],
   "source": [
    "y = 10"
   ]
  },
  {
   "cell_type": "code",
   "execution_count": 12,
   "id": "0a050e93",
   "metadata": {},
   "outputs": [
    {
     "ename": "AttributeError",
     "evalue": "'int' object has no attribute 'append'",
     "output_type": "error",
     "traceback": [
      "\u001b[1;31m---------------------------------------------------------------------------\u001b[0m",
      "\u001b[1;31mAttributeError\u001b[0m                            Traceback (most recent call last)",
      "Cell \u001b[1;32mIn[12], line 1\u001b[0m\n\u001b[1;32m----> 1\u001b[0m \u001b[43my\u001b[49m\u001b[38;5;241;43m.\u001b[39;49m\u001b[43mappend\u001b[49m(\u001b[38;5;241m6\u001b[39m)\n",
      "\u001b[1;31mAttributeError\u001b[0m: 'int' object has no attribute 'append'"
     ]
    }
   ],
   "source": [
    "y.append(6) # when we perform invalid operation"
   ]
  },
  {
   "cell_type": "markdown",
   "id": "7af1ee79",
   "metadata": {},
   "source": [
    "    Index Error"
   ]
  },
  {
   "cell_type": "code",
   "execution_count": 13,
   "id": "8ca8ecba",
   "metadata": {},
   "outputs": [],
   "source": [
    "my_list = [1,2,3,4,5,6,7]"
   ]
  },
  {
   "cell_type": "code",
   "execution_count": 14,
   "id": "968d245b",
   "metadata": {},
   "outputs": [
    {
     "ename": "IndexError",
     "evalue": "list index out of range",
     "output_type": "error",
     "traceback": [
      "\u001b[1;31m---------------------------------------------------------------------------\u001b[0m",
      "\u001b[1;31mIndexError\u001b[0m                                Traceback (most recent call last)",
      "Cell \u001b[1;32mIn[14], line 1\u001b[0m\n\u001b[1;32m----> 1\u001b[0m \u001b[43mmy_list\u001b[49m\u001b[43m[\u001b[49m\u001b[38;5;241;43m10\u001b[39;49m\u001b[43m]\u001b[49m\n",
      "\u001b[1;31mIndexError\u001b[0m: list index out of range"
     ]
    }
   ],
   "source": [
    "my_list[10]"
   ]
  },
  {
   "cell_type": "markdown",
   "id": "6e3c8878",
   "metadata": {},
   "source": [
    "    Key Errors"
   ]
  },
  {
   "cell_type": "code",
   "execution_count": 15,
   "id": "5e4f5aca",
   "metadata": {},
   "outputs": [],
   "source": [
    "my_dict = {\n",
    "    \"name\":\"bhumik\",\n",
    "    \"course\":\"python\"\n",
    "}"
   ]
  },
  {
   "cell_type": "code",
   "execution_count": 16,
   "id": "27e40b9d",
   "metadata": {},
   "outputs": [
    {
     "ename": "KeyError",
     "evalue": "'age'",
     "output_type": "error",
     "traceback": [
      "\u001b[1;31m---------------------------------------------------------------------------\u001b[0m",
      "\u001b[1;31mKeyError\u001b[0m                                  Traceback (most recent call last)",
      "Cell \u001b[1;32mIn[16], line 1\u001b[0m\n\u001b[1;32m----> 1\u001b[0m \u001b[43mmy_dict\u001b[49m\u001b[43m[\u001b[49m\u001b[38;5;124;43m\"\u001b[39;49m\u001b[38;5;124;43mage\u001b[39;49m\u001b[38;5;124;43m\"\u001b[39;49m\u001b[43m]\u001b[49m\n",
      "\u001b[1;31mKeyError\u001b[0m: 'age'"
     ]
    }
   ],
   "source": [
    "my_dict[\"age\"]"
   ]
  },
  {
   "cell_type": "markdown",
   "id": "4620587f",
   "metadata": {},
   "source": [
    "    Name Error"
   ]
  },
  {
   "cell_type": "code",
   "execution_count": 17,
   "id": "fba76410",
   "metadata": {},
   "outputs": [
    {
     "ename": "NameError",
     "evalue": "name 'm' is not defined",
     "output_type": "error",
     "traceback": [
      "\u001b[1;31m---------------------------------------------------------------------------\u001b[0m",
      "\u001b[1;31mNameError\u001b[0m                                 Traceback (most recent call last)",
      "Cell \u001b[1;32mIn[17], line 1\u001b[0m\n\u001b[1;32m----> 1\u001b[0m \u001b[38;5;28mprint\u001b[39m(\u001b[43mm\u001b[49m)\n",
      "\u001b[1;31mNameError\u001b[0m: name 'm' is not defined"
     ]
    }
   ],
   "source": [
    "print(m)"
   ]
  },
  {
   "cell_type": "markdown",
   "id": "d2becb1a",
   "metadata": {},
   "source": [
    "    Value Error"
   ]
  },
  {
   "cell_type": "code",
   "execution_count": 18,
   "id": "9b589556",
   "metadata": {},
   "outputs": [],
   "source": [
    "import math"
   ]
  },
  {
   "cell_type": "code",
   "execution_count": 19,
   "id": "a6061e86",
   "metadata": {
    "scrolled": true
   },
   "outputs": [
    {
     "ename": "ValueError",
     "evalue": "math domain error",
     "output_type": "error",
     "traceback": [
      "\u001b[1;31m---------------------------------------------------------------------------\u001b[0m",
      "\u001b[1;31mValueError\u001b[0m                                Traceback (most recent call last)",
      "Cell \u001b[1;32mIn[19], line 1\u001b[0m\n\u001b[1;32m----> 1\u001b[0m \u001b[43mmath\u001b[49m\u001b[38;5;241;43m.\u001b[39;49m\u001b[43msqrt\u001b[49m\u001b[43m(\u001b[49m\u001b[38;5;241;43m-\u001b[39;49m\u001b[38;5;241;43m200\u001b[39;49m\u001b[43m)\u001b[49m\n",
      "\u001b[1;31mValueError\u001b[0m: math domain error"
     ]
    }
   ],
   "source": [
    "math.sqrt(-200)"
   ]
  },
  {
   "cell_type": "code",
   "execution_count": 20,
   "id": "990be9ef",
   "metadata": {},
   "outputs": [],
   "source": [
    " # Run time error when it does not belong to any category"
   ]
  },
  {
   "cell_type": "markdown",
   "id": "60fe3f09",
   "metadata": {},
   "source": [
    "# -----  Handling Error  -----"
   ]
  },
  {
   "cell_type": "code",
   "execution_count": 21,
   "id": "2d921a77",
   "metadata": {},
   "outputs": [
    {
     "ename": "ZeroDivisionError",
     "evalue": "division by zero",
     "output_type": "error",
     "traceback": [
      "\u001b[1;31m---------------------------------------------------------------------------\u001b[0m",
      "\u001b[1;31mZeroDivisionError\u001b[0m                         Traceback (most recent call last)",
      "Cell \u001b[1;32mIn[21], line 3\u001b[0m\n\u001b[0;32m      1\u001b[0m a \u001b[38;5;241m=\u001b[39m \u001b[38;5;241m5\u001b[39m\n\u001b[0;32m      2\u001b[0m b \u001b[38;5;241m=\u001b[39m \u001b[38;5;241m0\u001b[39m\n\u001b[1;32m----> 3\u001b[0m \u001b[43ma\u001b[49m\u001b[38;5;241;43m/\u001b[39;49m\u001b[43mb\u001b[49m\n",
      "\u001b[1;31mZeroDivisionError\u001b[0m: division by zero"
     ]
    }
   ],
   "source": [
    "a = 5\n",
    "b = 0\n",
    "a/b     # This error can be handle with try statement "
   ]
  },
  {
   "cell_type": "markdown",
   "id": "eded314f",
   "metadata": {},
   "source": [
    "    # to handle exception we use:\n",
    "    try - except - else - finally"
   ]
  },
  {
   "cell_type": "code",
   "execution_count": 22,
   "id": "bfa2f83f",
   "metadata": {},
   "outputs": [
    {
     "name": "stdout",
     "output_type": "stream",
     "text": [
      "Can't divide with zero provide different number\n"
     ]
    }
   ],
   "source": [
    "try:\n",
    "    a = 10\n",
    "    b = 0\n",
    "    c = a/b\n",
    "    print(c)\n",
    "except:\n",
    "    print(\"Can't divide with zero provide different number\")"
   ]
  },
  {
   "cell_type": "markdown",
   "id": "68040dc1",
   "metadata": {},
   "source": [
    "```````````\n",
    "    try:\n",
    "        crutial code\n",
    "    except:\n",
    "        in case there's error it will handle in except block\n",
    "```````````"
   ]
  },
  {
   "cell_type": "code",
   "execution_count": 23,
   "id": "af7839ff",
   "metadata": {},
   "outputs": [
    {
     "name": "stdout",
     "output_type": "stream",
     "text": [
      "There was a mistake\n",
      "This is outer block\n"
     ]
    }
   ],
   "source": [
    "try:\n",
    "    f = open(\"test.txt\",\"r\")\n",
    "    f.write(\"ineuron\")\n",
    "except:\n",
    "    print(\"There was a mistake\")\n",
    "    \n",
    "print(\"This is outer block\")"
   ]
  },
  {
   "cell_type": "code",
   "execution_count": 37,
   "id": "d520aee1",
   "metadata": {},
   "outputs": [
    {
     "ename": "FileNotFoundError",
     "evalue": "[Errno 2] No such file or directory: 'test.txt'",
     "output_type": "error",
     "traceback": [
      "\u001b[1;31m---------------------------------------------------------------------------\u001b[0m",
      "\u001b[1;31mFileNotFoundError\u001b[0m                         Traceback (most recent call last)",
      "Cell \u001b[1;32mIn[37], line 1\u001b[0m\n\u001b[1;32m----> 1\u001b[0m f \u001b[38;5;241m=\u001b[39m \u001b[38;5;28;43mopen\u001b[39;49m\u001b[43m(\u001b[49m\u001b[38;5;124;43m\"\u001b[39;49m\u001b[38;5;124;43mtest.txt\u001b[39;49m\u001b[38;5;124;43m\"\u001b[39;49m\u001b[43m,\u001b[49m\u001b[38;5;124;43m\"\u001b[39;49m\u001b[38;5;124;43mr\u001b[39;49m\u001b[38;5;124;43m\"\u001b[39;49m\u001b[43m)\u001b[49m\n\u001b[0;32m      2\u001b[0m f\u001b[38;5;241m.\u001b[39mwrite(\u001b[38;5;124m\"\u001b[39m\u001b[38;5;124mineuron\u001b[39m\u001b[38;5;124m\"\u001b[39m)\n",
      "File \u001b[1;32m~\\anaconda3\\lib\\site-packages\\IPython\\core\\interactiveshell.py:282\u001b[0m, in \u001b[0;36m_modified_open\u001b[1;34m(file, *args, **kwargs)\u001b[0m\n\u001b[0;32m    275\u001b[0m \u001b[38;5;28;01mif\u001b[39;00m file \u001b[38;5;129;01min\u001b[39;00m {\u001b[38;5;241m0\u001b[39m, \u001b[38;5;241m1\u001b[39m, \u001b[38;5;241m2\u001b[39m}:\n\u001b[0;32m    276\u001b[0m     \u001b[38;5;28;01mraise\u001b[39;00m \u001b[38;5;167;01mValueError\u001b[39;00m(\n\u001b[0;32m    277\u001b[0m         \u001b[38;5;124mf\u001b[39m\u001b[38;5;124m\"\u001b[39m\u001b[38;5;124mIPython won\u001b[39m\u001b[38;5;124m'\u001b[39m\u001b[38;5;124mt let you open fd=\u001b[39m\u001b[38;5;132;01m{\u001b[39;00mfile\u001b[38;5;132;01m}\u001b[39;00m\u001b[38;5;124m by default \u001b[39m\u001b[38;5;124m\"\u001b[39m\n\u001b[0;32m    278\u001b[0m         \u001b[38;5;124m\"\u001b[39m\u001b[38;5;124mas it is likely to crash IPython. If you know what you are doing, \u001b[39m\u001b[38;5;124m\"\u001b[39m\n\u001b[0;32m    279\u001b[0m         \u001b[38;5;124m\"\u001b[39m\u001b[38;5;124myou can use builtins\u001b[39m\u001b[38;5;124m'\u001b[39m\u001b[38;5;124m open.\u001b[39m\u001b[38;5;124m\"\u001b[39m\n\u001b[0;32m    280\u001b[0m     )\n\u001b[1;32m--> 282\u001b[0m \u001b[38;5;28;01mreturn\u001b[39;00m io_open(file, \u001b[38;5;241m*\u001b[39margs, \u001b[38;5;241m*\u001b[39m\u001b[38;5;241m*\u001b[39mkwargs)\n",
      "\u001b[1;31mFileNotFoundError\u001b[0m: [Errno 2] No such file or directory: 'test.txt'"
     ]
    }
   ],
   "source": [
    "f = open(\"test.txt\",\"r\")\n",
    "f.write(\"ineuron\")"
   ]
  },
  {
   "cell_type": "code",
   "execution_count": 24,
   "id": "ad01b4a6",
   "metadata": {},
   "outputs": [
    {
     "name": "stdout",
     "output_type": "stream",
     "text": [
      "[4, 5, 6, 7, 8, 9]\n",
      "[4, 5, 6, 7, 8, 9]\n",
      "[4, 5, 6, 7, 8, 9]\n",
      "[4, 5, 6, 7, 8, 9]\n",
      "[4, 5, 6, 7, 8, 9]\n",
      "[4, 5, 6, 7, 8, 9]\n"
     ]
    }
   ],
   "source": [
    "l = [4,5,6,7,8,9]\n",
    "\n",
    "try:\n",
    "    for i in range(len(l)):\n",
    "        print(l)\n",
    "except:\n",
    "    print(\"This is not working\")"
   ]
  },
  {
   "cell_type": "code",
   "execution_count": 25,
   "id": "a1849ef1",
   "metadata": {},
   "outputs": [
    {
     "name": "stdout",
     "output_type": "stream",
     "text": [
      "4\n",
      "5\n",
      "6\n",
      "7\n",
      "8\n",
      "9\n",
      "This is not working\n"
     ]
    }
   ],
   "source": [
    "l = [4,5,6,7,8,9]\n",
    "\n",
    "try:\n",
    "    for i in range(len(l)+1):\n",
    "        print(l[i])\n",
    "except:\n",
    "    print(\"This is not working\")"
   ]
  },
  {
   "cell_type": "code",
   "execution_count": 26,
   "id": "ecaec5ea",
   "metadata": {},
   "outputs": [
    {
     "name": "stdout",
     "output_type": "stream",
     "text": [
      "4\n",
      "5\n",
      "6\n",
      "7\n",
      "8\n",
      "9\n"
     ]
    },
    {
     "ename": "IndexError",
     "evalue": "list index out of range",
     "output_type": "error",
     "traceback": [
      "\u001b[1;31m---------------------------------------------------------------------------\u001b[0m",
      "\u001b[1;31mIndexError\u001b[0m                                Traceback (most recent call last)",
      "Cell \u001b[1;32mIn[26], line 3\u001b[0m\n\u001b[0;32m      1\u001b[0m l \u001b[38;5;241m=\u001b[39m [\u001b[38;5;241m4\u001b[39m,\u001b[38;5;241m5\u001b[39m,\u001b[38;5;241m6\u001b[39m,\u001b[38;5;241m7\u001b[39m,\u001b[38;5;241m8\u001b[39m,\u001b[38;5;241m9\u001b[39m]\n\u001b[0;32m      2\u001b[0m \u001b[38;5;28;01mfor\u001b[39;00m i \u001b[38;5;129;01min\u001b[39;00m \u001b[38;5;28mrange\u001b[39m(\u001b[38;5;28mlen\u001b[39m(l)\u001b[38;5;241m+\u001b[39m\u001b[38;5;241m1\u001b[39m):\n\u001b[1;32m----> 3\u001b[0m         \u001b[38;5;28mprint\u001b[39m(\u001b[43ml\u001b[49m\u001b[43m[\u001b[49m\u001b[43mi\u001b[49m\u001b[43m]\u001b[49m)\n",
      "\u001b[1;31mIndexError\u001b[0m: list index out of range"
     ]
    }
   ],
   "source": [
    "l = [4,5,6,7,8,9]\n",
    "for i in range(len(l)+1):\n",
    "        print(l[i])"
   ]
  },
  {
   "cell_type": "code",
   "execution_count": 27,
   "id": "270c1d6c",
   "metadata": {},
   "outputs": [
    {
     "name": "stdout",
     "output_type": "stream",
     "text": [
      "4\n",
      "5\n",
      "6\n",
      "7\n",
      "8\n",
      "9\n",
      "list index out of range\n",
      "This is not working\n"
     ]
    }
   ],
   "source": [
    "l = [4,5,6,7,8,9]\n",
    "\n",
    "try:\n",
    "    for i in range(len(l)+1):\n",
    "        print(l[i])\n",
    "except Exception as e:\n",
    "    print(e)\n",
    "    print(\"This is not working\")"
   ]
  },
  {
   "cell_type": "markdown",
   "id": "bfda65e4",
   "metadata": {},
   "source": [
    "     There is one class Exception , this is basically a parent class where it will have all the exceptions or as a superclass which have all kind of exception in it"
   ]
  },
  {
   "cell_type": "code",
   "execution_count": 29,
   "id": "8e96581e",
   "metadata": {},
   "outputs": [
    {
     "name": "stdout",
     "output_type": "stream",
     "text": [
      "4\n",
      "y\n",
      "invalid literal for int() with base 10: 'y'\n",
      "ineuron\n"
     ]
    }
   ],
   "source": [
    "try:\n",
    "    a = int(input())\n",
    "    b = int(input())\n",
    "except Exception as e:\n",
    "    print(e)\n",
    "\n",
    "print(\"ineuron\")"
   ]
  },
  {
   "cell_type": "code",
   "execution_count": 30,
   "id": "24fa87fe",
   "metadata": {},
   "outputs": [
    {
     "name": "stdout",
     "output_type": "stream",
     "text": [
      "b\n"
     ]
    },
    {
     "ename": "ValueError",
     "evalue": "invalid literal for int() with base 10: 'b'",
     "output_type": "error",
     "traceback": [
      "\u001b[1;31m---------------------------------------------------------------------------\u001b[0m",
      "\u001b[1;31mValueError\u001b[0m                                Traceback (most recent call last)",
      "Cell \u001b[1;32mIn[30], line 1\u001b[0m\n\u001b[1;32m----> 1\u001b[0m a \u001b[38;5;241m=\u001b[39m \u001b[38;5;28;43mint\u001b[39;49m\u001b[43m(\u001b[49m\u001b[38;5;28;43minput\u001b[39;49m\u001b[43m(\u001b[49m\u001b[43m)\u001b[49m\u001b[43m)\u001b[49m\n",
      "\u001b[1;31mValueError\u001b[0m: invalid literal for int() with base 10: 'b'"
     ]
    }
   ],
   "source": [
    "a = int(input())"
   ]
  },
  {
   "cell_type": "code",
   "execution_count": 31,
   "id": "cc0a5d4d",
   "metadata": {},
   "outputs": [
    {
     "name": "stdout",
     "output_type": "stream",
     "text": [
      "Enter value of a: 5\n",
      "Enter value of b: 0\n",
      "Can't divide by zero\n",
      "ineuron\n"
     ]
    }
   ],
   "source": [
    "try:\n",
    "    a = int(input(\"Enter value of a: \"))\n",
    "    b = int(input(\"Enter value of b: \"))\n",
    "    c = a/b\n",
    "    print(\"Answer\",c)\n",
    "except ValueError:\n",
    "    print(\"Entered value is wrong\")\n",
    "except ZeroDivisionError:\n",
    "    print(\"Can't divide by zero\")\n",
    "\n",
    "print(\"ineuron\")"
   ]
  },
  {
   "cell_type": "code",
   "execution_count": 32,
   "id": "35a8cb3b",
   "metadata": {},
   "outputs": [
    {
     "name": "stdout",
     "output_type": "stream",
     "text": [
      "The entry is  a\n",
      "OOps <class 'ValueError'> occured\n",
      "Next Entry\n",
      "The entry is  0\n",
      "OOps <class 'ZeroDivisionError'> occured\n",
      "Next Entry\n",
      "The entry is  2\n",
      "The reciprocal of 2 is 0.5\n"
     ]
    }
   ],
   "source": [
    "import sys\n",
    "\n",
    "randomList = ['a',0,2]\n",
    "\n",
    "for entry in randomList:\n",
    "    try:\n",
    "        print(\"The entry is \",entry)\n",
    "        r = 1/int(entry)\n",
    "#         break\n",
    "    except:\n",
    "        print(\"OOps\",sys.exc_info()[0],\"occured\")\n",
    "        print(\"Next Entry\")\n",
    "\n",
    "print(\"The reciprocal of\",entry,\"is\",r)"
   ]
  },
  {
   "cell_type": "markdown",
   "id": "0e708eb2",
   "metadata": {},
   "source": [
    "    try:\n",
    "        # block of code\n",
    "    except Exception as e:\n",
    "        # block of code\n",
    "    else:\n",
    "        # this code executes when exception not occured"
   ]
  },
  {
   "cell_type": "code",
   "execution_count": 33,
   "id": "e4513da6",
   "metadata": {},
   "outputs": [
    {
     "name": "stdout",
     "output_type": "stream",
     "text": [
      "Enter a no.: 8\n",
      "Reciprocal of even no.is.: 0.125\n"
     ]
    }
   ],
   "source": [
    "try:\n",
    "    num = int(input(\"Enter a no.: \"))\n",
    "    assert num%2 == 0\n",
    "except:\n",
    "    print(\"Not a even no\")\n",
    "else:\n",
    "    reciprocal = 1/num\n",
    "    print(\"Reciprocal of even no.is.:\" ,reciprocal)"
   ]
  },
  {
   "cell_type": "code",
   "execution_count": 35,
   "id": "31f2c3e5",
   "metadata": {},
   "outputs": [
    {
     "name": "stdout",
     "output_type": "stream",
     "text": [
      "Enter value of a: 9\n",
      "Enter value of b: 7\n",
      "Answer 1.2857142857142858\n",
      "Else block\n"
     ]
    }
   ],
   "source": [
    "try:\n",
    "    a = int(input(\"Enter value of a: \"))\n",
    "    b = int(input(\"Enter value of b: \"))\n",
    "    c = a/b\n",
    "    print(\"Answer\",c)\n",
    "except ZeroDivisionError:\n",
    "    print(\"Can't divide by zero\")\n",
    "else:\n",
    "    print(\"Else block\")"
   ]
  },
  {
   "cell_type": "markdown",
   "id": "d1bafabf",
   "metadata": {},
   "source": [
    "    try:\n",
    "        # block of code\n",
    "    except Exception as e:\n",
    "        # block of code\n",
    "    else:\n",
    "        # this code executes when exception not occured\n",
    "    finally:\n",
    "        # it will execute always"
   ]
  },
  {
   "cell_type": "code",
   "execution_count": 36,
   "id": "383dc8b8",
   "metadata": {},
   "outputs": [
    {
     "name": "stdout",
     "output_type": "stream",
     "text": [
      "Enter value of a: 7\n",
      "Enter value of b: 9\n",
      "Answer 0.7777777777777778\n",
      "From finally block block\n"
     ]
    }
   ],
   "source": [
    "try:\n",
    "    a = int(input(\"Enter value of a: \"))\n",
    "    b = int(input(\"Enter value of b: \"))\n",
    "    c = a/b\n",
    "    print(\"Answer\",c)\n",
    "except ZeroDivisionError:\n",
    "    print(\"Can't divide by zero\")  # handles one error at atime\n",
    "finally:\n",
    "    print(\"From finally block block\")"
   ]
  },
  {
   "cell_type": "markdown",
   "id": "683b5c71",
   "metadata": {},
   "source": [
    "    try: (test the code, if it's error free it is executed)\n",
    "    except: (except display the error message)\n",
    "    else: (executed if there is no error in the code in \"try\" block) [optional]\n",
    "    finally: (executes independently of try-except block) [optional]"
   ]
  },
  {
   "cell_type": "code",
   "execution_count": 37,
   "id": "d0756232",
   "metadata": {},
   "outputs": [],
   "source": [
    "def divide(x,y):\n",
    "    print(x/y)"
   ]
  },
  {
   "cell_type": "code",
   "execution_count": 38,
   "id": "0daca1b3",
   "metadata": {},
   "outputs": [
    {
     "name": "stdout",
     "output_type": "stream",
     "text": [
      "5.0\n"
     ]
    },
    {
     "ename": "ZeroDivisionError",
     "evalue": "division by zero",
     "output_type": "error",
     "traceback": [
      "\u001b[1;31m---------------------------------------------------------------------------\u001b[0m",
      "\u001b[1;31mZeroDivisionError\u001b[0m                         Traceback (most recent call last)",
      "Cell \u001b[1;32mIn[38], line 2\u001b[0m\n\u001b[0;32m      1\u001b[0m divide(\u001b[38;5;241m10\u001b[39m,\u001b[38;5;241m2\u001b[39m)\n\u001b[1;32m----> 2\u001b[0m \u001b[43mdivide\u001b[49m\u001b[43m(\u001b[49m\u001b[38;5;241;43m10\u001b[39;49m\u001b[43m,\u001b[49m\u001b[38;5;241;43m0\u001b[39;49m\u001b[43m)\u001b[49m\n\u001b[0;32m      3\u001b[0m divide(\u001b[38;5;241m10\u001b[39m,\u001b[38;5;241m4\u001b[39m)\n",
      "Cell \u001b[1;32mIn[37], line 2\u001b[0m, in \u001b[0;36mdivide\u001b[1;34m(x, y)\u001b[0m\n\u001b[0;32m      1\u001b[0m \u001b[38;5;28;01mdef\u001b[39;00m \u001b[38;5;21mdivide\u001b[39m(x,y):\n\u001b[1;32m----> 2\u001b[0m     \u001b[38;5;28mprint\u001b[39m(\u001b[43mx\u001b[49m\u001b[38;5;241;43m/\u001b[39;49m\u001b[43my\u001b[49m)\n",
      "\u001b[1;31mZeroDivisionError\u001b[0m: division by zero"
     ]
    }
   ],
   "source": [
    "divide(10,2)\n",
    "divide(10,0)\n",
    "divide(10,4)"
   ]
  },
  {
   "cell_type": "code",
   "execution_count": 39,
   "id": "4ba67be4",
   "metadata": {},
   "outputs": [],
   "source": [
    "def divide(x,y):\n",
    "    try:\n",
    "        print(x/y)\n",
    "    except ZeroDivisionError as e:\n",
    "        print(e)\n",
    "        print(\"Can't divide by zero\")    "
   ]
  },
  {
   "cell_type": "code",
   "execution_count": 40,
   "id": "73762b44",
   "metadata": {},
   "outputs": [
    {
     "name": "stdout",
     "output_type": "stream",
     "text": [
      "5.0\n",
      "division by zero\n",
      "Can't divide by zero\n",
      "2.5\n"
     ]
    }
   ],
   "source": [
    "divide(10,2)\n",
    "divide(10,0)\n",
    "divide(10,4)"
   ]
  },
  {
   "cell_type": "code",
   "execution_count": 41,
   "id": "ae971c78",
   "metadata": {},
   "outputs": [],
   "source": [
    "def divide(x,y):\n",
    "    try:\n",
    "        print(x/y)\n",
    "    except ZeroDivisionError as e:\n",
    "        print(e)\n",
    "        print(\"Can't divide by zero\")\n",
    "    else:\n",
    "        print(\"From else block\")\n",
    "    finally:\n",
    "        print(\"From Finally\")\n",
    "        print(\"-------------------\")\n"
   ]
  },
  {
   "cell_type": "code",
   "execution_count": 42,
   "id": "8203690a",
   "metadata": {},
   "outputs": [
    {
     "name": "stdout",
     "output_type": "stream",
     "text": [
      "5.0\n",
      "From else block\n",
      "From Finally\n",
      "-------------------\n",
      "division by zero\n",
      "Can't divide by zero\n",
      "From Finally\n",
      "-------------------\n",
      "2.5\n",
      "From else block\n",
      "From Finally\n",
      "-------------------\n"
     ]
    }
   ],
   "source": [
    "divide(10,2)\n",
    "divide(10,0)\n",
    "divide(10,4)"
   ]
  },
  {
   "cell_type": "code",
   "execution_count": 43,
   "id": "deebb89d",
   "metadata": {},
   "outputs": [
    {
     "name": "stdout",
     "output_type": "stream",
     "text": [
      "Outer try block\n",
      "nested try block\n",
      "Outer except block\n",
      "division by zero\n"
     ]
    }
   ],
   "source": [
    "x = 10\n",
    "y = 0\n",
    "\n",
    "try:\n",
    "    print(\"Outer try block\")\n",
    "    try:\n",
    "        print(\"nested try block\")\n",
    "        print(x/y)\n",
    "    except TypeError as e:\n",
    "        print(\"nested except block\")\n",
    "        print(te)\n",
    "except ZeroDivisionError as ze:\n",
    "    print(\"Outer except block\")\n",
    "    print(ze)  "
   ]
  },
  {
   "cell_type": "code",
   "execution_count": 46,
   "id": "38e0d785",
   "metadata": {},
   "outputs": [],
   "source": [
    "def func1():\n",
    "    flag = True\n",
    "    while flag:\n",
    "        try:\n",
    "            a = int(input(\"Enter the integers:\"))\n",
    "            if type(a) == int:\n",
    "                return \"yes, you have entered an integer:\"\n",
    "            flag = False\n",
    "        except Exception as e:\n",
    "            print(\"You did not enter integer\",e)"
   ]
  },
  {
   "cell_type": "code",
   "execution_count": 47,
   "id": "08e01dae",
   "metadata": {},
   "outputs": [
    {
     "name": "stdout",
     "output_type": "stream",
     "text": [
      "Enter the integers:t\n",
      "You did not enter integer invalid literal for int() with base 10: 't'\n",
      "Enter the integers:b\n",
      "You did not enter integer invalid literal for int() with base 10: 'b'\n",
      "Enter the integers:s\n",
      "You did not enter integer invalid literal for int() with base 10: 's'\n",
      "Enter the integers:5\n"
     ]
    },
    {
     "data": {
      "text/plain": [
       "'yes, you have entered an integer:'"
      ]
     },
     "execution_count": 47,
     "metadata": {},
     "output_type": "execute_result"
    }
   ],
   "source": [
    "func1()"
   ]
  },
  {
   "cell_type": "code",
   "execution_count": 48,
   "id": "b2686e8e",
   "metadata": {},
   "outputs": [
    {
     "name": "stdout",
     "output_type": "stream",
     "text": [
      "There is issue with my code\n",
      "(4, 5, 6, 7, 8, 9)\n",
      "Hii\n",
      "[4, 5, 6, 7, 8, 9]\n"
     ]
    }
   ],
   "source": [
    "try:\n",
    "    l = [7,8,9,3]\n",
    "    l[10]    # l[1]\n",
    "except:\n",
    "    print(\"There is issue with my code\")\n",
    "    t = (4,5,6,7,8,9)\n",
    "    print(t)\n",
    "    try:\n",
    "        print(\"Hii\")\n",
    "#         t[0] = \"bhumik\"\n",
    "\n",
    "        try:\n",
    "            k = list(t)\n",
    "            print(k)\n",
    "        except:\n",
    "            pass\n",
    "    except:\n",
    "        pass\n",
    "else:\n",
    "    print(\"There is no issue with code\")"
   ]
  },
  {
   "cell_type": "code",
   "execution_count": null,
   "id": "72d274ff",
   "metadata": {},
   "outputs": [],
   "source": []
  }
 ],
 "metadata": {
  "kernelspec": {
   "display_name": "Python 3 (ipykernel)",
   "language": "python",
   "name": "python3"
  },
  "language_info": {
   "codemirror_mode": {
    "name": "ipython",
    "version": 3
   },
   "file_extension": ".py",
   "mimetype": "text/x-python",
   "name": "python",
   "nbconvert_exporter": "python",
   "pygments_lexer": "ipython3",
   "version": "3.10.9"
  }
 },
 "nbformat": 4,
 "nbformat_minor": 5
}

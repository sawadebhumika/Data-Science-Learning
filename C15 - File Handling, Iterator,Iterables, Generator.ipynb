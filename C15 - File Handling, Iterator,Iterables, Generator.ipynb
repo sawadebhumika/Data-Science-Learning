{
 "cells": [
  {
   "cell_type": "markdown",
   "id": "58073abd",
   "metadata": {},
   "source": [
    "### File Handling"
   ]
  },
  {
   "cell_type": "code",
   "execution_count": 83,
   "id": "12328496",
   "metadata": {
    "scrolled": true
   },
   "outputs": [
    {
     "name": "stdout",
     "output_type": "stream",
     "text": [
      " Volume in drive E is New Volume\n",
      " Volume Serial Number is 0490-BF33\n",
      "\n",
      " Directory of E:\\Job\\PenDrive\\INeuron\n",
      "\n",
      "\n",
      " Directory of E:\\Job\\PenDrive\\INeuron\n",
      "\n",
      "\n",
      " Directory of E:\\Job\\PenDrive\\INeuron\n",
      "\n",
      "\n",
      " Directory of E:\\Job\\PenDrive\\INeuron\n",
      "\n",
      "\n",
      " Directory of E:\\Job\\PenDrive\\INeuron\n",
      "\n",
      "\n",
      " Directory of E:\\Job\\PenDrive\\INeuron\n",
      "\n",
      "\n",
      " Directory of E:\\Job\\PenDrive\\INeuron\n",
      "\n",
      "\n",
      " Directory of E:\\Job\\PenDrive\\INeuron\n",
      "\n"
     ]
    },
    {
     "name": "stderr",
     "output_type": "stream",
     "text": [
      "File Not Found\n"
     ]
    }
   ],
   "source": [
    "%ls  # list all the files in the folder"
   ]
  },
  {
   "cell_type": "code",
   "execution_count": 84,
   "id": "fe4bd420",
   "metadata": {},
   "outputs": [
    {
     "data": {
      "text/plain": [
       "'E:\\\\Job\\\\PenDrive\\\\INeuron'"
      ]
     },
     "execution_count": 84,
     "metadata": {},
     "output_type": "execute_result"
    }
   ],
   "source": [
    "pwd()  # shows present working directory"
   ]
  },
  {
   "cell_type": "code",
   "execution_count": 85,
   "id": "55f2e593",
   "metadata": {},
   "outputs": [],
   "source": [
    "# create file test.txt\n",
    "# how to open a file\n",
    "f = open(\"test.txt\")"
   ]
  },
  {
   "cell_type": "code",
   "execution_count": 86,
   "id": "c82e50a7",
   "metadata": {},
   "outputs": [
    {
     "data": {
      "text/plain": [
       "_io.TextIOWrapper"
      ]
     },
     "execution_count": 86,
     "metadata": {},
     "output_type": "execute_result"
    }
   ],
   "source": [
    "type(f)"
   ]
  },
  {
   "cell_type": "code",
   "execution_count": 87,
   "id": "a0b1eabc",
   "metadata": {},
   "outputs": [],
   "source": [
    "# close file\n",
    "f.close()"
   ]
  },
  {
   "cell_type": "code",
   "execution_count": 88,
   "id": "fb3b03ab",
   "metadata": {},
   "outputs": [],
   "source": [
    "# f = open(r\"C:/users/bhumik/downloads/test.txt\",\"r\") #opening in read mode\n",
    "#         (raw) - treat '/' as blackslash instead of special character"
   ]
  },
  {
   "cell_type": "code",
   "execution_count": 89,
   "id": "90d374b4",
   "metadata": {},
   "outputs": [
    {
     "data": {
      "text/plain": [
       "'i write code\\nfirst line\\nsecond line\\nthird\\nineuron\\n'"
      ]
     },
     "execution_count": 89,
     "metadata": {},
     "output_type": "execute_result"
    }
   ],
   "source": [
    "# how to read a file\n",
    "f = open(\"test.txt\")\n",
    "f.read()"
   ]
  },
  {
   "cell_type": "code",
   "execution_count": 90,
   "id": "3acac95b",
   "metadata": {
    "scrolled": true
   },
   "outputs": [
    {
     "data": {
      "text/plain": [
       "''"
      ]
     },
     "execution_count": 90,
     "metadata": {},
     "output_type": "execute_result"
    }
   ],
   "source": [
    "f.read()  # runned second time, the cursor is at last"
   ]
  },
  {
   "cell_type": "code",
   "execution_count": 91,
   "id": "e35c19ae",
   "metadata": {},
   "outputs": [
    {
     "data": {
      "text/plain": [
       "0"
      ]
     },
     "execution_count": 91,
     "metadata": {},
     "output_type": "execute_result"
    }
   ],
   "source": [
    "f.seek(0)  # pass the parameter from where you have to start reading\n",
    "# it will bring back the cursor to initial position"
   ]
  },
  {
   "cell_type": "code",
   "execution_count": 92,
   "id": "3b3072d8",
   "metadata": {},
   "outputs": [
    {
     "data": {
      "text/plain": [
       "'i wr'"
      ]
     },
     "execution_count": 92,
     "metadata": {},
     "output_type": "execute_result"
    }
   ],
   "source": [
    "f = open(\"test.txt\")\n",
    "f.read(4)  # this will read 4 data"
   ]
  },
  {
   "cell_type": "code",
   "execution_count": 93,
   "id": "8f35934b",
   "metadata": {},
   "outputs": [
    {
     "data": {
      "text/plain": [
       "4"
      ]
     },
     "execution_count": 93,
     "metadata": {},
     "output_type": "execute_result"
    }
   ],
   "source": [
    "f.tell()\n",
    "# get the current file position"
   ]
  },
  {
   "cell_type": "code",
   "execution_count": 94,
   "id": "0be7ed11",
   "metadata": {},
   "outputs": [
    {
     "data": {
      "text/plain": [
       "50"
      ]
     },
     "execution_count": 94,
     "metadata": {},
     "output_type": "execute_result"
    }
   ],
   "source": [
    "a = \"i write code\\nfirst line\\nsecond line\\nthird\\nineuron\\n\"\n",
    "len(a)"
   ]
  },
  {
   "cell_type": "code",
   "execution_count": 95,
   "id": "3544f428",
   "metadata": {},
   "outputs": [
    {
     "data": {
      "text/plain": [
       "['i write code\\n', 'first line\\n', 'second line\\n', 'third\\n', 'ineuron\\n']"
      ]
     },
     "execution_count": 95,
     "metadata": {},
     "output_type": "execute_result"
    }
   ],
   "source": [
    "f = open(\"test.txt\")\n",
    "f.readlines()"
   ]
  },
  {
   "cell_type": "code",
   "execution_count": 96,
   "id": "4275e69b",
   "metadata": {},
   "outputs": [],
   "source": [
    "try:\n",
    "    f = open(\"test.txt\")\n",
    "finally:\n",
    "    f.close()\n",
    "    \n",
    "# manually opening and closing file"
   ]
  },
  {
   "cell_type": "code",
   "execution_count": 97,
   "id": "cceb5f17",
   "metadata": {},
   "outputs": [],
   "source": [
    "with open(\"test.txt\") as f: \n",
    "    # file operation\n",
    "    pass\n",
    "\n",
    "#if we open and close the file with 'with' keyword it will open and close the file automatically after performing the operation\n",
    "    "
   ]
  },
  {
   "cell_type": "code",
   "execution_count": 98,
   "id": "4484a0b6",
   "metadata": {},
   "outputs": [
    {
     "name": "stdout",
     "output_type": "stream",
     "text": [
      "Done!!\n"
     ]
    }
   ],
   "source": [
    "# write a file\n",
    "data = \"ineuron\"\n",
    "f = open(\"test1.txt\",\"w\")\n",
    "f.write(data)\n",
    "print(\"Done!!\")\n",
    "f.close()"
   ]
  },
  {
   "cell_type": "markdown",
   "id": "9175355c",
   "metadata": {},
   "source": [
    "    by default the files open in a read mode, whenever you open a file in a read mode that file should be present in the folder, when we open in the write mode, eventhough the file is not present it will create a file write a data (overwrite) to it and close automatically"
   ]
  },
  {
   "cell_type": "code",
   "execution_count": 99,
   "id": "99802307",
   "metadata": {},
   "outputs": [],
   "source": [
    "with open(\"test2.txt\",\"w\") as f:\n",
    "    f.write('first line\\n')\n",
    "    f.write('second line')\n",
    "    "
   ]
  },
  {
   "cell_type": "code",
   "execution_count": null,
   "id": "32fac646",
   "metadata": {},
   "outputs": [],
   "source": [
    "f.  #tab"
   ]
  },
  {
   "cell_type": "code",
   "execution_count": 101,
   "id": "ba90fed7",
   "metadata": {},
   "outputs": [
    {
     "name": "stdout",
     "output_type": "stream",
     "text": [
      "Enter first no.: 5\n",
      "Enter second no.: 0\n",
      "Issue with code division by zero\n"
     ]
    }
   ],
   "source": [
    "try:\n",
    "    a = int(input(\"Enter first no.: \"))\n",
    "    b = int(input(\"Enter second no.: \"))\n",
    "    c = a/b\n",
    "except ArithmeticError as e:\n",
    "    print(\"Issue with code\",e)\n",
    "    f = open(\"ineuron.txt\",\"w+\")  # w+ - reading and writing\n",
    "#     f.write(\"hii\")\n",
    "    f.write(str(e))\n",
    "    f.read()\n",
    "else:\n",
    "    print(\"This will execute once try is success\")\n",
    "    try:\n",
    "        f = open(\"test3.txt\",\"w\")\n",
    "    except:\n",
    "        print(\"This is issue with try block\")\n"
   ]
  },
  {
   "cell_type": "code",
   "execution_count": 102,
   "id": "e9e861a0",
   "metadata": {},
   "outputs": [
    {
     "name": "stdout",
     "output_type": "stream",
     "text": [
      "[Errno 2] No such file or directory: 'error.txt'\n",
      "File not found\n"
     ]
    }
   ],
   "source": [
    "try:\n",
    "    f = open(\"error.txt\")\n",
    "except Exception as e:\n",
    "    print(e)\n",
    "    print(\"File not found\")"
   ]
  },
  {
   "cell_type": "markdown",
   "id": "6a011362",
   "metadata": {},
   "source": [
    "    r - open a file for reading\n",
    "    w - open a file for writing, if not present it will create one or truncates the file if exists\n",
    "    x - opens a file for exclusive creation ,if the file already exists the operation fails\n",
    "    a - open a file for appending at the end of file\n",
    "    + - open a file fo updating(reading and writing)"
   ]
  },
  {
   "cell_type": "markdown",
   "id": "cd2c7f83",
   "metadata": {},
   "source": [
    "## Iterables"
   ]
  },
  {
   "cell_type": "markdown",
   "id": "7dcd9007",
   "metadata": {},
   "source": [
    "    Iterator\n",
    "    Iterables\n",
    "    Generator"
   ]
  },
  {
   "cell_type": "markdown",
   "id": "8edd335c",
   "metadata": {},
   "source": [
    "    Iteration - repeating steps (allowing to loop\n",
    "    Iterables - objects that can be iterated in iteration (list,tuple,set,dictionary)\n"
   ]
  },
  {
   "cell_type": "code",
   "execution_count": 103,
   "id": "97f51e0b",
   "metadata": {},
   "outputs": [],
   "source": [
    "my_tuple = (\"ineuron\",\"bhumika\",\"code\")"
   ]
  },
  {
   "cell_type": "code",
   "execution_count": 104,
   "id": "dab6fb10",
   "metadata": {},
   "outputs": [
    {
     "name": "stdout",
     "output_type": "stream",
     "text": [
      "ineuron\n",
      "bhumika\n",
      "code\n"
     ]
    }
   ],
   "source": [
    "for i in my_tuple:\n",
    "    print(i)"
   ]
  },
  {
   "cell_type": "code",
   "execution_count": 105,
   "id": "eb483f9e",
   "metadata": {},
   "outputs": [
    {
     "data": {
      "text/plain": [
       "tuple"
      ]
     },
     "execution_count": 105,
     "metadata": {},
     "output_type": "execute_result"
    }
   ],
   "source": [
    "type(my_tuple)"
   ]
  },
  {
   "cell_type": "code",
   "execution_count": 106,
   "id": "50e35632",
   "metadata": {},
   "outputs": [
    {
     "data": {
      "text/plain": [
       "['__add__',\n",
       " '__class__',\n",
       " '__class_getitem__',\n",
       " '__contains__',\n",
       " '__delattr__',\n",
       " '__dir__',\n",
       " '__doc__',\n",
       " '__eq__',\n",
       " '__format__',\n",
       " '__ge__',\n",
       " '__getattribute__',\n",
       " '__getitem__',\n",
       " '__getnewargs__',\n",
       " '__gt__',\n",
       " '__hash__',\n",
       " '__init__',\n",
       " '__init_subclass__',\n",
       " '__iter__',\n",
       " '__le__',\n",
       " '__len__',\n",
       " '__lt__',\n",
       " '__mul__',\n",
       " '__ne__',\n",
       " '__new__',\n",
       " '__reduce__',\n",
       " '__reduce_ex__',\n",
       " '__repr__',\n",
       " '__rmul__',\n",
       " '__setattr__',\n",
       " '__sizeof__',\n",
       " '__str__',\n",
       " '__subclasshook__',\n",
       " 'count',\n",
       " 'index']"
      ]
     },
     "execution_count": 106,
     "metadata": {},
     "output_type": "execute_result"
    }
   ],
   "source": [
    "dir(my_tuple)  # shows all the properties and method associated with it"
   ]
  },
  {
   "cell_type": "code",
   "execution_count": 107,
   "id": "0a57c2af",
   "metadata": {},
   "outputs": [
    {
     "name": "stdout",
     "output_type": "stream",
     "text": [
      "i\n",
      "n\n",
      "e\n",
      "o\n",
      "r\n",
      "o\n",
      "n\n"
     ]
    }
   ],
   "source": [
    "my_str = \"ineoron\"\n",
    "\n",
    "for i in my_str:\n",
    "    print(i)"
   ]
  },
  {
   "cell_type": "code",
   "execution_count": 108,
   "id": "046503b5",
   "metadata": {},
   "outputs": [
    {
     "data": {
      "text/plain": [
       "['__add__',\n",
       " '__class__',\n",
       " '__contains__',\n",
       " '__delattr__',\n",
       " '__dir__',\n",
       " '__doc__',\n",
       " '__eq__',\n",
       " '__format__',\n",
       " '__ge__',\n",
       " '__getattribute__',\n",
       " '__getitem__',\n",
       " '__getnewargs__',\n",
       " '__gt__',\n",
       " '__hash__',\n",
       " '__init__',\n",
       " '__init_subclass__',\n",
       " '__iter__',\n",
       " '__le__',\n",
       " '__len__',\n",
       " '__lt__',\n",
       " '__mod__',\n",
       " '__mul__',\n",
       " '__ne__',\n",
       " '__new__',\n",
       " '__reduce__',\n",
       " '__reduce_ex__',\n",
       " '__repr__',\n",
       " '__rmod__',\n",
       " '__rmul__',\n",
       " '__setattr__',\n",
       " '__sizeof__',\n",
       " '__str__',\n",
       " '__subclasshook__',\n",
       " 'capitalize',\n",
       " 'casefold',\n",
       " 'center',\n",
       " 'count',\n",
       " 'encode',\n",
       " 'endswith',\n",
       " 'expandtabs',\n",
       " 'find',\n",
       " 'format',\n",
       " 'format_map',\n",
       " 'index',\n",
       " 'isalnum',\n",
       " 'isalpha',\n",
       " 'isascii',\n",
       " 'isdecimal',\n",
       " 'isdigit',\n",
       " 'isidentifier',\n",
       " 'islower',\n",
       " 'isnumeric',\n",
       " 'isprintable',\n",
       " 'isspace',\n",
       " 'istitle',\n",
       " 'isupper',\n",
       " 'join',\n",
       " 'ljust',\n",
       " 'lower',\n",
       " 'lstrip',\n",
       " 'maketrans',\n",
       " 'partition',\n",
       " 'removeprefix',\n",
       " 'removesuffix',\n",
       " 'replace',\n",
       " 'rfind',\n",
       " 'rindex',\n",
       " 'rjust',\n",
       " 'rpartition',\n",
       " 'rsplit',\n",
       " 'rstrip',\n",
       " 'split',\n",
       " 'splitlines',\n",
       " 'startswith',\n",
       " 'strip',\n",
       " 'swapcase',\n",
       " 'title',\n",
       " 'translate',\n",
       " 'upper',\n",
       " 'zfill']"
      ]
     },
     "execution_count": 108,
     "metadata": {},
     "output_type": "execute_result"
    }
   ],
   "source": [
    "dir(my_str)  # see __iter__"
   ]
  },
  {
   "cell_type": "code",
   "execution_count": 109,
   "id": "cd3c078f",
   "metadata": {},
   "outputs": [
    {
     "name": "stdout",
     "output_type": "stream",
     "text": [
      "1\n",
      "2\n",
      "3\n",
      "4\n",
      "5\n"
     ]
    }
   ],
   "source": [
    "my_list = [1,2,3,4,5]\n",
    "\n",
    "for i in my_list:\n",
    "    print(i)"
   ]
  },
  {
   "cell_type": "code",
   "execution_count": 110,
   "id": "b6059f26",
   "metadata": {},
   "outputs": [
    {
     "data": {
      "text/plain": [
       "['__add__',\n",
       " '__class__',\n",
       " '__class_getitem__',\n",
       " '__contains__',\n",
       " '__delattr__',\n",
       " '__delitem__',\n",
       " '__dir__',\n",
       " '__doc__',\n",
       " '__eq__',\n",
       " '__format__',\n",
       " '__ge__',\n",
       " '__getattribute__',\n",
       " '__getitem__',\n",
       " '__gt__',\n",
       " '__hash__',\n",
       " '__iadd__',\n",
       " '__imul__',\n",
       " '__init__',\n",
       " '__init_subclass__',\n",
       " '__iter__',\n",
       " '__le__',\n",
       " '__len__',\n",
       " '__lt__',\n",
       " '__mul__',\n",
       " '__ne__',\n",
       " '__new__',\n",
       " '__reduce__',\n",
       " '__reduce_ex__',\n",
       " '__repr__',\n",
       " '__reversed__',\n",
       " '__rmul__',\n",
       " '__setattr__',\n",
       " '__setitem__',\n",
       " '__sizeof__',\n",
       " '__str__',\n",
       " '__subclasshook__',\n",
       " 'append',\n",
       " 'clear',\n",
       " 'copy',\n",
       " 'count',\n",
       " 'extend',\n",
       " 'index',\n",
       " 'insert',\n",
       " 'pop',\n",
       " 'remove',\n",
       " 'reverse',\n",
       " 'sort']"
      ]
     },
     "execution_count": 110,
     "metadata": {},
     "output_type": "execute_result"
    }
   ],
   "source": [
    "dir(my_list)"
   ]
  },
  {
   "cell_type": "code",
   "execution_count": 111,
   "id": "39f242a6",
   "metadata": {},
   "outputs": [
    {
     "name": "stdout",
     "output_type": "stream",
     "text": [
      "x 45\n",
      "y 3.14\n",
      "z 7\n"
     ]
    }
   ],
   "source": [
    "my_dict = {\"x\":45, \"y\":3.14,\"z\":7}\n",
    "\n",
    "for k,v in my_dict.items():\n",
    "    print(k,v)"
   ]
  },
  {
   "cell_type": "code",
   "execution_count": 112,
   "id": "58ddd4bc",
   "metadata": {},
   "outputs": [],
   "source": [
    "# iterables object are those object where it can be looped"
   ]
  },
  {
   "cell_type": "code",
   "execution_count": 113,
   "id": "50483cb0",
   "metadata": {},
   "outputs": [
    {
     "ename": "TypeError",
     "evalue": "'int' object is not iterable",
     "output_type": "error",
     "traceback": [
      "\u001b[1;31m---------------------------------------------------------------------------\u001b[0m",
      "\u001b[1;31mTypeError\u001b[0m                                 Traceback (most recent call last)",
      "Cell \u001b[1;32mIn[113], line 3\u001b[0m\n\u001b[0;32m      1\u001b[0m x \u001b[38;5;241m=\u001b[39m \u001b[38;5;241m42\u001b[39m\n\u001b[1;32m----> 3\u001b[0m \u001b[38;5;28;01mfor\u001b[39;00m i \u001b[38;5;129;01min\u001b[39;00m x:\n\u001b[0;32m      4\u001b[0m     \u001b[38;5;28mprint\u001b[39m(i)\n",
      "\u001b[1;31mTypeError\u001b[0m: 'int' object is not iterable"
     ]
    }
   ],
   "source": [
    "x = 42\n",
    "\n",
    "for i in x:\n",
    "    print(i)"
   ]
  },
  {
   "cell_type": "code",
   "execution_count": 114,
   "id": "5f3cdca5",
   "metadata": {},
   "outputs": [
    {
     "data": {
      "text/plain": [
       "['__abs__',\n",
       " '__add__',\n",
       " '__and__',\n",
       " '__bool__',\n",
       " '__ceil__',\n",
       " '__class__',\n",
       " '__delattr__',\n",
       " '__dir__',\n",
       " '__divmod__',\n",
       " '__doc__',\n",
       " '__eq__',\n",
       " '__float__',\n",
       " '__floor__',\n",
       " '__floordiv__',\n",
       " '__format__',\n",
       " '__ge__',\n",
       " '__getattribute__',\n",
       " '__getnewargs__',\n",
       " '__gt__',\n",
       " '__hash__',\n",
       " '__index__',\n",
       " '__init__',\n",
       " '__init_subclass__',\n",
       " '__int__',\n",
       " '__invert__',\n",
       " '__le__',\n",
       " '__lshift__',\n",
       " '__lt__',\n",
       " '__mod__',\n",
       " '__mul__',\n",
       " '__ne__',\n",
       " '__neg__',\n",
       " '__new__',\n",
       " '__or__',\n",
       " '__pos__',\n",
       " '__pow__',\n",
       " '__radd__',\n",
       " '__rand__',\n",
       " '__rdivmod__',\n",
       " '__reduce__',\n",
       " '__reduce_ex__',\n",
       " '__repr__',\n",
       " '__rfloordiv__',\n",
       " '__rlshift__',\n",
       " '__rmod__',\n",
       " '__rmul__',\n",
       " '__ror__',\n",
       " '__round__',\n",
       " '__rpow__',\n",
       " '__rrshift__',\n",
       " '__rshift__',\n",
       " '__rsub__',\n",
       " '__rtruediv__',\n",
       " '__rxor__',\n",
       " '__setattr__',\n",
       " '__sizeof__',\n",
       " '__str__',\n",
       " '__sub__',\n",
       " '__subclasshook__',\n",
       " '__truediv__',\n",
       " '__trunc__',\n",
       " '__xor__',\n",
       " 'as_integer_ratio',\n",
       " 'bit_count',\n",
       " 'bit_length',\n",
       " 'conjugate',\n",
       " 'denominator',\n",
       " 'from_bytes',\n",
       " 'imag',\n",
       " 'numerator',\n",
       " 'real',\n",
       " 'to_bytes']"
      ]
     },
     "execution_count": 114,
     "metadata": {},
     "output_type": "execute_result"
    }
   ],
   "source": [
    "dir(x)  # here we cannot find __iter__"
   ]
  },
  {
   "cell_type": "code",
   "execution_count": 115,
   "id": "d1243c9e",
   "metadata": {},
   "outputs": [],
   "source": [
    "# if in object there is '__iter__' method then that object is iterable"
   ]
  },
  {
   "cell_type": "markdown",
   "id": "c9158fb9",
   "metadata": {},
   "source": [
    "## Iterator Object"
   ]
  },
  {
   "cell_type": "code",
   "execution_count": 116,
   "id": "03bfbc5c",
   "metadata": {},
   "outputs": [],
   "source": [
    "data = [\"ineuron\",\"code\",\"india\"]  # iterable object"
   ]
  },
  {
   "cell_type": "code",
   "execution_count": 117,
   "id": "4af20a3f",
   "metadata": {},
   "outputs": [
    {
     "ename": "TypeError",
     "evalue": "'list' object is not an iterator",
     "output_type": "error",
     "traceback": [
      "\u001b[1;31m---------------------------------------------------------------------------\u001b[0m",
      "\u001b[1;31mTypeError\u001b[0m                                 Traceback (most recent call last)",
      "Cell \u001b[1;32mIn[117], line 1\u001b[0m\n\u001b[1;32m----> 1\u001b[0m \u001b[38;5;28;43mnext\u001b[39;49m\u001b[43m(\u001b[49m\u001b[43mdata\u001b[49m\u001b[43m)\u001b[49m\n",
      "\u001b[1;31mTypeError\u001b[0m: 'list' object is not an iterator"
     ]
    }
   ],
   "source": [
    "next(data)"
   ]
  },
  {
   "cell_type": "code",
   "execution_count": 118,
   "id": "548660d0",
   "metadata": {},
   "outputs": [
    {
     "data": {
      "text/plain": [
       "<list_iterator at 0x233ce3f5600>"
      ]
     },
     "execution_count": 118,
     "metadata": {},
     "output_type": "execute_result"
    }
   ],
   "source": [
    "# iterator objects are those object which is capturing the position of the each data\n",
    "# making iterable object int  iterator\n",
    "iter(data)"
   ]
  },
  {
   "cell_type": "code",
   "execution_count": 119,
   "id": "26f23e7c",
   "metadata": {},
   "outputs": [],
   "source": [
    "x = iter(data)"
   ]
  },
  {
   "cell_type": "code",
   "execution_count": 120,
   "id": "6accc3f2",
   "metadata": {},
   "outputs": [
    {
     "data": {
      "text/plain": [
       "'ineuron'"
      ]
     },
     "execution_count": 120,
     "metadata": {},
     "output_type": "execute_result"
    }
   ],
   "source": [
    "next(x)  # Next is use to check the next data position"
   ]
  },
  {
   "cell_type": "code",
   "execution_count": 121,
   "id": "00261f49",
   "metadata": {},
   "outputs": [],
   "source": [
    "str_ = \"ineuron\""
   ]
  },
  {
   "cell_type": "code",
   "execution_count": 122,
   "id": "a81a6ac4",
   "metadata": {},
   "outputs": [
    {
     "ename": "TypeError",
     "evalue": "'str' object is not an iterator",
     "output_type": "error",
     "traceback": [
      "\u001b[1;31m---------------------------------------------------------------------------\u001b[0m",
      "\u001b[1;31mTypeError\u001b[0m                                 Traceback (most recent call last)",
      "Cell \u001b[1;32mIn[122], line 1\u001b[0m\n\u001b[1;32m----> 1\u001b[0m \u001b[38;5;28;43mnext\u001b[39;49m\u001b[43m(\u001b[49m\u001b[43mstr_\u001b[49m\u001b[43m)\u001b[49m\n",
      "\u001b[1;31mTypeError\u001b[0m: 'str' object is not an iterator"
     ]
    }
   ],
   "source": [
    "next(str_)"
   ]
  },
  {
   "cell_type": "code",
   "execution_count": 123,
   "id": "bec15b37",
   "metadata": {},
   "outputs": [],
   "source": [
    "# converting iterable object to iterator \n",
    "m = iter(str_)"
   ]
  },
  {
   "cell_type": "code",
   "execution_count": 124,
   "id": "756f2d88",
   "metadata": {},
   "outputs": [
    {
     "data": {
      "text/plain": [
       "'i'"
      ]
     },
     "execution_count": 124,
     "metadata": {},
     "output_type": "execute_result"
    }
   ],
   "source": [
    "next(m)"
   ]
  },
  {
   "cell_type": "code",
   "execution_count": 125,
   "id": "9e3244c5",
   "metadata": {},
   "outputs": [
    {
     "data": {
      "text/plain": [
       "['__class__',\n",
       " '__delattr__',\n",
       " '__dir__',\n",
       " '__doc__',\n",
       " '__eq__',\n",
       " '__format__',\n",
       " '__ge__',\n",
       " '__getattribute__',\n",
       " '__gt__',\n",
       " '__hash__',\n",
       " '__init__',\n",
       " '__init_subclass__',\n",
       " '__iter__',\n",
       " '__le__',\n",
       " '__length_hint__',\n",
       " '__lt__',\n",
       " '__ne__',\n",
       " '__new__',\n",
       " '__next__',\n",
       " '__reduce__',\n",
       " '__reduce_ex__',\n",
       " '__repr__',\n",
       " '__setattr__',\n",
       " '__setstate__',\n",
       " '__sizeof__',\n",
       " '__str__',\n",
       " '__subclasshook__']"
      ]
     },
     "execution_count": 125,
     "metadata": {},
     "output_type": "execute_result"
    }
   ],
   "source": [
    "dir(m)   # __iter__, __next__"
   ]
  },
  {
   "cell_type": "markdown",
   "id": "51c69c06",
   "metadata": {},
   "source": [
    "    whenever we have Iterable we have __iter__ method\n",
    "    whenever we have Iterator we have two things, __iter__, __next__"
   ]
  },
  {
   "cell_type": "markdown",
   "id": "f65911e6",
   "metadata": {},
   "source": [
    "    iterables ---> iterator ----> return next() element ---> Stop Iteration\n",
    "              iter()        next()                     next()"
   ]
  },
  {
   "cell_type": "markdown",
   "id": "4f6b43d9",
   "metadata": {},
   "source": [
    "         [Iterator]\n",
    "            |\n",
    "            | next()    No\n",
    "            \\/\n",
    "      --->[      ]-----------> [Stop Iteration]\n",
    "      |      |                         |\n",
    "      |      |Yes                      |\n",
    "      |____[   ]                      [Stop]\n"
   ]
  },
  {
   "cell_type": "markdown",
   "id": "69b2afc1",
   "metadata": {},
   "source": [
    "    Iterables are not iterators\n",
    "    Iterator are  also iterables\n",
    "    calling  iter() function on iterable gives an iterator\n",
    "    calling next() function  on iterator gives next elements"
   ]
  },
  {
   "cell_type": "markdown",
   "id": "d8a41893",
   "metadata": {},
   "source": [
    "## Generator"
   ]
  },
  {
   "cell_type": "markdown",
   "id": "9efe4959",
   "metadata": {},
   "source": [
    "    converting iterable to iterator with the help of generator\n",
    "    generator in other way of creating iterator"
   ]
  },
  {
   "cell_type": "code",
   "execution_count": 126,
   "id": "a5629a78",
   "metadata": {},
   "outputs": [],
   "source": [
    "def square(n):\n",
    "    for i in range(n):  # range - 012\n",
    "        return i**2"
   ]
  },
  {
   "cell_type": "code",
   "execution_count": 127,
   "id": "b8b1dd47",
   "metadata": {},
   "outputs": [
    {
     "data": {
      "text/plain": [
       "0"
      ]
     },
     "execution_count": 127,
     "metadata": {},
     "output_type": "execute_result"
    }
   ],
   "source": [
    "square(3)"
   ]
  },
  {
   "cell_type": "code",
   "execution_count": 138,
   "id": "af26cf81",
   "metadata": {},
   "outputs": [],
   "source": [
    "def square(n):\n",
    "    for i in range(n):  # range - 012\n",
    "        yield i**2\n",
    "        \n",
    "# yield is a keyword which is use to create a generator function "
   ]
  },
  {
   "cell_type": "code",
   "execution_count": 139,
   "id": "14951324",
   "metadata": {},
   "outputs": [
    {
     "data": {
      "text/plain": [
       "<generator object square at 0x00000233D07A92A0>"
      ]
     },
     "execution_count": 139,
     "metadata": {},
     "output_type": "execute_result"
    }
   ],
   "source": [
    "square(3)"
   ]
  },
  {
   "cell_type": "code",
   "execution_count": 140,
   "id": "92b573d2",
   "metadata": {},
   "outputs": [],
   "source": [
    "k = square(3)"
   ]
  },
  {
   "cell_type": "code",
   "execution_count": 141,
   "id": "d1158321",
   "metadata": {},
   "outputs": [
    {
     "data": {
      "text/plain": [
       "generator"
      ]
     },
     "execution_count": 141,
     "metadata": {},
     "output_type": "execute_result"
    }
   ],
   "source": [
    "type(k)"
   ]
  },
  {
   "cell_type": "code",
   "execution_count": 135,
   "id": "2d585da5",
   "metadata": {},
   "outputs": [
    {
     "ename": "StopIteration",
     "evalue": "",
     "output_type": "error",
     "traceback": [
      "\u001b[1;31m---------------------------------------------------------------------------\u001b[0m",
      "\u001b[1;31mStopIteration\u001b[0m                             Traceback (most recent call last)",
      "Cell \u001b[1;32mIn[135], line 1\u001b[0m\n\u001b[1;32m----> 1\u001b[0m \u001b[38;5;28;43mnext\u001b[39;49m\u001b[43m(\u001b[49m\u001b[43mk\u001b[49m\u001b[43m)\u001b[49m\n",
      "\u001b[1;31mStopIteration\u001b[0m: "
     ]
    }
   ],
   "source": [
    "next(k)"
   ]
  },
  {
   "cell_type": "code",
   "execution_count": 142,
   "id": "4235cc14",
   "metadata": {},
   "outputs": [
    {
     "name": "stdout",
     "output_type": "stream",
     "text": [
      "0\n",
      "1\n",
      "4\n"
     ]
    }
   ],
   "source": [
    "for i in k:\n",
    "    print(i)"
   ]
  },
  {
   "cell_type": "code",
   "execution_count": 143,
   "id": "2ea5a393",
   "metadata": {},
   "outputs": [],
   "source": [
    "def new():\n",
    "    n = 1\n",
    "    print(\"line one\")\n",
    "    yield n\n",
    "    \n",
    "    n = n + 1\n",
    "    print(\"second line\")\n",
    "    yield n\n",
    "    \n",
    "    n = n + 2\n",
    "    print(\"third line\")\n",
    "    yield n"
   ]
  },
  {
   "cell_type": "code",
   "execution_count": 144,
   "id": "8db70524",
   "metadata": {},
   "outputs": [
    {
     "name": "stdout",
     "output_type": "stream",
     "text": [
      "line one\n",
      "1\n",
      "second line\n",
      "2\n",
      "third line\n",
      "4\n"
     ]
    }
   ],
   "source": [
    "for i in new():\n",
    "    print(i)"
   ]
  },
  {
   "cell_type": "code",
   "execution_count": 145,
   "id": "17ec5bcf",
   "metadata": {},
   "outputs": [],
   "source": [
    "# lazy evaluation , don't show the entire result storing some part of the data ,hence saving the memory "
   ]
  },
  {
   "cell_type": "markdown",
   "id": "fc8f3920",
   "metadata": {},
   "source": [
    "    generator---->iterator----->lazy evaluation\n",
    "             always        next()\n",
    "\n",
    "    iterator<----->iterable (list,set,dic.,string)\n",
    "             iter()"
   ]
  },
  {
   "cell_type": "code",
   "execution_count": 146,
   "id": "61ffec73",
   "metadata": {},
   "outputs": [],
   "source": [
    "def gencube(n):\n",
    "    l = []\n",
    "    for i in range(n):\n",
    "        l.append(i**3)\n",
    "    return l"
   ]
  },
  {
   "cell_type": "code",
   "execution_count": 147,
   "id": "fdec148f",
   "metadata": {},
   "outputs": [
    {
     "data": {
      "text/plain": [
       "[0,\n",
       " 1,\n",
       " 8,\n",
       " 27,\n",
       " 64,\n",
       " 125,\n",
       " 216,\n",
       " 343,\n",
       " 512,\n",
       " 729,\n",
       " 1000,\n",
       " 1331,\n",
       " 1728,\n",
       " 2197,\n",
       " 2744,\n",
       " 3375,\n",
       " 4096,\n",
       " 4913,\n",
       " 5832,\n",
       " 6859]"
      ]
     },
     "execution_count": 147,
     "metadata": {},
     "output_type": "execute_result"
    }
   ],
   "source": [
    "gencube(20)\n",
    "#  gencube(30000000000)"
   ]
  },
  {
   "cell_type": "code",
   "execution_count": 148,
   "id": "e5057ac0",
   "metadata": {},
   "outputs": [],
   "source": [
    "def gencube(n):\n",
    "    for i in range(n):\n",
    "        yield i**3"
   ]
  },
  {
   "cell_type": "code",
   "execution_count": 149,
   "id": "936c087e",
   "metadata": {},
   "outputs": [],
   "source": [
    "k = gencube(10)"
   ]
  },
  {
   "cell_type": "code",
   "execution_count": 150,
   "id": "d14238c2",
   "metadata": {},
   "outputs": [
    {
     "data": {
      "text/plain": [
       "<generator object gencube at 0x00000233D07A9770>"
      ]
     },
     "execution_count": 150,
     "metadata": {},
     "output_type": "execute_result"
    }
   ],
   "source": [
    "k"
   ]
  },
  {
   "cell_type": "code",
   "execution_count": 151,
   "id": "af984a04",
   "metadata": {},
   "outputs": [
    {
     "name": "stdout",
     "output_type": "stream",
     "text": [
      "0\n",
      "1\n",
      "8\n",
      "27\n",
      "64\n",
      "125\n",
      "216\n",
      "343\n",
      "512\n",
      "729\n"
     ]
    }
   ],
   "source": [
    "for i in k:\n",
    "    print(i)"
   ]
  },
  {
   "cell_type": "markdown",
   "id": "b9c41aec",
   "metadata": {},
   "source": [
    "    whenever you have large dataset and you have perform some operations or manipulation on that particular data using generator then you may instantly see the changes in the data"
   ]
  },
  {
   "cell_type": "code",
   "execution_count": 152,
   "id": "a9560930",
   "metadata": {},
   "outputs": [],
   "source": [
    "# k = gencube(100000)"
   ]
  },
  {
   "cell_type": "code",
   "execution_count": null,
   "id": "a6541432",
   "metadata": {},
   "outputs": [],
   "source": []
  }
 ],
 "metadata": {
  "kernelspec": {
   "display_name": "Python 3 (ipykernel)",
   "language": "python",
   "name": "python3"
  },
  "language_info": {
   "codemirror_mode": {
    "name": "ipython",
    "version": 3
   },
   "file_extension": ".py",
   "mimetype": "text/x-python",
   "name": "python",
   "nbconvert_exporter": "python",
   "pygments_lexer": "ipython3",
   "version": "3.10.9"
  }
 },
 "nbformat": 4,
 "nbformat_minor": 5
}

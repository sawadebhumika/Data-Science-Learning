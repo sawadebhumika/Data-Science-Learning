{
 "cells": [
  {
   "cell_type": "code",
   "execution_count": 16,
   "id": "fd9a5391",
   "metadata": {},
   "outputs": [],
   "source": [
    "# if extension is .py we call that as a module"
   ]
  },
  {
   "cell_type": "markdown",
   "id": "02adc95b",
   "metadata": {},
   "source": [
    "    different levels for building application\n",
    "    development ----> dedugging -----> review -----> testing ---> Production"
   ]
  },
  {
   "cell_type": "code",
   "execution_count": 17,
   "id": "dad7d695",
   "metadata": {},
   "outputs": [
    {
     "name": "stdout",
     "output_type": "stream",
     "text": [
      "10\n"
     ]
    }
   ],
   "source": [
    "def add(x,y):\n",
    "    return x + y\n",
    "\n",
    "def subtract(x,y):\n",
    "    return x - y\n",
    "\n",
    "def multiply(x,y):\n",
    "    return x * y\n",
    "\n",
    "def divide(x,y):\n",
    "    return x/y\n",
    "\n",
    "\n",
    "num_1 = 20\n",
    "num_2 = 10\n",
    "\n",
    "add_result = add(num_1,num_2)\n",
    "subtract_result = subtract(num_1,num_2)\n",
    "print(subtract_result)\n",
    "multiply_result = multiply(num_1,num_2)\n",
    "divide_result = divide(num_1,num_2)"
   ]
  },
  {
   "cell_type": "code",
   "execution_count": 18,
   "id": "236ad315",
   "metadata": {},
   "outputs": [
    {
     "name": "stdout",
     "output_type": "stream",
     "text": [
      "30 10 200 2.0\n"
     ]
    }
   ],
   "source": [
    "print(add_result,subtract_result,multiply_result,divide_result)"
   ]
  },
  {
   "cell_type": "markdown",
   "id": "fbf36119",
   "metadata": {},
   "source": [
    "    to track and monitor the application , we need the concept of logging \n",
    "    if there are 100 line it won't be valid to write print() for each and every statement"
   ]
  },
  {
   "cell_type": "markdown",
   "id": "a7767bdb",
   "metadata": {},
   "source": [
    "    logging is basically a module in python which helps track and monitor the application \n",
    "    in logging we can capture the specific information, wheras print  will print everything and that to in console not in a particular file"
   ]
  },
  {
   "cell_type": "markdown",
   "id": "61f17dd1",
   "metadata": {},
   "source": [
    "    logging is module which help us to track and record the log information(security log, system log,etc)\n",
    "    logs critical part of system documentation  about run time status of application \n",
    "    basicConfig - with the help of basicConfig ,we can configure the logging module based on our requirement"
   ]
  },
  {
   "cell_type": "code",
   "execution_count": 19,
   "id": "228b08c3",
   "metadata": {},
   "outputs": [],
   "source": [
    "import logging      # logging is a module\n",
    "\n",
    "logging.basicConfig(filename = 'test11.log',level = logging.DEBUG)\n",
    "\n",
    "def add(x,y):\n",
    "    return x + y\n",
    "\n",
    "def subtract(x,y):\n",
    "    return x - y\n",
    "\n",
    "def multiply(x,y):\n",
    "    return x * y\n",
    "\n",
    "def divide(x,y):\n",
    "    return x/y\n",
    "\n",
    "\n",
    "num_1 = 20\n",
    "num_2 = 10\n",
    "\n",
    "add_result = add(num_1,num_2)\n",
    "logging.debug(add_result)\n",
    "\n",
    "subtract_result = subtract(num_1,num_2)\n",
    "logging.info(subtract_result)\n",
    "\n",
    "multiply_result = multiply(num_1,num_2)\n",
    "logging.warning(multiply_result)\n",
    "\n",
    "divide_result = divide(num_1,num_2)\n",
    "logging.error(divide_result)"
   ]
  },
  {
   "cell_type": "code",
   "execution_count": 20,
   "id": "f95cd62c",
   "metadata": {},
   "outputs": [],
   "source": [
    "import logging"
   ]
  },
  {
   "cell_type": "code",
   "execution_count": null,
   "id": "8fa0122f",
   "metadata": {},
   "outputs": [],
   "source": [
    "logging.  #tab"
   ]
  },
  {
   "cell_type": "markdown",
   "id": "06e7deb1",
   "metadata": {},
   "source": [
    "    # To log the information ,these are the various level in logging\n",
    "    DEBUG    - used to capture the detail information\n",
    "    INFO     - to capture some information\n",
    "    WARNING  - \n",
    "    ERROR\n",
    "    CRITICAL - serious error\n",
    "\n",
    "    # by default the level is set to warning"
   ]
  },
  {
   "cell_type": "code",
   "execution_count": 21,
   "id": "15a33367",
   "metadata": {},
   "outputs": [],
   "source": [
    "logging.info(\"This is info part\")"
   ]
  },
  {
   "cell_type": "markdown",
   "id": "3f904a81",
   "metadata": {},
   "source": [
    "    Staements_level    DEBUG     INFO       WARNING     ERROR    CRITICAL\n",
    "        DEBUG        included   included   included   included   included\n",
    "         INFO        excluded   included   included   included   included\n",
    "      WARNING        excluded   excluded   included   included   included\n",
    "        ERROR        excluded   excluded   excluded   included   included\n",
    "     CRITICAL        excluded   excluded   excluded   excluded   included"
   ]
  },
  {
   "cell_type": "code",
   "execution_count": 22,
   "id": "b01763c3",
   "metadata": {},
   "outputs": [],
   "source": [
    "import logging    \n",
    "\n",
    "logging.basicConfig(filename = 'demo.log',level = logging.DEBUG, format = \"%(asctime)s - %(levelname)s - %(message)s\")\n",
    "\n",
    "\n",
    "\n",
    "def namecheck(name):\n",
    "    if len(name) < 2:\n",
    "        logging.debug(\"Check for name length\")\n",
    "        return \"invalid name\"\n",
    "    elif name.isspace():\n",
    "        logging.debug(\"Check for name has space\")\n",
    "        return \"invalid name\"\n",
    "    elif name.isalpha():\n",
    "        logging.debug(\"Check for name is alphabet\")\n",
    "        return \"invalid name\"\n",
    "    elif name.replace(\" \",\"\").isalpha():\n",
    "        logging.debug(\"Checking for full name\")\n",
    "        return \"Name is valid\"\n",
    "    else:\n",
    "        logging.debug(\"Failed all checks\")\n",
    "        return \"Invalid Name\""
   ]
  },
  {
   "cell_type": "code",
   "execution_count": 23,
   "id": "f0cc1cc7",
   "metadata": {},
   "outputs": [
    {
     "name": "stdout",
     "output_type": "stream",
     "text": [
      "Name is valid\n"
     ]
    }
   ],
   "source": [
    "print(namecheck(\"bhumika sawade\"))"
   ]
  },
  {
   "cell_type": "code",
   "execution_count": 24,
   "id": "f358ee8e",
   "metadata": {},
   "outputs": [],
   "source": [
    "# https://docs.python.org/3/library/logging.html"
   ]
  },
  {
   "cell_type": "code",
   "execution_count": 25,
   "id": "25a9ae64",
   "metadata": {},
   "outputs": [],
   "source": [
    "# Create a logger in your code\n",
    "# Create a function which can take any number of inputs as an arguments and will return sum\n",
    "# Capture user input in a log file\n",
    "# Read a log file from python code and show it in console"
   ]
  },
  {
   "cell_type": "code",
   "execution_count": 26,
   "id": "24ed99a6",
   "metadata": {},
   "outputs": [],
   "source": [
    "import logging\n",
    "logging.basicConfig(filename = 'demo4.log',level = logging.DEBUG)\n",
    "\n",
    "def sum_(*args):\n",
    "    logging.debug(args)\n",
    "    return sum(args)"
   ]
  },
  {
   "cell_type": "code",
   "execution_count": 27,
   "id": "ea796e9e",
   "metadata": {},
   "outputs": [
    {
     "data": {
      "text/plain": [
       "18"
      ]
     },
     "execution_count": 27,
     "metadata": {},
     "output_type": "execute_result"
    }
   ],
   "source": [
    "sum_(8,8,2)"
   ]
  },
  {
   "cell_type": "code",
   "execution_count": null,
   "id": "c6b9446a",
   "metadata": {},
   "outputs": [],
   "source": [
    "import logging as lg\n",
    "lg.basicConfig(filename=\"test25.log\",level=lg.INFO)\n",
    "\n",
    "def addition(*args):\n",
    "    lg.info(\"This is my addition function\")\n",
    "    sum1 = 0\n",
    "    for i in args:\n",
    "        lg.info(str(i))\n",
    "        sum1 = sum1 + i\n",
    "    return sum1\n",
    "\n",
    "f = open(\"test25.log\",\"r\")\n",
    "print(f.read())"
   ]
  },
  {
   "cell_type": "code",
   "execution_count": 29,
   "id": "50ebcc3f",
   "metadata": {},
   "outputs": [
    {
     "data": {
      "text/plain": [
       "8"
      ]
     },
     "execution_count": 29,
     "metadata": {},
     "output_type": "execute_result"
    }
   ],
   "source": [
    "addition(2,2,4)"
   ]
  },
  {
   "cell_type": "code",
   "execution_count": 30,
   "id": "af912e49",
   "metadata": {},
   "outputs": [],
   "source": [
    "# by default the logger is root, so we create the custom logger"
   ]
  },
  {
   "cell_type": "markdown",
   "id": "46a832dc",
   "metadata": {},
   "source": [
    "  Two types of Handler:\n",
    " - File Handler\n",
    " - Stream Handler"
   ]
  },
  {
   "cell_type": "markdown",
   "id": "a312b027",
   "metadata": {},
   "source": [
    " - File Handler - whatever logging information it is capturing, it will create a new file and all the logs will push in that particular file\n",
    "  - StreamHandler - instead of pushing the log information in the file it will show it in console "
   ]
  },
  {
   "cell_type": "code",
   "execution_count": 32,
   "id": "4835dd6c",
   "metadata": {
    "scrolled": true
   },
   "outputs": [
    {
     "name": "stderr",
     "output_type": "stream",
     "text": [
      "__main__ - WARNING - This is a warning\n",
      "2023-12-11 19:39:10,378 - __main__ - WARNING - This is a warning\n",
      "__main__ - WARNING - This is a warning\n",
      "__main__ - WARNING - This is a warning\n",
      "__main__ - WARNING - This is a warning\n",
      "WARNING - This is a warning\n",
      "WARNING - This is a warning\n",
      "WARNING - This is a warning\n",
      "WARNING - This is a warning\n",
      "__main__ - WARNING - This is a warning\n",
      "__main__ - WARNING - This is a warning\n",
      "__main__ - ERROR - This is error\n",
      "2023-12-11 19:39:10,389 - __main__ - ERROR - This is error\n",
      "__main__ - ERROR - This is error\n",
      "__main__ - ERROR - This is error\n",
      "__main__ - ERROR - This is error\n",
      "ERROR - This is error\n",
      "ERROR - This is error\n",
      "ERROR - This is error\n",
      "ERROR - This is error\n",
      "__main__ - ERROR - This is error\n",
      "__main__ - ERROR - This is error\n"
     ]
    }
   ],
   "source": [
    "import logging\n",
    "\n",
    "#create a custom logger\n",
    "logger = logging.getLogger(__name__)\n",
    "\n",
    "#create handlers\n",
    "c_handler = logging.StreamHandler()\n",
    "f_handler = logging.FileHandler(\"abc.log\")\n",
    "\n",
    "c_handler.setLevel(logging.WARNING)\n",
    "f_handler.setLevel(logging.ERROR)\n",
    "# logger.setLevel(logging.WARNING)\n",
    "# logger.setLevel(logging.ERROR)\n",
    "\n",
    "#create formatter and add it to handler\n",
    "c_format = logging.Formatter(\"%(name)s - %(levelname)s - %(message)s\")\n",
    "f_format = logging.Formatter(\"%(asctime)s - %(name)s - %(levelname)s - %(message)s\")\n",
    "\n",
    "c_handler.setFormatter(c_format)\n",
    "f_handler.setFormatter(f_format)\n",
    "\n",
    "#add handlers to logger\n",
    "logger.addHandler(c_handler)\n",
    "logger.addHandler(f_handler)\n",
    "\n",
    "logger.warning(\"This is a warning\")\n",
    "logger.error(\"This is error\")"
   ]
  },
  {
   "cell_type": "code",
   "execution_count": 33,
   "id": "87b2fc87",
   "metadata": {
    "scrolled": false
   },
   "outputs": [
    {
     "name": "stderr",
     "output_type": "stream",
     "text": [
      "2023-12-11 19:39:26,643 - __main__ - INFO - Dividing 6 by 0\n",
      "__main__ - INFO - Dividing 6 by 0\n",
      "INFO - Dividing 6 by 0\n",
      "INFO - Dividing 6 by 0\n",
      "INFO - Dividing 6 by 0\n",
      "INFO - Dividing 6 by 0\n",
      "2023-12-11 19:39:26,643 - __main__ - INFO - Dividing 6 by 0\n",
      "2023-12-11 19:39:26,651 - __main__ - INFO - Zero Division Error\n",
      "__main__ - INFO - Zero Division Error\n",
      "INFO - Zero Division Error\n",
      "INFO - Zero Division Error\n",
      "INFO - Zero Division Error\n",
      "INFO - Zero Division Error\n",
      "2023-12-11 19:39:26,651 - __main__ - INFO - Zero Division Error\n"
     ]
    },
    {
     "name": "stdout",
     "output_type": "stream",
     "text": [
      "None\n"
     ]
    }
   ],
   "source": [
    "import logging\n",
    "\n",
    "logger = logging.getLogger(__name__)\n",
    "handler = logging.StreamHandler()\n",
    "logger.setLevel(logging.INFO)\n",
    "\n",
    "formatter = logging.Formatter(\"%(asctime)s - %(name)s - %(levelname)s - %(message)s\")\n",
    "handler.setFormatter(formatter)\n",
    "\n",
    "logger.addHandler(handler)\n",
    "\n",
    "def divide(dividend,divisor):\n",
    "    try:\n",
    "        logger.info(f\"Dividing {dividend} by {divisor}\")\n",
    "        return dividend/divisor\n",
    "    except ZeroDivisionError:\n",
    "        logger.info(\"Zero Division Error\")\n",
    "        \n",
    "print(divide(6,0))"
   ]
  },
  {
   "cell_type": "code",
   "execution_count": 34,
   "id": "eb19332b",
   "metadata": {
    "scrolled": false
   },
   "outputs": [
    {
     "name": "stderr",
     "output_type": "stream",
     "text": [
      "2023-12-11 19:39:43,153 - __main__ - INFO - End of saveToFile Program\n",
      "__main__ - INFO - End of saveToFile Program\n",
      "INFO - End of saveToFile Program\n",
      "INFO - End of saveToFile Program\n",
      "INFO - End of saveToFile Program\n",
      "INFO - End of saveToFile Program\n",
      "2023-12-11 19:39:43,153 - __main__ - INFO - End of saveToFile Program\n",
      "2023-12-11 19:39:43,160 - __main__ - DEBUG - ########################\n",
      "__main__ - DEBUG - ########################\n",
      "DEBUG - ########################\n",
      "DEBUG - ########################\n",
      "DEBUG - ########################\n",
      "DEBUG - ########################\n",
      "2023-12-11 19:39:43,160 - __main__ - DEBUG - ########################\n"
     ]
    }
   ],
   "source": [
    "import os\n",
    "import logging\n",
    "\n",
    "logger=logging.getLogger(__name__)\n",
    "logger.setLevel(logging.DEBUG)\n",
    "\n",
    "f=logging.Formatter('%(asctime)s:%(name)s:%(levelname)s:%(message)s')\n",
    "\n",
    "fh=logging.FileHandler('saveTofile.log')\n",
    "fh.setFormatter(f)\n",
    "\n",
    "logger.addHandler(fh)\n",
    "\n",
    "#logging.basicConfig(filename='saveTofile.log',level=logging.DEBUG,format='%(asctime)s:%(levelname)s:%(message)s')\n",
    "\n",
    "\n",
    "def namecheck(name):\n",
    "    logger.debug(f'checking name \"{name}\"....')\n",
    "    if os.path.exists('data.txt'):\n",
    "        with open('data.txt','r') as readFile:\n",
    "            for line in readFile:\n",
    "                if line.lower().startswith(f'name: {name.lower()}'):\n",
    "                    logger.error(f'Name: \"{name}\" already exists')\n",
    "                    return False\n",
    "            if len(name) == 0:\n",
    "                logger.critical('Name cannot be blank')\n",
    "                return False\n",
    "            elif not name.isalpha():\n",
    "                logger.critical('name must be an alphabet')\n",
    "                return False\n",
    "            else:\n",
    "                logger.error(f'check successfull')\n",
    "                return True\n",
    "    else:\n",
    "        logger.debug('No data found')\n",
    "        return True\n",
    "\n",
    "\n",
    "def saveData(name,age,email):\n",
    "    logger.debug(f'Saving details of {name}...')\n",
    "    with open('data.txt','a') as appendFile:\n",
    "        appendFile.write(f'Name: {name} - Age: {age} - Email: {email}\\n')\n",
    "        print(f'Details saved successfully')\n",
    "\n",
    "logger.info('End of saveToFile Program')\n",
    "logger.debug('########################')"
   ]
  },
  {
   "cell_type": "code",
   "execution_count": 35,
   "id": "2c536ce1",
   "metadata": {
    "scrolled": true
   },
   "outputs": [
    {
     "name": "stderr",
     "output_type": "stream",
     "text": [
      "2023-12-11 19:39:46,475 - __main__ - DEBUG - Start of employee program\n",
      "__main__ - DEBUG - Start of employee program\n",
      "DEBUG - Start of employee program\n",
      "DEBUG - Start of employee program\n",
      "DEBUG - Start of employee program\n",
      "DEBUG - Start of employee program\n",
      "2023-12-11 19:39:46,475 - __main__ - DEBUG - Start of employee program\n",
      "DEBUG - Start of employee program\n",
      "2023-12-11 19:39:46,483 - __main__ - DEBUG - End of employee program\n",
      "__main__ - DEBUG - End of employee program\n",
      "DEBUG - End of employee program\n",
      "DEBUG - End of employee program\n",
      "DEBUG - End of employee program\n",
      "DEBUG - End of employee program\n",
      "2023-12-11 19:39:46,483 - __main__ - DEBUG - End of employee program\n",
      "DEBUG - End of employee program\n",
      "2023-12-11 19:39:46,488 - __main__ - DEBUG - ######################\n",
      "__main__ - DEBUG - ######################\n",
      "DEBUG - ######################\n",
      "DEBUG - ######################\n",
      "DEBUG - ######################\n",
      "DEBUG - ######################\n",
      "2023-12-11 19:39:46,488 - __main__ - DEBUG - ######################\n",
      "DEBUG - ######################\n"
     ]
    },
    {
     "name": "stdout",
     "output_type": "stream",
     "text": [
      "Details saved successfully\n"
     ]
    }
   ],
   "source": [
    "import logging\n",
    "import saveToFile as STF\n",
    "\n",
    "\n",
    "logger = logging.getLogger(__name__)\n",
    "\n",
    "logger.setLevel(logging.DEBUG)\n",
    "\n",
    "f=logging.Formatter('%(levelname)s - %(message)s')\n",
    "\n",
    "fh = logging.FileHandler('employee.log')\n",
    "fh.setFormatter(f)\n",
    "\n",
    "logger.addHandler(fh)\n",
    "\n",
    "\n",
    "stream_handler = logging.StreamHandler()\n",
    "\n",
    "logger.addHandler(stream_handler)\n",
    "\n",
    "stream_handler.setFormatter(f)\n",
    "\n",
    "#logging.basicConfig(filename='employee.log',level=logging.DEBUG,format='%(asctime)s:%(levelname)s:%(message)s')\n",
    "logger.debug('Start of employee program')\n",
    "\n",
    "name = 'bhumika'\n",
    "age = 23\n",
    "email = 'sawadebhumika@gmail.com'\n",
    "\n",
    "if STF.namecheck(name) is True:\n",
    "    STF.saveData(name,age,email)\n",
    "else:\n",
    "    logger.critical('Employee check failed')\n",
    "\n",
    "\n",
    "logger.debug('End of employee program')\n",
    "logger.debug('######################')"
   ]
  },
  {
   "cell_type": "code",
   "execution_count": 36,
   "id": "961c81cd",
   "metadata": {},
   "outputs": [],
   "source": [
    "# saveToFile.py and employee.py present in current repository"
   ]
  },
  {
   "cell_type": "code",
   "execution_count": null,
   "id": "2222889e",
   "metadata": {},
   "outputs": [],
   "source": []
  }
 ],
 "metadata": {
  "kernelspec": {
   "display_name": "Python 3 (ipykernel)",
   "language": "python",
   "name": "python3"
  },
  "language_info": {
   "codemirror_mode": {
    "name": "ipython",
    "version": 3
   },
   "file_extension": ".py",
   "mimetype": "text/x-python",
   "name": "python",
   "nbconvert_exporter": "python",
   "pygments_lexer": "ipython3",
   "version": "3.10.9"
  }
 },
 "nbformat": 4,
 "nbformat_minor": 5
}

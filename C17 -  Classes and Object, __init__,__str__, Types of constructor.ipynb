{
 "cells": [
  {
   "cell_type": "markdown",
   "id": "030a192a",
   "metadata": {},
   "source": [
    "    OOP (Object Oriented Programme) - \n",
    "    we write the programme in terms of classes and objects"
   ]
  },
  {
   "cell_type": "markdown",
   "id": "833584f7",
   "metadata": {},
   "source": [
    "    scripting - whatever the code we have written we are executing it line by line \n",
    "    Python supports both scripting and OOPs"
   ]
  },
  {
   "cell_type": "markdown",
   "id": "dc53c44a",
   "metadata": {},
   "source": [
    "    object - is a real world entity that is sorrounded by us and each object has the property and the functionality associated with it"
   ]
  },
  {
   "cell_type": "markdown",
   "id": "9b6d4e3a",
   "metadata": {},
   "source": [
    "    class is a blueprint to create that particular object , if we have a blueprint we can create multiple object of it\n",
    "    class is a  blueprint or a code template for object creation\n",
    "    object - An object is  instance of a class "
   ]
  },
  {
   "cell_type": "markdown",
   "id": "e2a5e7fd",
   "metadata": {},
   "source": [
    "    properties of object ---> attributes, instance variable\n",
    "    functionality of object ---> method/function()"
   ]
  },
  {
   "cell_type": "code",
   "execution_count": null,
   "id": "3b9c808c",
   "metadata": {},
   "outputs": [],
   "source": []
  },
  {
   "cell_type": "code",
   "execution_count": 4,
   "id": "e7180151",
   "metadata": {},
   "outputs": [],
   "source": [
    "#create class\n",
    "class Emp:\n",
    "    pass"
   ]
  },
  {
   "cell_type": "code",
   "execution_count": 5,
   "id": "64c3f931",
   "metadata": {},
   "outputs": [],
   "source": [
    "#create object\n",
    "e = Emp()    # creating the object of the class with syntax Emp \n",
    "             # e - object"
   ]
  },
  {
   "cell_type": "code",
   "execution_count": 6,
   "id": "7991799b",
   "metadata": {},
   "outputs": [
    {
     "name": "stdout",
     "output_type": "stream",
     "text": [
      "<class '__main__.Emp'>\n"
     ]
    },
    {
     "data": {
      "text/plain": [
       "__main__.Emp"
      ]
     },
     "execution_count": 6,
     "metadata": {},
     "output_type": "execute_result"
    }
   ],
   "source": [
    "print(type(e))\n",
    "type(e)"
   ]
  },
  {
   "cell_type": "code",
   "execution_count": 7,
   "id": "7a909b69",
   "metadata": {},
   "outputs": [],
   "source": [
    "class Robot:\n",
    "    \n",
    "    def introduce_self(self):         #method\n",
    "        print(\"My name is \" + self.name)"
   ]
  },
  {
   "cell_type": "code",
   "execution_count": 8,
   "id": "b0923776",
   "metadata": {},
   "outputs": [],
   "source": [
    "r1 = Robot()"
   ]
  },
  {
   "cell_type": "code",
   "execution_count": 9,
   "id": "da928633",
   "metadata": {},
   "outputs": [
    {
     "data": {
      "text/plain": [
       "<__main__.Robot at 0x1edc0aaae90>"
      ]
     },
     "execution_count": 9,
     "metadata": {},
     "output_type": "execute_result"
    }
   ],
   "source": [
    "r1"
   ]
  },
  {
   "cell_type": "code",
   "execution_count": 10,
   "id": "5c205ea2",
   "metadata": {},
   "outputs": [],
   "source": [
    "r1.name = \"abc\"  # instance"
   ]
  },
  {
   "cell_type": "code",
   "execution_count": null,
   "id": "a5ac9d96",
   "metadata": {},
   "outputs": [],
   "source": [
    "r1. #tab"
   ]
  },
  {
   "cell_type": "code",
   "execution_count": 11,
   "id": "11dba125",
   "metadata": {},
   "outputs": [
    {
     "name": "stdout",
     "output_type": "stream",
     "text": [
      "My name is abc\n"
     ]
    }
   ],
   "source": [
    "r1.introduce_self()  #tab"
   ]
  },
  {
   "cell_type": "code",
   "execution_count": 12,
   "id": "7c454cd5",
   "metadata": {},
   "outputs": [],
   "source": [
    "r2 = Robot()\n",
    "r2.name = \"xyz\""
   ]
  },
  {
   "cell_type": "code",
   "execution_count": 13,
   "id": "9e18aa26",
   "metadata": {},
   "outputs": [
    {
     "name": "stdout",
     "output_type": "stream",
     "text": [
      "My name is xyz\n"
     ]
    }
   ],
   "source": [
    "r2.introduce_self()"
   ]
  },
  {
   "cell_type": "code",
   "execution_count": 14,
   "id": "e0183f24",
   "metadata": {},
   "outputs": [
    {
     "data": {
      "text/plain": [
       "'xyz'"
      ]
     },
     "execution_count": 14,
     "metadata": {},
     "output_type": "execute_result"
    }
   ],
   "source": [
    "r2.name"
   ]
  },
  {
   "cell_type": "code",
   "execution_count": 15,
   "id": "36dad4ad",
   "metadata": {},
   "outputs": [
    {
     "data": {
      "text/plain": [
       "['__class__',\n",
       " '__delattr__',\n",
       " '__dict__',\n",
       " '__dir__',\n",
       " '__doc__',\n",
       " '__eq__',\n",
       " '__format__',\n",
       " '__ge__',\n",
       " '__getattribute__',\n",
       " '__gt__',\n",
       " '__hash__',\n",
       " '__init__',\n",
       " '__init_subclass__',\n",
       " '__le__',\n",
       " '__lt__',\n",
       " '__module__',\n",
       " '__ne__',\n",
       " '__new__',\n",
       " '__reduce__',\n",
       " '__reduce_ex__',\n",
       " '__repr__',\n",
       " '__setattr__',\n",
       " '__sizeof__',\n",
       " '__str__',\n",
       " '__subclasshook__',\n",
       " '__weakref__',\n",
       " 'introduce_self',\n",
       " 'name']"
      ]
     },
     "execution_count": 15,
     "metadata": {},
     "output_type": "execute_result"
    }
   ],
   "source": [
    "dir(r1) # see 'introduce_self','name'"
   ]
  },
  {
   "cell_type": "code",
   "execution_count": 16,
   "id": "b0dc7e70",
   "metadata": {},
   "outputs": [],
   "source": [
    "r3 = Robot()"
   ]
  },
  {
   "cell_type": "code",
   "execution_count": 17,
   "id": "d46d00a2",
   "metadata": {
    "scrolled": true
   },
   "outputs": [
    {
     "ename": "AttributeError",
     "evalue": "'Robot' object has no attribute 'name'",
     "output_type": "error",
     "traceback": [
      "\u001b[1;31m---------------------------------------------------------------------------\u001b[0m",
      "\u001b[1;31mAttributeError\u001b[0m                            Traceback (most recent call last)",
      "Cell \u001b[1;32mIn[17], line 1\u001b[0m\n\u001b[1;32m----> 1\u001b[0m \u001b[43mr3\u001b[49m\u001b[38;5;241;43m.\u001b[39;49m\u001b[43mintroduce_self\u001b[49m\u001b[43m(\u001b[49m\u001b[43m)\u001b[49m\n",
      "Cell \u001b[1;32mIn[7], line 4\u001b[0m, in \u001b[0;36mRobot.introduce_self\u001b[1;34m(self)\u001b[0m\n\u001b[0;32m      3\u001b[0m \u001b[38;5;28;01mdef\u001b[39;00m \u001b[38;5;21mintroduce_self\u001b[39m(\u001b[38;5;28mself\u001b[39m):         \u001b[38;5;66;03m#method\u001b[39;00m\n\u001b[1;32m----> 4\u001b[0m     \u001b[38;5;28mprint\u001b[39m(\u001b[38;5;124m\"\u001b[39m\u001b[38;5;124mMy name is \u001b[39m\u001b[38;5;124m\"\u001b[39m \u001b[38;5;241m+\u001b[39m \u001b[38;5;28;43mself\u001b[39;49m\u001b[38;5;241;43m.\u001b[39;49m\u001b[43mname\u001b[49m)\n",
      "\u001b[1;31mAttributeError\u001b[0m: 'Robot' object has no attribute 'name'"
     ]
    }
   ],
   "source": [
    "r3.introduce_self()"
   ]
  },
  {
   "cell_type": "markdown",
   "id": "031e852b",
   "metadata": {},
   "source": [
    "        we study the concept of constructor so that we can initialise the some property by default, there where __init__ method will  come"
   ]
  },
  {
   "cell_type": "code",
   "execution_count": 18,
   "id": "f3e93346",
   "metadata": {},
   "outputs": [],
   "source": [
    "class Robot:\n",
    "    def __init__(self,name,color,weight):\n",
    "        self.name = name\n",
    "        self.color = color\n",
    "        self.weight = weight\n",
    "    \n",
    "    \n",
    "    def introduce_self(self):         #method\n",
    "        print(\"My name is \" + self.name)\n",
    "    "
   ]
  },
  {
   "cell_type": "code",
   "execution_count": 19,
   "id": "0242c3fd",
   "metadata": {},
   "outputs": [],
   "source": [
    "r1 = Robot(\"bhumika\",\"black\",60)"
   ]
  },
  {
   "cell_type": "code",
   "execution_count": 20,
   "id": "34c02618",
   "metadata": {},
   "outputs": [],
   "source": [
    "r2 = Robot(\"bhumi\",\"blue\",40)"
   ]
  },
  {
   "cell_type": "code",
   "execution_count": 21,
   "id": "83803f16",
   "metadata": {},
   "outputs": [
    {
     "name": "stdout",
     "output_type": "stream",
     "text": [
      "My name is bhumika\n"
     ]
    }
   ],
   "source": [
    "r1.introduce_self()"
   ]
  },
  {
   "cell_type": "code",
   "execution_count": 22,
   "id": "5079e8a1",
   "metadata": {},
   "outputs": [
    {
     "data": {
      "text/plain": [
       "'black'"
      ]
     },
     "execution_count": 22,
     "metadata": {},
     "output_type": "execute_result"
    }
   ],
   "source": [
    "r1.color"
   ]
  },
  {
   "cell_type": "code",
   "execution_count": 23,
   "id": "86b5b9c9",
   "metadata": {},
   "outputs": [],
   "source": [
    "class Person:\n",
    "    \n",
    "    def __init__(self,name,gender,profession):\n",
    "        self.name = name\n",
    "        self.gender = gender\n",
    "        self.profession = profession\n",
    "    \n",
    "    def show(self):\n",
    "        print(\"Name :\",self.name,\"Gender :\",self.gender,\"Profession :\",self.profession)\n",
    "        \n",
    "    def work(self):\n",
    "        print(self.name,\"working as a\",self.profession)\n"
   ]
  },
  {
   "cell_type": "code",
   "execution_count": 24,
   "id": "48c7b6a0",
   "metadata": {},
   "outputs": [],
   "source": [
    "o1 = Person(\"bhumika\",\"F\",\"Data Analyst\")"
   ]
  },
  {
   "cell_type": "code",
   "execution_count": 25,
   "id": "53253a69",
   "metadata": {},
   "outputs": [
    {
     "name": "stdout",
     "output_type": "stream",
     "text": [
      "bhumika working as a Data Analyst\n"
     ]
    }
   ],
   "source": [
    "o1.work()"
   ]
  },
  {
   "cell_type": "code",
   "execution_count": 26,
   "id": "069be73c",
   "metadata": {},
   "outputs": [
    {
     "name": "stdout",
     "output_type": "stream",
     "text": [
      "Name : bhumika Gender : F Profession : Data Analyst\n"
     ]
    }
   ],
   "source": [
    "o1.show()"
   ]
  },
  {
   "cell_type": "code",
   "execution_count": 27,
   "id": "57c2abbf",
   "metadata": {},
   "outputs": [],
   "source": [
    "class Emp:\n",
    "    \n",
    "    def __init__(self):\n",
    "        print(id(self))\n",
    "        self.age = 25\n",
    "        self.name = \"bhumika\"\n",
    "        self.salary = 30000"
   ]
  },
  {
   "cell_type": "code",
   "execution_count": 28,
   "id": "f017029e",
   "metadata": {},
   "outputs": [
    {
     "name": "stdout",
     "output_type": "stream",
     "text": [
      "2120651583504\n"
     ]
    }
   ],
   "source": [
    "e1 = Emp()"
   ]
  },
  {
   "cell_type": "code",
   "execution_count": 29,
   "id": "1780db39",
   "metadata": {},
   "outputs": [
    {
     "data": {
      "text/plain": [
       "30000"
      ]
     },
     "execution_count": 29,
     "metadata": {},
     "output_type": "execute_result"
    }
   ],
   "source": [
    "e1.salary"
   ]
  },
  {
   "cell_type": "code",
   "execution_count": 30,
   "id": "e19de61f",
   "metadata": {},
   "outputs": [],
   "source": [
    "e1.weight = 40"
   ]
  },
  {
   "cell_type": "code",
   "execution_count": 31,
   "id": "a1ed15bd",
   "metadata": {},
   "outputs": [
    {
     "data": {
      "text/plain": [
       "40"
      ]
     },
     "execution_count": 31,
     "metadata": {},
     "output_type": "execute_result"
    }
   ],
   "source": [
    "e1.weight"
   ]
  },
  {
   "cell_type": "code",
   "execution_count": 32,
   "id": "79815bee",
   "metadata": {},
   "outputs": [],
   "source": [
    "# circumference (2 pie r) and area of circle (pie r^2)\n",
    "\n",
    "class Circle:\n",
    "    \n",
    "    def __init__(self,radius):\n",
    "        self.radius = radius\n",
    "        \n",
    "    def circumference(self):\n",
    "        print(\"Circumference:\",2*3.14*self.radius)\n",
    "        \n",
    "    def area(self):\n",
    "        print(\"Area of circle:\",3.14*self.radius*self.radius)\n",
    "        "
   ]
  },
  {
   "cell_type": "code",
   "execution_count": 33,
   "id": "ca989d4f",
   "metadata": {},
   "outputs": [],
   "source": [
    "r = Circle(4)"
   ]
  },
  {
   "cell_type": "code",
   "execution_count": 34,
   "id": "6052bfc9",
   "metadata": {},
   "outputs": [
    {
     "name": "stdout",
     "output_type": "stream",
     "text": [
      "Area of circle: 50.24\n"
     ]
    }
   ],
   "source": [
    "r.area()"
   ]
  },
  {
   "cell_type": "code",
   "execution_count": 35,
   "id": "cceab4c4",
   "metadata": {},
   "outputs": [
    {
     "name": "stdout",
     "output_type": "stream",
     "text": [
      "Circumference: 25.12\n"
     ]
    }
   ],
   "source": [
    "r.circumference()"
   ]
  },
  {
   "cell_type": "code",
   "execution_count": 36,
   "id": "35950073",
   "metadata": {},
   "outputs": [],
   "source": [
    "# create class Bankaccount\n",
    "# create consructor acc.no., name, balance\n",
    "# deposit()\n",
    "# withdraw()\n",
    "# display account details\n",
    "\n",
    "\n",
    "class Bankaccount:\n",
    "    \n",
    "    def __init__(self,account_number,name,balance):\n",
    "        self.account_number = account_number\n",
    "        self.name = name\n",
    "        self.balance = balance\n",
    "        \n",
    "    def deposit(self,deposit_amount):\n",
    "        self.deposit_amount = deposit_amount\n",
    "        self.balance = self.balance + self.deposit_amount\n",
    "        print(\"Total Amount:\",self.balance)\n",
    "        \n",
    "    def withdraw(self,withdraw_amount):\n",
    "        self.withdraw_amount = withdraw_amount\n",
    "        self.balance = self.balance - self.withdraw_amount\n",
    "        print(\"Total Amount:\",self.balance)\n",
    "        \n",
    "    def account_details(self):\n",
    "        print(\"Name :\",self.name)\n",
    "        print(\"Account Number :\",self.account_number)\n",
    "        print(\"Balance : \",self.balance)\n",
    "        \n",
    "        "
   ]
  },
  {
   "cell_type": "code",
   "execution_count": 37,
   "id": "d6615a24",
   "metadata": {},
   "outputs": [],
   "source": [
    "bank = Bankaccount(123,\"bhumika\",45000)"
   ]
  },
  {
   "cell_type": "code",
   "execution_count": 38,
   "id": "e80f7a00",
   "metadata": {},
   "outputs": [
    {
     "name": "stdout",
     "output_type": "stream",
     "text": [
      "Total Amount: 46000\n"
     ]
    }
   ],
   "source": [
    "bank.deposit(1000)"
   ]
  },
  {
   "cell_type": "code",
   "execution_count": 39,
   "id": "2d160da3",
   "metadata": {},
   "outputs": [
    {
     "name": "stdout",
     "output_type": "stream",
     "text": [
      "Total Amount: 45000\n"
     ]
    }
   ],
   "source": [
    "bank.withdraw(1000)"
   ]
  },
  {
   "cell_type": "code",
   "execution_count": 40,
   "id": "42bb00de",
   "metadata": {},
   "outputs": [
    {
     "name": "stdout",
     "output_type": "stream",
     "text": [
      "Name : bhumika\n",
      "Account Number : 123\n",
      "Balance :  45000\n"
     ]
    }
   ],
   "source": [
    "bank.account_details()"
   ]
  },
  {
   "cell_type": "code",
   "execution_count": null,
   "id": "5c41339f",
   "metadata": {},
   "outputs": [],
   "source": []
  },
  {
   "cell_type": "code",
   "execution_count": 41,
   "id": "fc0357e8",
   "metadata": {},
   "outputs": [],
   "source": [
    "class Car:\n",
    "    pass"
   ]
  },
  {
   "cell_type": "code",
   "execution_count": 42,
   "id": "348b3f74",
   "metadata": {},
   "outputs": [],
   "source": [
    "audi = Car()"
   ]
  },
  {
   "cell_type": "code",
   "execution_count": null,
   "id": "d9f230c5",
   "metadata": {},
   "outputs": [],
   "source": [
    "audi.    # tab"
   ]
  },
  {
   "cell_type": "code",
   "execution_count": 45,
   "id": "949a6ae0",
   "metadata": {},
   "outputs": [],
   "source": [
    "# In each class we have basically two major things, methods and attributes\n",
    "#  -----class variable, instance variable, variable, attributes\n",
    "#  -----methode(functions)"
   ]
  },
  {
   "cell_type": "code",
   "execution_count": 46,
   "id": "22842c2d",
   "metadata": {},
   "outputs": [],
   "source": [
    "audi.mileage = 10\n",
    "audi.year = 2006\n",
    "audi.make = 345\n",
    "audi.model = \"abc\""
   ]
  },
  {
   "cell_type": "code",
   "execution_count": null,
   "id": "953c9135",
   "metadata": {},
   "outputs": [],
   "source": [
    "audi.  # tab,  all the instance variable we cav ascess"
   ]
  },
  {
   "cell_type": "code",
   "execution_count": 47,
   "id": "9c2da741",
   "metadata": {},
   "outputs": [
    {
     "data": {
      "text/plain": [
       "10"
      ]
     },
     "execution_count": 47,
     "metadata": {},
     "output_type": "execute_result"
    }
   ],
   "source": [
    "audi.mileage"
   ]
  },
  {
   "cell_type": "code",
   "execution_count": 48,
   "id": "38cacc04",
   "metadata": {},
   "outputs": [],
   "source": [
    "nano = Car()"
   ]
  },
  {
   "cell_type": "code",
   "execution_count": 49,
   "id": "d50f25dc",
   "metadata": {},
   "outputs": [],
   "source": [
    "nano.mileage = 67\n",
    "nano.year = 2007\n",
    "nano.make = 67\n",
    "nano.model = \"xyz\""
   ]
  },
  {
   "cell_type": "code",
   "execution_count": 50,
   "id": "5914acc5",
   "metadata": {},
   "outputs": [
    {
     "data": {
      "text/plain": [
       "'xyz'"
      ]
     },
     "execution_count": 50,
     "metadata": {},
     "output_type": "execute_result"
    }
   ],
   "source": [
    "nano.model"
   ]
  },
  {
   "cell_type": "code",
   "execution_count": 51,
   "id": "8d7b9877",
   "metadata": {},
   "outputs": [],
   "source": [
    "class Car:\n",
    "    \n",
    "    def __init__(self,mileage,year,make,model):\n",
    "        self.mileage = mileage\n",
    "        self.year = year\n",
    "        self.make = make\n",
    "        self.model = model"
   ]
  },
  {
   "cell_type": "code",
   "execution_count": 52,
   "id": "2ab2fd13",
   "metadata": {},
   "outputs": [],
   "source": [
    "nano1 = Car(10,2009,45,\"mno\")\n",
    "nano2 = Car(20,2008,48,\"abc\")\n",
    "nano3 = Car(30,2007,49,\"xyz\")\n",
    "nano4 = Car(40,2006,45,\"klm\")\n",
    "nano5 = Car(50,2005,50,\"uvw\")\n",
    "nano6 = Car(60,2004,60,\"rev\")"
   ]
  },
  {
   "cell_type": "code",
   "execution_count": 54,
   "id": "5261b5e4",
   "metadata": {},
   "outputs": [],
   "source": [
    "# whenever you create any method in a class the first parameter is always pointer (self), self is associated with that particular object"
   ]
  },
  {
   "cell_type": "code",
   "execution_count": 55,
   "id": "e38b8d90",
   "metadata": {},
   "outputs": [],
   "source": [
    "class Car:\n",
    "    \n",
    "    def __init__(a,m,y,ma,mo):\n",
    "        a.mileage = m\n",
    "        a.year = y\n",
    "        a.make = ma\n",
    "        a.model = mo\n",
    "        \n",
    "    def age(b,current_year):\n",
    "        return current_year - b.year\n",
    "    \n",
    "    def milage(self):\n",
    "        return(\"Print a mileage of the car\", self.mileage)\n",
    "    \n",
    "    def __str__(c):\n",
    "        return \"This is from class I have created\"\n",
    "        \n",
    "    "
   ]
  },
  {
   "cell_type": "code",
   "execution_count": 56,
   "id": "6d9ac81e",
   "metadata": {},
   "outputs": [],
   "source": [
    "nano23 = Car(10,2009,45,\"bhumissae\")"
   ]
  },
  {
   "cell_type": "code",
   "execution_count": 57,
   "id": "c310e6c4",
   "metadata": {},
   "outputs": [
    {
     "data": {
      "text/plain": [
       "11"
      ]
     },
     "execution_count": 57,
     "metadata": {},
     "output_type": "execute_result"
    }
   ],
   "source": [
    "nano23.age(2020)"
   ]
  },
  {
   "cell_type": "code",
   "execution_count": 58,
   "id": "7ca54647",
   "metadata": {},
   "outputs": [
    {
     "data": {
      "text/plain": [
       "('Print a mileage of the car', 10)"
      ]
     },
     "execution_count": 58,
     "metadata": {},
     "output_type": "execute_result"
    }
   ],
   "source": [
    "nano23.milage()"
   ]
  },
  {
   "cell_type": "code",
   "execution_count": 59,
   "id": "9d70a604",
   "metadata": {},
   "outputs": [
    {
     "name": "stdout",
     "output_type": "stream",
     "text": [
      "This is from class I have created\n"
     ]
    }
   ],
   "source": [
    "print(nano23)  # gives memory instance i.e memory location"
   ]
  },
  {
   "cell_type": "code",
   "execution_count": 60,
   "id": "7070f9b7",
   "metadata": {},
   "outputs": [
    {
     "name": "stdout",
     "output_type": "stream",
     "text": [
      "This is from class I have created\n"
     ]
    }
   ],
   "source": [
    "# __str__ will return some doc string, showing information regarding the particular object \n",
    "print(nano23)   # This we get after adding __str__ (special method)"
   ]
  },
  {
   "cell_type": "code",
   "execution_count": 61,
   "id": "0322feb8",
   "metadata": {},
   "outputs": [],
   "source": [
    "class Person:\n",
    "    \n",
    "    def __init__(self,first_name,last_name,age):\n",
    "        self.first_name = first_name\n",
    "        self.last_name = last_name\n",
    "        self.age = age\n",
    "        \n",
    "    def __str__(self):\n",
    "        return \"This is the person class\"     "
   ]
  },
  {
   "cell_type": "code",
   "execution_count": 62,
   "id": "dfc62a79",
   "metadata": {},
   "outputs": [],
   "source": [
    "person = Person(\"bhumika\",\"sawade\",23)"
   ]
  },
  {
   "cell_type": "code",
   "execution_count": 63,
   "id": "e8748b27",
   "metadata": {},
   "outputs": [
    {
     "name": "stdout",
     "output_type": "stream",
     "text": [
      "This is the person class\n"
     ]
    }
   ],
   "source": [
    "print(person)"
   ]
  },
  {
   "cell_type": "code",
   "execution_count": 64,
   "id": "3cfd639e",
   "metadata": {},
   "outputs": [
    {
     "name": "stdout",
     "output_type": "stream",
     "text": [
      "This is the person class\n"
     ]
    }
   ],
   "source": [
    "print(person)  # after adding special method __str__, customise message"
   ]
  },
  {
   "cell_type": "code",
   "execution_count": 65,
   "id": "f725923e",
   "metadata": {},
   "outputs": [
    {
     "data": {
      "text/plain": [
       "'bhumika'"
      ]
     },
     "execution_count": 65,
     "metadata": {},
     "output_type": "execute_result"
    }
   ],
   "source": [
    "person.first_name"
   ]
  },
  {
   "cell_type": "code",
   "execution_count": 66,
   "id": "c43f49fb",
   "metadata": {},
   "outputs": [],
   "source": [
    "class Student:\n",
    "    \n",
    "    def __init__(self,name, roll_no, joining_date, current_topic):\n",
    "        self.name = name\n",
    "        self.roll_no = roll_no\n",
    "        self.joining_date = joining_date\n",
    "        self.current_topic = current_topic\n",
    "        \n",
    "    def cur_topic(self):\n",
    "        print(\"Current topic discussed in class: \",self.current_topic)\n",
    "        \n",
    "    def str_rollno(self):\n",
    "        \n",
    "        try:\n",
    "            if type(self.roll_no) == str:\n",
    "                print(\"Do nothing\")\n",
    "                \n",
    "            else: \n",
    "                return str(self.roll_no)\n",
    "        except Exception as e:\n",
    "            print(\"This s my error message\",e)\n",
    "            \n",
    "    def duration(self,current_date):\n",
    "        print(\"Duration of student in my class:\",current_date - self.joining_date)\n",
    "        \n",
    "    def __str__(self):\n",
    "        return \"this is student class\""
   ]
  },
  {
   "cell_type": "code",
   "execution_count": 67,
   "id": "12967da7",
   "metadata": {},
   "outputs": [],
   "source": [
    "s1 = Student(\"bhumik\",23,2007,\"data science\")"
   ]
  },
  {
   "cell_type": "code",
   "execution_count": 68,
   "id": "85129431",
   "metadata": {},
   "outputs": [
    {
     "name": "stdout",
     "output_type": "stream",
     "text": [
      "this is student class\n"
     ]
    }
   ],
   "source": [
    "print(s1)"
   ]
  },
  {
   "cell_type": "code",
   "execution_count": 69,
   "id": "2fae5356",
   "metadata": {},
   "outputs": [
    {
     "data": {
      "text/plain": [
       "2007"
      ]
     },
     "execution_count": 69,
     "metadata": {},
     "output_type": "execute_result"
    }
   ],
   "source": [
    "s1.joining_date"
   ]
  },
  {
   "cell_type": "code",
   "execution_count": 70,
   "id": "d2502ac3",
   "metadata": {},
   "outputs": [
    {
     "name": "stdout",
     "output_type": "stream",
     "text": [
      "Duration of student in my class: 1\n"
     ]
    }
   ],
   "source": [
    "s1.duration(2008)"
   ]
  },
  {
   "cell_type": "code",
   "execution_count": 71,
   "id": "7ece3022",
   "metadata": {},
   "outputs": [
    {
     "data": {
      "text/plain": [
       "'23'"
      ]
     },
     "execution_count": 71,
     "metadata": {},
     "output_type": "execute_result"
    }
   ],
   "source": [
    "s1.str_rollno()"
   ]
  },
  {
   "cell_type": "code",
   "execution_count": 72,
   "id": "0eb00133",
   "metadata": {},
   "outputs": [],
   "source": [
    "class Calculator:\n",
    "    \n",
    "    def __init__(self,a,b):\n",
    "        self.a = a\n",
    "        self.b = b\n",
    "                \n",
    "    def add(self):\n",
    "        print(\"Addition :\",self.a + self.b)\n",
    "              \n",
    "    def subtract(self):\n",
    "        print(\"Subtraction:\",self.a - self.b)\n",
    "              \n",
    "    def multiply(self):\n",
    "        print(\"Multiply:\",self.a * self.b)\n",
    "        \n",
    "    def divide(self):\n",
    "        print(\"Division:\", self.a / self.b )\n",
    "        \n",
    "              "
   ]
  },
  {
   "cell_type": "code",
   "execution_count": 73,
   "id": "11215ece",
   "metadata": {},
   "outputs": [],
   "source": [
    "result = Calculator(7,3)"
   ]
  },
  {
   "cell_type": "code",
   "execution_count": 74,
   "id": "2e245e36",
   "metadata": {},
   "outputs": [
    {
     "name": "stdout",
     "output_type": "stream",
     "text": [
      "Multiply: 21\n"
     ]
    }
   ],
   "source": [
    "result.multiply()"
   ]
  },
  {
   "cell_type": "code",
   "execution_count": 75,
   "id": "83dde204",
   "metadata": {},
   "outputs": [],
   "source": [
    "#Default Constructor\n",
    "class Student:\n",
    "    \n",
    "    def who(self):\n",
    "        print(\"I am a Student\")\n",
    "        "
   ]
  },
  {
   "cell_type": "code",
   "execution_count": 76,
   "id": "fa77b9dd",
   "metadata": {},
   "outputs": [],
   "source": [
    "s1 = Student()"
   ]
  },
  {
   "cell_type": "code",
   "execution_count": 77,
   "id": "12fdd9b6",
   "metadata": {},
   "outputs": [
    {
     "name": "stdout",
     "output_type": "stream",
     "text": [
      "I am a Student\n"
     ]
    }
   ],
   "source": [
    "s1.who()"
   ]
  },
  {
   "cell_type": "code",
   "execution_count": 78,
   "id": "277faf47",
   "metadata": {},
   "outputs": [],
   "source": [
    "# Non parametized constructor\n",
    "\n",
    "class Company:\n",
    "    \n",
    "    def __init__(self):\n",
    "        self.name = \"ineuron\"\n",
    "        self.address = \"Banglore\"\n",
    "        \n",
    "    def show(self):\n",
    "        print(\"Name :\",self.name,\"Address :\",self.address)"
   ]
  },
  {
   "cell_type": "code",
   "execution_count": 79,
   "id": "e6597f98",
   "metadata": {},
   "outputs": [],
   "source": [
    "cmp = Company()"
   ]
  },
  {
   "cell_type": "code",
   "execution_count": 80,
   "id": "2f17cfeb",
   "metadata": {},
   "outputs": [
    {
     "name": "stdout",
     "output_type": "stream",
     "text": [
      "Name : ineuron Address : Banglore\n"
     ]
    }
   ],
   "source": [
    "cmp.show()"
   ]
  },
  {
   "cell_type": "code",
   "execution_count": 81,
   "id": "22bde1cd",
   "metadata": {},
   "outputs": [],
   "source": [
    "# Parametized constructor\n",
    "\n",
    "class Pub_mod:\n",
    "    \n",
    "    def __init__(self,name,age):\n",
    "        self.name = name\n",
    "        self.age = age\n",
    "        \n",
    "    def aged(self):\n",
    "        print(\"Age:\",self.age)"
   ]
  },
  {
   "cell_type": "code",
   "execution_count": 82,
   "id": "19a9b177",
   "metadata": {},
   "outputs": [],
   "source": [
    "c1 = Pub_mod(\"bhumika\",23)"
   ]
  },
  {
   "cell_type": "code",
   "execution_count": 83,
   "id": "f365956d",
   "metadata": {},
   "outputs": [
    {
     "name": "stdout",
     "output_type": "stream",
     "text": [
      "Age: 23\n"
     ]
    }
   ],
   "source": [
    "c1.aged()"
   ]
  },
  {
   "cell_type": "code",
   "execution_count": null,
   "id": "d8bb7bcc",
   "metadata": {},
   "outputs": [],
   "source": []
  }
 ],
 "metadata": {
  "kernelspec": {
   "display_name": "Python 3 (ipykernel)",
   "language": "python",
   "name": "python3"
  },
  "language_info": {
   "codemirror_mode": {
    "name": "ipython",
    "version": 3
   },
   "file_extension": ".py",
   "mimetype": "text/x-python",
   "name": "python",
   "nbconvert_exporter": "python",
   "pygments_lexer": "ipython3",
   "version": "3.10.9"
  }
 },
 "nbformat": 4,
 "nbformat_minor": 5
}

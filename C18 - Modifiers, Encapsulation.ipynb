{
 "cells": [
  {
   "cell_type": "markdown",
   "id": "35e91d96",
   "metadata": {},
   "source": [
    "    In  python we can hide certain variable, and we can ascess those variable wih the help of modifiers:\n",
    "    private modifiers - public modifiers- protected modifiers"
   ]
  },
  {
   "cell_type": "markdown",
   "id": "6716bb84",
   "metadata": {},
   "source": [
    "    protected(single _) - we ascess this variable within the class and subclass\n",
    "    private(dooube __) - we ascesss this only withinn a class"
   ]
  },
  {
   "cell_type": "code",
   "execution_count": 6,
   "id": "a9269574",
   "metadata": {},
   "outputs": [],
   "source": [
    "class Pub_mod:\n",
    "    \n",
    "    def __init__(self,name,age,weight):\n",
    "        self.__name = name  # private variable\n",
    "        self.age = age\n",
    "        self._weight = weight  # protected variable\n",
    "        \n",
    "        \n",
    "    def aged(self):\n",
    "        print(\"Age:\",self.age)\n",
    "    \n",
    "    def weighted(self):\n",
    "        print(\"Weight:\",self.weight)"
   ]
  },
  {
   "cell_type": "code",
   "execution_count": 7,
   "id": "88b41ef1",
   "metadata": {},
   "outputs": [],
   "source": [
    "c1 = Pub_mod(\"bhumika\",23,40)"
   ]
  },
  {
   "cell_type": "code",
   "execution_count": 8,
   "id": "16d13b4d",
   "metadata": {},
   "outputs": [
    {
     "name": "stdout",
     "output_type": "stream",
     "text": [
      "Age: 23\n"
     ]
    }
   ],
   "source": [
    "c1.aged()"
   ]
  },
  {
   "cell_type": "code",
   "execution_count": null,
   "id": "77e21af3",
   "metadata": {},
   "outputs": [],
   "source": [
    "c1.  # tab, here we cannot see name instance and weight instance"
   ]
  },
  {
   "cell_type": "markdown",
   "id": "29c5bde8",
   "metadata": {},
   "source": [
    "      So, in real time we can use to hide some data, we can hide certain variaables from the users\n",
    "    \n",
    "    In ,OOPs programomg we have the concept of encapsulation, we are grouping the variables and method into single class i.e bundling the methods and attirbute in single unit....with the help of modifiers we can achieve encapsulation\n",
    "    \n",
    "    - Advantages of Encapsulation:\n",
    "    - to hide the data\n",
    "    - to work independently so that the existing class doesn't depend on any other classes"
   ]
  },
  {
   "cell_type": "code",
   "execution_count": 10,
   "id": "d172643c",
   "metadata": {},
   "outputs": [],
   "source": [
    "class Rectangle:\n",
    "    \n",
    "    def __init__(self):\n",
    "        self.__length = 5\n",
    "        self.__breadth = 3\n",
    "        \n",
    "        print(\"Length:\",self.__length)\n",
    "        print(\"Breadth:\",self.__breadth)"
   ]
  },
  {
   "cell_type": "code",
   "execution_count": 11,
   "id": "7c36c453",
   "metadata": {},
   "outputs": [
    {
     "name": "stdout",
     "output_type": "stream",
     "text": [
      "Length: 5\n",
      "Breadth: 3\n"
     ]
    }
   ],
   "source": [
    "r1 = Rectangle()  "
   ]
  },
  {
   "cell_type": "code",
   "execution_count": null,
   "id": "7bba2f6a",
   "metadata": {},
   "outputs": [],
   "source": [
    "r1.   #tab, cannot see length and breadth and above we can see it , it means it accesible to that particular class not the object"
   ]
  },
  {
   "cell_type": "code",
   "execution_count": 12,
   "id": "8ed928e7",
   "metadata": {},
   "outputs": [
    {
     "name": "stdout",
     "output_type": "stream",
     "text": [
      "Length: 5\n",
      "Breadth: 3\n",
      "5\n"
     ]
    }
   ],
   "source": [
    "class Rectangle:\n",
    "    \n",
    "    def __init__(self):\n",
    "        self.length = 5\n",
    "        self.__breadth = 3\n",
    "        \n",
    "        print(\"Length:\",self.length)\n",
    "        print(\"Breadth:\",self.__breadth)\n",
    "    \n",
    "    def show(self):\n",
    "        print(\"This is printing private variable: \",self.__breadth)\n",
    "        \n",
    "\n",
    "rect = Rectangle()\n",
    "print(rect.length)\n",
    "# print(rect.breadth)\n"
   ]
  },
  {
   "cell_type": "code",
   "execution_count": 13,
   "id": "eed3d129",
   "metadata": {},
   "outputs": [
    {
     "name": "stdout",
     "output_type": "stream",
     "text": [
      "This is printing private variable:  3\n"
     ]
    }
   ],
   "source": [
    "rect.show()"
   ]
  },
  {
   "cell_type": "markdown",
   "id": "562a5d5a",
   "metadata": {},
   "source": [
    "    To asccess privte varible and proteceted variable we can create a method to to ascess that variables\n",
    "    it's one of the way to create a seperate method and print it"
   ]
  },
  {
   "cell_type": "code",
   "execution_count": 14,
   "id": "edd7ac28",
   "metadata": {},
   "outputs": [
    {
     "data": {
      "text/plain": [
       "3"
      ]
     },
     "execution_count": 14,
     "metadata": {},
     "output_type": "execute_result"
    }
   ],
   "source": [
    "# name mangling\n",
    "rect._Rectangle__breadth  # another way, here we have ascess outside of the class"
   ]
  },
  {
   "cell_type": "markdown",
   "id": "98874e5c",
   "metadata": {},
   "source": [
    "    syntax to ascess the private and protected variable\n",
    "    objectname._classname(ascessing variable name)  #private\n",
    "    objectname.(ascessing variable name)   #protected"
   ]
  },
  {
   "cell_type": "code",
   "execution_count": 15,
   "id": "bb5f0edb",
   "metadata": {},
   "outputs": [],
   "source": [
    "class Test:\n",
    "    \n",
    "    def __init__(self):\n",
    "        self.a = 6   #public\n",
    "        self._b = 5  #protected\n",
    "        self.__c = 8   # private\n",
    "        \n",
    "        print(\"Public: \",self.a)\n",
    "        print(\"Protected:\",self._b)\n",
    "        print(\"Private:\",self.__c)"
   ]
  },
  {
   "cell_type": "code",
   "execution_count": 16,
   "id": "70593e5f",
   "metadata": {},
   "outputs": [
    {
     "name": "stdout",
     "output_type": "stream",
     "text": [
      "Public:  6\n",
      "Protected: 5\n",
      "Private: 8\n"
     ]
    }
   ],
   "source": [
    "t1 = Test()"
   ]
  },
  {
   "cell_type": "code",
   "execution_count": 17,
   "id": "d8da7194",
   "metadata": {},
   "outputs": [
    {
     "data": {
      "text/plain": [
       "6"
      ]
     },
     "execution_count": 17,
     "metadata": {},
     "output_type": "execute_result"
    }
   ],
   "source": [
    "t1.a"
   ]
  },
  {
   "cell_type": "code",
   "execution_count": 18,
   "id": "45f797f7",
   "metadata": {},
   "outputs": [
    {
     "ename": "AttributeError",
     "evalue": "'Test' object has no attribute 'b'",
     "output_type": "error",
     "traceback": [
      "\u001b[1;31m---------------------------------------------------------------------------\u001b[0m",
      "\u001b[1;31mAttributeError\u001b[0m                            Traceback (most recent call last)",
      "Cell \u001b[1;32mIn[18], line 1\u001b[0m\n\u001b[1;32m----> 1\u001b[0m \u001b[43mt1\u001b[49m\u001b[38;5;241;43m.\u001b[39;49m\u001b[43mb\u001b[49m\n",
      "\u001b[1;31mAttributeError\u001b[0m: 'Test' object has no attribute 'b'"
     ]
    }
   ],
   "source": [
    "t1.b"
   ]
  },
  {
   "cell_type": "code",
   "execution_count": 19,
   "id": "2f2c1bb1",
   "metadata": {},
   "outputs": [
    {
     "ename": "AttributeError",
     "evalue": "'Test' object has no attribute 'c'",
     "output_type": "error",
     "traceback": [
      "\u001b[1;31m---------------------------------------------------------------------------\u001b[0m",
      "\u001b[1;31mAttributeError\u001b[0m                            Traceback (most recent call last)",
      "Cell \u001b[1;32mIn[19], line 1\u001b[0m\n\u001b[1;32m----> 1\u001b[0m \u001b[43mt1\u001b[49m\u001b[38;5;241;43m.\u001b[39;49m\u001b[43mc\u001b[49m\n",
      "\u001b[1;31mAttributeError\u001b[0m: 'Test' object has no attribute 'c'"
     ]
    }
   ],
   "source": [
    "t1.c"
   ]
  },
  {
   "cell_type": "code",
   "execution_count": 20,
   "id": "d8a1fc40",
   "metadata": {},
   "outputs": [],
   "source": [
    "class Test:\n",
    "    \n",
    "    def __init__(self):\n",
    "        self.a = 6   #public\n",
    "        self._b = 5  #protected\n",
    "        self.__c = 8   # private\n",
    "        \n",
    "        print(\"Public: \",self.a)\n",
    "        print(\"Protected:\",self._b)\n",
    "        print(\"Private:\",self.__c)\n",
    "        \n",
    "    def show(self):\n",
    "        print(\"Protected:\",self._b)\n",
    "        print(\"Private:\",self.__c)"
   ]
  },
  {
   "cell_type": "code",
   "execution_count": 21,
   "id": "4a35734d",
   "metadata": {},
   "outputs": [
    {
     "name": "stdout",
     "output_type": "stream",
     "text": [
      "Public:  6\n",
      "Protected: 5\n",
      "Private: 8\n"
     ]
    }
   ],
   "source": [
    "t2 = Test()"
   ]
  },
  {
   "cell_type": "code",
   "execution_count": 22,
   "id": "9fe10e20",
   "metadata": {
    "scrolled": false
   },
   "outputs": [
    {
     "name": "stdout",
     "output_type": "stream",
     "text": [
      "Protected: 5\n",
      "Private: 8\n"
     ]
    }
   ],
   "source": [
    "t2.show() # one way to ascess private and protected variable"
   ]
  },
  {
   "cell_type": "code",
   "execution_count": 23,
   "id": "713884da",
   "metadata": {},
   "outputs": [],
   "source": [
    "# other way ==== name_mangling"
   ]
  },
  {
   "cell_type": "code",
   "execution_count": 24,
   "id": "97fa3670",
   "metadata": {},
   "outputs": [
    {
     "data": {
      "text/plain": [
       "5"
      ]
     },
     "execution_count": 24,
     "metadata": {},
     "output_type": "execute_result"
    }
   ],
   "source": [
    "t2._b   #protected"
   ]
  },
  {
   "cell_type": "code",
   "execution_count": 25,
   "id": "8f468fec",
   "metadata": {},
   "outputs": [
    {
     "data": {
      "text/plain": [
       "8"
      ]
     },
     "execution_count": 25,
     "metadata": {},
     "output_type": "execute_result"
    }
   ],
   "source": [
    "t2._Test__c  #private"
   ]
  },
  {
   "cell_type": "code",
   "execution_count": 26,
   "id": "97bc527d",
   "metadata": {},
   "outputs": [
    {
     "name": "stdout",
     "output_type": "stream",
     "text": [
      "Public:  6\n",
      "Protected: 5\n",
      "Private: 8\n"
     ]
    }
   ],
   "source": [
    "t3 = Test()"
   ]
  },
  {
   "cell_type": "code",
   "execution_count": 27,
   "id": "739e0ab8",
   "metadata": {},
   "outputs": [],
   "source": [
    " class Tyres:\n",
    "        def __init__(self,branch,belted_bias,opt_pressure):\n",
    "            self.branch = branch\n",
    "            self.belted_bias = belted_bias\n",
    "            self.opt_pressure = opt_pressure\n",
    "            \n",
    "        def __str__(self):\n",
    "            return (\"Tyres: \\n \\tBranch :\" + self.branch +\n",
    "                   \"\\n \\t Belted Bias :\" + str(self.belted_bias) + \n",
    "                   \"\\n \\t Optimal Pressure :\" + str(self.opt_pressure))\n",
    "        \n",
    "class Engine:\n",
    "    def __init__(self,fuel_type,noise_level):\n",
    "        self.fuel_type = fuel_type\n",
    "        self.noise_level = noise_level\n",
    "        \n",
    "    def __str__(self):\n",
    "        return (\"Engine: \\n \\tFuel_Type :\" + self.fuel_type +\n",
    "                   \"\\n \\t Noise Level :\" + str(self.noise_level))\n",
    "    \n",
    "class Body:\n",
    "    def __init__(self,size):\n",
    "        self.size = size\n",
    "        \n",
    "    def __str__(self):\n",
    "        return (\"Body: \\n \\tSize :\" + self.size)\n",
    "    \n",
    "class Car:\n",
    "    def __init__(self,tyres,engine,body):\n",
    "        self.tyres = tyres\n",
    "        self.engine = engine\n",
    "        self.body = body\n",
    "    \n",
    "    def __str__(self):\n",
    "        return (str(self.tyres) + \"\\n\" + str(self.engine) + \"\\n\" + str(self.body))\n",
    "    "
   ]
  },
  {
   "cell_type": "code",
   "execution_count": 28,
   "id": "ff06340a",
   "metadata": {},
   "outputs": [],
   "source": [
    "t = Tyres(\"banglore\",True,2.0)\n",
    "e = Engine(\"Diesel\",3)\n",
    "b = Body(\"Medium\")"
   ]
  },
  {
   "cell_type": "code",
   "execution_count": 29,
   "id": "829b5fba",
   "metadata": {},
   "outputs": [
    {
     "name": "stdout",
     "output_type": "stream",
     "text": [
      "Tyres: \n",
      " \tBranch :banglore\n",
      " \t Belted Bias :True\n",
      " \t Optimal Pressure :2.0\n",
      "Engine: \n",
      " \tFuel_Type :Diesel\n",
      " \t Noise Level :3\n",
      "Body: \n",
      " \tSize :Medium\n"
     ]
    }
   ],
   "source": [
    "c = Car(t,e,b)\n",
    "print(c)"
   ]
  },
  {
   "cell_type": "code",
   "execution_count": 30,
   "id": "51deae18",
   "metadata": {},
   "outputs": [
    {
     "data": {
      "text/plain": [
       "<__main__.Car at 0x1210830c370>"
      ]
     },
     "execution_count": 30,
     "metadata": {},
     "output_type": "execute_result"
    }
   ],
   "source": [
    "c"
   ]
  },
  {
   "cell_type": "code",
   "execution_count": 31,
   "id": "7c25d558",
   "metadata": {},
   "outputs": [
    {
     "name": "stdout",
     "output_type": "stream",
     "text": [
      "Tyres: \n",
      " \tBranch :banglore\n",
      " \t Belted Bias :True\n",
      " \t Optimal Pressure :2.0\n"
     ]
    }
   ],
   "source": [
    "print(t)"
   ]
  },
  {
   "cell_type": "code",
   "execution_count": null,
   "id": "f826f4ff",
   "metadata": {},
   "outputs": [],
   "source": [
    "t.  #tab"
   ]
  },
  {
   "cell_type": "code",
   "execution_count": null,
   "id": "617e4682",
   "metadata": {},
   "outputs": [],
   "source": []
  }
 ],
 "metadata": {
  "kernelspec": {
   "display_name": "Python 3 (ipykernel)",
   "language": "python",
   "name": "python3"
  },
  "language_info": {
   "codemirror_mode": {
    "name": "ipython",
    "version": 3
   },
   "file_extension": ".py",
   "mimetype": "text/x-python",
   "name": "python",
   "nbconvert_exporter": "python",
   "pygments_lexer": "ipython3",
   "version": "3.10.9"
  }
 },
 "nbformat": 4,
 "nbformat_minor": 5
}

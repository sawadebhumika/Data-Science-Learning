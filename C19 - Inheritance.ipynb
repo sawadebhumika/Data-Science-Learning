{
 "cells": [
  {
   "cell_type": "markdown",
   "id": "732997e0",
   "metadata": {},
   "source": [
    "    Types of Inheritance :\n",
    "1) Single Inheritance\n",
    "2) Multiple Inheritance\n",
    "3) Multi - Level Inheritance\n",
    "4) Hierarchical Inheritance\n",
    "5) Hybrid Inheritance"
   ]
  },
  {
   "cell_type": "markdown",
   "id": "3e3e6ee9",
   "metadata": {},
   "source": [
    "### Single Inheritance\n",
    "   -----one parent and one child class\n",
    "   \n",
    "      [Parent Class]\n",
    "           |\n",
    "           |\n",
    "      [Child Class]"
   ]
  },
  {
   "cell_type": "code",
   "execution_count": 90,
   "id": "b19288a6",
   "metadata": {},
   "outputs": [],
   "source": [
    "class Parent:\n",
    "    def func1(self):\n",
    "        print(\"Hello!!, from parent class\")\n",
    "        \n",
    "class Child(Parent):\n",
    "    def func2(self):\n",
    "        print(\"Hello Child\")"
   ]
  },
  {
   "cell_type": "code",
   "execution_count": 91,
   "id": "8b906eb5",
   "metadata": {},
   "outputs": [],
   "source": [
    "test = Child()"
   ]
  },
  {
   "cell_type": "code",
   "execution_count": null,
   "id": "d578b496",
   "metadata": {},
   "outputs": [],
   "source": [
    "test.  #tab, inheriting the property of parent class"
   ]
  },
  {
   "cell_type": "code",
   "execution_count": 92,
   "id": "ad239a77",
   "metadata": {},
   "outputs": [
    {
     "name": "stdout",
     "output_type": "stream",
     "text": [
      "Hello!!, from parent class\n"
     ]
    }
   ],
   "source": [
    "test.func1()"
   ]
  },
  {
   "cell_type": "code",
   "execution_count": 93,
   "id": "a956f0f8",
   "metadata": {},
   "outputs": [
    {
     "name": "stdout",
     "output_type": "stream",
     "text": [
      "Hello Child\n"
     ]
    }
   ],
   "source": [
    "test.func2()"
   ]
  },
  {
   "cell_type": "code",
   "execution_count": 94,
   "id": "7f771533",
   "metadata": {},
   "outputs": [],
   "source": [
    "class Ineuron:\n",
    "    company_website = \"https://ineuron.ai\"\n",
    "    name = \"ineuron\"\n",
    "    \n",
    "    def contact_details(self):\n",
    "        print(\"Contact us at: \",self.company_website)\n",
    "        \n",
    "class Datascience(Ineuron):\n",
    "    \n",
    "    def __init__(self):\n",
    "        self.year_of_establishment = 2018\n",
    "        \n",
    "    def est_details(self):\n",
    "        print(\"Est Details: \",self.name, self.year_of_establishment)\n",
    "        \n",
    "        # datascience has its own variable and the method associated with that particular class//"
   ]
  },
  {
   "cell_type": "code",
   "execution_count": 95,
   "id": "19dc1bb1",
   "metadata": {},
   "outputs": [],
   "source": [
    "ds = Datascience()"
   ]
  },
  {
   "cell_type": "code",
   "execution_count": null,
   "id": "a6eca743",
   "metadata": {},
   "outputs": [],
   "source": [
    "ds.  #tab"
   ]
  },
  {
   "cell_type": "code",
   "execution_count": 96,
   "id": "fffe37c7",
   "metadata": {},
   "outputs": [
    {
     "name": "stdout",
     "output_type": "stream",
     "text": [
      "Contact us at:  https://ineuron.ai\n"
     ]
    }
   ],
   "source": [
    "ds.contact_details()  # we are able to ascess the method frpm the parent class"
   ]
  },
  {
   "cell_type": "markdown",
   "id": "e004296a",
   "metadata": {},
   "source": [
    "### Multiple Inheritance\n",
    "  ----- two or more parent class and one child child\n",
    "  \n",
    "            [Parent Class]          [Parent Class]\n",
    "                   \\                   /\n",
    "                    \\                 /\n",
    "                    [---Child Class---]"
   ]
  },
  {
   "cell_type": "code",
   "execution_count": 97,
   "id": "1452c8e2",
   "metadata": {},
   "outputs": [],
   "source": [
    "class Parent1:\n",
    "    \n",
    "    def func1(self):\n",
    "        print(\"Hello!!, from parent1 class\")\n",
    "\n",
    "class Parent2:\n",
    "    \n",
    "    def func2(self):\n",
    "        print(\"Hello!!, from parent2\")\n",
    "\n",
    "class Child(Parent1,Parent2):\n",
    "    \n",
    "    def func3(self):\n",
    "        print(\"Hello, child\")"
   ]
  },
  {
   "cell_type": "code",
   "execution_count": 98,
   "id": "265c7724",
   "metadata": {},
   "outputs": [],
   "source": [
    "test = Child()"
   ]
  },
  {
   "cell_type": "code",
   "execution_count": 99,
   "id": "e5a5c2ba",
   "metadata": {},
   "outputs": [
    {
     "name": "stdout",
     "output_type": "stream",
     "text": [
      "Hello!!, from parent2\n"
     ]
    }
   ],
   "source": [
    "test.func2()"
   ]
  },
  {
   "cell_type": "code",
   "execution_count": 100,
   "id": "33bb963b",
   "metadata": {},
   "outputs": [],
   "source": [
    "class Batch_number:   #parent-class1\n",
    "    batch_number = \"\"\n",
    "    \n",
    "    def __init__(self,a,b,c):\n",
    "        self.a = a\n",
    "        self.b = b\n",
    "        self.c = c\n",
    "        \n",
    "    def batch(self):\n",
    "        print(self.batch_number)\n",
    "        \n",
    "class Course_name:   #parent-class2\n",
    "    c_name = \"\"\n",
    "    \n",
    "    def course(self):\n",
    "        print(self.c_name)\n",
    "        \n",
    "class Student(Batch_number , Course_name):    #child class\n",
    "    \n",
    "    def show(self):\n",
    "        print(\"Batch: \",self.batch_number)\n",
    "        print(\"Course: \",self.c_name)"
   ]
  },
  {
   "cell_type": "code",
   "execution_count": 101,
   "id": "a5fa6da4",
   "metadata": {},
   "outputs": [
    {
     "ename": "TypeError",
     "evalue": "Batch_number.__init__() missing 3 required positional arguments: 'a', 'b', and 'c'",
     "output_type": "error",
     "traceback": [
      "\u001b[1;31m---------------------------------------------------------------------------\u001b[0m",
      "\u001b[1;31mTypeError\u001b[0m                                 Traceback (most recent call last)",
      "Cell \u001b[1;32mIn[101], line 1\u001b[0m\n\u001b[1;32m----> 1\u001b[0m s1 \u001b[38;5;241m=\u001b[39m \u001b[43mStudent\u001b[49m\u001b[43m(\u001b[49m\u001b[43m)\u001b[49m\n",
      "\u001b[1;31mTypeError\u001b[0m: Batch_number.__init__() missing 3 required positional arguments: 'a', 'b', and 'c'"
     ]
    }
   ],
   "source": [
    "s1 = Student()"
   ]
  },
  {
   "cell_type": "code",
   "execution_count": 102,
   "id": "be5bdbd8",
   "metadata": {},
   "outputs": [],
   "source": [
    "s1 = Student(4,5,6)"
   ]
  },
  {
   "cell_type": "code",
   "execution_count": 103,
   "id": "fc088881",
   "metadata": {},
   "outputs": [
    {
     "name": "stdout",
     "output_type": "stream",
     "text": [
      "\n"
     ]
    }
   ],
   "source": [
    "s1.course()"
   ]
  },
  {
   "cell_type": "code",
   "execution_count": 104,
   "id": "a13a91b6",
   "metadata": {},
   "outputs": [],
   "source": [
    "s1.batch_number = \"2\""
   ]
  },
  {
   "cell_type": "code",
   "execution_count": 105,
   "id": "50a62bdb",
   "metadata": {},
   "outputs": [],
   "source": [
    "s1.c_name = \"fsds\""
   ]
  },
  {
   "cell_type": "code",
   "execution_count": 106,
   "id": "6e6bf9fb",
   "metadata": {},
   "outputs": [
    {
     "name": "stdout",
     "output_type": "stream",
     "text": [
      "fsds\n"
     ]
    }
   ],
   "source": [
    "s1.course()"
   ]
  },
  {
   "cell_type": "code",
   "execution_count": 107,
   "id": "8ca258ec",
   "metadata": {},
   "outputs": [
    {
     "name": "stdout",
     "output_type": "stream",
     "text": [
      "Batch:  2\n",
      "Course:  fsds\n"
     ]
    }
   ],
   "source": [
    "s1.show()"
   ]
  },
  {
   "cell_type": "code",
   "execution_count": 108,
   "id": "31be0b5c",
   "metadata": {},
   "outputs": [],
   "source": [
    "# create class person ,company, child class\n",
    "class Person:\n",
    "    pass\n",
    "\n",
    "class Company:\n",
    "    pass\n",
    "\n",
    "class Child(Person,Company):\n",
    "    pass"
   ]
  },
  {
   "cell_type": "markdown",
   "id": "e695f01b",
   "metadata": {},
   "source": [
    "### Multi-Level Inheritance\n",
    "          [Parent Class]\n",
    "                 |\n",
    "                 |\n",
    "          [Child Class1]\n",
    "                 |\n",
    "                 |\n",
    "          [Child Class2]"
   ]
  },
  {
   "cell_type": "code",
   "execution_count": 109,
   "id": "9c549710",
   "metadata": {},
   "outputs": [],
   "source": [
    "class Test1:\n",
    "    \n",
    "    def a(self):\n",
    "        print(\"Inside test1...\")\n",
    "        \n",
    "class Test2(Test1):\n",
    "    \n",
    "    def b(self):\n",
    "        print(\"Inside test2...\")\n",
    "        \n",
    "class Test3(Test2):\n",
    "    \n",
    "    def c(self):\n",
    "        print(\"Inside test3...\")"
   ]
  },
  {
   "cell_type": "code",
   "execution_count": 110,
   "id": "6482e85c",
   "metadata": {},
   "outputs": [],
   "source": [
    "t1 = Test3()"
   ]
  },
  {
   "cell_type": "code",
   "execution_count": null,
   "id": "e001b5e5",
   "metadata": {},
   "outputs": [],
   "source": [
    "t1.   #tab, able ascess a,b,c"
   ]
  },
  {
   "cell_type": "code",
   "execution_count": 111,
   "id": "33280779",
   "metadata": {},
   "outputs": [
    {
     "name": "stdout",
     "output_type": "stream",
     "text": [
      "Inside test1...\n"
     ]
    }
   ],
   "source": [
    "t1.a()"
   ]
  },
  {
   "cell_type": "code",
   "execution_count": 112,
   "id": "755f3c0c",
   "metadata": {},
   "outputs": [],
   "source": [
    "class Vehicle:\n",
    "    \n",
    "    def info(self):\n",
    "        print(\"Inside Vehicle class\")\n",
    "        \n",
    "class Car(Vehicle):\n",
    "    \n",
    "    def car_info(self):\n",
    "        print(\"Inside Car class\")\n",
    "        \n",
    "class Sport_car(Car):\n",
    "    def sportscar(self):\n",
    "        print(\"Inside sports car\")"
   ]
  },
  {
   "cell_type": "code",
   "execution_count": 113,
   "id": "245975f8",
   "metadata": {},
   "outputs": [],
   "source": [
    "s1 = Sport_car()"
   ]
  },
  {
   "cell_type": "code",
   "execution_count": 114,
   "id": "6dc10efd",
   "metadata": {},
   "outputs": [
    {
     "name": "stdout",
     "output_type": "stream",
     "text": [
      "Inside Vehicle class\n"
     ]
    }
   ],
   "source": [
    "s1.info()"
   ]
  },
  {
   "cell_type": "code",
   "execution_count": 115,
   "id": "c3540129",
   "metadata": {},
   "outputs": [
    {
     "name": "stdout",
     "output_type": "stream",
     "text": [
      "Inside Car class\n"
     ]
    }
   ],
   "source": [
    "s1.car_info()"
   ]
  },
  {
   "cell_type": "code",
   "execution_count": 116,
   "id": "cae1e1d9",
   "metadata": {},
   "outputs": [],
   "source": [
    "class Phones:\n",
    "    \n",
    "    def __init__(self,brand,model,price):\n",
    "        self.brand = brand\n",
    "        self.model = model\n",
    "        self.price = price\n",
    "    \n",
    "    def species(self):\n",
    "        return (\"Brand: \",self.brand,\"Price: \",self.price)\n",
    "    \n",
    "    def type_of_phone(self):\n",
    "        if self.price < 25000:\n",
    "            return \"This is a budget phone\"\n",
    "        else:\n",
    "            return \"This is mid range phone\"\n",
    "        \n",
    "class Smartphone(Phones):\n",
    "    \n",
    "    def __init__(self,brand,model,price,ram,storage):\n",
    "        super().__init__(brand,model,price)  # setting the variables brand,model,price from preceding parent class\n",
    "        self.ram = ram\n",
    "        self.storage = storage\n",
    "        \n",
    "class Flashshipphone(Smartphone):\n",
    "    \n",
    "    def __init__(self,brand,model,price,ram,storage,frontcamera,backcamera,disply):\n",
    "        super().__init__(brand,model,price,ram,storage)\n",
    "        self.frontcamera = frontcamera\n",
    "        self.backcamera = backcamera\n",
    "        self.display = display"
   ]
  },
  {
   "cell_type": "code",
   "execution_count": 117,
   "id": "4e02a1de",
   "metadata": {},
   "outputs": [
    {
     "ename": "TypeError",
     "evalue": "Flashshipphone.__init__() missing 8 required positional arguments: 'brand', 'model', 'price', 'ram', 'storage', 'frontcamera', 'backcamera', and 'disply'",
     "output_type": "error",
     "traceback": [
      "\u001b[1;31m---------------------------------------------------------------------------\u001b[0m",
      "\u001b[1;31mTypeError\u001b[0m                                 Traceback (most recent call last)",
      "Cell \u001b[1;32mIn[117], line 1\u001b[0m\n\u001b[1;32m----> 1\u001b[0m p1 \u001b[38;5;241m=\u001b[39m \u001b[43mFlashshipphone\u001b[49m\u001b[43m(\u001b[49m\u001b[43m)\u001b[49m\n",
      "\u001b[1;31mTypeError\u001b[0m: Flashshipphone.__init__() missing 8 required positional arguments: 'brand', 'model', 'price', 'ram', 'storage', 'frontcamera', 'backcamera', and 'disply'"
     ]
    }
   ],
   "source": [
    "p1 = Flashshipphone()"
   ]
  },
  {
   "cell_type": "code",
   "execution_count": 118,
   "id": "2d7bf001",
   "metadata": {},
   "outputs": [],
   "source": [
    "p1 = Flashshipphone(\"Samsung\",\"S3\",60000,56,60,\"yes\",\"yes\",\"yes\")"
   ]
  },
  {
   "cell_type": "code",
   "execution_count": 119,
   "id": "814e794a",
   "metadata": {},
   "outputs": [
    {
     "data": {
      "text/plain": [
       "'This is mid range phone'"
      ]
     },
     "execution_count": 119,
     "metadata": {},
     "output_type": "execute_result"
    }
   ],
   "source": [
    "p1.type_of_phone()"
   ]
  },
  {
   "cell_type": "markdown",
   "id": "098d0840",
   "metadata": {},
   "source": [
    "### Hierarchical Inheritance           \n",
    "                  [Parent Class]\n",
    "                  /      |      \\\n",
    "       [Child Class1]    |      [Child Class3] \n",
    "                         |             \n",
    "                   [Child Class2]\n"
   ]
  },
  {
   "cell_type": "code",
   "execution_count": 120,
   "id": "4e69209d",
   "metadata": {},
   "outputs": [],
   "source": [
    "class Vehicle:\n",
    "    \n",
    "    def info(self):\n",
    "        print(\"This is frm Vehicle class\")\n",
    "        \n",
    "class Car(Vehicle):\n",
    "    \n",
    "    def car_info(self,name):\n",
    "        print(\"Car Name: \",name)\n",
    "        \n",
    "class Truck(Vehicle):\n",
    "    \n",
    "    def truck_info(self,name):\n",
    "        print(\"Truck Name: \",name)        \n",
    "                    "
   ]
  },
  {
   "cell_type": "code",
   "execution_count": 121,
   "id": "0e1ec83c",
   "metadata": {},
   "outputs": [],
   "source": [
    "s1 = Car()"
   ]
  },
  {
   "cell_type": "code",
   "execution_count": 122,
   "id": "005d132a",
   "metadata": {},
   "outputs": [
    {
     "name": "stdout",
     "output_type": "stream",
     "text": [
      "This is frm Vehicle class\n"
     ]
    }
   ],
   "source": [
    "s1.info()"
   ]
  },
  {
   "cell_type": "code",
   "execution_count": 123,
   "id": "aaf9a2f7",
   "metadata": {},
   "outputs": [],
   "source": [
    "t1 = Truck()"
   ]
  },
  {
   "cell_type": "code",
   "execution_count": 124,
   "id": "5ee9da0e",
   "metadata": {},
   "outputs": [
    {
     "name": "stdout",
     "output_type": "stream",
     "text": [
      "Truck Name:  xyz\n"
     ]
    }
   ],
   "source": [
    "t1.truck_info(\"xyz\")"
   ]
  },
  {
   "cell_type": "markdown",
   "id": "84195c81",
   "metadata": {},
   "source": [
    "### Hybrid Inhertance  \n",
    "                   [Parent Class]\n",
    "                  /      |      \\\n",
    "       [Child Class1]    |      [Child Class2] \n",
    "                   \\     |      /       \n",
    "                   [Child Class3]"
   ]
  },
  {
   "cell_type": "code",
   "execution_count": 125,
   "id": "7079bf69",
   "metadata": {},
   "outputs": [],
   "source": [
    "class Vehicle:\n",
    "    \n",
    "    def info(self):\n",
    "        print(\"This is frm Vehicle class\")\n",
    "        \n",
    "class Car(Vehicle):\n",
    "    \n",
    "    def car_info(self,name):\n",
    "        print(\"Car Name: \",name)\n",
    "        \n",
    "class Truck(Vehicle):\n",
    "    \n",
    "    def truck_info(self,name):\n",
    "        print(\"Truck Name: \",name)\n",
    "        \n",
    "class Sportscar(Car,Vehicle):\n",
    "    def sportscar(self):\n",
    "        print(\"Inside from Sportcar class\")"
   ]
  },
  {
   "cell_type": "code",
   "execution_count": 126,
   "id": "2a839df4",
   "metadata": {},
   "outputs": [],
   "source": [
    "d1 = Sportscar()"
   ]
  },
  {
   "cell_type": "code",
   "execution_count": 127,
   "id": "19178a34",
   "metadata": {},
   "outputs": [
    {
     "name": "stdout",
     "output_type": "stream",
     "text": [
      "Inside from Sportcar class\n"
     ]
    }
   ],
   "source": [
    "d1.sportscar()"
   ]
  },
  {
   "cell_type": "markdown",
   "id": "0eb446ea",
   "metadata": {},
   "source": [
    "## Super"
   ]
  },
  {
   "cell_type": "markdown",
   "id": "8ea684a9",
   "metadata": {},
   "source": [
    "1) super() is used when we need to build (child class) that extend the functionality of previous build classes (parent class)\n",
    "2) super function in python is used to ascess methods of immediate parent class\n"
   ]
  },
  {
   "cell_type": "code",
   "execution_count": 128,
   "id": "88d1d867",
   "metadata": {},
   "outputs": [],
   "source": [
    "class Company:\n",
    "    \n",
    "    def company_name(self):\n",
    "        return \"ineuron\"\n",
    "\n",
    "class Employee(Company):\n",
    "    def info(self):\n",
    "        c_name = super().company_name()\n",
    "        print(\"I work at \",c_name)"
   ]
  },
  {
   "cell_type": "code",
   "execution_count": 129,
   "id": "2fad067e",
   "metadata": {},
   "outputs": [],
   "source": [
    "emp = Employee()"
   ]
  },
  {
   "cell_type": "code",
   "execution_count": 130,
   "id": "4041d642",
   "metadata": {},
   "outputs": [
    {
     "data": {
      "text/plain": [
       "'ineuron'"
      ]
     },
     "execution_count": 130,
     "metadata": {},
     "output_type": "execute_result"
    }
   ],
   "source": [
    "emp.company_name()"
   ]
  },
  {
   "cell_type": "code",
   "execution_count": 131,
   "id": "e5ac9647",
   "metadata": {},
   "outputs": [
    {
     "name": "stdout",
     "output_type": "stream",
     "text": [
      "I work at  ineuron\n"
     ]
    }
   ],
   "source": [
    "emp.info()"
   ]
  },
  {
   "cell_type": "markdown",
   "id": "485f8350",
   "metadata": {},
   "source": [
    "     When you initialise the child class in  python you can call super().__init__() method, this initialise the parent class object into child class"
   ]
  },
  {
   "cell_type": "code",
   "execution_count": 132,
   "id": "1657f6b5",
   "metadata": {},
   "outputs": [],
   "source": [
    "class Parent:\n",
    "    \n",
    "    def __init__(self,v1,v2):\n",
    "        self.v1 = v1\n",
    "        self.v2 = v2\n",
    "        \n",
    "class Child(Parent):\n",
    "    def __init__(self,v1,v2,v3):\n",
    "        super().__init__(v1,v2)\n",
    "        self.v3 = v3\n",
    "        "
   ]
  },
  {
   "cell_type": "code",
   "execution_count": 133,
   "id": "c932f789",
   "metadata": {},
   "outputs": [
    {
     "ename": "TypeError",
     "evalue": "Child.__init__() missing 3 required positional arguments: 'v1', 'v2', and 'v3'",
     "output_type": "error",
     "traceback": [
      "\u001b[1;31m---------------------------------------------------------------------------\u001b[0m",
      "\u001b[1;31mTypeError\u001b[0m                                 Traceback (most recent call last)",
      "Cell \u001b[1;32mIn[133], line 1\u001b[0m\n\u001b[1;32m----> 1\u001b[0m c1 \u001b[38;5;241m=\u001b[39m \u001b[43mChild\u001b[49m\u001b[43m(\u001b[49m\u001b[43m)\u001b[49m\n",
      "\u001b[1;31mTypeError\u001b[0m: Child.__init__() missing 3 required positional arguments: 'v1', 'v2', and 'v3'"
     ]
    }
   ],
   "source": [
    "c1 = Child()"
   ]
  },
  {
   "cell_type": "code",
   "execution_count": 134,
   "id": "3297f8a0",
   "metadata": {},
   "outputs": [],
   "source": [
    "c1 = Child(2,3,4)"
   ]
  },
  {
   "cell_type": "code",
   "execution_count": null,
   "id": "2305de12",
   "metadata": {},
   "outputs": [],
   "source": [
    "c1.  #tab"
   ]
  },
  {
   "cell_type": "code",
   "execution_count": 135,
   "id": "2c7de318",
   "metadata": {},
   "outputs": [],
   "source": [
    "# class classname(Parentclass):\n",
    "#     def methodname(self,arg):\n",
    "#         super([classname],[self]).method(args)"
   ]
  },
  {
   "cell_type": "code",
   "execution_count": 136,
   "id": "9b0c2173",
   "metadata": {},
   "outputs": [],
   "source": [
    "class Parent1:\n",
    "    def __init__(self):\n",
    "        print(\"This is from Parent1\")\n",
    "        \n",
    "class Parent2:\n",
    "    def __init__(self):\n",
    "        print(\"This is from Parent2\")\n",
    "        \n",
    "class Parent3:\n",
    "    def __init__(self):\n",
    "        print(\"This is from Parent3\")\n",
    "        \n",
    "class Child(Parent3,Parent2,Parent1):\n",
    "    def __init__(self):\n",
    "        super().__init__()"
   ]
  },
  {
   "cell_type": "code",
   "execution_count": 137,
   "id": "8675f9ab",
   "metadata": {},
   "outputs": [
    {
     "name": "stdout",
     "output_type": "stream",
     "text": [
      "This is from Parent3\n"
     ]
    }
   ],
   "source": [
    "t1 = Child()"
   ]
  },
  {
   "cell_type": "code",
   "execution_count": null,
   "id": "8d8a97db",
   "metadata": {},
   "outputs": [],
   "source": []
  }
 ],
 "metadata": {
  "kernelspec": {
   "display_name": "Python 3 (ipykernel)",
   "language": "python",
   "name": "python3"
  },
  "language_info": {
   "codemirror_mode": {
    "name": "ipython",
    "version": 3
   },
   "file_extension": ".py",
   "mimetype": "text/x-python",
   "name": "python",
   "nbconvert_exporter": "python",
   "pygments_lexer": "ipython3",
   "version": "3.10.9"
  }
 },
 "nbformat": 4,
 "nbformat_minor": 5
}

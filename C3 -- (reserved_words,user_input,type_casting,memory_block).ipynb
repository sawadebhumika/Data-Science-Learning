{
 "cells": [
  {
   "cell_type": "markdown",
   "id": "561bfdf6",
   "metadata": {},
   "source": [
    "# Variable Case Sensitivity\n"
   ]
  },
  {
   "cell_type": "code",
   "execution_count": 1,
   "id": "bb320c9d",
   "metadata": {},
   "outputs": [],
   "source": [
    "Ten = 10\n",
    "ten = 20\n",
    "# ten and Ten are different in terms of lowercase and uppercase letter-\n"
   ]
  },
  {
   "cell_type": "markdown",
   "id": "66533ea2",
   "metadata": {},
   "source": [
    "# Reserved words in Python"
   ]
  },
  {
   "cell_type": "code",
   "execution_count": 2,
   "id": "04a05b49",
   "metadata": {},
   "outputs": [
    {
     "name": "stdout",
     "output_type": "stream",
     "text": [
      "Hii there\n"
     ]
    }
   ],
   "source": [
    "print(\"Hii there\")"
   ]
  },
  {
   "cell_type": "code",
   "execution_count": 3,
   "id": "6c91ee2c",
   "metadata": {},
   "outputs": [
    {
     "data": {
      "text/plain": [
       "str"
      ]
     },
     "execution_count": 3,
     "metadata": {},
     "output_type": "execute_result"
    }
   ],
   "source": [
    "print = \"Hii there\" \n",
    "type(print)"
   ]
  },
  {
   "cell_type": "code",
   "execution_count": 4,
   "id": "a8df4ec0",
   "metadata": {},
   "outputs": [
    {
     "ename": "TypeError",
     "evalue": "'str' object is not callable",
     "output_type": "error",
     "traceback": [
      "\u001b[1;31m---------------------------------------------------------------------------\u001b[0m",
      "\u001b[1;31mTypeError\u001b[0m                                 Traceback (most recent call last)",
      "Cell \u001b[1;32mIn[4], line 1\u001b[0m\n\u001b[1;32m----> 1\u001b[0m \u001b[38;5;28;43mprint\u001b[39;49m\u001b[43m(\u001b[49m\u001b[38;5;124;43m\"\u001b[39;49m\u001b[38;5;124;43mhii there\u001b[39;49m\u001b[38;5;124;43m\"\u001b[39;49m\u001b[43m)\u001b[49m\n",
      "\u001b[1;31mTypeError\u001b[0m: 'str' object is not callable"
     ]
    }
   ],
   "source": [
    "print(\"hii there\")"
   ]
  },
  {
   "cell_type": "raw",
   "id": "e0f51ea7",
   "metadata": {},
   "source": [
    "1 we should not use reserved word as variable names\n",
    "2 Also python doesn't restrict the user to use reserved keywords as a variable names"
   ]
  },
  {
   "cell_type": "code",
   "execution_count": 5,
   "id": "f41c1702",
   "metadata": {},
   "outputs": [],
   "source": [
    "del print # deletes the variable print"
   ]
  },
  {
   "cell_type": "code",
   "execution_count": 6,
   "id": "f077de38",
   "metadata": {},
   "outputs": [
    {
     "name": "stdout",
     "output_type": "stream",
     "text": [
      "hii there\n"
     ]
    }
   ],
   "source": [
    "print(\"hii there\")"
   ]
  },
  {
   "cell_type": "raw",
   "id": "000b204b",
   "metadata": {},
   "source": [
    "In Python 3.6, there are 33 reserved keywords:\n",
    "\n",
    "Python\n",
    "Keywords\n",
    "\n",
    "False\tdef \tif\t    raise\n",
    "None\tde l\timport\treturn\n",
    "True\telif\tin\t    try\n",
    "and\t    else\tis\t    while\n",
    "as\t    except\tlambda\twith\n",
    "assert\tfinally\tnonlocal\tyield\n",
    "break\tfor \tnot\t\n",
    "class\tfrom\tor\t\n",
    "continue\t    global\tpass"
   ]
  },
  {
   "cell_type": "markdown",
   "id": "912c35d9",
   "metadata": {},
   "source": [
    "# Multi assignment of variables "
   ]
  },
  {
   "cell_type": "code",
   "execution_count": 7,
   "id": "659fb60c",
   "metadata": {},
   "outputs": [],
   "source": [
    "a,b,c,d = 16,34,26.9,\"Bhumi\""
   ]
  },
  {
   "cell_type": "code",
   "execution_count": 8,
   "id": "68c2ac97",
   "metadata": {},
   "outputs": [
    {
     "data": {
      "text/plain": [
       "int"
      ]
     },
     "execution_count": 8,
     "metadata": {},
     "output_type": "execute_result"
    }
   ],
   "source": [
    "type(b)"
   ]
  },
  {
   "cell_type": "code",
   "execution_count": 9,
   "id": "a17ec1ee",
   "metadata": {},
   "outputs": [
    {
     "name": "stdout",
     "output_type": "stream",
     "text": [
      "<class 'str'>\n"
     ]
    },
    {
     "data": {
      "text/plain": [
       "'Bhumi'"
      ]
     },
     "execution_count": 9,
     "metadata": {},
     "output_type": "execute_result"
    }
   ],
   "source": [
    "print(type(d))\n",
    "d"
   ]
  },
  {
   "cell_type": "code",
   "execution_count": 10,
   "id": "8dc654fb",
   "metadata": {},
   "outputs": [
    {
     "ename": "TypeError",
     "evalue": "cannot unpack non-iterable int object",
     "output_type": "error",
     "traceback": [
      "\u001b[1;31m---------------------------------------------------------------------------\u001b[0m",
      "\u001b[1;31mTypeError\u001b[0m                                 Traceback (most recent call last)",
      "Cell \u001b[1;32mIn[10], line 1\u001b[0m\n\u001b[1;32m----> 1\u001b[0m a,b,c,d \u001b[38;5;241m=\u001b[39m \u001b[38;5;241m16\u001b[39m\n",
      "\u001b[1;31mTypeError\u001b[0m: cannot unpack non-iterable int object"
     ]
    }
   ],
   "source": [
    "a,b,c,d = 16"
   ]
  },
  {
   "cell_type": "code",
   "execution_count": 11,
   "id": "a323602e",
   "metadata": {},
   "outputs": [],
   "source": [
    "a,b,c = 10,10,10"
   ]
  },
  {
   "cell_type": "code",
   "execution_count": 12,
   "id": "b2a83b17",
   "metadata": {},
   "outputs": [],
   "source": [
    "a,A,c,C = 4,8.7,True,\"Sawade\""
   ]
  },
  {
   "cell_type": "code",
   "execution_count": 13,
   "id": "5850b95b",
   "metadata": {},
   "outputs": [
    {
     "name": "stdout",
     "output_type": "stream",
     "text": [
      "4 8.7 True Sawade\n"
     ]
    }
   ],
   "source": [
    "print(a,A,c,C)"
   ]
  },
  {
   "cell_type": "code",
   "execution_count": 14,
   "id": "ec1adfa2",
   "metadata": {},
   "outputs": [],
   "source": [
    "a=b=c=10"
   ]
  },
  {
   "cell_type": "code",
   "execution_count": 15,
   "id": "eb22404c",
   "metadata": {
    "scrolled": true
   },
   "outputs": [
    {
     "data": {
      "text/plain": [
       "10"
      ]
     },
     "execution_count": 15,
     "metadata": {},
     "output_type": "execute_result"
    }
   ],
   "source": [
    "b"
   ]
  },
  {
   "cell_type": "code",
   "execution_count": 16,
   "id": "6f5a801a",
   "metadata": {},
   "outputs": [],
   "source": [
    "first_name, last_name, sir_name = \"bhumika\",\"Prakash\",\"sawade\""
   ]
  },
  {
   "cell_type": "code",
   "execution_count": 17,
   "id": "d36f1898",
   "metadata": {},
   "outputs": [
    {
     "name": "stdout",
     "output_type": "stream",
     "text": [
      "bhumika.sawade@gmail.com\n"
     ]
    }
   ],
   "source": [
    "print(f\"{first_name}.{sir_name}@gmail.com\")"
   ]
  },
  {
   "cell_type": "code",
   "execution_count": 18,
   "id": "b0723519",
   "metadata": {},
   "outputs": [],
   "source": [
    "name,place,birth,weight = \"Bhumik\",\"nagpur\",2000,40"
   ]
  },
  {
   "cell_type": "code",
   "execution_count": 19,
   "id": "b8a78812",
   "metadata": {},
   "outputs": [
    {
     "name": "stdout",
     "output_type": "stream",
     "text": [
      "\n",
      "My name is Bhumik\n",
      "I live at nagpur\n",
      "I was born in 2000\n",
      "My weight is 40\n",
      "\n"
     ]
    }
   ],
   "source": [
    "print(f\"\"\"\n",
    "My name is {name}\n",
    "I live at {place}\n",
    "I was born in {birth}\n",
    "My weight is {weight}\n",
    "\"\"\")"
   ]
  },
  {
   "cell_type": "markdown",
   "id": "a50b52c8",
   "metadata": {},
   "source": [
    "# User Input\n"
   ]
  },
  {
   "cell_type": "code",
   "execution_count": 20,
   "id": "55679bfe",
   "metadata": {},
   "outputs": [
    {
     "name": "stdout",
     "output_type": "stream",
     "text": [
      "Enter your name: BHumika\n",
      "You have entered : BHumika\n"
     ]
    }
   ],
   "source": [
    "name = input(\"Enter your name: \")\n",
    "print(f\"You have entered : {name}\")"
   ]
  },
  {
   "cell_type": "code",
   "execution_count": 21,
   "id": "0e8b592c",
   "metadata": {},
   "outputs": [
    {
     "name": "stdout",
     "output_type": "stream",
     "text": [
      "Enter value of A: 34\n",
      "Enter value of B: 34\n",
      "Sum of A and B is : 3434\n"
     ]
    }
   ],
   "source": [
    "A = input(\"Enter value of A: \")\n",
    "B = input(\"Enter value of B: \")\n",
    "\n",
    "print(f\"Sum of A and B is : {A+B}\")"
   ]
  },
  {
   "cell_type": "code",
   "execution_count": 22,
   "id": "bf0945b0",
   "metadata": {},
   "outputs": [
    {
     "name": "stdout",
     "output_type": "stream",
     "text": [
      "<class 'str'> <class 'str'>\n"
     ]
    }
   ],
   "source": [
    "print(type(A),type(B))"
   ]
  },
  {
   "cell_type": "code",
   "execution_count": 23,
   "id": "823111d5",
   "metadata": {},
   "outputs": [
    {
     "name": "stdout",
     "output_type": "stream",
     "text": [
      "Enter value of A: 4\n",
      "Enter value of B: 4\n",
      "Sum of A and B is : 8\n"
     ]
    }
   ],
   "source": [
    "A = int(input(\"Enter value of A: \"))  # type casting\n",
    "B = int(input(\"Enter value of B: \"))\n",
    "\n",
    "print(f\"Sum of A and B is : {A+B}\")"
   ]
  },
  {
   "cell_type": "code",
   "execution_count": 25,
   "id": "1ea87caf",
   "metadata": {},
   "outputs": [
    {
     "name": "stdout",
     "output_type": "stream",
     "text": [
      "Enter value of A: 3.5\n"
     ]
    },
    {
     "ename": "ValueError",
     "evalue": "invalid literal for int() with base 10: '3.5'",
     "output_type": "error",
     "traceback": [
      "\u001b[1;31m---------------------------------------------------------------------------\u001b[0m",
      "\u001b[1;31mValueError\u001b[0m                                Traceback (most recent call last)",
      "Cell \u001b[1;32mIn[25], line 1\u001b[0m\n\u001b[1;32m----> 1\u001b[0m A \u001b[38;5;241m=\u001b[39m \u001b[38;5;28;43mint\u001b[39;49m\u001b[43m(\u001b[49m\u001b[38;5;28;43minput\u001b[39;49m\u001b[43m(\u001b[49m\u001b[38;5;124;43m\"\u001b[39;49m\u001b[38;5;124;43mEnter value of A: \u001b[39;49m\u001b[38;5;124;43m\"\u001b[39;49m\u001b[43m)\u001b[49m\u001b[43m)\u001b[49m \n\u001b[0;32m      2\u001b[0m B \u001b[38;5;241m=\u001b[39m \u001b[38;5;28mint\u001b[39m(\u001b[38;5;28minput\u001b[39m(\u001b[38;5;124m\"\u001b[39m\u001b[38;5;124mEnter value of B: \u001b[39m\u001b[38;5;124m\"\u001b[39m))\n\u001b[0;32m      4\u001b[0m \u001b[38;5;28mprint\u001b[39m(\u001b[38;5;124mf\u001b[39m\u001b[38;5;124m\"\u001b[39m\u001b[38;5;124mSum of A and B is : \u001b[39m\u001b[38;5;132;01m{\u001b[39;00mA\u001b[38;5;241m+\u001b[39mB\u001b[38;5;132;01m}\u001b[39;00m\u001b[38;5;124m\"\u001b[39m)\n",
      "\u001b[1;31mValueError\u001b[0m: invalid literal for int() with base 10: '3.5'"
     ]
    }
   ],
   "source": [
    "A = int(input(\"Enter value of A: \")) \n",
    "B = int(input(\"Enter value of B: \"))\n",
    "\n",
    "print(f\"Sum of A and B is : {A+B}\")"
   ]
  },
  {
   "cell_type": "code",
   "execution_count": 26,
   "id": "9b7a84b9",
   "metadata": {},
   "outputs": [
    {
     "name": "stdout",
     "output_type": "stream",
     "text": [
      "Enter value of A: 33\n",
      "Enter value of B: 2\n",
      "Sum of A and B is : 35.0\n"
     ]
    }
   ],
   "source": [
    "A = float(input(\"Enter value of A: \")) \n",
    "B = int(input(\"Enter value of B: \"))\n",
    "\n",
    "print(f\"Sum of A and B is : {A+B}\")"
   ]
  },
  {
   "cell_type": "code",
   "execution_count": 27,
   "id": "7798784d",
   "metadata": {},
   "outputs": [
    {
     "name": "stdout",
     "output_type": "stream",
     "text": [
      "Name: bhumika\n",
      "Place:Blr\n",
      "Birth:2000\n",
      "Weight:43\n"
     ]
    }
   ],
   "source": [
    "name = input(\"Name: \")\n",
    "place = input(\"Place:\")\n",
    "birth = int(input(\"Birth:\"))\n",
    "weight = float(input(\"Weight:\"))"
   ]
  },
  {
   "cell_type": "code",
   "execution_count": 28,
   "id": "3045215e",
   "metadata": {
    "scrolled": true
   },
   "outputs": [
    {
     "name": "stdout",
     "output_type": "stream",
     "text": [
      "\n",
      "My name is bhumika\n",
      "I live at Blr\n",
      "I was born in 2000\n",
      "My weight is 43.0\n",
      "\n"
     ]
    }
   ],
   "source": [
    "print(f\"\"\"\n",
    "My name is {name}\n",
    "I live at {place}\n",
    "I was born in {birth}\n",
    "My weight is {weight}\n",
    "\"\"\")"
   ]
  },
  {
   "cell_type": "code",
   "execution_count": 29,
   "id": "34dff47b",
   "metadata": {},
   "outputs": [
    {
     "name": "stdout",
     "output_type": "stream",
     "text": [
      "Name: bhumiks\n",
      "Place: Ngp\n",
      "Birth: 2000\n",
      "Current_input: 2023\n",
      "\n",
      "My name is bhumiks\n",
      "I live at Ngp\n",
      "I was born in 2000\n",
      "bhumiks is of age 23\n",
      "\n"
     ]
    }
   ],
   "source": [
    "# CAlculate the age of the user:\n",
    "\n",
    "\n",
    "name = input(\"Name: \")\n",
    "place = input(\"Place: \")\n",
    "year_of_birth = int(input(\"Birth: \"))\n",
    "current_year = int(input(\"Current_input: \"))\n",
    "\n",
    "age = 2023 - year_of_birth\n",
    "\n",
    "print(f\"\"\"\n",
    "My name is {name}\n",
    "I live at {place}\n",
    "I was born in {birth}\n",
    "{name} is of age {age}\n",
    "\"\"\")"
   ]
  },
  {
   "cell_type": "markdown",
   "id": "508b3779",
   "metadata": {},
   "source": [
    "# Type Conversion"
   ]
  },
  {
   "cell_type": "raw",
   "id": "d8869fb9",
   "metadata": {},
   "source": [
    "We can convert the datatypes of one variable to another if it's possible"
   ]
  },
  {
   "cell_type": "markdown",
   "id": "fd0952f7",
   "metadata": {},
   "source": [
    "### string to integer"
   ]
  },
  {
   "cell_type": "code",
   "execution_count": 30,
   "id": "bc7d06f3",
   "metadata": {},
   "outputs": [
    {
     "data": {
      "text/plain": [
       "str"
      ]
     },
     "execution_count": 30,
     "metadata": {},
     "output_type": "execute_result"
    }
   ],
   "source": [
    "A = \"50\"\n",
    "type(A)"
   ]
  },
  {
   "cell_type": "code",
   "execution_count": 31,
   "id": "71314191",
   "metadata": {},
   "outputs": [
    {
     "data": {
      "text/plain": [
       "int"
      ]
     },
     "execution_count": 31,
     "metadata": {},
     "output_type": "execute_result"
    }
   ],
   "source": [
    "A = int('50')\n",
    "type(A)"
   ]
  },
  {
   "cell_type": "markdown",
   "id": "c30c44fb",
   "metadata": {},
   "source": [
    "### string to float"
   ]
  },
  {
   "cell_type": "code",
   "execution_count": 32,
   "id": "1902d431",
   "metadata": {},
   "outputs": [
    {
     "data": {
      "text/plain": [
       "str"
      ]
     },
     "execution_count": 32,
     "metadata": {},
     "output_type": "execute_result"
    }
   ],
   "source": [
    "B = \"44.5\"\n",
    "type(B)"
   ]
  },
  {
   "cell_type": "code",
   "execution_count": 33,
   "id": "ce2110f2",
   "metadata": {},
   "outputs": [
    {
     "data": {
      "text/plain": [
       "float"
      ]
     },
     "execution_count": 33,
     "metadata": {},
     "output_type": "execute_result"
    }
   ],
   "source": [
    "B = float(B)\n",
    "type(B)"
   ]
  },
  {
   "cell_type": "code",
   "execution_count": 34,
   "id": "bb0a8564",
   "metadata": {},
   "outputs": [],
   "source": [
    "c = float(\"67.5\")"
   ]
  },
  {
   "cell_type": "code",
   "execution_count": 35,
   "id": "568b4ffa",
   "metadata": {},
   "outputs": [
    {
     "data": {
      "text/plain": [
       "float"
      ]
     },
     "execution_count": 35,
     "metadata": {},
     "output_type": "execute_result"
    }
   ],
   "source": [
    "type(c)"
   ]
  },
  {
   "cell_type": "code",
   "execution_count": 36,
   "id": "d34a703f",
   "metadata": {},
   "outputs": [
    {
     "name": "stdout",
     "output_type": "stream",
     "text": [
      "Data type before: <class 'str'>, Value of B: 45.9 \n",
      "Data type after: <class 'float'>, Value of B: 45.9\n"
     ]
    }
   ],
   "source": [
    "B = \"45.9 \"   # float value\n",
    "print(f\"Data type before: {type(B)}, Value of B: {B}\")\n",
    "B = float(B)  # converting to int\n",
    "print(f\"Data type after: {type(B)}, Value of B: {B}\")"
   ]
  },
  {
   "cell_type": "markdown",
   "id": "e4fab280",
   "metadata": {},
   "source": [
    "### float to integer"
   ]
  },
  {
   "cell_type": "code",
   "execution_count": 37,
   "id": "eacc8738",
   "metadata": {},
   "outputs": [
    {
     "name": "stdout",
     "output_type": "stream",
     "text": [
      "<class 'float'>\n"
     ]
    }
   ],
   "source": [
    "A = 45.7\n",
    "print(type(A))"
   ]
  },
  {
   "cell_type": "code",
   "execution_count": 38,
   "id": "70ef07fe",
   "metadata": {},
   "outputs": [
    {
     "name": "stdout",
     "output_type": "stream",
     "text": [
      "45 <class 'int'>\n"
     ]
    }
   ],
   "source": [
    "A =  int(A)\n",
    "print(A,type(A))  # converting to integer"
   ]
  },
  {
   "cell_type": "code",
   "execution_count": 39,
   "id": "a6b8834b",
   "metadata": {},
   "outputs": [
    {
     "name": "stdout",
     "output_type": "stream",
     "text": [
      "Data type before: <class 'float'>, Value of B: 45.9\n",
      "Data type after: <class 'int'>, Value of B: 45\n"
     ]
    }
   ],
   "source": [
    "B = 45.9    # float value\n",
    "print(f\"Data type before: {type(B)}, Value of B: {B}\")\n",
    "B = int(B)  \n",
    "print(f\"Data type after: {type(B)}, Value of B: {B}\")"
   ]
  },
  {
   "cell_type": "markdown",
   "id": "3fa44998",
   "metadata": {},
   "source": [
    "### integer to float"
   ]
  },
  {
   "cell_type": "code",
   "execution_count": 40,
   "id": "d5f3ac1d",
   "metadata": {},
   "outputs": [
    {
     "name": "stdout",
     "output_type": "stream",
     "text": [
      "Data type before: <class 'int'>, Value of B: 45\n",
      "Data type after: <class 'float'>, Value of B: 45.0\n"
     ]
    }
   ],
   "source": [
    "B = 45    # int value\n",
    "print(f\"Data type before: {type(B)}, Value of B: {B}\")\n",
    "B = float(B)  \n",
    "print(f\"Data type after: {type(B)}, Value of B: {B}\")"
   ]
  },
  {
   "cell_type": "markdown",
   "id": "101f81fe",
   "metadata": {},
   "source": [
    "### integer to boolean"
   ]
  },
  {
   "cell_type": "code",
   "execution_count": 41,
   "id": "c943fdf3",
   "metadata": {},
   "outputs": [
    {
     "name": "stdout",
     "output_type": "stream",
     "text": [
      "Data type before: <class 'int'>, Value of B: 45\n",
      "Data type after: <class 'bool'>, Value of B: True\n"
     ]
    }
   ],
   "source": [
    "B = 45    # int value\n",
    "print(f\"Data type before: {type(B)}, Value of B: {B}\")\n",
    "B = bool(B)  \n",
    "print(f\"Data type after: {type(B)}, Value of B: {B}\")"
   ]
  },
  {
   "cell_type": "code",
   "execution_count": 42,
   "id": "d1066f83",
   "metadata": {},
   "outputs": [
    {
     "name": "stdout",
     "output_type": "stream",
     "text": [
      "Data type before: <class 'int'>, Value of B: -5\n",
      "Data type after: <class 'bool'>, Value of B: True\n"
     ]
    }
   ],
   "source": [
    "B = -5    # int value\n",
    "print(f\"Data type before: {type(B)}, Value of B: {B}\")\n",
    "B = bool(B)  \n",
    "print(f\"Data type after: {type(B)}, Value of B: {B}\")"
   ]
  },
  {
   "cell_type": "code",
   "execution_count": 43,
   "id": "71df3312",
   "metadata": {
    "scrolled": true
   },
   "outputs": [
    {
     "name": "stdout",
     "output_type": "stream",
     "text": [
      "Data type before: <class 'int'>, Value of B: 0\n",
      "Data type after: <class 'bool'>, Value of B: False\n"
     ]
    }
   ],
   "source": [
    "\n",
    "B = 0    # int value\n",
    "print(f\"Data type before: {type(B)}, Value of B: {B}\")\n",
    "B = bool(B)  \n",
    "print(f\"Data type after: {type(B)}, Value of B: {B}\")"
   ]
  },
  {
   "cell_type": "markdown",
   "id": "676f8e13",
   "metadata": {},
   "source": [
    "### string to boolan"
   ]
  },
  {
   "cell_type": "code",
   "execution_count": 44,
   "id": "45d5e412",
   "metadata": {},
   "outputs": [
    {
     "name": "stdout",
     "output_type": "stream",
     "text": [
      "Data type before: <class 'str'>, Value of B: False\n",
      "Data type after: <class 'bool'>, Value of B: True\n"
     ]
    }
   ],
   "source": [
    "B = \"False\"  \n",
    "print(f\"Data type before: {type(B)}, Value of B: {B}\")\n",
    "B = bool(B)  \n",
    "print(f\"Data type after: {type(B)}, Value of B: {B}\")"
   ]
  },
  {
   "cell_type": "code",
   "execution_count": 45,
   "id": "03c79877",
   "metadata": {},
   "outputs": [
    {
     "name": "stdout",
     "output_type": "stream",
     "text": [
      "Data type before: <class 'str'>, Value of B: \n",
      "Data type after: <class 'bool'>, Value of B: False\n"
     ]
    }
   ],
   "source": [
    "#empty string to bool\n",
    "B = \"\"  \n",
    "print(f\"Data type before: {type(B)}, Value of B: {B}\")\n",
    "B = bool(B)  \n",
    "print(f\"Data type after: {type(B)}, Value of B: {B}\")"
   ]
  },
  {
   "cell_type": "code",
   "execution_count": 46,
   "id": "aec56933",
   "metadata": {},
   "outputs": [
    {
     "name": "stdout",
     "output_type": "stream",
     "text": [
      "Data type before: <class 'str'>, Value of B: \n"
     ]
    },
    {
     "ename": "ValueError",
     "evalue": "invalid literal for int() with base 10: ''",
     "output_type": "error",
     "traceback": [
      "\u001b[1;31m---------------------------------------------------------------------------\u001b[0m",
      "\u001b[1;31mValueError\u001b[0m                                Traceback (most recent call last)",
      "Cell \u001b[1;32mIn[46], line 4\u001b[0m\n\u001b[0;32m      2\u001b[0m B \u001b[38;5;241m=\u001b[39m \u001b[38;5;124m\"\u001b[39m\u001b[38;5;124m\"\u001b[39m  \n\u001b[0;32m      3\u001b[0m \u001b[38;5;28mprint\u001b[39m(\u001b[38;5;124mf\u001b[39m\u001b[38;5;124m\"\u001b[39m\u001b[38;5;124mData type before: \u001b[39m\u001b[38;5;132;01m{\u001b[39;00m\u001b[38;5;28mtype\u001b[39m(B)\u001b[38;5;132;01m}\u001b[39;00m\u001b[38;5;124m, Value of B: \u001b[39m\u001b[38;5;132;01m{\u001b[39;00mB\u001b[38;5;132;01m}\u001b[39;00m\u001b[38;5;124m\"\u001b[39m)\n\u001b[1;32m----> 4\u001b[0m B \u001b[38;5;241m=\u001b[39m \u001b[38;5;28;43mint\u001b[39;49m\u001b[43m(\u001b[49m\u001b[43mB\u001b[49m\u001b[43m)\u001b[49m  \n\u001b[0;32m      5\u001b[0m \u001b[38;5;28mprint\u001b[39m(\u001b[38;5;124mf\u001b[39m\u001b[38;5;124m\"\u001b[39m\u001b[38;5;124mData type after: \u001b[39m\u001b[38;5;132;01m{\u001b[39;00m\u001b[38;5;28mtype\u001b[39m(B)\u001b[38;5;132;01m}\u001b[39;00m\u001b[38;5;124m, Value of B: \u001b[39m\u001b[38;5;132;01m{\u001b[39;00mB\u001b[38;5;132;01m}\u001b[39;00m\u001b[38;5;124m\"\u001b[39m)\n",
      "\u001b[1;31mValueError\u001b[0m: invalid literal for int() with base 10: ''"
     ]
    }
   ],
   "source": [
    "#empty string to int\n",
    "B = \"\"  \n",
    "print(f\"Data type before: {type(B)}, Value of B: {B}\")\n",
    "B = int(B)  \n",
    "print(f\"Data type after: {type(B)}, Value of B: {B}\")"
   ]
  },
  {
   "cell_type": "markdown",
   "id": "4986ce6b",
   "metadata": {},
   "source": [
    "### float to boolean"
   ]
  },
  {
   "cell_type": "code",
   "execution_count": 47,
   "id": "7d797a4e",
   "metadata": {},
   "outputs": [
    {
     "name": "stdout",
     "output_type": "stream",
     "text": [
      "Data type before: <class 'float'>, Value of B: 45.89\n",
      "Data type after: <class 'bool'>, Value of B: True\n"
     ]
    }
   ],
   "source": [
    "B = 45.89    # int value\n",
    "print(f\"Data type before: {type(B)}, Value of B: {B}\")\n",
    "B = bool(B)  \n",
    "print(f\"Data type after: {type(B)}, Value of B: {B}\")"
   ]
  },
  {
   "cell_type": "raw",
   "id": "8e163954",
   "metadata": {},
   "source": [
    "\"True\" in binary  - 1\n",
    "\"False\" in binary - 0\n",
    "Converting any non-zero no. and string values into boolean will give True a output\n",
    "Empty string \"\" will give False as output after converting string to boolean "
   ]
  },
  {
   "cell_type": "markdown",
   "id": "8bda3227",
   "metadata": {},
   "source": [
    "# Memory Block"
   ]
  },
  {
   "cell_type": "code",
   "execution_count": 48,
   "id": "7573fc98",
   "metadata": {},
   "outputs": [],
   "source": [
    "a = 22\n",
    "b = 34\n",
    "c = 22"
   ]
  },
  {
   "cell_type": "code",
   "execution_count": 49,
   "id": "4e0163f6",
   "metadata": {},
   "outputs": [
    {
     "data": {
      "text/plain": [
       "2775421485968"
      ]
     },
     "execution_count": 49,
     "metadata": {},
     "output_type": "execute_result"
    }
   ],
   "source": [
    "id(a) # memory address"
   ]
  },
  {
   "cell_type": "code",
   "execution_count": 50,
   "id": "33607efa",
   "metadata": {},
   "outputs": [
    {
     "data": {
      "text/plain": [
       "2775421486352"
      ]
     },
     "execution_count": 50,
     "metadata": {},
     "output_type": "execute_result"
    }
   ],
   "source": [
    "id(b)"
   ]
  },
  {
   "cell_type": "code",
   "execution_count": 51,
   "id": "43d8482c",
   "metadata": {},
   "outputs": [
    {
     "data": {
      "text/plain": [
       "2775421485968"
      ]
     },
     "execution_count": 51,
     "metadata": {},
     "output_type": "execute_result"
    }
   ],
   "source": [
    "id(c)"
   ]
  },
  {
   "cell_type": "code",
   "execution_count": 52,
   "id": "14d6076a",
   "metadata": {},
   "outputs": [
    {
     "data": {
      "text/plain": [
       "2775421487056"
      ]
     },
     "execution_count": 52,
     "metadata": {},
     "output_type": "execute_result"
    }
   ],
   "source": [
    "c = 22 + b\n",
    "id(c)"
   ]
  },
  {
   "cell_type": "code",
   "execution_count": 53,
   "id": "956e71fa",
   "metadata": {},
   "outputs": [
    {
     "data": {
      "text/plain": [
       "2775421485360"
      ]
     },
     "execution_count": 53,
     "metadata": {},
     "output_type": "execute_result"
    }
   ],
   "source": [
    "a = 3\n",
    "id(a)"
   ]
  },
  {
   "cell_type": "raw",
   "id": "e00fe7a4",
   "metadata": {},
   "source": [
    "Memory is assigned to the \"value of variable\" passed not the variable name"
   ]
  },
  {
   "cell_type": "code",
   "execution_count": 54,
   "id": "293a8b05",
   "metadata": {},
   "outputs": [
    {
     "data": {
      "text/plain": [
       "2775530423664"
      ]
     },
     "execution_count": 54,
     "metadata": {},
     "output_type": "execute_result"
    }
   ],
   "source": [
    "d = \"Bhumika\"\n",
    "id(d)"
   ]
  },
  {
   "cell_type": "code",
   "execution_count": 55,
   "id": "a8354fed",
   "metadata": {},
   "outputs": [
    {
     "name": "stdout",
     "output_type": "stream",
     "text": [
      "2775421485968 2775530266992 2775529142128\n"
     ]
    }
   ],
   "source": [
    "a = 22\n",
    "b = \"sawade\"\n",
    "c = 22.0\n",
    "\n",
    "print(id(a),id(b),id(c))"
   ]
  },
  {
   "cell_type": "code",
   "execution_count": null,
   "id": "fd4222fb",
   "metadata": {},
   "outputs": [],
   "source": []
  }
 ],
 "metadata": {
  "kernelspec": {
   "display_name": "Python 3 (ipykernel)",
   "language": "python",
   "name": "python3"
  },
  "language_info": {
   "codemirror_mode": {
    "name": "ipython",
    "version": 3
   },
   "file_extension": ".py",
   "mimetype": "text/x-python",
   "name": "python",
   "nbconvert_exporter": "python",
   "pygments_lexer": "ipython3",
   "version": "3.10.9"
  }
 },
 "nbformat": 4,
 "nbformat_minor": 5
}

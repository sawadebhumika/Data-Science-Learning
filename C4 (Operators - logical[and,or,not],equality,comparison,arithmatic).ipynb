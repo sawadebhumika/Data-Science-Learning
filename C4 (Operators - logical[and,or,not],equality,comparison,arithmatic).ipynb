{
 "cells": [
  {
   "cell_type": "markdown",
   "id": "09a92b9e",
   "metadata": {},
   "source": [
    "# Operators"
   ]
  },
  {
   "cell_type": "markdown",
   "id": "91a71601",
   "metadata": {},
   "source": [
    "### logical operators"
   ]
  },
  {
   "cell_type": "markdown",
   "id": "a9e71b44",
   "metadata": {},
   "source": [
    "    Keywords   Meaning\n",
    "\n",
    "    not        negation\n",
    "    and        conditional AND\n",
    "    or         conditional OR"
   ]
  },
  {
   "cell_type": "code",
   "execution_count": 9,
   "id": "afa33c05",
   "metadata": {},
   "outputs": [
    {
     "name": "stdout",
     "output_type": "stream",
     "text": [
      "True\n",
      "False\n"
     ]
    }
   ],
   "source": [
    "START = True\n",
    "print(START)\n",
    "print(not START)"
   ]
  },
  {
   "cell_type": "code",
   "execution_count": 10,
   "id": "9bcabd51",
   "metadata": {},
   "outputs": [
    {
     "name": "stdout",
     "output_type": "stream",
     "text": [
      "Let's concentrate\n"
     ]
    }
   ],
   "source": [
    "class_started = True\n",
    "\n",
    "if class_started:\n",
    "    print(\"Let's concentrate\")"
   ]
  },
  {
   "cell_type": "code",
   "execution_count": 11,
   "id": "98af2ff0",
   "metadata": {},
   "outputs": [
    {
     "name": "stdout",
     "output_type": "stream",
     "text": [
      "Let's revise previous class\n"
     ]
    }
   ],
   "source": [
    "class_started = False\n",
    "\n",
    "if class_started:\n",
    "    print(\"Let's concentrate\")\n",
    "else:\n",
    "    print(\"Let's revise previous class\")"
   ]
  },
  {
   "cell_type": "markdown",
   "id": "00a26ef3",
   "metadata": {},
   "source": [
    "# CONDITIONAL STATEMENT - If Else"
   ]
  },
  {
   "cell_type": "markdown",
   "id": "b72809aa",
   "metadata": {},
   "source": [
    "    ## CONDITIONAL STATEMENT - If Else\n",
    "\n",
    "    if condition:\n",
    "        print(\"execute this statement\")\n",
    "    else:\n",
    "        print(\"if condition is not true\")"
   ]
  },
  {
   "cell_type": "markdown",
   "id": "0de69b43",
   "metadata": {},
   "source": [
    "    If it is raining then let's do work from home else let's go to office"
   ]
  },
  {
   "cell_type": "code",
   "execution_count": 12,
   "id": "86f6c4e5",
   "metadata": {},
   "outputs": [
    {
     "name": "stdout",
     "output_type": "stream",
     "text": [
      "Let's go to office\n"
     ]
    }
   ],
   "source": [
    "raining = False\n",
    "\n",
    "if raining:\n",
    "    print(\"Let's do work from home\")\n",
    "else:\n",
    "    print(\"Let's go to office\")"
   ]
  },
  {
   "cell_type": "code",
   "execution_count": 13,
   "id": "959e473a",
   "metadata": {},
   "outputs": [
    {
     "ename": "IndentationError",
     "evalue": "expected an indented block after 'else' statement on line 7 (4044278486.py, line 8)",
     "output_type": "error",
     "traceback": [
      "\u001b[1;36m  Cell \u001b[1;32mIn[13], line 8\u001b[1;36m\u001b[0m\n\u001b[1;33m    print(\"Let's go to office\")\u001b[0m\n\u001b[1;37m    ^\u001b[0m\n\u001b[1;31mIndentationError\u001b[0m\u001b[1;31m:\u001b[0m expected an indented block after 'else' statement on line 7\n"
     ]
    }
   ],
   "source": [
    "## Use of indentation(tab)\n",
    "\n",
    "raining = False\n",
    "\n",
    "if raining:\n",
    "    print(\"Let's do work from home\")\n",
    "else:\n",
    "print(\"Let's go to office\")\n",
    "\n",
    "# statement not alligned properly will give indentation error"
   ]
  },
  {
   "cell_type": "code",
   "execution_count": 14,
   "id": "dc28882b",
   "metadata": {},
   "outputs": [
    {
     "name": "stdout",
     "output_type": "stream",
     "text": [
      "Since its not raining\n",
      "Let's go to office\n"
     ]
    }
   ],
   "source": [
    "raining = False\n",
    "\n",
    "if raining:\n",
    "    print(\"Since its raining\")\n",
    "    print(\"Let's do work from home\")\n",
    "else:\n",
    "    print(\"Since its not raining\")\n",
    "    print(\"Let's go to office\")"
   ]
  },
  {
   "cell_type": "code",
   "execution_count": 15,
   "id": "4f42c290",
   "metadata": {},
   "outputs": [
    {
     "name": "stdout",
     "output_type": "stream",
     "text": [
      "Since its  raining\n",
      "Let's do work from home\n"
     ]
    }
   ],
   "source": [
    "raining = True\n",
    "\n",
    "if not raining:  # False condition\n",
    "    print(\"Since its not raining\")\n",
    "    print(\"Let's go to office\")\n",
    "else:\n",
    "    print(\"Since its  raining\")\n",
    "    print(\"Let's do work from home\")"
   ]
  },
  {
   "cell_type": "markdown",
   "id": "da21674f",
   "metadata": {},
   "source": [
    "    if class started then let's concentrate else revise the previous class"
   ]
  },
  {
   "cell_type": "code",
   "execution_count": 16,
   "id": "e6e60372",
   "metadata": {},
   "outputs": [
    {
     "name": "stdout",
     "output_type": "stream",
     "text": [
      "Since, class started\n",
      "Let's concentrate\n"
     ]
    }
   ],
   "source": [
    "class_started = True\n",
    "\n",
    "if class_started:\n",
    "    print(\"Since, class started\")\n",
    "    print(\"Let's concentrate\")\n",
    "else:\n",
    "    print(\"Class not started\")\n",
    "    print(\"Let's revise\")"
   ]
  },
  {
   "cell_type": "markdown",
   "id": "cd537b87",
   "metadata": {},
   "source": [
    "    if class not started let's revise, else let's concentrate"
   ]
  },
  {
   "cell_type": "code",
   "execution_count": 17,
   "id": "3a838e3b",
   "metadata": {},
   "outputs": [
    {
     "name": "stdout",
     "output_type": "stream",
     "text": [
      "Since, class started\n",
      "Let's concentrate\n"
     ]
    }
   ],
   "source": [
    "class_started = True\n",
    "\n",
    "if not class_started:\n",
    "    print(\"Class not started\")\n",
    "    print(\"Let's revise\")\n",
    "else:\n",
    "    print(\"Since, class started\")\n",
    "    print(\"Let's concentrate\")"
   ]
  },
  {
   "cell_type": "markdown",
   "id": "3369874d",
   "metadata": {},
   "source": [
    "# and -  Conditional AND"
   ]
  },
  {
   "cell_type": "markdown",
   "id": "d49b6335",
   "metadata": {},
   "source": [
    "    Vegetable  Salt    Dish\n",
    "\n",
    "    False      False   False\n",
    "    True       True    True\n",
    "    False      True    False\n",
    "    True       False   False"
   ]
  },
  {
   "cell_type": "code",
   "execution_count": 18,
   "id": "2138e510",
   "metadata": {},
   "outputs": [
    {
     "name": "stdout",
     "output_type": "stream",
     "text": [
      "It's a bad dish\n",
      "bacause vegetable_present :False\n",
      "and salt_present :False\n"
     ]
    }
   ],
   "source": [
    "vegetable_present = False\n",
    "salt_present = False\n",
    "\n",
    "if vegetable_present and salt_present:\n",
    "    print(\"It's a good dish\")\n",
    "else:\n",
    "    print(\"It's a bad dish\")\n",
    "    print(f\"bacause vegetable_present :{vegetable_present}\")\n",
    "    print(f\"and salt_present :{salt_present}\")"
   ]
  },
  {
   "cell_type": "markdown",
   "id": "520f395a",
   "metadata": {},
   "source": [
    "    gives output True if both condition is true else False"
   ]
  },
  {
   "cell_type": "markdown",
   "id": "b233bdbd",
   "metadata": {},
   "source": [
    "# or - Conditional OR"
   ]
  },
  {
   "cell_type": "raw",
   "id": "4de1b381",
   "metadata": {},
   "source": [
    "Car     Bike    Travel  \n",
    "\n",
    "False   False   False\n",
    "True    True    True\n",
    "False   True    True\n",
    "True    False   True"
   ]
  },
  {
   "cell_type": "code",
   "execution_count": 19,
   "id": "14ce2c27",
   "metadata": {},
   "outputs": [
    {
     "name": "stdout",
     "output_type": "stream",
     "text": [
      "I am stuck as I don't have car or bike\n"
     ]
    }
   ],
   "source": [
    "i_own_car = False\n",
    "i_own_bike = False\n",
    "\n",
    "if i_own_car or i_own_bike:\n",
    "    print(\"I can travel 100km\")\n",
    "else:\n",
    "    print(\"I am stuck as I don't have car or bike\")"
   ]
  },
  {
   "cell_type": "code",
   "execution_count": 20,
   "id": "5ed5b57b",
   "metadata": {},
   "outputs": [
    {
     "name": "stdout",
     "output_type": "stream",
     "text": [
      "I can travel 100km\n"
     ]
    }
   ],
   "source": [
    "i_own_car = True\n",
    "i_own_bike = False\n",
    "\n",
    "if i_own_car or i_own_bike:\n",
    "    print(\"I can travel 100km\")\n",
    "else:\n",
    "    print(\"I am stuck as I don't have car or bike\")"
   ]
  },
  {
   "cell_type": "markdown",
   "id": "15e50e91",
   "metadata": {},
   "source": [
    "    Gives output False if both condition is false else output is True"
   ]
  },
  {
   "cell_type": "markdown",
   "id": "ff72bed2",
   "metadata": {},
   "source": [
    "    CONCLUSION:\n",
    "        1. Use AND operator when you want all the condition to be True\n",
    "        2. USe OR operator if any one of the condition you want to be true"
   ]
  },
  {
   "cell_type": "code",
   "execution_count": 21,
   "id": "ee95b3b6",
   "metadata": {},
   "outputs": [
    {
     "name": "stdout",
     "output_type": "stream",
     "text": [
      "Attendence criteria met? : True\n",
      "Assignment criteria met? : True\n",
      "The student is eligible to appear in final exam\n"
     ]
    }
   ],
   "source": [
    "attendance = 76\n",
    "assignment_submitted = 90\n",
    "\n",
    "print(f\"Attendence criteria met? : {attendance >= 75}\")\n",
    "print(f\"Assignment criteria met? : {assignment_submitted >= 70}\")\n",
    "\n",
    "if attendance >= 75 and assignment_submitted >= 70:\n",
    "    print(\"The student is eligible to appear in final exam\")\n",
    "else:\n",
    "    print(\"Not eligible\")"
   ]
  },
  {
   "cell_type": "code",
   "execution_count": 22,
   "id": "26ebb0cc",
   "metadata": {},
   "outputs": [
    {
     "name": "stdout",
     "output_type": "stream",
     "text": [
      "Proceed further for payment\n"
     ]
    }
   ],
   "source": [
    "own_credit_card = False\n",
    "own_debit_card = False\n",
    "UPI = True\n",
    "\n",
    "if own_credit_card or own_debit_card or UPI:\n",
    "    print(\"Proceed further for payment\")\n",
    "else:\n",
    "    print(\"Cash Payment\")"
   ]
  },
  {
   "cell_type": "markdown",
   "id": "326c661e",
   "metadata": {},
   "source": [
    "### and - or together"
   ]
  },
  {
   "cell_type": "markdown",
   "id": "85ef026d",
   "metadata": {},
   "source": [
    "    if attendence is more than 75% and assignment completed more than 70% OR the student in sports player then only the student is eligible for exam\n",
    "\n",
    "    If you are sports player ,give grace mks of 10"
   ]
  },
  {
   "cell_type": "code",
   "execution_count": 23,
   "id": "0e22d4a1",
   "metadata": {},
   "outputs": [
    {
     "name": "stdout",
     "output_type": "stream",
     "text": [
      "Attendence criteria met? : True\n",
      "Assignment criteria met? : True\n",
      "The student is eligible to appear in final exam\n"
     ]
    }
   ],
   "source": [
    "attendance = 76\n",
    "assignment_submitted = 90\n",
    "sports_player = False\n",
    "\n",
    "print(f\"Attendence criteria met? : {attendance >= 75}\")\n",
    "print(f\"Assignment criteria met? : {assignment_submitted >= 70}\")\n",
    "\n",
    "if attendance >= 75 and assignment_submitted >= 70:\n",
    "    if sports_player:\n",
    "        print(\"The student is sports_player and eligible to appear in final exam\")\n",
    "        print(\"The student can get grace marks: +10\")\n",
    "    else:\n",
    "        print(\"The student is eligible to appear in final exam\")\n",
    "else:\n",
    "    print(\"Not eligible\")"
   ]
  },
  {
   "cell_type": "markdown",
   "id": "f333668c",
   "metadata": {},
   "source": [
    "# Equality Operators"
   ]
  },
  {
   "cell_type": "markdown",
   "id": "5820a141",
   "metadata": {},
   "source": [
    "    Operators   uses        meaning\n",
    "\n",
    "    is          a is b      return True if a and b points to the same object\n",
    "    is not      a is not b  return True if a and b do not point to same object\n",
    "    ==          a == b      a is equal to b\n",
    "    !=          a != b      a is not equal to b\n",
    "\n",
    "    1. When using 'is' and 'is not' then we are also compairing memory location.\n",
    "    2. '==' and '!=' is only checking value of the variable"
   ]
  },
  {
   "cell_type": "code",
   "execution_count": 24,
   "id": "d9170344",
   "metadata": {},
   "outputs": [
    {
     "name": "stdout",
     "output_type": "stream",
     "text": [
      "A and B are same\n",
      "A = 1342597890288, B = 1342597890288\n"
     ]
    }
   ],
   "source": [
    "A = 1\n",
    "B = 1\n",
    "\n",
    "if A is B:  # checks the id location\n",
    "    print(\"A and B are same\")\n",
    "else:\n",
    "    print(\"A and B are not same\")\n",
    "    \n",
    "    \n",
    "print(f\"A = {id(A)}, B = {id(B)}\")"
   ]
  },
  {
   "cell_type": "code",
   "execution_count": 25,
   "id": "2cc48d1d",
   "metadata": {},
   "outputs": [
    {
     "name": "stdout",
     "output_type": "stream",
     "text": [
      "A and B are not same\n"
     ]
    }
   ],
   "source": [
    "A = 1\n",
    "B = 2\n",
    "\n",
    "if A is not B:\n",
    "    print(\"A and B are not same\")\n",
    "else:\n",
    "    print(\"A and B are same\")"
   ]
  },
  {
   "cell_type": "code",
   "execution_count": 26,
   "id": "33915fdf",
   "metadata": {},
   "outputs": [
    {
     "name": "stdout",
     "output_type": "stream",
     "text": [
      "A and B are same\n"
     ]
    }
   ],
   "source": [
    "A = 1\n",
    "B = 1\n",
    "\n",
    "if A == B:\n",
    "    print(\"A and B are same\")\n",
    "else:\n",
    "    print(\"A and B are not same\")"
   ]
  },
  {
   "cell_type": "code",
   "execution_count": 27,
   "id": "9e0d0132",
   "metadata": {},
   "outputs": [
    {
     "name": "stdout",
     "output_type": "stream",
     "text": [
      "A and B are not same\n"
     ]
    }
   ],
   "source": [
    "A = 1\n",
    "B = 2\n",
    "\n",
    "if A != B:\n",
    "    print(\"A and B are not same\")\n",
    "else:\n",
    "    print(\"A and B are same\")"
   ]
  },
  {
   "cell_type": "code",
   "execution_count": 28,
   "id": "fef83890",
   "metadata": {},
   "outputs": [
    {
     "data": {
      "text/plain": [
       "True"
      ]
     },
     "execution_count": 28,
     "metadata": {},
     "output_type": "execute_result"
    }
   ],
   "source": [
    "A = \"bhumika\"\n",
    "B = \"bhumika\"\n",
    "\n",
    "A is B"
   ]
  },
  {
   "cell_type": "code",
   "execution_count": 29,
   "id": "c4059ba6",
   "metadata": {},
   "outputs": [
    {
     "data": {
      "text/plain": [
       "False"
      ]
     },
     "execution_count": 29,
     "metadata": {},
     "output_type": "execute_result"
    }
   ],
   "source": [
    "A = [\"Bhumika\",\"Sawade\"]  # list data structure\n",
    "B = [\"Bhumika\",\"Sawade\"]\n",
    "\n",
    "A is B "
   ]
  },
  {
   "cell_type": "code",
   "execution_count": 30,
   "id": "5470c979",
   "metadata": {},
   "outputs": [
    {
     "data": {
      "text/plain": [
       "True"
      ]
     },
     "execution_count": 30,
     "metadata": {},
     "output_type": "execute_result"
    }
   ],
   "source": [
    "A == B"
   ]
  },
  {
   "cell_type": "code",
   "execution_count": 31,
   "id": "f1003abd",
   "metadata": {},
   "outputs": [
    {
     "name": "stdout",
     "output_type": "stream",
     "text": [
      "1342678283584 1342678171712\n"
     ]
    }
   ],
   "source": [
    "print(id(A),id(B))"
   ]
  },
  {
   "cell_type": "code",
   "execution_count": 32,
   "id": "0a15af4e",
   "metadata": {},
   "outputs": [
    {
     "name": "stdout",
     "output_type": "stream",
     "text": [
      "Enter the value of B: 3\n"
     ]
    },
    {
     "data": {
      "text/plain": [
       "False"
      ]
     },
     "execution_count": 32,
     "metadata": {},
     "output_type": "execute_result"
    }
   ],
   "source": [
    "A = 1\n",
    "B = int(input(\"Enter the value of B: \"))\n",
    "\n",
    "A is B"
   ]
  },
  {
   "cell_type": "code",
   "execution_count": 33,
   "id": "71620120",
   "metadata": {},
   "outputs": [
    {
     "name": "stdout",
     "output_type": "stream",
     "text": [
      "Enter name:Bhumika\n",
      "She is student and Data Science entusiast\n"
     ]
    }
   ],
   "source": [
    "name = input(\"Enter name:\")\n",
    "\n",
    "if name == \"Bhumika\":\n",
    "    print(f\"She is student and Data Science entusiast\")\n",
    "else:\n",
    "    print(f\"It's possible he/she is a trainer\")"
   ]
  },
  {
   "cell_type": "markdown",
   "id": "66309756",
   "metadata": {},
   "source": [
    "# Comparison Operator"
   ]
  },
  {
   "cell_type": "markdown",
   "id": "c5a2ad32",
   "metadata": {},
   "source": [
    "    Operation   Meaning\n",
    "\n",
    "    <          A < B\n",
    "    <=         A <= B\n",
    "    >          A > B\n",
    "    >=         A <= B"
   ]
  },
  {
   "cell_type": "code",
   "execution_count": 34,
   "id": "c25ce0e6",
   "metadata": {},
   "outputs": [
    {
     "name": "stdout",
     "output_type": "stream",
     "text": [
      "Attendence criteria met? : True\n",
      "Assignment criteria met? : True\n",
      "The student is eligible to appear in final exam\n"
     ]
    }
   ],
   "source": [
    "attendance = 76\n",
    "assignment_submitted = 90\n",
    "\n",
    "print(f\"Attendence criteria met? : {attendance >= 75}\")\n",
    "print(f\"Assignment criteria met? : {assignment_submitted >= 70}\")\n",
    "\n",
    "if attendance >= 75 and assignment_submitted >= 70:\n",
    "    print(\"The student is eligible to appear in final exam\")\n",
    "else:\n",
    "    print(\"Not eligible\")"
   ]
  },
  {
   "cell_type": "code",
   "execution_count": 35,
   "id": "a09655c6",
   "metadata": {},
   "outputs": [
    {
     "name": "stdout",
     "output_type": "stream",
     "text": [
      "You should have taken things seriously\n"
     ]
    }
   ],
   "source": [
    "your_score = 30\n",
    "passing_marks = 33.33\n",
    "\n",
    "if your_score >= passing_marks:\n",
    "    print(f\"Since you have scored: {your_score}, you've passed the exam\")\n",
    "else:\n",
    "    print(\"You should have taken things seriously\")"
   ]
  },
  {
   "cell_type": "code",
   "execution_count": 36,
   "id": "dd95523e",
   "metadata": {},
   "outputs": [
    {
     "name": "stdout",
     "output_type": "stream",
     "text": [
      "You should have taken things seriously\n"
     ]
    }
   ],
   "source": [
    "your_score = 33.33\n",
    "passing_marks = 33.33\n",
    "\n",
    "if your_score > passing_marks: #strict case\n",
    "    print(f\"Since you have scored: {your_score}, you've passed the exam\")\n",
    "else:\n",
    "    print(\"You should have taken things seriously\")"
   ]
  },
  {
   "cell_type": "code",
   "execution_count": 37,
   "id": "ef84770f",
   "metadata": {},
   "outputs": [
    {
     "name": "stdout",
     "output_type": "stream",
     "text": [
      "Since you have scored: 74, you've passed the exam\n",
      "Try best, for distinction\n"
     ]
    }
   ],
   "source": [
    "your_score = 74\n",
    "passing_marks = 33.33\n",
    "distinction_marks = 75\n",
    "\n",
    "if your_score >= passing_marks:\n",
    "    print(f\"Since you have scored: {your_score}, you've passed the exam\")\n",
    "    if distinction_marks < your_score:\n",
    "        print(\"Passed with distinction\")\n",
    "    else:\n",
    "        print(\"Try best, for distinction\")\n",
    "else:\n",
    "    print(\"You should have taken things seriously\")"
   ]
  },
  {
   "cell_type": "markdown",
   "id": "719f5acb",
   "metadata": {},
   "source": [
    "# Arithmatic Operators"
   ]
  },
  {
   "cell_type": "markdown",
   "id": "db2bac65",
   "metadata": {},
   "source": [
    "    Operation   Meaning\n",
    "\n",
    "        +       addition\n",
    "        -       subtraction\n",
    "        *       multiplication\n",
    "        /       true division\n",
    "        //      integer division\n",
    "        %       modulo operator"
   ]
  },
  {
   "cell_type": "code",
   "execution_count": 38,
   "id": "067d615e",
   "metadata": {},
   "outputs": [
    {
     "name": "stdout",
     "output_type": "stream",
     "text": [
      "Addition: 10\n",
      "Subtraction: 6\n",
      "Multiplication: 16\n",
      "True Division: 4.0\n",
      "Integer Division: 4\n",
      "Modulo Operator: 0\n"
     ]
    }
   ],
   "source": [
    "a = 8\n",
    "b = 2\n",
    "\n",
    "print(f\"Addition: {a+b}\")\n",
    "print(f\"Subtraction: {a-b}\")\n",
    "print(f\"Multiplication: {a*b}\")\n",
    "print(f\"True Division: {a/b}\")\n",
    "print(f\"Integer Division: {a//b}\")\n",
    "print(f\"Modulo Operator: {a%b}\")   #gives remainder"
   ]
  },
  {
   "cell_type": "code",
   "execution_count": 39,
   "id": "c1834dbb",
   "metadata": {},
   "outputs": [
    {
     "name": "stdout",
     "output_type": "stream",
     "text": [
      "Enter a no. :23\n",
      "A: 23 is not divisible by B: 2\n"
     ]
    }
   ],
   "source": [
    "A = int(input(\"Enter a no. :\"))\n",
    "B = 2\n",
    "\n",
    "if A%B == 0:\n",
    "    print(f\"A: {A} is divisible by B: {B}\")\n",
    "else:\n",
    "    print(f\"A: {A} is not divisible by B: {B}\")"
   ]
  },
  {
   "cell_type": "code",
   "execution_count": 40,
   "id": "e355ce0f",
   "metadata": {},
   "outputs": [
    {
     "data": {
      "text/plain": [
       "2.0"
      ]
     },
     "execution_count": 40,
     "metadata": {},
     "output_type": "execute_result"
    }
   ],
   "source": [
    "A = 4\n",
    "\n",
    "A**(1/2)"
   ]
  },
  {
   "cell_type": "code",
   "execution_count": null,
   "id": "1ad45b27",
   "metadata": {},
   "outputs": [],
   "source": []
  }
 ],
 "metadata": {
  "kernelspec": {
   "display_name": "Python 3 (ipykernel)",
   "language": "python",
   "name": "python3"
  },
  "language_info": {
   "codemirror_mode": {
    "name": "ipython",
    "version": 3
   },
   "file_extension": ".py",
   "mimetype": "text/x-python",
   "name": "python",
   "nbconvert_exporter": "python",
   "pygments_lexer": "ipython3",
   "version": "3.10.9"
  }
 },
 "nbformat": 4,
 "nbformat_minor": 5
}

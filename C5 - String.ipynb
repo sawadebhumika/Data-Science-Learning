{
 "cells": [
  {
   "cell_type": "markdown",
   "id": "5edab747",
   "metadata": {},
   "source": [
    "# String methods"
   ]
  },
  {
   "cell_type": "code",
   "execution_count": 1,
   "id": "906de91b",
   "metadata": {},
   "outputs": [],
   "source": [
    "A = \"Bhumika\""
   ]
  },
  {
   "cell_type": "code",
   "execution_count": 2,
   "id": "f2563605",
   "metadata": {},
   "outputs": [
    {
     "data": {
      "text/plain": [
       "'h'"
      ]
     },
     "execution_count": 2,
     "metadata": {},
     "output_type": "execute_result"
    }
   ],
   "source": [
    "A[1]"
   ]
  },
  {
   "cell_type": "code",
   "execution_count": 7,
   "id": "52f55ee2",
   "metadata": {},
   "outputs": [],
   "source": [
    "# indexing in python starts with '0'"
   ]
  },
  {
   "cell_type": "code",
   "execution_count": 15,
   "id": "471633e4",
   "metadata": {},
   "outputs": [],
   "source": [
    "#     0123456\n",
    "A  = \"Bhumika\"\n",
    "#   -7-6-5-4-3-2-1"
   ]
  },
  {
   "cell_type": "code",
   "execution_count": 16,
   "id": "6933867c",
   "metadata": {},
   "outputs": [
    {
     "data": {
      "text/plain": [
       "'a'"
      ]
     },
     "execution_count": 16,
     "metadata": {},
     "output_type": "execute_result"
    }
   ],
   "source": [
    "A[-1]"
   ]
  },
  {
   "cell_type": "code",
   "execution_count": 17,
   "id": "1f1cc7b5",
   "metadata": {},
   "outputs": [
    {
     "data": {
      "text/plain": [
       "'m'"
      ]
     },
     "execution_count": 17,
     "metadata": {},
     "output_type": "execute_result"
    }
   ],
   "source": [
    "A[-4]"
   ]
  },
  {
   "cell_type": "code",
   "execution_count": 18,
   "id": "308fe276",
   "metadata": {},
   "outputs": [
    {
     "ename": "IndexError",
     "evalue": "string index out of range",
     "output_type": "error",
     "traceback": [
      "\u001b[1;31m---------------------------------------------------------------------------\u001b[0m",
      "\u001b[1;31mIndexError\u001b[0m                                Traceback (most recent call last)",
      "Cell \u001b[1;32mIn[18], line 1\u001b[0m\n\u001b[1;32m----> 1\u001b[0m \u001b[43mA\u001b[49m\u001b[43m[\u001b[49m\u001b[38;5;241;43m8\u001b[39;49m\u001b[43m]\u001b[49m\n",
      "\u001b[1;31mIndexError\u001b[0m: string index out of range"
     ]
    }
   ],
   "source": [
    "A[8]"
   ]
  },
  {
   "cell_type": "markdown",
   "id": "253ca821",
   "metadata": {},
   "source": [
    "    If N characters or elememrs are there in a string then the index range will vary fron 0 to (N-1) \n",
    "    Index in reverse order will vary from -1 to -N"
   ]
  },
  {
   "cell_type": "markdown",
   "id": "33c3689a",
   "metadata": {},
   "source": [
    "### string slicing"
   ]
  },
  {
   "cell_type": "code",
   "execution_count": 19,
   "id": "49fcc8bd",
   "metadata": {},
   "outputs": [],
   "source": [
    "#       0123456\n",
    "name = \"Bhumika\""
   ]
  },
  {
   "cell_type": "code",
   "execution_count": 25,
   "id": "6a541369",
   "metadata": {},
   "outputs": [
    {
     "data": {
      "text/plain": [
       "'mika'"
      ]
     },
     "execution_count": 25,
     "metadata": {},
     "output_type": "execute_result"
    }
   ],
   "source": [
    "name[3:]  #[starting : ending]"
   ]
  },
  {
   "cell_type": "code",
   "execution_count": 24,
   "id": "7b48d11f",
   "metadata": {},
   "outputs": [
    {
     "data": {
      "text/plain": [
       "'humik'"
      ]
     },
     "execution_count": 24,
     "metadata": {},
     "output_type": "execute_result"
    }
   ],
   "source": [
    "name[1:6]  "
   ]
  },
  {
   "cell_type": "code",
   "execution_count": 28,
   "id": "d72af53b",
   "metadata": {},
   "outputs": [
    {
     "data": {
      "text/plain": [
       "'humi'"
      ]
     },
     "execution_count": 28,
     "metadata": {},
     "output_type": "execute_result"
    }
   ],
   "source": [
    "name[1:5]  # ending is excluded\n",
    "           # 5 is not included"
   ]
  },
  {
   "cell_type": "markdown",
   "id": "31f6fe46",
   "metadata": {},
   "source": []
  },
  {
   "cell_type": "markdown",
   "id": "12285ba7",
   "metadata": {},
   "source": []
  },
  {
   "cell_type": "code",
   "execution_count": 29,
   "id": "50d291ee",
   "metadata": {},
   "outputs": [
    {
     "data": {
      "text/plain": [
       "'mik'"
      ]
     },
     "execution_count": 29,
     "metadata": {},
     "output_type": "execute_result"
    }
   ],
   "source": [
    "name[-4:-1]"
   ]
  },
  {
   "cell_type": "code",
   "execution_count": 35,
   "id": "36ee69a6",
   "metadata": {},
   "outputs": [],
   "source": [
    "#       0123456789\n",
    "date = \"30/10/2023\"\n",
    "#date = input(\"Enter DOB in the format DD/MM/YYYY\")\n",
    "\n",
    "# todays_date, month and year\n",
    "todays_date = date[0:2]\n",
    "month = date[3:5]\n",
    "year = date[6:]"
   ]
  },
  {
   "cell_type": "code",
   "execution_count": 38,
   "id": "7d0fbd60",
   "metadata": {},
   "outputs": [
    {
     "name": "stdout",
     "output_type": "stream",
     "text": [
      "30 10 2023\n",
      "It's 30 of the month 10 of the year2023\n"
     ]
    }
   ],
   "source": [
    "print(todays_date,month,year)\n",
    "print(f\"It's {todays_date} of the month {month} of the year{year}\")"
   ]
  },
  {
   "cell_type": "code",
   "execution_count": 41,
   "id": "31ee0f5a",
   "metadata": {},
   "outputs": [
    {
     "name": "stdout",
     "output_type": "stream",
     "text": [
      "Enter DOB in the format DD/MM/YYYY : 02/10/1999\n",
      "The user was born on date 02 in the month of 10 in the year 1999\n"
     ]
    }
   ],
   "source": [
    "date = input(\"Enter DOB in the format DD/MM/YYYY : \")\n",
    "\n",
    "date_ = date[0:2]\n",
    "month = date[3:5]\n",
    "year = date[6:]\n",
    "\n",
    "print(f\"The user was born on date {date_} in the month of {month} in the year {year}\")"
   ]
  },
  {
   "cell_type": "code",
   "execution_count": 42,
   "id": "ce821c86",
   "metadata": {},
   "outputs": [
    {
     "name": "stdout",
     "output_type": "stream",
     "text": [
      "Enter DOB in the format DD/MMM/YYYY : 29/Jan/1993\n",
      "The user was born on date 29 in the month of Jan in the year 1993\n"
     ]
    }
   ],
   "source": [
    "date = input(\"Enter DOB in the format DD/MMM/YYYY : \")\n",
    "\n",
    "date_ = date[0:2]\n",
    "month = date[3:6]\n",
    "year = date[7:]\n",
    "\n",
    "print(f\"The user was born on date {date_} in the month of {month} in the year {year}\")"
   ]
  },
  {
   "cell_type": "code",
   "execution_count": 47,
   "id": "d5588cd2",
   "metadata": {
    "scrolled": true
   },
   "outputs": [
    {
     "data": {
      "text/plain": [
       "'Bui'"
      ]
     },
     "execution_count": 47,
     "metadata": {},
     "output_type": "execute_result"
    }
   ],
   "source": [
    "#        0_2_4\n",
    "name  = \"Bhumika\"\n",
    "name[0:5:2]   # start:end:step"
   ]
  },
  {
   "cell_type": "code",
   "execution_count": 46,
   "id": "2b4f826e",
   "metadata": {},
   "outputs": [
    {
     "data": {
      "text/plain": [
       "'Bma'"
      ]
     },
     "execution_count": 46,
     "metadata": {},
     "output_type": "execute_result"
    }
   ],
   "source": [
    "#        0__3__6\n",
    "name  = \"Bhumika\"\n",
    "name[0::3]   # start:end:step"
   ]
  },
  {
   "cell_type": "code",
   "execution_count": 48,
   "id": "91b880b0",
   "metadata": {
    "scrolled": false
   },
   "outputs": [
    {
     "data": {
      "text/plain": [
       "'Buia'"
      ]
     },
     "execution_count": 48,
     "metadata": {},
     "output_type": "execute_result"
    }
   ],
   "source": [
    "name[0::2]   # start:end:step"
   ]
  },
  {
   "cell_type": "code",
   "execution_count": 50,
   "id": "17c3a17c",
   "metadata": {},
   "outputs": [
    {
     "data": {
      "text/plain": [
       "'akimuhB'"
      ]
     },
     "execution_count": 50,
     "metadata": {},
     "output_type": "execute_result"
    }
   ],
   "source": [
    "name[::-1]"
   ]
  },
  {
   "cell_type": "code",
   "execution_count": 53,
   "id": "8a432e3c",
   "metadata": {},
   "outputs": [
    {
     "data": {
      "text/plain": [
       "'BuiaPaahSwd'"
      ]
     },
     "execution_count": 53,
     "metadata": {},
     "output_type": "execute_result"
    }
   ],
   "source": [
    "name = \"Bhumika Prakash Sawade\"\n",
    "name[0::2]"
   ]
  },
  {
   "cell_type": "code",
   "execution_count": 54,
   "id": "d92c4f23",
   "metadata": {},
   "outputs": [
    {
     "data": {
      "text/plain": [
       "22"
      ]
     },
     "execution_count": 54,
     "metadata": {},
     "output_type": "execute_result"
    }
   ],
   "source": [
    "len(name)"
   ]
  },
  {
   "cell_type": "code",
   "execution_count": 55,
   "id": "230374e9",
   "metadata": {},
   "outputs": [
    {
     "data": {
      "text/plain": [
       "'Bhumika Prakash Sawade'"
      ]
     },
     "execution_count": 55,
     "metadata": {},
     "output_type": "execute_result"
    }
   ],
   "source": [
    "name[::]"
   ]
  },
  {
   "cell_type": "code",
   "execution_count": 57,
   "id": "4546ad86",
   "metadata": {},
   "outputs": [
    {
     "data": {
      "text/plain": [
       "'edawaS hsakarP akimuhB'"
      ]
     },
     "execution_count": 57,
     "metadata": {},
     "output_type": "execute_result"
    }
   ],
   "source": [
    "name[::-1]  # printing in reverse order"
   ]
  },
  {
   "cell_type": "markdown",
   "id": "269f2331",
   "metadata": {},
   "source": [
    "# Palindrome sequence"
   ]
  },
  {
   "cell_type": "code",
   "execution_count": 61,
   "id": "6267c21f",
   "metadata": {},
   "outputs": [
    {
     "name": "stdout",
     "output_type": "stream",
     "text": [
      "Enter your palindrome: radar\n",
      "radar\n"
     ]
    }
   ],
   "source": [
    "data = input(\"Enter your palindrome: \")\n",
    "reverse = data[::-1]\n",
    "print(reverse)"
   ]
  },
  {
   "cell_type": "code",
   "execution_count": 65,
   "id": "df4d873d",
   "metadata": {},
   "outputs": [
    {
     "name": "stdout",
     "output_type": "stream",
     "text": [
      "Enter your palindrome: malayalam\n",
      "Entered data malayalam is a palindrome\n"
     ]
    }
   ],
   "source": [
    "data = input(\"Enter your palindrome: \")\n",
    "reverse = data[::-1]\n",
    "\n",
    "if data == reverse:\n",
    "    print(f\"Entered data {data} is a palindrome\")\n",
    "else:\n",
    "    print(f\"Input string {data} is not palindrome\")\n",
    "    "
   ]
  },
  {
   "cell_type": "markdown",
   "id": "e2335a8e",
   "metadata": {},
   "source": [
    "### Mutability"
   ]
  },
  {
   "cell_type": "markdown",
   "id": "4914f326",
   "metadata": {},
   "source": [
    "    Mutable means subject to change or which can be changed\n",
    "    String is immutable becz we cannot directly assign any value using indexing"
   ]
  },
  {
   "cell_type": "code",
   "execution_count": 67,
   "id": "84d8449e",
   "metadata": {},
   "outputs": [
    {
     "ename": "TypeError",
     "evalue": "'str' object does not support item assignment",
     "output_type": "error",
     "traceback": [
      "\u001b[1;31m---------------------------------------------------------------------------\u001b[0m",
      "\u001b[1;31mTypeError\u001b[0m                                 Traceback (most recent call last)",
      "Cell \u001b[1;32mIn[67], line 4\u001b[0m\n\u001b[0;32m      1\u001b[0m name \u001b[38;5;241m=\u001b[39m \u001b[38;5;124m\"\u001b[39m\u001b[38;5;124mBhumika\u001b[39m\u001b[38;5;124m\"\u001b[39m\n\u001b[0;32m      3\u001b[0m \u001b[38;5;66;03m# replace B with V\u001b[39;00m\n\u001b[1;32m----> 4\u001b[0m name[\u001b[38;5;241m0\u001b[39m] \u001b[38;5;241m=\u001b[39m \u001b[38;5;124m\"\u001b[39m\u001b[38;5;124mV\u001b[39m\u001b[38;5;124m\"\u001b[39m\n",
      "\u001b[1;31mTypeError\u001b[0m: 'str' object does not support item assignment"
     ]
    }
   ],
   "source": [
    "name = \"Bhumika\"\n",
    "\n",
    "# replace B with V\n",
    "name[0] = \"V\"  # immutability"
   ]
  },
  {
   "cell_type": "code",
   "execution_count": 68,
   "id": "31d533d6",
   "metadata": {},
   "outputs": [
    {
     "data": {
      "text/plain": [
       "'humikaV'"
      ]
     },
     "execution_count": 68,
     "metadata": {},
     "output_type": "execute_result"
    }
   ],
   "source": [
    "name[1:] + \"V\""
   ]
  },
  {
   "cell_type": "code",
   "execution_count": 69,
   "id": "82ac01ce",
   "metadata": {},
   "outputs": [
    {
     "data": {
      "text/plain": [
       "'vhumika'"
      ]
     },
     "execution_count": 69,
     "metadata": {},
     "output_type": "execute_result"
    }
   ],
   "source": [
    "\"v\" + name[1:]"
   ]
  },
  {
   "cell_type": "code",
   "execution_count": 70,
   "id": "29a3d1a0",
   "metadata": {},
   "outputs": [
    {
     "data": {
      "text/plain": [
       "'Bhumika'"
      ]
     },
     "execution_count": 70,
     "metadata": {},
     "output_type": "execute_result"
    }
   ],
   "source": [
    "name"
   ]
  },
  {
   "cell_type": "code",
   "execution_count": 72,
   "id": "6ce0b693",
   "metadata": {},
   "outputs": [
    {
     "name": "stdout",
     "output_type": "stream",
     "text": [
      "vhumika\n"
     ]
    }
   ],
   "source": [
    "name = \"v\" + name[1:]\n",
    "print(name)"
   ]
  },
  {
   "cell_type": "code",
   "execution_count": 75,
   "id": "73786799",
   "metadata": {},
   "outputs": [
    {
     "data": {
      "text/plain": [
       "'vhumikAAA'"
      ]
     },
     "execution_count": 75,
     "metadata": {},
     "output_type": "execute_result"
    }
   ],
   "source": [
    "name = name.replace(\"a\",\"AAA\")\n",
    "name"
   ]
  },
  {
   "cell_type": "code",
   "execution_count": 77,
   "id": "0947ae0d",
   "metadata": {},
   "outputs": [],
   "source": [
    "name = \"Bhumika PRAKASH SAWADE\"\n",
    "name = name.replace(\"Bhumika\",\"BHUMIKA\")"
   ]
  },
  {
   "cell_type": "code",
   "execution_count": 79,
   "id": "3c119660",
   "metadata": {},
   "outputs": [
    {
     "data": {
      "text/plain": [
       "'BHUMIKA PRAKASH SAWADE'"
      ]
     },
     "execution_count": 79,
     "metadata": {},
     "output_type": "execute_result"
    }
   ],
   "source": [
    "name"
   ]
  },
  {
   "cell_type": "code",
   "execution_count": 81,
   "id": "5147d236",
   "metadata": {},
   "outputs": [
    {
     "data": {
      "text/plain": [
       "'BHUMIKA__PRAKASH__SAWADE'"
      ]
     },
     "execution_count": 81,
     "metadata": {},
     "output_type": "execute_result"
    }
   ],
   "source": [
    "name.replace(\" \",'__')"
   ]
  },
  {
   "cell_type": "markdown",
   "id": "cac4bcdd",
   "metadata": {},
   "source": [
    "### length of string"
   ]
  },
  {
   "cell_type": "code",
   "execution_count": 82,
   "id": "cb2dff5e",
   "metadata": {},
   "outputs": [
    {
     "data": {
      "text/plain": [
       "22"
      ]
     },
     "execution_count": 82,
     "metadata": {},
     "output_type": "execute_result"
    }
   ],
   "source": [
    "len(name)"
   ]
  },
  {
   "cell_type": "code",
   "execution_count": 83,
   "id": "e45466ec",
   "metadata": {},
   "outputs": [
    {
     "data": {
      "text/plain": [
       "7"
      ]
     },
     "execution_count": 83,
     "metadata": {},
     "output_type": "execute_result"
    }
   ],
   "source": [
    "len(\"Bhumika\")"
   ]
  },
  {
   "cell_type": "code",
   "execution_count": 84,
   "id": "e8d42cfd",
   "metadata": {},
   "outputs": [
    {
     "data": {
      "text/plain": [
       "10"
      ]
     },
     "execution_count": 84,
     "metadata": {},
     "output_type": "execute_result"
    }
   ],
   "source": [
    "len(\"Bhumika   \")"
   ]
  },
  {
   "cell_type": "markdown",
   "id": "c913bd9c",
   "metadata": {},
   "source": [
    "### Count"
   ]
  },
  {
   "cell_type": "markdown",
   "id": "b367dd18",
   "metadata": {},
   "source": [
    "count specific character in string"
   ]
  },
  {
   "cell_type": "code",
   "execution_count": 85,
   "id": "10ab7669",
   "metadata": {},
   "outputs": [
    {
     "data": {
      "text/plain": [
       "2"
      ]
     },
     "execution_count": 85,
     "metadata": {},
     "output_type": "execute_result"
    }
   ],
   "source": [
    "name = \"Pravina\"\n",
    "name.count(\"a\")"
   ]
  },
  {
   "cell_type": "markdown",
   "id": "16894dad",
   "metadata": {},
   "source": [
    "### Split operation"
   ]
  },
  {
   "cell_type": "code",
   "execution_count": 87,
   "id": "05958696",
   "metadata": {},
   "outputs": [
    {
     "data": {
      "text/plain": [
       "['Bhumika', 'Prakash', 'Sawade']"
      ]
     },
     "execution_count": 87,
     "metadata": {},
     "output_type": "execute_result"
    }
   ],
   "source": [
    "name = \"Bhumika Prakash Sawade\"\n",
    "name.split(\" \")  #list output"
   ]
  },
  {
   "cell_type": "code",
   "execution_count": 89,
   "id": "827cdffa",
   "metadata": {},
   "outputs": [
    {
     "name": "stdout",
     "output_type": "stream",
     "text": [
      "\n",
      "First Name: Bhumika\n",
      "Middle Name: Prakash\n",
      "Sir Name: Sawade\n",
      "\n"
     ]
    }
   ],
   "source": [
    "first_name , middle_name , last_name = name.split(\" \")\n",
    "\n",
    "print(f\"\"\"\n",
    "First Name: {first_name}\n",
    "Middle Name: {middle_name}\n",
    "Sir Name: {last_name}\n",
    "\"\"\")"
   ]
  },
  {
   "cell_type": "code",
   "execution_count": 91,
   "id": "4bc39477",
   "metadata": {},
   "outputs": [
    {
     "name": "stdout",
     "output_type": "stream",
     "text": [
      "Enter DOB in the format DD/MMM/YYYY : 29/oct/1997\n",
      "The user was born on date 29 in the month of oct in the year 1997\n"
     ]
    }
   ],
   "source": [
    "data = input(\"Enter DOB in the format DD/MMM/YYYY : \")\n",
    "\n",
    "date_,month,year = data.split(\"/\")\n",
    "\n",
    "print(f\"The user was born on date {date_} in the month of {month} in the year {year}\")"
   ]
  },
  {
   "cell_type": "code",
   "execution_count": 92,
   "id": "6e61f90e",
   "metadata": {},
   "outputs": [
    {
     "data": {
      "text/plain": [
       "['29', 'oct', '1997']"
      ]
     },
     "execution_count": 92,
     "metadata": {},
     "output_type": "execute_result"
    }
   ],
   "source": [
    "data.split(\"/\")"
   ]
  },
  {
   "cell_type": "code",
   "execution_count": 93,
   "id": "5a2f1815",
   "metadata": {},
   "outputs": [
    {
     "data": {
      "text/plain": [
       "'Bhumika Prakash Sawade'"
      ]
     },
     "execution_count": 93,
     "metadata": {},
     "output_type": "execute_result"
    }
   ],
   "source": [
    "name"
   ]
  },
  {
   "cell_type": "code",
   "execution_count": 95,
   "id": "5968647c",
   "metadata": {},
   "outputs": [
    {
     "data": {
      "text/plain": [
       "['Bhumik', ' Pr', 'k', 'sh S', 'w', 'de']"
      ]
     },
     "execution_count": 95,
     "metadata": {},
     "output_type": "execute_result"
    }
   ],
   "source": [
    "name.split(\"a\")"
   ]
  },
  {
   "cell_type": "markdown",
   "id": "32b8715c",
   "metadata": {},
   "source": [
    "### Lowercase, uppercase, title, etc"
   ]
  },
  {
   "cell_type": "code",
   "execution_count": 96,
   "id": "c48639a7",
   "metadata": {},
   "outputs": [
    {
     "data": {
      "text/plain": [
       "'Bhumika Prakash Sawade'"
      ]
     },
     "execution_count": 96,
     "metadata": {},
     "output_type": "execute_result"
    }
   ],
   "source": [
    "name"
   ]
  },
  {
   "cell_type": "code",
   "execution_count": 98,
   "id": "768a02fd",
   "metadata": {},
   "outputs": [
    {
     "data": {
      "text/plain": [
       "'bhumika prakash sawade'"
      ]
     },
     "execution_count": 98,
     "metadata": {},
     "output_type": "execute_result"
    }
   ],
   "source": [
    "name.lower()"
   ]
  },
  {
   "cell_type": "code",
   "execution_count": 100,
   "id": "89e27a5e",
   "metadata": {},
   "outputs": [
    {
     "data": {
      "text/plain": [
       "'BHUMIKA PRAKASH SAWADE'"
      ]
     },
     "execution_count": 100,
     "metadata": {},
     "output_type": "execute_result"
    }
   ],
   "source": [
    "name.upper()"
   ]
  },
  {
   "cell_type": "code",
   "execution_count": 104,
   "id": "f22e8c5d",
   "metadata": {},
   "outputs": [
    {
     "name": "stdout",
     "output_type": "stream",
     "text": [
      "Enter your name: bhumika Sawade Prakash\n",
      "Name in uppercase: BHUMIKA SAWADE PRAKASH\n",
      "Name in lowercase: bhumika sawade prakash\n",
      "Name in titlecase: Bhumika Sawade Prakash\n",
      "Name in capitalizecase: Bhumika sawade prakash\n",
      "Name in swapcase: BHUMIKA sAWADE pRAKASH\n"
     ]
    }
   ],
   "source": [
    "name = input(\"Enter your name: \")\n",
    "\n",
    "print(f\"Name in uppercase: {name.upper()}\")\n",
    "print(f\"Name in lowercase: {name.lower()}\")\n",
    "print(f\"Name in titlecase: {name.title()}\")\n",
    "print(f\"Name in capitalizecase: {name.capitalize()}\")\n",
    "print(f\"Name in swapcase: {name.swapcase()}\")"
   ]
  },
  {
   "cell_type": "markdown",
   "id": "cfc203da",
   "metadata": {},
   "source": [
    "### Join"
   ]
  },
  {
   "cell_type": "code",
   "execution_count": 106,
   "id": "f6ccf47e",
   "metadata": {},
   "outputs": [
    {
     "data": {
      "text/plain": [
       "'B_h_u_m_i_ _P_r_a_k_a_s_h_ _S_a_w_a_d_e'"
      ]
     },
     "execution_count": 106,
     "metadata": {},
     "output_type": "execute_result"
    }
   ],
   "source": [
    "name = \"Bhumi Prakash Sawade\"\n",
    "\"_\".join(name)"
   ]
  },
  {
   "cell_type": "code",
   "execution_count": 108,
   "id": "e74008be",
   "metadata": {
    "scrolled": true
   },
   "outputs": [
    {
     "data": {
      "text/plain": [
       "'B*h*u*m*i* *P*r*a*k*a*s*h* *S*a*w*a*d*e'"
      ]
     },
     "execution_count": 108,
     "metadata": {},
     "output_type": "execute_result"
    }
   ],
   "source": [
    "\"*\".join(name)  # in between the sentence"
   ]
  },
  {
   "cell_type": "markdown",
   "id": "34c8b5bb",
   "metadata": {},
   "source": [
    "### strip"
   ]
  },
  {
   "cell_type": "code",
   "execution_count": 109,
   "id": "933e7c7f",
   "metadata": {},
   "outputs": [],
   "source": [
    "## remove extra spaces from front and back only of the string"
   ]
  },
  {
   "cell_type": "code",
   "execution_count": 110,
   "id": "1a5b834c",
   "metadata": {},
   "outputs": [],
   "source": [
    "name = '  Bhumika   '"
   ]
  },
  {
   "cell_type": "code",
   "execution_count": 111,
   "id": "ffd2b83e",
   "metadata": {},
   "outputs": [
    {
     "data": {
      "text/plain": [
       "'Bhumika'"
      ]
     },
     "execution_count": 111,
     "metadata": {},
     "output_type": "execute_result"
    }
   ],
   "source": [
    "name.strip(\" \")"
   ]
  },
  {
   "cell_type": "code",
   "execution_count": 112,
   "id": "c7f1400b",
   "metadata": {},
   "outputs": [
    {
     "data": {
      "text/plain": [
       "'Bhumika   '"
      ]
     },
     "execution_count": 112,
     "metadata": {},
     "output_type": "execute_result"
    }
   ],
   "source": [
    "# left strip\n",
    "name.lstrip(\" \")"
   ]
  },
  {
   "cell_type": "code",
   "execution_count": 113,
   "id": "0fffdb0f",
   "metadata": {},
   "outputs": [
    {
     "data": {
      "text/plain": [
       "'  Bhumika'"
      ]
     },
     "execution_count": 113,
     "metadata": {},
     "output_type": "execute_result"
    }
   ],
   "source": [
    "# right strip\n",
    "name.rstrip(\" \")"
   ]
  },
  {
   "cell_type": "code",
   "execution_count": 115,
   "id": "b91d4280",
   "metadata": {},
   "outputs": [
    {
     "data": {
      "text/plain": [
       "'  Bhumika'"
      ]
     },
     "execution_count": 115,
     "metadata": {},
     "output_type": "execute_result"
    }
   ],
   "source": [
    "name = \"  Bhumika+++\"\n",
    "name.strip(\"++++\")"
   ]
  },
  {
   "cell_type": "markdown",
   "id": "6a86a400",
   "metadata": {},
   "source": [
    "### Formatting\n"
   ]
  },
  {
   "cell_type": "code",
   "execution_count": 118,
   "id": "e92733ad",
   "metadata": {},
   "outputs": [
    {
     "data": {
      "text/plain": [
       "'++++++Bhumikka++++++'"
      ]
     },
     "execution_count": 118,
     "metadata": {},
     "output_type": "execute_result"
    }
   ],
   "source": [
    "name = \"Bhumikka\"\n",
    "\n",
    "name.center(20,\"+\")"
   ]
  },
  {
   "cell_type": "code",
   "execution_count": 119,
   "id": "53f03b8f",
   "metadata": {},
   "outputs": [
    {
     "data": {
      "text/plain": [
       "'+Bhumikka+'"
      ]
     },
     "execution_count": 119,
     "metadata": {},
     "output_type": "execute_result"
    }
   ],
   "source": [
    "name.center(10,\"+\")"
   ]
  },
  {
   "cell_type": "code",
   "execution_count": 120,
   "id": "da219ab7",
   "metadata": {},
   "outputs": [
    {
     "data": {
      "text/plain": [
       "'Bhumikka'"
      ]
     },
     "execution_count": 120,
     "metadata": {},
     "output_type": "execute_result"
    }
   ],
   "source": [
    "name.center(4,\"+\")"
   ]
  },
  {
   "cell_type": "markdown",
   "id": "b76751c3",
   "metadata": {},
   "source": [
    "### Checking string cases"
   ]
  },
  {
   "cell_type": "code",
   "execution_count": 121,
   "id": "5c4248fb",
   "metadata": {},
   "outputs": [],
   "source": [
    "name = \"BHUMIKA\""
   ]
  },
  {
   "cell_type": "code",
   "execution_count": 122,
   "id": "995d7319",
   "metadata": {},
   "outputs": [
    {
     "data": {
      "text/plain": [
       "True"
      ]
     },
     "execution_count": 122,
     "metadata": {},
     "output_type": "execute_result"
    }
   ],
   "source": [
    "name.isupper()"
   ]
  },
  {
   "cell_type": "code",
   "execution_count": 123,
   "id": "a0d36125",
   "metadata": {},
   "outputs": [
    {
     "data": {
      "text/plain": [
       "False"
      ]
     },
     "execution_count": 123,
     "metadata": {},
     "output_type": "execute_result"
    }
   ],
   "source": [
    "name.islower()"
   ]
  },
  {
   "cell_type": "code",
   "execution_count": 125,
   "id": "c235f7f2",
   "metadata": {},
   "outputs": [
    {
     "data": {
      "text/plain": [
       "True"
      ]
     },
     "execution_count": 125,
     "metadata": {},
     "output_type": "execute_result"
    }
   ],
   "source": [
    "name = \"bhumika\"\n",
    "name.islower()"
   ]
  },
  {
   "cell_type": "code",
   "execution_count": 127,
   "id": "eff20e5e",
   "metadata": {},
   "outputs": [
    {
     "data": {
      "text/plain": [
       "False"
      ]
     },
     "execution_count": 127,
     "metadata": {},
     "output_type": "execute_result"
    }
   ],
   "source": [
    "name.istitle()"
   ]
  },
  {
   "cell_type": "code",
   "execution_count": 126,
   "id": "10453a9c",
   "metadata": {},
   "outputs": [
    {
     "data": {
      "text/plain": [
       "True"
      ]
     },
     "execution_count": 126,
     "metadata": {},
     "output_type": "execute_result"
    }
   ],
   "source": [
    "name = \"  \"\n",
    "name.isspace()"
   ]
  },
  {
   "cell_type": "code",
   "execution_count": 130,
   "id": "048bc4b3",
   "metadata": {},
   "outputs": [
    {
     "name": "stdout",
     "output_type": "stream",
     "text": [
      "Enter your name: bhuMIKA SAWde\n",
      "Wrong input we need to autocorrect it!!\n",
      "Corrected Name: Bhumika Sawde\n"
     ]
    }
   ],
   "source": [
    "name = input(\"Enter your name: \")\n",
    "\n",
    "if name.istitle():\n",
    "    print(\"User has given correct input\")\n",
    "else:\n",
    "    print(\"Wrong input we need to autocorrect it!!\")\n",
    "    name = name.title()\n",
    "    print(f\"Corrected Name: {name}\")"
   ]
  },
  {
   "cell_type": "code",
   "execution_count": 131,
   "id": "8cd16e69",
   "metadata": {},
   "outputs": [
    {
     "name": "stdout",
     "output_type": "stream",
     "text": [
      "Enter your name: \n",
      "Wrong input we need to autocorrect it!!\n",
      "Corrected Name: \n"
     ]
    }
   ],
   "source": [
    "name = input(\"Enter your name: \")\n",
    "\n",
    "if name.istitle():\n",
    "    print(\"User has given correct input\")\n",
    "else:\n",
    "    print(\"Wrong input we need to autocorrect it!!\")\n",
    "    name = name.title()\n",
    "    print(f\"Corrected Name: {name}\")"
   ]
  },
  {
   "cell_type": "code",
   "execution_count": 135,
   "id": "2c22b934",
   "metadata": {},
   "outputs": [
    {
     "name": "stdout",
     "output_type": "stream",
     "text": [
      "Enter your name:   \n",
      "Wrong input, Plz try again!\n"
     ]
    }
   ],
   "source": [
    "name = input(\"Enter your name: \")\n",
    "\n",
    "if name.istitle():\n",
    "    print(\"User has given correct input\")\n",
    "elif name.isspace():\n",
    "    print(f\"Wrong input, Plz try again!\")\n",
    "else:\n",
    "    print(\"Wrong input we need to autocorrect it!!\")\n",
    "    name = name.title()\n",
    "    print(f\"Corrected Name: {name}\")"
   ]
  },
  {
   "cell_type": "code",
   "execution_count": 137,
   "id": "b13af5a9",
   "metadata": {},
   "outputs": [
    {
     "data": {
      "text/plain": [
       "False"
      ]
     },
     "execution_count": 137,
     "metadata": {},
     "output_type": "execute_result"
    }
   ],
   "source": [
    "phone_number = \"51234567bhh\"\n",
    "phone_number.isdigit()"
   ]
  },
  {
   "cell_type": "code",
   "execution_count": 138,
   "id": "36910d4e",
   "metadata": {},
   "outputs": [
    {
     "name": "stdout",
     "output_type": "stream",
     "text": [
      "User input is correct\n"
     ]
    }
   ],
   "source": [
    "phone_no = input(\"Enter your no.: \")\n",
    "\n",
    "if phone_no.isdigit() and len(phone_no) == 10:\n",
    "    print(\"User input is correct\")\n",
    "else:\n",
    "    print(\"Invalid!!\")"
   ]
  },
  {
   "cell_type": "code",
   "execution_count": 139,
   "id": "22f30d07",
   "metadata": {},
   "outputs": [
    {
     "name": "stdout",
     "output_type": "stream",
     "text": [
      "Enter your no.: 56333784\n",
      "Invalid!!\n"
     ]
    }
   ],
   "source": [
    "phone_no = input(\"Enter your no.: \")\n",
    "\n",
    "if phone_no.isdigit() and len(phone_no) == 10 and phone_no != \"00000000000\":\n",
    "    print(\"User input is correct\")\n",
    "else:\n",
    "    print(\"Invalid!!\")"
   ]
  },
  {
   "cell_type": "code",
   "execution_count": 141,
   "id": "175c08de",
   "metadata": {},
   "outputs": [
    {
     "data": {
      "text/plain": [
       "False"
      ]
     },
     "execution_count": 141,
     "metadata": {},
     "output_type": "execute_result"
    }
   ],
   "source": [
    "phone_no.startswith(\"91\")"
   ]
  },
  {
   "cell_type": "code",
   "execution_count": 143,
   "id": "e35e234f",
   "metadata": {},
   "outputs": [
    {
     "data": {
      "text/plain": [
       "False"
      ]
     },
     "execution_count": 143,
     "metadata": {},
     "output_type": "execute_result"
    }
   ],
   "source": [
    "phone_no.endswith(\"0\")"
   ]
  },
  {
   "cell_type": "code",
   "execution_count": 147,
   "id": "c59757b4",
   "metadata": {},
   "outputs": [
    {
     "name": "stdout",
     "output_type": "stream",
     "text": [
      "Enter your no.: +910000000087\n",
      "Invalid!!\n"
     ]
    }
   ],
   "source": [
    "##### Phone no. belonging to India: (+91##########)\n",
    "phone_no = input(\"Enter your no.: \")\n",
    "\n",
    "if phone_no[1:].isdigit() and len(phone_no) == 13 and phone_no.startswith(\"+91\") and phone_no.count(\"0\") <= 7:\n",
    "    print(\"User input is correct\")\n",
    "else:\n",
    "    print(\"Invalid!!\")"
   ]
  },
  {
   "cell_type": "code",
   "execution_count": 148,
   "id": "439cc7b4",
   "metadata": {},
   "outputs": [
    {
     "data": {
      "text/plain": [
       "True"
      ]
     },
     "execution_count": 148,
     "metadata": {},
     "output_type": "execute_result"
    }
   ],
   "source": [
    "pan_numbers = \"bhu123\"\n",
    "\n",
    "pan_numbers.isalnum()  # check for alphabts or numeric case"
   ]
  },
  {
   "cell_type": "code",
   "execution_count": 151,
   "id": "8439b88d",
   "metadata": {},
   "outputs": [
    {
     "data": {
      "text/plain": [
       "False"
      ]
     },
     "execution_count": 151,
     "metadata": {},
     "output_type": "execute_result"
    }
   ],
   "source": [
    "pan_numbers = \"bh  u123\"\n",
    "\n",
    "pan_numbers.isalnum() "
   ]
  },
  {
   "cell_type": "code",
   "execution_count": null,
   "id": "a323554a",
   "metadata": {},
   "outputs": [],
   "source": []
  }
 ],
 "metadata": {
  "kernelspec": {
   "display_name": "Python 3 (ipykernel)",
   "language": "python",
   "name": "python3"
  },
  "language_info": {
   "codemirror_mode": {
    "name": "ipython",
    "version": 3
   },
   "file_extension": ".py",
   "mimetype": "text/x-python",
   "name": "python",
   "nbconvert_exporter": "python",
   "pygments_lexer": "ipython3",
   "version": "3.10.9"
  }
 },
 "nbformat": 4,
 "nbformat_minor": 5
}

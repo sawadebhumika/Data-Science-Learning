{
 "cells": [
  {
   "cell_type": "markdown",
   "id": "84458e7e",
   "metadata": {},
   "source": [
    "    Online food order - zomato, swiggy, uber eats'\n",
    "      if you order more than Rs. 500\n",
    "          discount =20%\n",
    "      if you order more than Rs.1000\n",
    "          discount =30%    \n",
    "      if you order more than Rs.1500\n",
    "          discount = 40% "
   ]
  },
  {
   "cell_type": "code",
   "execution_count": 1,
   "id": "8a76ee7b",
   "metadata": {},
   "outputs": [
    {
     "name": "stdout",
     "output_type": "stream",
     "text": [
      "Cart Total : 1700\n",
      "30% discount added\n",
      "Pay Amount = 1190.0\n"
     ]
    }
   ],
   "source": [
    "total_amount = 90+100+10+500+1000\n",
    "print(f\"Cart Total : {total_amount}\")\n",
    "\n",
    "if total_amount > 999:\n",
    "    price_after_discount = total_amount*0.7   # 30% discount added\n",
    "    print(\"30% discount added\")\n",
    "    print(f\"Pay Amount = {price_after_discount}\")\n",
    "elif total_amount <= 999 and total_amount > 499:\n",
    "    price_after_discount = total_amount*0.8   # 20% discount added\n",
    "    print(\"20% discount added\")\n",
    "    print(f\"Pay amount = {price_after_discount}\")   \n",
    "else:\n",
    "    print(\"No discount added\")\n",
    "    print(f\"Pay Amount : {total_amount}\")"
   ]
  },
  {
   "cell_type": "code",
   "execution_count": 2,
   "id": "4c2e7cf0",
   "metadata": {},
   "outputs": [
    {
     "name": "stdout",
     "output_type": "stream",
     "text": [
      "Cart Total : 2700\n",
      "40% discount added\n",
      "Pay Amount : 1620.0\n"
     ]
    }
   ],
   "source": [
    "total_amount = 1000+90+100+10+500+1000\n",
    "print(f\"Cart Total : {total_amount}\")\n",
    "\n",
    "if total_amount > 1500:\n",
    "    price_after_discount =total_amount*(0.6)\n",
    "    print(\"40% discount added\")\n",
    "    print(f\"Pay Amount : {price_after_discount}\")\n",
    "elif 999 < total_amount <= 1499:\n",
    "    price_after_discount = total_amount*0.7   # 30% discount added\n",
    "    print(\"30% discount added\")\n",
    "    print(f\"Pay Amount = {price_after_discount}\")\n",
    "elif total_amount <= 999 and total_amount > 499:\n",
    "    price_after_discount = total_amount*0.8   # 20% discount added\n",
    "    print(\"20% discount added\")\n",
    "    print(f\"Pay amount = {price_after_discount}\")   \n",
    "else:\n",
    "    print(\"No discount added\")\n",
    "    print(f\"Pay Amount : {total_amount}\")"
   ]
  },
  {
   "cell_type": "markdown",
   "id": "73dca4cd",
   "metadata": {},
   "source": [
    "### Nested if else"
   ]
  },
  {
   "cell_type": "markdown",
   "id": "9cd8ceab",
   "metadata": {},
   "source": [
    "    print if the no is negative or positive"
   ]
  },
  {
   "cell_type": "code",
   "execution_count": 4,
   "id": "36cfaa01",
   "metadata": {},
   "outputs": [
    {
     "name": "stdout",
     "output_type": "stream",
     "text": [
      "Enter a no.: 0\n",
      "The number 0.0 is positive\n",
      "Entered number is zero\n"
     ]
    }
   ],
   "source": [
    "val = float(input(\"Enter a no.: \"))\n",
    "\n",
    "if val >= 0:\n",
    "    print(f\"The number {val} is positive\")\n",
    "    if val == 0:\n",
    "        print(\"Entered number is zero\")\n",
    "    else:\n",
    "        print(\"Entered number is positive but not zero\")\n",
    "else:\n",
    "    print(f\"{val} It's a negative no.\")"
   ]
  },
  {
   "cell_type": "code",
   "execution_count": 5,
   "id": "bfdbfbee",
   "metadata": {},
   "outputs": [
    {
     "name": "stdout",
     "output_type": "stream",
     "text": [
      "Enter a no.: -6\n",
      " It's a negative no.\n"
     ]
    }
   ],
   "source": [
    "val = float(input(\"Enter a no.: \"))\n",
    "\n",
    "if val >= 0:\n",
    "    if val == 0:\n",
    "        print(\"It's zero\")\n",
    "    else:\n",
    "        print(\"It's a positive no. \")\n",
    "else:\n",
    "    print(\" It's a negative no.\")"
   ]
  },
  {
   "cell_type": "code",
   "execution_count": 6,
   "id": "72494392",
   "metadata": {},
   "outputs": [
    {
     "name": "stdout",
     "output_type": "stream",
     "text": [
      "a is greater than all 3 no's : 120\n"
     ]
    }
   ],
   "source": [
    "a,b,c = 120,13,15\n",
    "\n",
    "if a>b:\n",
    "    if a>c:\n",
    "        print(f\"a is greater than all 3 no's : {a}\")\n",
    "\n",
    "        "
   ]
  },
  {
   "cell_type": "markdown",
   "id": "bde58344",
   "metadata": {},
   "source": [
    "### Single line if else:"
   ]
  },
  {
   "cell_type": "markdown",
   "id": "30198c40",
   "metadata": {},
   "source": [
    "    Not recommended for coding in projects or production, but good for competative programming"
   ]
  },
  {
   "cell_type": "markdown",
   "id": "35cc01da",
   "metadata": {},
   "source": [
    "    print yes if the no is greater than 99"
   ]
  },
  {
   "cell_type": "code",
   "execution_count": 8,
   "id": "aa88a96f",
   "metadata": {},
   "outputs": [
    {
     "name": "stdout",
     "output_type": "stream",
     "text": [
      "Enter a no.: 100\n",
      "Yes\n"
     ]
    }
   ],
   "source": [
    "val = float(input(\"Enter a no.: \"))\n",
    "\n",
    "if val > 99: print(\"Yes\")"
   ]
  },
  {
   "cell_type": "code",
   "execution_count": 9,
   "id": "c847aec8",
   "metadata": {},
   "outputs": [
    {
     "name": "stdout",
     "output_type": "stream",
     "text": [
      "Enter a no.: 67\n",
      "No\n"
     ]
    }
   ],
   "source": [
    "val = float(input(\"Enter a no.: \"))  # not recommended approach, mainly used for competative programming\n",
    "\n",
    "if val > 99: print(\"Yes\")\n",
    "else:print(\"No\")"
   ]
  },
  {
   "cell_type": "code",
   "execution_count": 10,
   "id": "11dc3639",
   "metadata": {},
   "outputs": [
    {
     "name": "stdout",
     "output_type": "stream",
     "text": [
      "Enter a no.: 98\n",
      "NO\n"
     ]
    }
   ],
   "source": [
    "val = float(input(\"Enter a no.: \"))\n",
    "\n",
    "print(\"Yes\" if val >99 else \"NO\")"
   ]
  },
  {
   "cell_type": "markdown",
   "id": "038b46f9",
   "metadata": {},
   "source": [
    "# Loops"
   ]
  },
  {
   "cell_type": "markdown",
   "id": "ca44c482",
   "metadata": {},
   "source": [
    "### While"
   ]
  },
  {
   "cell_type": "markdown",
   "id": "7f988fdf",
   "metadata": {},
   "source": [
    "    while condition is True:\n",
    "        keep on printing\n",
    "    "
   ]
  },
  {
   "cell_type": "code",
   "execution_count": 12,
   "id": "07c73236",
   "metadata": {},
   "outputs": [
    {
     "name": "stdout",
     "output_type": "stream",
     "text": [
      "Your score:100, Cut off: 400\n",
      "I will attempt next year\n",
      "Your score:150, Cut off: 400\n",
      "I will attempt next year\n",
      "Your score:150, Cut off: 400\n",
      "I will attempt next year\n",
      "Your score:399, Cut off: 400\n",
      "I will attempt next year\n"
     ]
    }
   ],
   "source": [
    "total_marks = 1000\n",
    "cut_off = 400\n",
    "#          0   1   3   3   4\n",
    "scores = [100,150,150,399,500]\n",
    "year = 0    #indexing in python starts with zero\n",
    "\n",
    "while scores[year] < cut_off:\n",
    "    print(f\"Your score:{scores[year]}, Cut off: {cut_off}\")\n",
    "    print(\"I will attempt next year\")\n",
    "    year = year + 1  # adding one to current year \n",
    "\n"
   ]
  },
  {
   "cell_type": "code",
   "execution_count": 13,
   "id": "be414f75",
   "metadata": {},
   "outputs": [
    {
     "data": {
      "text/plain": [
       "100"
      ]
     },
     "execution_count": 13,
     "metadata": {},
     "output_type": "execute_result"
    }
   ],
   "source": [
    "scores[0]"
   ]
  },
  {
   "cell_type": "markdown",
   "id": "cc3c0871",
   "metadata": {},
   "source": [
    "### Infinite loop"
   ]
  },
  {
   "cell_type": "markdown",
   "id": "d647ee15",
   "metadata": {},
   "source": [
    "    if the condition is always TRUE than yRour loop will keep on running"
   ]
  },
  {
   "cell_type": "code",
   "execution_count": 14,
   "id": "bae94ffd",
   "metadata": {},
   "outputs": [],
   "source": [
    "# while True:\n",
    "#     print(\"Yes\")"
   ]
  },
  {
   "cell_type": "code",
   "execution_count": 15,
   "id": "46fcebb8",
   "metadata": {},
   "outputs": [
    {
     "name": "stdout",
     "output_type": "stream",
     "text": [
      "Current sum: 10\n",
      "Current sum: 20\n",
      "Current sum: 30\n",
      "Current sum: 40\n",
      "Current sum: 50\n"
     ]
    }
   ],
   "source": [
    "notes = 5\n",
    "i = 1  # 1st note\n",
    "\n",
    "while i <= notes:\n",
    "    print(f\"Current sum: {i*10}\")\n",
    "    i = i+1"
   ]
  },
  {
   "cell_type": "code",
   "execution_count": 16,
   "id": "5e69b450",
   "metadata": {},
   "outputs": [
    {
     "name": "stdout",
     "output_type": "stream",
     "text": [
      "10 X 1 = 10\n",
      "10 X 2 = 20\n",
      "10 X 3 = 30\n",
      "10 X 4 = 40\n",
      "10 X 5 = 50\n",
      "10 X 6 = 60\n",
      "10 X 7 = 70\n",
      "10 X 8 = 80\n",
      "10 X 9 = 90\n",
      "10 X 10 = 100\n"
     ]
    }
   ],
   "source": [
    "# Table of 10:\n",
    "\n",
    "i = 1\n",
    "\n",
    "while i <= 10:\n",
    "    print(f\"10 X {i} = {10*i}\")\n",
    "    i = i+1"
   ]
  },
  {
   "cell_type": "code",
   "execution_count": 17,
   "id": "80bd3022",
   "metadata": {},
   "outputs": [
    {
     "name": "stdout",
     "output_type": "stream",
     "text": [
      "Current Station = Station 01\n",
      "My destination : Station 03\n",
      "Continue the journey, haven't reach the destination\n",
      "Next station: Station 02\n",
      "--------------------------\n",
      "Current Station = Station 02\n",
      "My destination : Station 03\n",
      "Continue the journey, haven't reach the destination\n",
      "Next station: Station 03\n",
      "--------------------------\n"
     ]
    }
   ],
   "source": [
    "stations = ['Station 01','Station 02', 'Station 03','Station 04']\n",
    "\n",
    "current_station = 0\n",
    "destination_station = \"Station 03\"\n",
    "\n",
    "while stations[current_station] != destination_station:\n",
    "    print(f\"Current Station = {stations[current_station]}\")\n",
    "    print(f\"My destination : {destination_station}\")\n",
    "    print(\"Continue the journey, haven't reach the destination\")\n",
    "    current_station = current_station + 1\n",
    "    print(f\"Next station: {stations[current_station]}\")\n",
    "    print(\"--------------------------\")"
   ]
  },
  {
   "cell_type": "markdown",
   "id": "cff79f63",
   "metadata": {},
   "source": [
    "### while else"
   ]
  },
  {
   "cell_type": "code",
   "execution_count": 18,
   "id": "abfef67d",
   "metadata": {},
   "outputs": [
    {
     "name": "stdout",
     "output_type": "stream",
     "text": [
      "Current Station = Station 01\n",
      "My destination : Station 03\n",
      "Continue the journey, haven't reach the destination\n",
      "Next station: Station 02\n",
      "--------------------------\n",
      "Current Station = Station 02\n",
      "My destination : Station 03\n",
      "Continue the journey, haven't reach the destination\n",
      "Next station: Station 03\n",
      "--------------------------\n",
      "I have arrived at : Station 03\n"
     ]
    }
   ],
   "source": [
    "stations = ['Station 01','Station 02', 'Station 03','Station 04']\n",
    "\n",
    "current_station = 0\n",
    "destination_station = \"Station 03\"\n",
    "\n",
    "while stations[current_station] != destination_station:\n",
    "    print(f\"Current Station = {stations[current_station]}\")\n",
    "    print(f\"My destination : {destination_station}\")\n",
    "    print(\"Continue the journey, haven't reach the destination\")\n",
    "    current_station = current_station + 1\n",
    "    print(f\"Next station: {stations[current_station]}\")\n",
    "    print(\"--------------------------\")\n",
    "else:\n",
    "    print(f\"I have arrived at : {stations[current_station]}\")"
   ]
  },
  {
   "cell_type": "markdown",
   "id": "75cf291c",
   "metadata": {},
   "source": [
    "    while CONDITION is True:\n",
    "        statement:\n",
    "    else:\n",
    "        statement"
   ]
  },
  {
   "cell_type": "code",
   "execution_count": 19,
   "id": "c17e81de",
   "metadata": {},
   "outputs": [
    {
     "name": "stdout",
     "output_type": "stream",
     "text": [
      "Condition : True\n",
      "Current sum: 10\n",
      "---------------\n",
      "Condition : True\n",
      "Current sum: 20\n",
      "---------------\n",
      "Condition : True\n",
      "Current sum: 30\n",
      "---------------\n",
      "Condition : True\n",
      "Current sum: 40\n",
      "---------------\n",
      "Condition : True\n",
      "Current sum: 50\n",
      "---------------\n",
      "Condition : False\n",
      "No more 10 rupees notes left\n"
     ]
    }
   ],
   "source": [
    "notes = 5\n",
    "i = 1  # 1st note\n",
    "\n",
    "while i <= notes:\n",
    "    print(f\"Condition : {i <= notes}\")\n",
    "    print(f\"Current sum: {i*10}\")\n",
    "    i = i+1\n",
    "    print(\"---------------\")\n",
    "else:\n",
    "    print(f\"Condition : {i <= notes}\")\n",
    "    print(\"No more 10 rupees notes left\")"
   ]
  },
  {
   "cell_type": "markdown",
   "id": "1920df75",
   "metadata": {},
   "source": [
    "### For loop"
   ]
  },
  {
   "cell_type": "code",
   "execution_count": 20,
   "id": "7923686b",
   "metadata": {},
   "outputs": [
    {
     "name": "stdout",
     "output_type": "stream",
     "text": [
      "0\n",
      "1\n",
      "2\n",
      "3\n",
      "4\n",
      "5\n",
      "6\n",
      "7\n",
      "8\n",
      "9\n"
     ]
    }
   ],
   "source": [
    "for i in range(0,10):  # 10 is excluded\n",
    "    print(i)"
   ]
  },
  {
   "cell_type": "code",
   "execution_count": 21,
   "id": "608a0eff",
   "metadata": {},
   "outputs": [
    {
     "name": "stdout",
     "output_type": "stream",
     "text": [
      "10 X 0 = 0\n",
      "10 X 1 = 10\n",
      "10 X 2 = 20\n",
      "10 X 3 = 30\n",
      "10 X 4 = 40\n",
      "10 X 5 = 50\n",
      "10 X 6 = 60\n",
      "10 X 7 = 70\n",
      "10 X 8 = 80\n",
      "10 X 9 = 90\n"
     ]
    }
   ],
   "source": [
    "for i in range(0,10):\n",
    "    print(f\"10 X {i} = {10*i}\")\n",
    "    \n",
    "# we don't have to increment \"i\", automatically it is incremented\n",
    "# for is not starting with a condition"
   ]
  },
  {
   "cell_type": "code",
   "execution_count": 22,
   "id": "ec809efc",
   "metadata": {},
   "outputs": [
    {
     "name": "stdout",
     "output_type": "stream",
     "text": [
      "10 X 1 = 10\n",
      "10 X 2 = 20\n",
      "10 X 3 = 30\n",
      "10 X 4 = 40\n",
      "10 X 5 = 50\n",
      "10 X 6 = 60\n",
      "10 X 7 = 70\n",
      "10 X 8 = 80\n",
      "10 X 9 = 90\n",
      "10 X 10 = 100\n"
     ]
    }
   ],
   "source": [
    "for i in range(0,10):\n",
    "    print(f\"10 X {i+1} = {10*(i+1)}\")"
   ]
  },
  {
   "cell_type": "code",
   "execution_count": 23,
   "id": "ad344ebb",
   "metadata": {},
   "outputs": [
    {
     "name": "stdout",
     "output_type": "stream",
     "text": [
      "10 X 1 = 10\n",
      "10 X 2 = 20\n",
      "10 X 3 = 30\n",
      "10 X 4 = 40\n",
      "10 X 5 = 50\n",
      "10 X 6 = 60\n",
      "10 X 7 = 70\n",
      "10 X 8 = 80\n",
      "10 X 9 = 90\n",
      "10 X 10 = 100\n"
     ]
    }
   ],
   "source": [
    "for i in range(1,11):  # 11 is here out of bound\n",
    "    print(f\"10 X {i} = {10*i}\")"
   ]
  },
  {
   "cell_type": "code",
   "execution_count": 24,
   "id": "a5de256b",
   "metadata": {},
   "outputs": [
    {
     "name": "stdout",
     "output_type": "stream",
     "text": [
      "*\n",
      "**\n",
      "***\n",
      "****\n",
      "*****\n",
      "******\n",
      "*******\n",
      "********\n",
      "*********\n",
      "**********\n"
     ]
    }
   ],
   "source": [
    "for i in range(1,11):  # i is a variable, can use anything instead\n",
    "    print(i*\"*\")"
   ]
  },
  {
   "cell_type": "code",
   "execution_count": 25,
   "id": "eaae89be",
   "metadata": {},
   "outputs": [
    {
     "name": "stdout",
     "output_type": "stream",
     "text": [
      "Total amount to be paid : 965\n"
     ]
    }
   ],
   "source": [
    "cost_of_items = [100,200,209,456]\n",
    "total_sum = 0\n",
    "\n",
    "for i in range(0,4):\n",
    "    total_sum = total_sum + cost_of_items[i]\n",
    "    \n",
    "print(f\"Total amount to be paid : {total_sum}\")"
   ]
  },
  {
   "cell_type": "code",
   "execution_count": 26,
   "id": "0017e756",
   "metadata": {},
   "outputs": [
    {
     "name": "stdout",
     "output_type": "stream",
     "text": [
      " 0 = 100\n",
      "------------------------\n",
      " 0 = 200\n",
      "------------------------\n",
      " 0 = 209\n",
      "------------------------\n",
      " 0 = 456\n",
      "------------------------\n",
      "Total amount to be paid : 0\n"
     ]
    }
   ],
   "source": [
    "cost_of_items = [100,200,209,456]\n",
    "total_sum = 0\n",
    "\n",
    "for i in range(0,4):\n",
    "    print(f\" {total_sum} = {total_sum + cost_of_items[i]}\")\n",
    "    print(\"------------------------\")\n",
    "print(f\"Total amount to be paid : {total_sum}\")"
   ]
  },
  {
   "cell_type": "code",
   "execution_count": 27,
   "id": "24e60703",
   "metadata": {},
   "outputs": [
    {
     "name": "stdout",
     "output_type": "stream",
     "text": [
      "Total Sum :0 = 0 + 100\n",
      "------------------\n",
      "Total Sum :100 = 100 + 200\n",
      "------------------\n",
      "Total Sum :300 = 300 + 209\n",
      "------------------\n",
      "Total Sum :509 = 509 + 456\n",
      "------------------\n",
      "Total Cost : 965\n"
     ]
    }
   ],
   "source": [
    "cost_of_items = [100,200,209,456]\n",
    "total_sum = 0\n",
    " \n",
    "for i in range(0,4):  # 0 1 2 3\n",
    "    print(f\"Total Sum :{total_sum} = {total_sum} + {cost_of_items[i]}\")\n",
    "    total_sum = total_sum  + cost_of_items[i]\n",
    "    print(\"------------------\")\n",
    "print(f\"Total Cost : {total_sum}\")"
   ]
  },
  {
   "cell_type": "code",
   "execution_count": 28,
   "id": "4ab6c479",
   "metadata": {},
   "outputs": [
    {
     "name": "stdout",
     "output_type": "stream",
     "text": [
      "Total Sum :0 = 0 + 100\n",
      "------------------\n",
      "Total Sum :100 = 100 + 200\n",
      "------------------\n",
      "Total Sum :300 = 300 + 209\n",
      "------------------\n",
      "Total Sum :509 = 509 + 456\n",
      "------------------\n",
      "Total Cost : 965\n"
     ]
    }
   ],
   "source": [
    "cost_of_items = [100,200,209,456]\n",
    "total_sum = 0\n",
    "N = len(cost_of_items)\n",
    " \n",
    "for i in range(0,N):  # 0 1 2 3\n",
    "    print(f\"Total Sum :{total_sum} = {total_sum} + {cost_of_items[i]}\")\n",
    "    total_sum = total_sum  + cost_of_items[i]\n",
    "    print(\"------------------\")\n",
    "print(f\"Total Cost : {total_sum}\")"
   ]
  },
  {
   "cell_type": "code",
   "execution_count": 29,
   "id": "ff76cfca",
   "metadata": {},
   "outputs": [
    {
     "name": "stdout",
     "output_type": "stream",
     "text": [
      "Total Sum :0 = 0 + 100\n",
      "------------------\n",
      "Total Sum :100 = 100 + 200\n",
      "------------------\n",
      "Total Sum :300 = 300 + 209\n",
      "------------------\n",
      "Total Sum :509 = 509 + 456\n",
      "------------------\n",
      "Total Cost : 965\n"
     ]
    }
   ],
   "source": [
    "cost_of_items = [100,200,209,456]\n",
    "total_sum = 0\n",
    " \n",
    "for cost in cost_of_items:  \n",
    "    print(f\"Total Sum :{total_sum} = {total_sum} + {cost}\")\n",
    "    total_sum = total_sum  + cost\n",
    "    print(\"------------------\")\n",
    "print(f\"Total Cost : {total_sum}\")"
   ]
  },
  {
   "cell_type": "code",
   "execution_count": 30,
   "id": "bcf64b76",
   "metadata": {},
   "outputs": [
    {
     "name": "stdout",
     "output_type": "stream",
     "text": [
      "100\n",
      "200\n",
      "300\n",
      "400\n"
     ]
    }
   ],
   "source": [
    "list_ = [100,200,300,400]\n",
    "\n",
    "for i in list_:\n",
    "    print(i)"
   ]
  },
  {
   "cell_type": "code",
   "execution_count": 31,
   "id": "33526675",
   "metadata": {},
   "outputs": [
    {
     "name": "stdout",
     "output_type": "stream",
     "text": [
      "100\n",
      "200\n",
      "300\n",
      "400\n"
     ]
    }
   ],
   "source": [
    "list_ = [100,200,300,400]\n",
    "N = len(list_)\n",
    "\n",
    "for i in range(0,N):\n",
    "    print(list_[i])"
   ]
  },
  {
   "cell_type": "code",
   "execution_count": 32,
   "id": "eef611b2",
   "metadata": {},
   "outputs": [
    {
     "name": "stdout",
     "output_type": "stream",
     "text": [
      "0\n",
      "1\n",
      "2\n",
      "3\n",
      "4\n",
      "5\n"
     ]
    }
   ],
   "source": [
    "for i in range(0,6):\n",
    "    print(i)"
   ]
  },
  {
   "cell_type": "code",
   "execution_count": 33,
   "id": "bcf9b3d7",
   "metadata": {},
   "outputs": [
    {
     "name": "stdout",
     "output_type": "stream",
     "text": [
      "100\n",
      "200\n",
      "300\n",
      "400\n",
      "500\n"
     ]
    }
   ],
   "source": [
    "for i in range(100,600,100):\n",
    "    print(i)"
   ]
  },
  {
   "cell_type": "code",
   "execution_count": 34,
   "id": "ed50bfdc",
   "metadata": {},
   "outputs": [
    {
     "name": "stdout",
     "output_type": "stream",
     "text": [
      "Current Station: Station 01\n",
      "Current Station: Station 02\n",
      "Current Station: Station 03\n",
      "Current Station: Station 04\n"
     ]
    }
   ],
   "source": [
    "stations = ['Station 01','Station 02', 'Station 03','Station 04']\n",
    "\n",
    "\n",
    "for current_station in stations:\n",
    "    print(f\"Current Station: {current_station}\")"
   ]
  },
  {
   "cell_type": "code",
   "execution_count": 35,
   "id": "e9d0c505",
   "metadata": {},
   "outputs": [
    {
     "name": "stdout",
     "output_type": "stream",
     "text": [
      "Total Cost : 1465\n"
     ]
    }
   ],
   "source": [
    "cost_of_items = [100,200,209,456,500,1000]\n",
    "total_sum = 0\n",
    "budget = 2000\n",
    "\n",
    "for cost in cost_of_items:  \n",
    "    total_sum = total_sum  + cost\n",
    "    if total_sum > budget:\n",
    "        total_sum = total_sum  - cost\n",
    "        break\n",
    "\n",
    "print(f\"Total Cost : {total_sum}\")"
   ]
  },
  {
   "cell_type": "code",
   "execution_count": 36,
   "id": "cb4fef5f",
   "metadata": {},
   "outputs": [
    {
     "name": "stdout",
     "output_type": "stream",
     "text": [
      "Current Toal: 100\n",
      "Current Toal: 300\n",
      "Current Toal: 509\n",
      "Current Toal: 965\n",
      "Current Toal: 1465\n",
      "Current Toal: 2465\n",
      "Since current total is more than my budget:2000\n",
      "Plz, remove last item\n",
      "Total Cost : 1465\n"
     ]
    }
   ],
   "source": [
    "cost_of_items = [100,200,209,456,500,1000]\n",
    "total_sum = 0\n",
    "budget = 2000\n",
    "\n",
    "for cost in cost_of_items:  \n",
    "    total_sum = total_sum  + cost\n",
    "    print(f\"Current Toal: {total_sum}\")\n",
    "    if total_sum > budget:\n",
    "        print(f\"Since current total is more than my budget:{budget}\")\n",
    "        print(\"Plz, remove last item\")\n",
    "        total_sum = total_sum  - cost\n",
    "        break\n",
    "\n",
    "print(f\"Total Cost : {total_sum}\")"
   ]
  },
  {
   "cell_type": "code",
   "execution_count": 37,
   "id": "2df3ded1",
   "metadata": {
    "scrolled": true
   },
   "outputs": [
    {
     "name": "stdout",
     "output_type": "stream",
     "text": [
      "0\n",
      "1\n",
      "2\n",
      "3\n",
      "4\n",
      "5\n",
      "6\n",
      "7\n",
      "8\n",
      "9\n",
      "10\n",
      "11\n",
      "12\n",
      "13\n",
      "14\n",
      "15\n",
      "16\n",
      "17\n",
      "18\n",
      "19\n",
      "20\n",
      "21\n",
      "22\n",
      "23\n",
      "24\n",
      "25\n",
      "26\n",
      "27\n",
      "28\n",
      "29\n",
      "30\n",
      "31\n",
      "32\n",
      "33\n",
      "34\n",
      "35\n",
      "36\n",
      "37\n",
      "38\n",
      "39\n",
      "40\n",
      "41\n",
      "42\n",
      "43\n",
      "44\n",
      "45\n",
      "46\n",
      "47\n",
      "48\n",
      "49\n",
      "50\n",
      "51\n"
     ]
    }
   ],
   "source": [
    "for i in range(0,100):\n",
    "    print(i)\n",
    "    if i > 50:\n",
    "        break"
   ]
  },
  {
   "cell_type": "code",
   "execution_count": 38,
   "id": "1c9147ef",
   "metadata": {
    "scrolled": true
   },
   "outputs": [
    {
     "name": "stdout",
     "output_type": "stream",
     "text": [
      "0\n",
      "1\n",
      "2\n",
      "3\n",
      "4\n",
      "5\n",
      "6\n",
      "7\n",
      "8\n",
      "9\n",
      "10\n",
      "11\n",
      "12\n",
      "13\n",
      "14\n",
      "15\n",
      "16\n",
      "17\n",
      "18\n",
      "19\n",
      "20\n",
      "21\n",
      "22\n",
      "23\n",
      "24\n",
      "25\n",
      "26\n",
      "27\n",
      "28\n",
      "29\n",
      "30\n",
      "31\n",
      "32\n",
      "33\n",
      "34\n",
      "35\n",
      "36\n",
      "37\n",
      "38\n",
      "39\n",
      "40\n",
      "41\n",
      "42\n",
      "43\n",
      "44\n",
      "45\n",
      "46\n",
      "47\n",
      "48\n",
      "49\n",
      "50\n"
     ]
    }
   ],
   "source": [
    "for i in range(0,100):\n",
    "#     print(i)\n",
    "    if i > 50:\n",
    "        break\n",
    "    print(i)"
   ]
  },
  {
   "cell_type": "code",
   "execution_count": 39,
   "id": "051a3ac3",
   "metadata": {},
   "outputs": [
    {
     "name": "stdout",
     "output_type": "stream",
     "text": [
      "1\n",
      "3\n",
      "5\n",
      "7\n",
      "9\n",
      "11\n",
      "13\n",
      "15\n",
      "17\n",
      "19\n"
     ]
    }
   ],
   "source": [
    "for i in range(0,20):\n",
    "    if i%2 == 0:\n",
    "        continue\n",
    "    print(i)"
   ]
  },
  {
   "cell_type": "code",
   "execution_count": 40,
   "id": "08a50402",
   "metadata": {},
   "outputs": [
    {
     "name": "stdout",
     "output_type": "stream",
     "text": [
      "0\n",
      "2\n",
      "4\n",
      "6\n",
      "8\n",
      "10\n",
      "12\n",
      "14\n",
      "16\n",
      "18\n"
     ]
    }
   ],
   "source": [
    "for i in range(0,20):\n",
    "    if i%2 != 0: # if no. is  odd than start the loop again\n",
    "        continue # start the loop again\n",
    "    print(i)"
   ]
  },
  {
   "cell_type": "code",
   "execution_count": 41,
   "id": "6c96c7aa",
   "metadata": {},
   "outputs": [
    {
     "name": "stdout",
     "output_type": "stream",
     "text": [
      "0\n"
     ]
    }
   ],
   "source": [
    "for i in range(0,20):\n",
    "    if i%2 != 0: \n",
    "        break  # STOP don't proceed at all\n",
    "    print(i)"
   ]
  },
  {
   "cell_type": "markdown",
   "id": "b8156f4b",
   "metadata": {},
   "source": [
    "    break - it completely stops the loop\n",
    "    continue - it skips the current loop, it skips the statement after continue keyword"
   ]
  },
  {
   "cell_type": "code",
   "execution_count": 42,
   "id": "4470f6fb",
   "metadata": {},
   "outputs": [],
   "source": [
    "for i in range(1,10):\n",
    "    pass   # i want to right the code later"
   ]
  },
  {
   "cell_type": "code",
   "execution_count": null,
   "id": "b6d38759",
   "metadata": {},
   "outputs": [],
   "source": []
  }
 ],
 "metadata": {
  "kernelspec": {
   "display_name": "Python 3 (ipykernel)",
   "language": "python",
   "name": "python3"
  },
  "language_info": {
   "codemirror_mode": {
    "name": "ipython",
    "version": 3
   },
   "file_extension": ".py",
   "mimetype": "text/x-python",
   "name": "python",
   "nbconvert_exporter": "python",
   "pygments_lexer": "ipython3",
   "version": "3.10.9"
  }
 },
 "nbformat": 4,
 "nbformat_minor": 5
}

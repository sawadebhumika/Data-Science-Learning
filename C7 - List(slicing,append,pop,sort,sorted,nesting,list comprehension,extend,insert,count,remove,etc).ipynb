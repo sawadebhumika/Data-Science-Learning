{
 "cells": [
  {
   "cell_type": "code",
   "execution_count": 19,
   "id": "f6425136",
   "metadata": {},
   "outputs": [],
   "source": [
    "A = [1,2,3,4,5]"
   ]
  },
  {
   "cell_type": "code",
   "execution_count": 20,
   "id": "5d785aa3",
   "metadata": {},
   "outputs": [
    {
     "data": {
      "text/plain": [
       "1"
      ]
     },
     "execution_count": 20,
     "metadata": {},
     "output_type": "execute_result"
    }
   ],
   "source": [
    "A[0]"
   ]
  },
  {
   "cell_type": "code",
   "execution_count": 21,
   "id": "3c32fc01",
   "metadata": {},
   "outputs": [],
   "source": [
    "B = [1,2.8,3+7j,\"Bhumi\",True]"
   ]
  },
  {
   "cell_type": "markdown",
   "id": "44314f8a",
   "metadata": {},
   "source": [
    "    In array we will have element of only one data type .In python,list of all elements can be of different or same datatype"
   ]
  },
  {
   "cell_type": "code",
   "execution_count": 22,
   "id": "a815de16",
   "metadata": {},
   "outputs": [
    {
     "name": "stdout",
     "output_type": "stream",
     "text": [
      "<class 'list'>\n",
      "1\n",
      "2.8\n",
      "(3+7j)\n",
      "Bhumi\n",
      "True\n"
     ]
    }
   ],
   "source": [
    "print(type(B))\n",
    "\n",
    "for element in B:\n",
    "    print(element)\n"
   ]
  },
  {
   "cell_type": "code",
   "execution_count": 23,
   "id": "95fa63ca",
   "metadata": {},
   "outputs": [
    {
     "name": "stdout",
     "output_type": "stream",
     "text": [
      "1\n",
      "2.8\n",
      "(3+7j)\n",
      "Bhumi\n",
      "True\n"
     ]
    }
   ],
   "source": [
    "for i in range(len(B)):\n",
    "    print(B[i])"
   ]
  },
  {
   "cell_type": "code",
   "execution_count": 24,
   "id": "33cad798",
   "metadata": {},
   "outputs": [
    {
     "name": "stdout",
     "output_type": "stream",
     "text": [
      "0 1 : <class 'int'>\n",
      "1 2.8 : <class 'float'>\n",
      "2 (3+7j) : <class 'complex'>\n",
      "3 Bhumi : <class 'str'>\n",
      "4 True : <class 'bool'>\n"
     ]
    }
   ],
   "source": [
    "for i in range(len(B)):\n",
    "    print(i,B[i],\":\",type(B[i]))"
   ]
  },
  {
   "cell_type": "markdown",
   "id": "fc2e21f1",
   "metadata": {},
   "source": [
    " ### Slicing\n",
    "     indexing and slicing of lists works just like in Strings. Similar to string, list index starts at 0 and it can be sliced and concatenated and all operations "
   ]
  },
  {
   "cell_type": "code",
   "execution_count": 25,
   "id": "1426ef60",
   "metadata": {},
   "outputs": [],
   "source": [
    "#            0     1      2    3 4  5\n",
    "my_list = ['one','two','three',5,6,True]"
   ]
  },
  {
   "cell_type": "code",
   "execution_count": 26,
   "id": "97e41b79",
   "metadata": {},
   "outputs": [
    {
     "data": {
      "text/plain": [
       "['two', 'three', 5, 6, True]"
      ]
     },
     "execution_count": 26,
     "metadata": {},
     "output_type": "execute_result"
    }
   ],
   "source": [
    "my_list[1:]"
   ]
  },
  {
   "cell_type": "code",
   "execution_count": 27,
   "id": "b88f4d49",
   "metadata": {},
   "outputs": [
    {
     "data": {
      "text/plain": [
       "['one', 'two', 'three']"
      ]
     },
     "execution_count": 27,
     "metadata": {},
     "output_type": "execute_result"
    }
   ],
   "source": [
    "my_list[:3]"
   ]
  },
  {
   "cell_type": "code",
   "execution_count": 28,
   "id": "7257ea57",
   "metadata": {},
   "outputs": [
    {
     "data": {
      "text/plain": [
       "[True, 6, 5, 'three', 'two', 'one']"
      ]
     },
     "execution_count": 28,
     "metadata": {},
     "output_type": "execute_result"
    }
   ],
   "source": [
    "my_list[::-1]   # reverse"
   ]
  },
  {
   "cell_type": "code",
   "execution_count": 29,
   "id": "17229b1e",
   "metadata": {},
   "outputs": [
    {
     "data": {
      "text/plain": [
       "[True, 'three']"
      ]
     },
     "execution_count": 29,
     "metadata": {},
     "output_type": "execute_result"
    }
   ],
   "source": [
    "my_list[::-3]  "
   ]
  },
  {
   "cell_type": "code",
   "execution_count": 30,
   "id": "0f453cb1",
   "metadata": {},
   "outputs": [
    {
     "data": {
      "text/plain": [
       "['one', 'three', 6]"
      ]
     },
     "execution_count": 30,
     "metadata": {},
     "output_type": "execute_result"
    }
   ],
   "source": [
    "my_list[::2]  # [startindex:endindex:step]"
   ]
  },
  {
   "cell_type": "code",
   "execution_count": 31,
   "id": "ad9c26ad",
   "metadata": {},
   "outputs": [
    {
     "name": "stdout",
     "output_type": "stream",
     "text": [
      "0 one\n",
      "2 three\n",
      "4 6\n"
     ]
    }
   ],
   "source": [
    "for i in range(0,len(my_list),2):  #(start,end,stop)\n",
    "    print(i,my_list[i])"
   ]
  },
  {
   "cell_type": "code",
   "execution_count": 32,
   "id": "2188b523",
   "metadata": {},
   "outputs": [
    {
     "name": "stdout",
     "output_type": "stream",
     "text": [
      "-1 True\n",
      "-2 6\n",
      "-3 5\n",
      "-4 three\n",
      "-5 two\n",
      "-6 one\n"
     ]
    }
   ],
   "source": [
    "for i in range(-1,-len(my_list)-1,-1):  #(start,end,stop)\n",
    "    print(i,my_list[i])"
   ]
  },
  {
   "cell_type": "code",
   "execution_count": 33,
   "id": "7be31961",
   "metadata": {},
   "outputs": [
    {
     "data": {
      "text/plain": [
       "['one']"
      ]
     },
     "execution_count": 33,
     "metadata": {},
     "output_type": "execute_result"
    }
   ],
   "source": [
    "my_list[::10000]\n"
   ]
  },
  {
   "cell_type": "code",
   "execution_count": 34,
   "id": "de164fc9",
   "metadata": {},
   "outputs": [
    {
     "data": {
      "text/plain": [
       "['one', 'two', 'three', 5, 6, True]"
      ]
     },
     "execution_count": 34,
     "metadata": {},
     "output_type": "execute_result"
    }
   ],
   "source": [
    "my_list"
   ]
  },
  {
   "cell_type": "code",
   "execution_count": 35,
   "id": "35a483eb",
   "metadata": {},
   "outputs": [
    {
     "name": "stdout",
     "output_type": "stream",
     "text": [
      "two\n",
      "5\n",
      "True\n"
     ]
    }
   ],
   "source": [
    "for i in [1,3,5]:\n",
    "    print(my_list[i])"
   ]
  },
  {
   "cell_type": "markdown",
   "id": "3b7ab7da",
   "metadata": {},
   "source": [
    "### Updating list element at specific index"
   ]
  },
  {
   "cell_type": "code",
   "execution_count": 36,
   "id": "b09d8428",
   "metadata": {},
   "outputs": [],
   "source": [
    "my_list[5] = 6"
   ]
  },
  {
   "cell_type": "code",
   "execution_count": 37,
   "id": "c74f7eef",
   "metadata": {},
   "outputs": [
    {
     "data": {
      "text/plain": [
       "['one', 'two', 'three', 5, 6, 6]"
      ]
     },
     "execution_count": 37,
     "metadata": {},
     "output_type": "execute_result"
    }
   ],
   "source": [
    "my_list"
   ]
  },
  {
   "cell_type": "code",
   "execution_count": 38,
   "id": "a12e3ac3",
   "metadata": {},
   "outputs": [
    {
     "data": {
      "text/plain": [
       "[1, 2.8, (3+7j), 'Bhumi', True]"
      ]
     },
     "execution_count": 38,
     "metadata": {},
     "output_type": "execute_result"
    }
   ],
   "source": [
    "B"
   ]
  },
  {
   "cell_type": "code",
   "execution_count": 39,
   "id": "e224d315",
   "metadata": {},
   "outputs": [],
   "source": [
    "B[4] = 999 # mutable operation allowed in list"
   ]
  },
  {
   "cell_type": "code",
   "execution_count": 40,
   "id": "de9af394",
   "metadata": {},
   "outputs": [
    {
     "data": {
      "text/plain": [
       "[1, 2.8, (3+7j), 'Bhumi', 999]"
      ]
     },
     "execution_count": 40,
     "metadata": {},
     "output_type": "execute_result"
    }
   ],
   "source": [
    "B"
   ]
  },
  {
   "cell_type": "code",
   "execution_count": 41,
   "id": "6cb7afdc",
   "metadata": {},
   "outputs": [
    {
     "data": {
      "text/plain": [
       "[1, 'iNeuron', (3+7j), 'Bhumi', 999]"
      ]
     },
     "execution_count": 41,
     "metadata": {},
     "output_type": "execute_result"
    }
   ],
   "source": [
    "B[-4] = \"iNeuron\"\n",
    "B"
   ]
  },
  {
   "cell_type": "code",
   "execution_count": 42,
   "id": "03bf0a57",
   "metadata": {},
   "outputs": [],
   "source": [
    "C =  [78,23.45]"
   ]
  },
  {
   "cell_type": "markdown",
   "id": "24d596f3",
   "metadata": {},
   "source": [
    "### Operation"
   ]
  },
  {
   "cell_type": "code",
   "execution_count": 43,
   "id": "8b9ab8f3",
   "metadata": {},
   "outputs": [
    {
     "data": {
      "text/plain": [
       "[1, 'iNeuron', (3+7j), 'Bhumi', 999, 78, 23.45]"
      ]
     },
     "execution_count": 43,
     "metadata": {},
     "output_type": "execute_result"
    }
   ],
   "source": [
    "B+C"
   ]
  },
  {
   "cell_type": "code",
   "execution_count": 44,
   "id": "349759ab",
   "metadata": {},
   "outputs": [
    {
     "data": {
      "text/plain": [
       "[1, 'iNeuron', (3+7j), 'Bhumi', 999, 78, 23.45]"
      ]
     },
     "execution_count": 44,
     "metadata": {},
     "output_type": "execute_result"
    }
   ],
   "source": [
    "B = B+C\n",
    "B"
   ]
  },
  {
   "cell_type": "code",
   "execution_count": 45,
   "id": "d86f207f",
   "metadata": {},
   "outputs": [
    {
     "data": {
      "text/plain": [
       "[1,\n",
       " 'iNeuron',\n",
       " (3+7j),\n",
       " 'Bhumi',\n",
       " 999,\n",
       " 78,\n",
       " 23.45,\n",
       " 1,\n",
       " 'iNeuron',\n",
       " (3+7j),\n",
       " 'Bhumi',\n",
       " 999,\n",
       " 78,\n",
       " 23.45]"
      ]
     },
     "execution_count": 45,
     "metadata": {},
     "output_type": "execute_result"
    }
   ],
   "source": [
    "B * 2  # repeat the same element twice"
   ]
  },
  {
   "cell_type": "code",
   "execution_count": 46,
   "id": "586424db",
   "metadata": {
    "scrolled": true
   },
   "outputs": [
    {
     "data": {
      "text/plain": [
       "[1, 'iNeuron', (3+7j), 'Bhumi', 999, 78, 23.45]"
      ]
     },
     "execution_count": 46,
     "metadata": {},
     "output_type": "execute_result"
    }
   ],
   "source": [
    "B"
   ]
  },
  {
   "cell_type": "code",
   "execution_count": 47,
   "id": "355e8c2a",
   "metadata": {
    "scrolled": true
   },
   "outputs": [
    {
     "ename": "TypeError",
     "evalue": "unsupported operand type(s) for /: 'list' and 'int'",
     "output_type": "error",
     "traceback": [
      "\u001b[1;31m---------------------------------------------------------------------------\u001b[0m",
      "\u001b[1;31mTypeError\u001b[0m                                 Traceback (most recent call last)",
      "Cell \u001b[1;32mIn[47], line 1\u001b[0m\n\u001b[1;32m----> 1\u001b[0m \u001b[43mB\u001b[49m\u001b[38;5;241;43m/\u001b[39;49m\u001b[38;5;241;43m2\u001b[39;49m\n",
      "\u001b[1;31mTypeError\u001b[0m: unsupported operand type(s) for /: 'list' and 'int'"
     ]
    }
   ],
   "source": [
    "B/2"
   ]
  },
  {
   "cell_type": "code",
   "execution_count": 48,
   "id": "74f18d9d",
   "metadata": {
    "scrolled": true
   },
   "outputs": [
    {
     "data": {
      "text/plain": [
       "[1,\n",
       " 'iNeuron',\n",
       " (3+7j),\n",
       " 'Bhumi',\n",
       " 999,\n",
       " 78,\n",
       " 23.45,\n",
       " 1,\n",
       " 'iNeuron',\n",
       " (3+7j),\n",
       " 'Bhumi',\n",
       " 999,\n",
       " 78,\n",
       " 23.45,\n",
       " 1,\n",
       " 'iNeuron',\n",
       " (3+7j),\n",
       " 'Bhumi',\n",
       " 999,\n",
       " 78,\n",
       " 23.45]"
      ]
     },
     "execution_count": 48,
     "metadata": {},
     "output_type": "execute_result"
    }
   ],
   "source": [
    "B+B+B"
   ]
  },
  {
   "cell_type": "markdown",
   "id": "5ac71829",
   "metadata": {},
   "source": [
    "### Basic list methods\n",
    "    List in python have no fixed size.\n",
    "    They have no fixed type constraint"
   ]
  },
  {
   "cell_type": "markdown",
   "id": "2a988582",
   "metadata": {},
   "source": [
    "### len()\n",
    "    length of a list can be calculated using in built len()"
   ]
  },
  {
   "cell_type": "code",
   "execution_count": 49,
   "id": "7d17a807",
   "metadata": {},
   "outputs": [],
   "source": [
    "C = [1, 'iNeuron', (3+7j), 'Bhumi', 999, 78, 23.45, 78, 23.45]"
   ]
  },
  {
   "cell_type": "code",
   "execution_count": 50,
   "id": "c3ef7452",
   "metadata": {},
   "outputs": [
    {
     "data": {
      "text/plain": [
       "9"
      ]
     },
     "execution_count": 50,
     "metadata": {},
     "output_type": "execute_result"
    }
   ],
   "source": [
    "len(C)"
   ]
  },
  {
   "cell_type": "code",
   "execution_count": 51,
   "id": "cf83ced5",
   "metadata": {},
   "outputs": [
    {
     "data": {
      "text/plain": [
       "0"
      ]
     },
     "execution_count": 51,
     "metadata": {},
     "output_type": "execute_result"
    }
   ],
   "source": [
    "my_list = []   # not recommended\n",
    "len(my_list)"
   ]
  },
  {
   "cell_type": "code",
   "execution_count": 52,
   "id": "f8cefbe2",
   "metadata": {},
   "outputs": [
    {
     "data": {
      "text/plain": [
       "0"
      ]
     },
     "execution_count": 52,
     "metadata": {},
     "output_type": "execute_result"
    }
   ],
   "source": [
    "my_list = list()   #  recommended\n",
    "len(my_list)"
   ]
  },
  {
   "cell_type": "code",
   "execution_count": 53,
   "id": "67b38c66",
   "metadata": {
    "scrolled": true
   },
   "outputs": [
    {
     "name": "stdout",
     "output_type": "stream",
     "text": [
      "No. of item to purchase5\n",
      "Enter item you want to purchase: eraser\n",
      "Enter item you want to purchase: book\n",
      "Enter item you want to purchase: pencil\n",
      "Enter item you want to purchase: bag\n",
      "Enter item you want to purchase: bottle\n",
      "['eraser', 'book', 'pencil', 'bag', 'bottle']\n"
     ]
    }
   ],
   "source": [
    "list_of_items = list()  # empty list\n",
    "N = int(input(\"No. of item to purchase\"))\n",
    "\n",
    "for i in range(N):\n",
    "    user_input = input(\"Enter item you want to purchase: \")\n",
    "    list_of_items = list_of_items + [user_input]\n",
    "    \n",
    "print(list_of_items)\n",
    "    "
   ]
  },
  {
   "cell_type": "code",
   "execution_count": 54,
   "id": "c05ad716",
   "metadata": {},
   "outputs": [
    {
     "name": "stdout",
     "output_type": "stream",
     "text": [
      "No. of item to purchase3\n",
      "Enter item you want to purchase: shirt\n",
      "Enter item you want to purchase: trouser\n",
      "Enter item you want to purchase: belt\n",
      "['shirt', 'trouser', 'belt']\n"
     ]
    }
   ],
   "source": [
    "list_of_items = list()  # empty list\n",
    "N = int(input(\"No. of item to purchase\"))\n",
    "i = 0\n",
    "\n",
    "while i < N:\n",
    "    user_input = input(\"Enter item you want to purchase: \")\n",
    "    list_of_items = list_of_items + [user_input]\n",
    "    i = i + 1\n",
    "    \n",
    "print(list_of_items)"
   ]
  },
  {
   "cell_type": "code",
   "execution_count": 56,
   "id": "c65149de",
   "metadata": {},
   "outputs": [
    {
     "name": "stdout",
     "output_type": "stream",
     "text": [
      "No. of item to purchase3\n",
      "Enter item you want to purchase: pen\n",
      "Current list: 0 ['pen']\n",
      "Enter item you want to purchase: scale\n",
      "Current list: 1 ['pen', 'scale']\n",
      "Enter item you want to purchase: d\n",
      "Current list: 2 ['pen', 'scale', 'd']\n",
      "['pen', 'scale', 'd']\n"
     ]
    }
   ],
   "source": [
    "list_of_items = list()  # empty list\n",
    "N = int(input(\"No. of item to purchase\"))\n",
    "i = 0\n",
    "\n",
    "while i < N:\n",
    "    user_input = input(\"Enter item you want to purchase: \")\n",
    "    list_of_items = list_of_items + [user_input]\n",
    "    print(f\"Current list: {i} {list_of_items}\")\n",
    "    i = i + 1\n",
    "    \n",
    "print(list_of_items)"
   ]
  },
  {
   "cell_type": "markdown",
   "id": "ebedc0a1",
   "metadata": {},
   "source": [
    "### Check membership in list"
   ]
  },
  {
   "cell_type": "code",
   "execution_count": 57,
   "id": "36fb263d",
   "metadata": {},
   "outputs": [
    {
     "data": {
      "text/plain": [
       "False"
      ]
     },
     "execution_count": 57,
     "metadata": {},
     "output_type": "execute_result"
    }
   ],
   "source": [
    "\"Phone cover\" in list_of_items"
   ]
  },
  {
   "cell_type": "code",
   "execution_count": 58,
   "id": "9e0bba9c",
   "metadata": {},
   "outputs": [
    {
     "data": {
      "text/plain": [
       "True"
      ]
     },
     "execution_count": 58,
     "metadata": {},
     "output_type": "execute_result"
    }
   ],
   "source": [
    "\"pen\" in list_of_items"
   ]
  },
  {
   "cell_type": "code",
   "execution_count": 59,
   "id": "ecfd54b3",
   "metadata": {},
   "outputs": [
    {
     "name": "stdout",
     "output_type": "stream",
     "text": [
      "No, adding into the list\n",
      "['pen', 'scale', 'd', 'Phone Cover']\n"
     ]
    }
   ],
   "source": [
    "if \"Phone Cover\" in list_of_items:\n",
    "    print(\"Yes\")\n",
    "else:\n",
    "    print(\"No, adding into the list\")\n",
    "    list_of_items = list_of_items + [\"Phone Cover\"]\n",
    "\n",
    "print(list_of_items)"
   ]
  },
  {
   "cell_type": "code",
   "execution_count": 60,
   "id": "603418eb",
   "metadata": {},
   "outputs": [
    {
     "name": "stdout",
     "output_type": "stream",
     "text": [
      "No, adding into the list\n",
      "['pen', 'scale', 'd', 'Phone Cover', 'Milk']\n"
     ]
    }
   ],
   "source": [
    "if \"Milk\" not in list_of_items:\n",
    "    print(\"No, adding into the list\")\n",
    "    list_of_items = list_of_items + [\"Milk\"]\n",
    "else:\n",
    "     print(\"Yes\")\n",
    "\n",
    "\n",
    "print(list_of_items)"
   ]
  },
  {
   "cell_type": "code",
   "execution_count": 61,
   "id": "bb684858",
   "metadata": {},
   "outputs": [
    {
     "name": "stdout",
     "output_type": "stream",
     "text": [
      "Anthing else to purchase: compass\n",
      "No, adding into the list\n",
      "['pen', 'scale', 'd', 'Phone Cover', 'Milk', 'compass']\n"
     ]
    }
   ],
   "source": [
    "new_item = input(\"Anthing else to purchase: \")\n",
    "\n",
    "if new_item not in list_of_items:\n",
    "    print(\"No, adding into the list\")\n",
    "    list_of_items = list_of_items + [new_item]\n",
    "else:\n",
    "     print(\"Yes\")\n",
    "\n",
    "\n",
    "print(list_of_items)"
   ]
  },
  {
   "cell_type": "markdown",
   "id": "69d4411b",
   "metadata": {},
   "source": [
    "### max()\n",
    "    we can find max value from a given list"
   ]
  },
  {
   "cell_type": "code",
   "execution_count": 62,
   "id": "6bd16720",
   "metadata": {},
   "outputs": [
    {
     "name": "stdout",
     "output_type": "stream",
     "text": [
      "iNeuron\n",
      "9\n"
     ]
    }
   ],
   "source": [
    "list1 = [\"iNeuron\" , \"Data Science\" , \"Big Data\" , \"Analytics\"]\n",
    "list2 = [5,6,7,8,9,5,2] \n",
    "print(max(list1))\n",
    "print(max(list2))"
   ]
  },
  {
   "cell_type": "code",
   "execution_count": 63,
   "id": "25ad0378",
   "metadata": {},
   "outputs": [
    {
     "name": "stdout",
     "output_type": "stream",
     "text": [
      "20.9\n"
     ]
    }
   ],
   "source": [
    "list2 = [5,6,7,8,9,5,20.9,20] \n",
    "print(max(list2))"
   ]
  },
  {
   "cell_type": "code",
   "execution_count": 64,
   "id": "6f03e705",
   "metadata": {},
   "outputs": [
    {
     "data": {
      "text/plain": [
       "'m'"
      ]
     },
     "execution_count": 64,
     "metadata": {},
     "output_type": "execute_result"
    }
   ],
   "source": [
    "example = [\"a\",\"b\",\"c\",\"m\"]\n",
    "max(example)"
   ]
  },
  {
   "cell_type": "code",
   "execution_count": 65,
   "id": "200f1bf2",
   "metadata": {},
   "outputs": [
    {
     "data": {
      "text/plain": [
       "'m'"
      ]
     },
     "execution_count": 65,
     "metadata": {},
     "output_type": "execute_result"
    }
   ],
   "source": [
    "example = [\"a\",\"b\",\"c\",\"m\",\"M\"]  # ACC. to ASCII(American Standard code for information Interchange) value of alphabets\n",
    "max(example)"
   ]
  },
  {
   "cell_type": "code",
   "execution_count": 66,
   "id": "3ea02de2",
   "metadata": {},
   "outputs": [
    {
     "data": {
      "text/plain": [
       "'0'"
      ]
     },
     "execution_count": 66,
     "metadata": {},
     "output_type": "execute_result"
    }
   ],
   "source": [
    "a = [\"1\",\"2\",\"0\"]\n",
    "min(a)"
   ]
  },
  {
   "cell_type": "code",
   "execution_count": 67,
   "id": "c5b7e3c3",
   "metadata": {},
   "outputs": [
    {
     "name": "stdout",
     "output_type": "stream",
     "text": [
      "Doctor\n"
     ]
    },
    {
     "data": {
      "text/plain": [
       "'dj'"
      ]
     },
     "execution_count": 67,
     "metadata": {},
     "output_type": "execute_result"
    }
   ],
   "source": [
    "string_example = ['bhumika',\"avi\",\"dew\",\"dj\",\"charlie\",\"Doctor\"]\n",
    "\n",
    "print(min(string_example))\n",
    "max(string_example)"
   ]
  },
  {
   "cell_type": "code",
   "execution_count": 68,
   "id": "25c698cc",
   "metadata": {},
   "outputs": [
    {
     "name": "stdout",
     "output_type": "stream",
     "text": [
      "bhumikaps 9\n",
      "avi 3\n",
      "dew 3\n",
      "dj 2\n",
      "charlie 7\n",
      "Doctor 6\n",
      "Result: max_lengt: 9 name: bhumikaps\n"
     ]
    }
   ],
   "source": [
    "# print the name with highest no. of character \n",
    "\n",
    "string_example = ['bhumikaps',\"avi\",\"dew\",\"dj\",\"charlie\",\"Doctor\"] \n",
    "max_ = 0\n",
    "result  = \"\"\n",
    "for i in string_example:\n",
    "    print(i,len(i))\n",
    "    if len(i) > max_:\n",
    "        max_ = len(i)\n",
    "        result = i\n",
    "\n",
    "print(f\"Result: max_lengt: {max_} name: {result}\")\n",
    "    "
   ]
  },
  {
   "cell_type": "code",
   "execution_count": 69,
   "id": "33a3a18d",
   "metadata": {},
   "outputs": [
    {
     "data": {
      "text/plain": [
       "6"
      ]
     },
     "execution_count": 69,
     "metadata": {},
     "output_type": "execute_result"
    }
   ],
   "source": [
    "len(string_example)"
   ]
  },
  {
   "cell_type": "code",
   "execution_count": 70,
   "id": "39d68c94",
   "metadata": {},
   "outputs": [
    {
     "name": "stdout",
     "output_type": "stream",
     "text": [
      "0 avi 3\n",
      "1 dewch 5\n",
      "2 dj 2\n",
      "3 charlie 7\n",
      "4 Doctor 6\n"
     ]
    }
   ],
   "source": [
    "b = [\"avi\",\"dewch\",\"dj\",\"charlie\",\"Doctor\"] \n",
    "max = 0\n",
    "\n",
    "for i in range(0,len(b)):\n",
    "    print(i,b[i],len(b[i]))\n",
    "    "
   ]
  },
  {
   "cell_type": "markdown",
   "id": "3fabd3a1",
   "metadata": {},
   "source": [
    "    In python 3, you can't find max with different data types in a list"
   ]
  },
  {
   "cell_type": "markdown",
   "id": "7495d643",
   "metadata": {},
   "source": [
    "### Append\n",
    "    if you want to add something in the end"
   ]
  },
  {
   "cell_type": "code",
   "execution_count": 71,
   "id": "b4b85c19",
   "metadata": {},
   "outputs": [],
   "source": [
    "l = [1,2,3]"
   ]
  },
  {
   "cell_type": "code",
   "execution_count": 72,
   "id": "58be9d3f",
   "metadata": {},
   "outputs": [],
   "source": [
    "l.append('append me!!')"
   ]
  },
  {
   "cell_type": "code",
   "execution_count": 73,
   "id": "9aa703f3",
   "metadata": {
    "scrolled": true
   },
   "outputs": [
    {
     "data": {
      "text/plain": [
       "[1, 2, 3, 'append me!!']"
      ]
     },
     "execution_count": 73,
     "metadata": {},
     "output_type": "execute_result"
    }
   ],
   "source": [
    "l"
   ]
  },
  {
   "cell_type": "code",
   "execution_count": 74,
   "id": "9c687221",
   "metadata": {},
   "outputs": [
    {
     "name": "stdout",
     "output_type": "stream",
     "text": [
      "No. of item to purchase3 \n",
      "Enter item you want to purchase: pen \n",
      "Enter item you want to purchase: pencil\n",
      "Enter item you want to purchase: scale\n",
      "['pen ', 'pencil', 'scale']\n"
     ]
    }
   ],
   "source": [
    "list_of_items = list()  # empty list\n",
    "N = int(input(\"No. of item to purchase\"))\n",
    "\n",
    "for i in range(N):\n",
    "    user_input = input(\"Enter item you want to purchase: \")\n",
    "    list_of_items.append(user_input)   #recommended\n",
    "    \n",
    "print(list_of_items)\n",
    "    "
   ]
  },
  {
   "cell_type": "markdown",
   "id": "d87679ec",
   "metadata": {},
   "source": [
    "### Pop -\n",
    "    Use pop to \"pop off\" an item from the list. By default, pop takes off the last index, but you can also specify which index to pop off"
   ]
  },
  {
   "cell_type": "code",
   "execution_count": 75,
   "id": "45d0d99e",
   "metadata": {},
   "outputs": [
    {
     "data": {
      "text/plain": [
       "1"
      ]
     },
     "execution_count": 75,
     "metadata": {},
     "output_type": "execute_result"
    }
   ],
   "source": [
    "# pop off the 0 indexed item\n",
    "l.pop(0)"
   ]
  },
  {
   "cell_type": "code",
   "execution_count": 76,
   "id": "da0d0f72",
   "metadata": {},
   "outputs": [
    {
     "data": {
      "text/plain": [
       "[2, 3, 'append me!!']"
      ]
     },
     "execution_count": 76,
     "metadata": {},
     "output_type": "execute_result"
    }
   ],
   "source": [
    "l"
   ]
  },
  {
   "cell_type": "code",
   "execution_count": 77,
   "id": "06e26889",
   "metadata": {},
   "outputs": [
    {
     "data": {
      "text/plain": [
       "'append me!!'"
      ]
     },
     "execution_count": 77,
     "metadata": {},
     "output_type": "execute_result"
    }
   ],
   "source": [
    "l.pop() #by default removed last element  "
   ]
  },
  {
   "cell_type": "code",
   "execution_count": 78,
   "id": "d054794f",
   "metadata": {},
   "outputs": [
    {
     "data": {
      "text/plain": [
       "[2, 3]"
      ]
     },
     "execution_count": 78,
     "metadata": {},
     "output_type": "execute_result"
    }
   ],
   "source": [
    "l"
   ]
  },
  {
   "cell_type": "markdown",
   "id": "34155cea",
   "metadata": {},
   "source": [
    "    list indexing will return an error if there is no element at that index"
   ]
  },
  {
   "cell_type": "code",
   "execution_count": 79,
   "id": "f55780c0",
   "metadata": {
    "scrolled": true
   },
   "outputs": [
    {
     "name": "stdout",
     "output_type": "stream",
     "text": [
      "0 1\n",
      "odd num: 1\n",
      "1 34\n",
      "even num: 34\n",
      "2 56\n",
      "even num: 56\n",
      "3 76\n",
      "even num: 76\n",
      "4 99\n",
      "odd num: 99\n"
     ]
    }
   ],
   "source": [
    "# print odd elements\n",
    "\n",
    "A = [1,34,56,76,99]\n",
    "\n",
    "for idx in range(len(A)):\n",
    "    num = A[idx]\n",
    "    print(idx,num)\n",
    "    if num % 2 != 0: #odd condition\n",
    "        print(f\"odd num: {num}\")\n",
    "    else:\n",
    "        print(f\"even num: {num}\")\n"
   ]
  },
  {
   "cell_type": "markdown",
   "id": "63c453b7",
   "metadata": {},
   "source": [
    "### Sorted"
   ]
  },
  {
   "cell_type": "markdown",
   "id": "7aa0ab91",
   "metadata": {},
   "source": [
    "        we can use the sort method and the reverse methods to also effect your lists"
   ]
  },
  {
   "cell_type": "code",
   "execution_count": 80,
   "id": "d4ab103f",
   "metadata": {},
   "outputs": [
    {
     "data": {
      "text/plain": [
       "[-56, 1, 34, 56, 65, 87]"
      ]
     },
     "execution_count": 80,
     "metadata": {},
     "output_type": "execute_result"
    }
   ],
   "source": [
    "A = [1,34,56,87,65,-56]\n",
    "\n",
    "sorted(A)  # ascending order"
   ]
  },
  {
   "cell_type": "code",
   "execution_count": 81,
   "id": "eb4c95ca",
   "metadata": {},
   "outputs": [
    {
     "data": {
      "text/plain": [
       "[1, 34, 56, 87, 65, -56]"
      ]
     },
     "execution_count": 81,
     "metadata": {},
     "output_type": "execute_result"
    }
   ],
   "source": [
    "A   #not a permanent solution"
   ]
  },
  {
   "cell_type": "code",
   "execution_count": 82,
   "id": "30d9d018",
   "metadata": {},
   "outputs": [],
   "source": [
    "A = sorted(A) "
   ]
  },
  {
   "cell_type": "code",
   "execution_count": 83,
   "id": "fca34291",
   "metadata": {},
   "outputs": [
    {
     "data": {
      "text/plain": [
       "[87, 65, 56, 34, 1, -56]"
      ]
     },
     "execution_count": 83,
     "metadata": {},
     "output_type": "execute_result"
    }
   ],
   "source": [
    "A[::-1]   # reverse, descending order"
   ]
  },
  {
   "cell_type": "markdown",
   "id": "8f0c6730",
   "metadata": {},
   "source": [
    "### sort()"
   ]
  },
  {
   "cell_type": "code",
   "execution_count": 84,
   "id": "a8d01ab2",
   "metadata": {},
   "outputs": [],
   "source": [
    "A = [1,34,56,87,65,-56]\n",
    "\n",
    "A.sort()  # permanent solution"
   ]
  },
  {
   "cell_type": "code",
   "execution_count": 85,
   "id": "544236a4",
   "metadata": {},
   "outputs": [
    {
     "data": {
      "text/plain": [
       "[-56, 1, 34, 56, 65, 87]"
      ]
     },
     "execution_count": 85,
     "metadata": {},
     "output_type": "execute_result"
    }
   ],
   "source": [
    "A"
   ]
  },
  {
   "cell_type": "code",
   "execution_count": 86,
   "id": "5e6967dd",
   "metadata": {},
   "outputs": [
    {
     "data": {
      "text/plain": [
       "[87, 65, 56, 34, 1, -56]"
      ]
     },
     "execution_count": 86,
     "metadata": {},
     "output_type": "execute_result"
    }
   ],
   "source": [
    "A[::-1]"
   ]
  },
  {
   "cell_type": "code",
   "execution_count": 87,
   "id": "f79f4e79",
   "metadata": {},
   "outputs": [],
   "source": [
    "A = [1,34,56,87,65,-56]\n",
    "\n",
    "A.sort(reverse = True)  # permanent solution, in descending order"
   ]
  },
  {
   "cell_type": "code",
   "execution_count": 88,
   "id": "576475b7",
   "metadata": {},
   "outputs": [
    {
     "data": {
      "text/plain": [
       "[87, 65, 56, 34, 1, -56]"
      ]
     },
     "execution_count": 88,
     "metadata": {},
     "output_type": "execute_result"
    }
   ],
   "source": [
    "A"
   ]
  },
  {
   "cell_type": "code",
   "execution_count": 89,
   "id": "58b64074",
   "metadata": {},
   "outputs": [],
   "source": [
    "A.reverse() # inplace operation: means permanent solution"
   ]
  },
  {
   "cell_type": "code",
   "execution_count": 90,
   "id": "d79bcb32",
   "metadata": {},
   "outputs": [
    {
     "data": {
      "text/plain": [
       "[-56, 1, 34, 56, 65, 87]"
      ]
     },
     "execution_count": 90,
     "metadata": {},
     "output_type": "execute_result"
    }
   ],
   "source": [
    "A"
   ]
  },
  {
   "cell_type": "markdown",
   "id": "d07b33cc",
   "metadata": {},
   "source": [
    "### Nesting of the list\n",
    "    list iinside a list"
   ]
  },
  {
   "cell_type": "code",
   "execution_count": 91,
   "id": "0a140871",
   "metadata": {},
   "outputs": [
    {
     "data": {
      "text/plain": [
       "[[1, 2, 3], [11, 22, 33], [45, 55, 65]]"
      ]
     },
     "execution_count": 91,
     "metadata": {},
     "output_type": "execute_result"
    }
   ],
   "source": [
    "A = [[1,2,3],[11,22,33],[45,55,65]]\n",
    "A"
   ]
  },
  {
   "cell_type": "code",
   "execution_count": 92,
   "id": "135c78db",
   "metadata": {},
   "outputs": [
    {
     "data": {
      "text/plain": [
       "22"
      ]
     },
     "execution_count": 92,
     "metadata": {},
     "output_type": "execute_result"
    }
   ],
   "source": [
    "A[1][1]"
   ]
  },
  {
   "cell_type": "code",
   "execution_count": 93,
   "id": "abd715b8",
   "metadata": {},
   "outputs": [
    {
     "data": {
      "text/plain": [
       "[[1, 2, 3], [11, 22, 33, [500, 600, 800]], [45, 55, 65]]"
      ]
     },
     "execution_count": 93,
     "metadata": {},
     "output_type": "execute_result"
    }
   ],
   "source": [
    "B = [[1,2,3],[11,22,33,[500,600,800]],[45,55,65]]\n",
    "B                                                                                                                   "
   ]
  },
  {
   "cell_type": "code",
   "execution_count": 94,
   "id": "e3915c16",
   "metadata": {},
   "outputs": [
    {
     "data": {
      "text/plain": [
       "800"
      ]
     },
     "execution_count": 94,
     "metadata": {},
     "output_type": "execute_result"
    }
   ],
   "source": [
    "B[1][3][2]"
   ]
  },
  {
   "cell_type": "code",
   "execution_count": 95,
   "id": "7c6e9b9e",
   "metadata": {},
   "outputs": [
    {
     "data": {
      "text/plain": [
       "800"
      ]
     },
     "execution_count": 95,
     "metadata": {},
     "output_type": "execute_result"
    }
   ],
   "source": [
    "B[-2][-1][-1]"
   ]
  },
  {
   "cell_type": "raw",
   "id": "42b6d8e2",
   "metadata": {},
   "source": []
  },
  {
   "cell_type": "code",
   "execution_count": 96,
   "id": "02af32f7",
   "metadata": {},
   "outputs": [
    {
     "name": "stdout",
     "output_type": "stream",
     "text": [
      "5000\n",
      "10000\n",
      "50000\n",
      "total_cost of item: 65000\n"
     ]
    }
   ],
   "source": [
    "amazon_cart = [[\"watch\",5000],[\"phone\",10000],[\"laptop\",50000]]\n",
    "\n",
    "total_cost = 0\n",
    "\n",
    "for i in range(0,len(amazon_cart)):\n",
    "    amazon_cart[i][1]\n",
    "    print(amazon_cart[i][1])\n",
    "    total_cost = total_cost + amazon_cart[i][1]\n",
    "\n",
    "print(f\"total_cost of item: {total_cost}\")\n",
    "    "
   ]
  },
  {
   "cell_type": "code",
   "execution_count": 97,
   "id": "3f5f5d95",
   "metadata": {},
   "outputs": [
    {
     "name": "stdout",
     "output_type": "stream",
     "text": [
      "5000\n",
      "Cart after adding: watch : 5000\n",
      "10000\n",
      "Cart after adding: phone : 15000\n",
      "50000\n",
      "Cart after adding: laptop : 65000\n",
      "total_cost of item: 65000\n"
     ]
    }
   ],
   "source": [
    "amazon_cart = [[\"watch\",5000],[\"phone\",10000],[\"laptop\",50000]]\n",
    "total_cost = 0\n",
    "\n",
    "for item in amazon_cart:\n",
    "    print(item[1])\n",
    "    total_cost = total_cost + item[1]\n",
    "    print(f\"Cart after adding: {item[0]} : {total_cost}\")\n",
    "    \n",
    "print(f\"total_cost of item: {total_cost}\")"
   ]
  },
  {
   "cell_type": "markdown",
   "id": "13244052",
   "metadata": {},
   "source": [
    "### List Comprehension"
   ]
  },
  {
   "cell_type": "code",
   "execution_count": 98,
   "id": "3a829f1c",
   "metadata": {},
   "outputs": [
    {
     "name": "stdout",
     "output_type": "stream",
     "text": [
      "[1, 4, 9, 16, 25, 36, 49, 64, 81, 100]\n"
     ]
    }
   ],
   "source": [
    "# list which contains list of sq. of nos between 1 to 10:\n",
    "\n",
    "A = [1,2,3,4,5,6,7,8,9,10]\n",
    "list_ = list()\n",
    "\n",
    "for ele in A:\n",
    "    ele = ele**2\n",
    "    list_.append(ele)\n",
    "\n",
    "print(list_)\n",
    "\n"
   ]
  },
  {
   "cell_type": "code",
   "execution_count": 99,
   "id": "08c10111",
   "metadata": {},
   "outputs": [
    {
     "name": "stdout",
     "output_type": "stream",
     "text": [
      "[1, 4, 9, 16, 25, 36, 49, 64, 81, 100]\n"
     ]
    }
   ],
   "source": [
    "A = [1,2,3,4,5,6,7,8,9,10]\n",
    "list_ = [ele**2 for ele in A]\n",
    "print(list_)"
   ]
  },
  {
   "cell_type": "code",
   "execution_count": 100,
   "id": "964fb932",
   "metadata": {},
   "outputs": [
    {
     "name": "stdout",
     "output_type": "stream",
     "text": [
      "[1, 9, 25, 49, 81]\n"
     ]
    }
   ],
   "source": [
    "# only take the sq. of odd no. in the list A:\n",
    "A = [1,2,3,4,5,6,7,8,9,10]\n",
    "list_ = list()\n",
    "\n",
    "for ele in A:\n",
    "    if ele%2 != 0:\n",
    "        ele = ele**2\n",
    "        list_.append(ele)\n",
    "print(list_)"
   ]
  },
  {
   "cell_type": "code",
   "execution_count": 101,
   "id": "3b720c4b",
   "metadata": {},
   "outputs": [
    {
     "name": "stdout",
     "output_type": "stream",
     "text": [
      "[1, 9, 25, 49, 81]\n"
     ]
    }
   ],
   "source": [
    "A = [1,2,3,4,5,6,7,8,9,10]\n",
    "\n",
    "list_ = [ele**2 for ele in A if ele%2 != 0]\n",
    "print(list_)"
   ]
  },
  {
   "cell_type": "markdown",
   "id": "e828be0f",
   "metadata": {},
   "source": [
    "### Count\n",
    "    to count how many nos of element are present there"
   ]
  },
  {
   "cell_type": "code",
   "execution_count": 102,
   "id": "f1c5b415",
   "metadata": {},
   "outputs": [],
   "source": [
    "A = [1,2,3,4,3,3,8,3]"
   ]
  },
  {
   "cell_type": "code",
   "execution_count": 103,
   "id": "f0996060",
   "metadata": {},
   "outputs": [
    {
     "data": {
      "text/plain": [
       "4"
      ]
     },
     "execution_count": 103,
     "metadata": {},
     "output_type": "execute_result"
    }
   ],
   "source": [
    "A.count(3)"
   ]
  },
  {
   "cell_type": "code",
   "execution_count": 104,
   "id": "678f5fba",
   "metadata": {},
   "outputs": [
    {
     "data": {
      "text/plain": [
       "0"
      ]
     },
     "execution_count": 104,
     "metadata": {},
     "output_type": "execute_result"
    }
   ],
   "source": [
    "A.count(99)"
   ]
  },
  {
   "cell_type": "code",
   "execution_count": 105,
   "id": "453a1bdb",
   "metadata": {},
   "outputs": [
    {
     "data": {
      "text/plain": [
       "2"
      ]
     },
     "execution_count": 105,
     "metadata": {},
     "output_type": "execute_result"
    }
   ],
   "source": [
    "A = [1,2,3,4,3,3,[8,8],3,[8,8]]\n",
    "A.count([8,8])"
   ]
  },
  {
   "cell_type": "code",
   "execution_count": 106,
   "id": "1906d6e5",
   "metadata": {},
   "outputs": [
    {
     "data": {
      "text/plain": [
       "2"
      ]
     },
     "execution_count": 106,
     "metadata": {},
     "output_type": "execute_result"
    }
   ],
   "source": [
    "A[-1].count(8)"
   ]
  },
  {
   "cell_type": "code",
   "execution_count": 107,
   "id": "d200640e",
   "metadata": {},
   "outputs": [
    {
     "name": "stdout",
     "output_type": "stream",
     "text": [
      "1 1\n",
      "2 1\n",
      "3 4\n",
      "4 1\n",
      "3 4\n",
      "3 4\n",
      "8 1\n",
      "3 4\n"
     ]
    }
   ],
   "source": [
    "A = [1,2,3,4,3,3,8,3]\n",
    "\n",
    "for i in A:\n",
    "    print(i, A.count(i))"
   ]
  },
  {
   "cell_type": "code",
   "execution_count": 108,
   "id": "d84aa445",
   "metadata": {},
   "outputs": [
    {
     "name": "stdout",
     "output_type": "stream",
     "text": [
      "B 1\n",
      "h 1\n",
      "u 1\n",
      "m 1\n",
      "i 1\n",
      "k 1\n",
      "a 1\n"
     ]
    }
   ],
   "source": [
    "A = \"Bhumika\"\n",
    "\n",
    "for i in A:\n",
    "    print(i, A.count(i))"
   ]
  },
  {
   "cell_type": "code",
   "execution_count": 109,
   "id": "ec4e9336",
   "metadata": {},
   "outputs": [
    {
     "name": "stdout",
     "output_type": "stream",
     "text": [
      "Bhumika 2\n",
      "Bhumika 2\n",
      "BHUMIKA 1\n",
      "Sawade 1\n"
     ]
    }
   ],
   "source": [
    "A = [\"Bhumika\",\"Bhumika\",\"BHUMIKA\",\"Sawade\"]\n",
    "\n",
    "for i in A:\n",
    "    print(i, A.count(i))"
   ]
  },
  {
   "cell_type": "markdown",
   "id": "7d69f1a9",
   "metadata": {},
   "source": [
    "### Extend"
   ]
  },
  {
   "cell_type": "code",
   "execution_count": 110,
   "id": "4c6b9ab2",
   "metadata": {},
   "outputs": [
    {
     "data": {
      "text/plain": [
       "[1, 2, 3, 11, 22, 33]"
      ]
     },
     "execution_count": 110,
     "metadata": {},
     "output_type": "execute_result"
    }
   ],
   "source": [
    "A = [1,2,3]\n",
    "B = [11,22,33]\n",
    "\n",
    "A+B"
   ]
  },
  {
   "cell_type": "code",
   "execution_count": 111,
   "id": "2cda5302",
   "metadata": {},
   "outputs": [],
   "source": [
    "A.extend(B)  # permanent operation"
   ]
  },
  {
   "cell_type": "code",
   "execution_count": 112,
   "id": "201065ba",
   "metadata": {},
   "outputs": [
    {
     "data": {
      "text/plain": [
       "[1, 2, 3, 11, 22, 33]"
      ]
     },
     "execution_count": 112,
     "metadata": {},
     "output_type": "execute_result"
    }
   ],
   "source": [
    "A"
   ]
  },
  {
   "cell_type": "code",
   "execution_count": 113,
   "id": "1a73feae",
   "metadata": {},
   "outputs": [
    {
     "data": {
      "text/plain": [
       "[11, 22, 33, 1, 2, 3, 11, 22, 33]"
      ]
     },
     "execution_count": 113,
     "metadata": {},
     "output_type": "execute_result"
    }
   ],
   "source": [
    "B.extend(A)\n",
    "B"
   ]
  },
  {
   "cell_type": "markdown",
   "id": "14ab7750",
   "metadata": {},
   "source": [
    "### Index method"
   ]
  },
  {
   "cell_type": "code",
   "execution_count": 114,
   "id": "3dfa1192",
   "metadata": {},
   "outputs": [],
   "source": [
    "A = [1,3,4,53,\"Bhumik\",2+7j]"
   ]
  },
  {
   "cell_type": "code",
   "execution_count": 115,
   "id": "56d9a022",
   "metadata": {},
   "outputs": [
    {
     "data": {
      "text/plain": [
       "3"
      ]
     },
     "execution_count": 115,
     "metadata": {},
     "output_type": "execute_result"
    }
   ],
   "source": [
    "A.index(53)"
   ]
  },
  {
   "cell_type": "code",
   "execution_count": 116,
   "id": "e40265b3",
   "metadata": {},
   "outputs": [
    {
     "name": "stdout",
     "output_type": "stream",
     "text": [
      "(2+7j) 5\n"
     ]
    }
   ],
   "source": [
    "# print index of all the complex no.\n",
    "\n",
    "for i in A:\n",
    "    if type(i) == complex:\n",
    "        print(i,A.index(i))"
   ]
  },
  {
   "cell_type": "code",
   "execution_count": 117,
   "id": "1a8011e2",
   "metadata": {},
   "outputs": [
    {
     "name": "stdout",
     "output_type": "stream",
     "text": [
      "Element :(2+7j), Type: <class 'complex'>, Index: 5\n"
     ]
    }
   ],
   "source": [
    "A = [1,3,4,53,\"Bhumik\",2+7j]\n",
    "\n",
    "for ele in A:\n",
    "    if isinstance(ele,complex):\n",
    "        print(f\"Element :{ele}, Type: {type(ele)}, Index: {A.index(ele)}\")"
   ]
  },
  {
   "cell_type": "code",
   "execution_count": 118,
   "id": "da7d04a7",
   "metadata": {},
   "outputs": [
    {
     "name": "stdout",
     "output_type": "stream",
     "text": [
      "Element :1, Type: <class 'int'>, Index: 0\n",
      "Element :3, Type: <class 'int'>, Index: 1\n",
      "Element :4, Type: <class 'int'>, Index: 2\n",
      "Element :53, Type: <class 'int'>, Index: 3\n",
      "Element :(2+7j), Type: <class 'complex'>, Index: 5\n"
     ]
    }
   ],
   "source": [
    "# print the index of all the complex or int \n",
    "A = [1,3,4,53,\"Bhumik\",2+7j]\n",
    "\n",
    "for ele in A:\n",
    "    if isinstance(ele,(complex,int)) :  # or case\n",
    "        print(f\"Element :{ele}, Type: {type(ele)}, Index: {A.index(ele)}\")"
   ]
  },
  {
   "cell_type": "code",
   "execution_count": 119,
   "id": "a0534f37",
   "metadata": {},
   "outputs": [
    {
     "data": {
      "text/plain": [
       "[(2+7j)]"
      ]
     },
     "execution_count": 119,
     "metadata": {},
     "output_type": "execute_result"
    }
   ],
   "source": [
    "ans = [ele for ele in A if isinstance(ele,complex)]\n",
    "ans"
   ]
  },
  {
   "cell_type": "code",
   "execution_count": 120,
   "id": "5feaab82",
   "metadata": {},
   "outputs": [
    {
     "data": {
      "text/plain": [
       "[(2+7j)]"
      ]
     },
     "execution_count": 120,
     "metadata": {},
     "output_type": "execute_result"
    }
   ],
   "source": [
    "ans = [ele for ele in A if type(ele)==complex]\n",
    "ans"
   ]
  },
  {
   "cell_type": "code",
   "execution_count": 121,
   "id": "f0d5b4de",
   "metadata": {
    "scrolled": true
   },
   "outputs": [
    {
     "data": {
      "text/plain": [
       "1"
      ]
     },
     "execution_count": 121,
     "metadata": {},
     "output_type": "execute_result"
    }
   ],
   "source": [
    "A = [1,3,4,53,\"Bhumik\",2+7j,3,3]\n",
    "A.index(3)  # duplicate element"
   ]
  },
  {
   "cell_type": "markdown",
   "id": "8296f0bf",
   "metadata": {},
   "source": [
    "### Insert"
   ]
  },
  {
   "cell_type": "code",
   "execution_count": 122,
   "id": "7d0b0542",
   "metadata": {},
   "outputs": [
    {
     "data": {
      "text/plain": [
       "[1, 2, 3, 4, 5, 99]"
      ]
     },
     "execution_count": 122,
     "metadata": {},
     "output_type": "execute_result"
    }
   ],
   "source": [
    "A = [1,2,3,4,5]\n",
    "\n",
    "A.append(99)\n",
    "A"
   ]
  },
  {
   "cell_type": "code",
   "execution_count": 123,
   "id": "d8ef756a",
   "metadata": {},
   "outputs": [
    {
     "data": {
      "text/plain": [
       "[1, 2, 'Bhumik', 3, 4, 5, 99]"
      ]
     },
     "execution_count": 123,
     "metadata": {},
     "output_type": "execute_result"
    }
   ],
   "source": [
    "A.insert(2,\"Bhumik\")  # insert(indx,value)\n",
    "A"
   ]
  },
  {
   "cell_type": "code",
   "execution_count": 124,
   "id": "272bf665",
   "metadata": {},
   "outputs": [
    {
     "data": {
      "text/plain": [
       "[1, 2, ['Bhumik', 'Sawade'], 'Bhumik', 3, 4, 5, 99]"
      ]
     },
     "execution_count": 124,
     "metadata": {},
     "output_type": "execute_result"
    }
   ],
   "source": [
    "A.insert(2,[\"Bhumik\",\"Sawade\"])  # insert(indx,value)\n",
    "A"
   ]
  },
  {
   "cell_type": "code",
   "execution_count": 125,
   "id": "6a0fdfa4",
   "metadata": {},
   "outputs": [
    {
     "name": "stdout",
     "output_type": "stream",
     "text": [
      "4\n"
     ]
    },
    {
     "data": {
      "text/plain": [
       "[1, 2, 3, 4]"
      ]
     },
     "execution_count": 125,
     "metadata": {},
     "output_type": "execute_result"
    }
   ],
   "source": [
    "B = [1,2,3,4]\n",
    "print(len(B))\n",
    "B"
   ]
  },
  {
   "cell_type": "code",
   "execution_count": 126,
   "id": "a544a669",
   "metadata": {},
   "outputs": [],
   "source": [
    "B.insert(2000,\"penny\")"
   ]
  },
  {
   "cell_type": "code",
   "execution_count": 127,
   "id": "4041ad5d",
   "metadata": {},
   "outputs": [
    {
     "data": {
      "text/plain": [
       "5"
      ]
     },
     "execution_count": 127,
     "metadata": {},
     "output_type": "execute_result"
    }
   ],
   "source": [
    "len(B)"
   ]
  },
  {
   "cell_type": "code",
   "execution_count": 128,
   "id": "f2f48d49",
   "metadata": {},
   "outputs": [
    {
     "ename": "IndexError",
     "evalue": "list index out of range",
     "output_type": "error",
     "traceback": [
      "\u001b[1;31m---------------------------------------------------------------------------\u001b[0m",
      "\u001b[1;31mIndexError\u001b[0m                                Traceback (most recent call last)",
      "Cell \u001b[1;32mIn[128], line 1\u001b[0m\n\u001b[1;32m----> 1\u001b[0m \u001b[43mB\u001b[49m\u001b[43m[\u001b[49m\u001b[38;5;241;43m2000\u001b[39;49m\u001b[43m]\u001b[49m\n",
      "\u001b[1;31mIndexError\u001b[0m: list index out of range"
     ]
    }
   ],
   "source": [
    "B[2000]"
   ]
  },
  {
   "cell_type": "code",
   "execution_count": 129,
   "id": "4f934cef",
   "metadata": {},
   "outputs": [
    {
     "data": {
      "text/plain": [
       "'penny'"
      ]
     },
     "execution_count": 129,
     "metadata": {},
     "output_type": "execute_result"
    }
   ],
   "source": [
    "B[4]"
   ]
  },
  {
   "cell_type": "markdown",
   "id": "50fed94f",
   "metadata": {},
   "source": [
    "###  Remove"
   ]
  },
  {
   "cell_type": "code",
   "execution_count": 130,
   "id": "22811c85",
   "metadata": {},
   "outputs": [
    {
     "data": {
      "text/plain": [
       "[1, 2, 3, 4, 55, 4, 55]"
      ]
     },
     "execution_count": 130,
     "metadata": {},
     "output_type": "execute_result"
    }
   ],
   "source": [
    "A = [1,2,3,4,55,4,55,33]\n",
    "A.remove(33)\n",
    "A"
   ]
  },
  {
   "cell_type": "code",
   "execution_count": 131,
   "id": "a45eadd5",
   "metadata": {},
   "outputs": [
    {
     "data": {
      "text/plain": [
       "[1, 2, 3, 4, 55, 4, 55]"
      ]
     },
     "execution_count": 131,
     "metadata": {},
     "output_type": "execute_result"
    }
   ],
   "source": [
    "A"
   ]
  },
  {
   "cell_type": "markdown",
   "id": "c1f6cd55",
   "metadata": {},
   "source": [
    "    removes the first occurence of the element"
   ]
  },
  {
   "cell_type": "code",
   "execution_count": 132,
   "id": "684e0436",
   "metadata": {},
   "outputs": [
    {
     "data": {
      "text/plain": [
       "55"
      ]
     },
     "execution_count": 132,
     "metadata": {},
     "output_type": "execute_result"
    }
   ],
   "source": [
    "A.pop()"
   ]
  },
  {
   "cell_type": "code",
   "execution_count": null,
   "id": "c62eb679",
   "metadata": {},
   "outputs": [],
   "source": []
  }
 ],
 "metadata": {
  "kernelspec": {
   "display_name": "Python 3 (ipykernel)",
   "language": "python",
   "name": "python3"
  },
  "language_info": {
   "codemirror_mode": {
    "name": "ipython",
    "version": 3
   },
   "file_extension": ".py",
   "mimetype": "text/x-python",
   "name": "python",
   "nbconvert_exporter": "python",
   "pygments_lexer": "ipython3",
   "version": "3.10.9"
  }
 },
 "nbformat": 4,
 "nbformat_minor": 5
}

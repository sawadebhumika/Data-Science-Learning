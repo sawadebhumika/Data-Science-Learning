{
 "cells": [
  {
   "cell_type": "markdown",
   "id": "1a57a704",
   "metadata": {},
   "source": [
    "### Tuples"
   ]
  },
  {
   "cell_type": "markdown",
   "id": "f116e428",
   "metadata": {},
   "source": [
    "    tuple()           list[]\n",
    "    immutable         mutable"
   ]
  },
  {
   "cell_type": "code",
   "execution_count": 1,
   "id": "12c7f8fb",
   "metadata": {},
   "outputs": [
    {
     "data": {
      "text/plain": [
       "tuple"
      ]
     },
     "execution_count": 1,
     "metadata": {},
     "output_type": "execute_result"
    }
   ],
   "source": [
    "A = (1,2,3)\n",
    "type(A)"
   ]
  },
  {
   "cell_type": "code",
   "execution_count": 2,
   "id": "518e7b4a",
   "metadata": {},
   "outputs": [
    {
     "data": {
      "text/plain": [
       "1"
      ]
     },
     "execution_count": 2,
     "metadata": {},
     "output_type": "execute_result"
    }
   ],
   "source": [
    "A[0]"
   ]
  },
  {
   "cell_type": "code",
   "execution_count": 3,
   "id": "dd8eb9a4",
   "metadata": {},
   "outputs": [
    {
     "ename": "TypeError",
     "evalue": "'tuple' object does not support item assignment",
     "output_type": "error",
     "traceback": [
      "\u001b[1;31m---------------------------------------------------------------------------\u001b[0m",
      "\u001b[1;31mTypeError\u001b[0m                                 Traceback (most recent call last)",
      "Cell \u001b[1;32mIn[3], line 1\u001b[0m\n\u001b[1;32m----> 1\u001b[0m A[\u001b[38;5;241m0\u001b[39m] \u001b[38;5;241m=\u001b[39m \u001b[38;5;241m22\u001b[39m\n",
      "\u001b[1;31mTypeError\u001b[0m: 'tuple' object does not support item assignment"
     ]
    }
   ],
   "source": [
    "A[0] = 22  # hence immutability"
   ]
  },
  {
   "cell_type": "code",
   "execution_count": 4,
   "id": "e383e9b8",
   "metadata": {},
   "outputs": [],
   "source": [
    "A = (22,12,34,1)"
   ]
  },
  {
   "cell_type": "code",
   "execution_count": 5,
   "id": "3a23b9e4",
   "metadata": {},
   "outputs": [
    {
     "ename": "AttributeError",
     "evalue": "'tuple' object has no attribute 'sort'",
     "output_type": "error",
     "traceback": [
      "\u001b[1;31m---------------------------------------------------------------------------\u001b[0m",
      "\u001b[1;31mAttributeError\u001b[0m                            Traceback (most recent call last)",
      "Cell \u001b[1;32mIn[5], line 1\u001b[0m\n\u001b[1;32m----> 1\u001b[0m \u001b[43mA\u001b[49m\u001b[38;5;241;43m.\u001b[39;49m\u001b[43msort\u001b[49m()\n",
      "\u001b[1;31mAttributeError\u001b[0m: 'tuple' object has no attribute 'sort'"
     ]
    }
   ],
   "source": [
    "A.sort()  # not allowed\n",
    "        # tuple has no attribuutr sort"
   ]
  },
  {
   "cell_type": "code",
   "execution_count": 6,
   "id": "2a20877a",
   "metadata": {},
   "outputs": [
    {
     "data": {
      "text/plain": [
       "[1, 12, 22, 34]"
      ]
     },
     "execution_count": 6,
     "metadata": {},
     "output_type": "execute_result"
    }
   ],
   "source": [
    "sorted(A)  # converting into list than return the sorted list"
   ]
  },
  {
   "cell_type": "code",
   "execution_count": 7,
   "id": "e023c731",
   "metadata": {},
   "outputs": [
    {
     "data": {
      "text/plain": [
       "(22, 12, 34, 1)"
      ]
     },
     "execution_count": 7,
     "metadata": {},
     "output_type": "execute_result"
    }
   ],
   "source": [
    "A"
   ]
  },
  {
   "cell_type": "code",
   "execution_count": 8,
   "id": "d92bd0b9",
   "metadata": {},
   "outputs": [
    {
     "data": {
      "text/plain": [
       "4"
      ]
     },
     "execution_count": 8,
     "metadata": {},
     "output_type": "execute_result"
    }
   ],
   "source": [
    "len(A)"
   ]
  },
  {
   "cell_type": "code",
   "execution_count": 9,
   "id": "04bfcfab",
   "metadata": {},
   "outputs": [
    {
     "data": {
      "text/plain": [
       "(22, 12, 34, 1, 22, 12, 34, 1)"
      ]
     },
     "execution_count": 9,
     "metadata": {},
     "output_type": "execute_result"
    }
   ],
   "source": [
    "A*2"
   ]
  },
  {
   "cell_type": "code",
   "execution_count": 10,
   "id": "ce9f046c",
   "metadata": {
    "scrolled": true
   },
   "outputs": [
    {
     "ename": "TypeError",
     "evalue": "unsupported operand type(s) for ** or pow(): 'tuple' and 'int'",
     "output_type": "error",
     "traceback": [
      "\u001b[1;31m---------------------------------------------------------------------------\u001b[0m",
      "\u001b[1;31mTypeError\u001b[0m                                 Traceback (most recent call last)",
      "Cell \u001b[1;32mIn[10], line 1\u001b[0m\n\u001b[1;32m----> 1\u001b[0m \u001b[43mA\u001b[49m\u001b[38;5;241;43m*\u001b[39;49m\u001b[38;5;241;43m*\u001b[39;49m\u001b[38;5;241;43m2\u001b[39;49m\n",
      "\u001b[1;31mTypeError\u001b[0m: unsupported operand type(s) for ** or pow(): 'tuple' and 'int'"
     ]
    }
   ],
   "source": [
    "A**2"
   ]
  },
  {
   "cell_type": "code",
   "execution_count": 11,
   "id": "14c54613",
   "metadata": {},
   "outputs": [
    {
     "data": {
      "text/plain": [
       "(22, 12, 34, 1)"
      ]
     },
     "execution_count": 11,
     "metadata": {},
     "output_type": "execute_result"
    }
   ],
   "source": [
    "A"
   ]
  },
  {
   "cell_type": "code",
   "execution_count": 12,
   "id": "3c763e78",
   "metadata": {},
   "outputs": [
    {
     "data": {
      "text/plain": [
       "34"
      ]
     },
     "execution_count": 12,
     "metadata": {},
     "output_type": "execute_result"
    }
   ],
   "source": [
    "max(A)"
   ]
  },
  {
   "cell_type": "code",
   "execution_count": 13,
   "id": "cfe8a4e0",
   "metadata": {},
   "outputs": [
    {
     "data": {
      "text/plain": [
       "1"
      ]
     },
     "execution_count": 13,
     "metadata": {},
     "output_type": "execute_result"
    }
   ],
   "source": [
    "A.index(12)"
   ]
  },
  {
   "cell_type": "code",
   "execution_count": 14,
   "id": "22a6e9eb",
   "metadata": {},
   "outputs": [
    {
     "data": {
      "text/plain": [
       "1"
      ]
     },
     "execution_count": 14,
     "metadata": {},
     "output_type": "execute_result"
    }
   ],
   "source": [
    "A.count(22)"
   ]
  },
  {
   "cell_type": "code",
   "execution_count": 15,
   "id": "a648e18f",
   "metadata": {},
   "outputs": [
    {
     "data": {
      "text/plain": [
       "69"
      ]
     },
     "execution_count": 15,
     "metadata": {},
     "output_type": "execute_result"
    }
   ],
   "source": [
    "sum(A)"
   ]
  },
  {
   "cell_type": "code",
   "execution_count": 16,
   "id": "3c12692d",
   "metadata": {},
   "outputs": [
    {
     "ename": "AttributeError",
     "evalue": "'tuple' object has no attribute 'reversed'",
     "output_type": "error",
     "traceback": [
      "\u001b[1;31m---------------------------------------------------------------------------\u001b[0m",
      "\u001b[1;31mAttributeError\u001b[0m                            Traceback (most recent call last)",
      "Cell \u001b[1;32mIn[16], line 1\u001b[0m\n\u001b[1;32m----> 1\u001b[0m \u001b[43mA\u001b[49m\u001b[38;5;241;43m.\u001b[39;49m\u001b[43mreversed\u001b[49m()\n",
      "\u001b[1;31mAttributeError\u001b[0m: 'tuple' object has no attribute 'reversed'"
     ]
    }
   ],
   "source": [
    "A.reversed()"
   ]
  },
  {
   "cell_type": "code",
   "execution_count": 17,
   "id": "2b0e3dc6",
   "metadata": {},
   "outputs": [],
   "source": [
    "amazon_cart = [[\"watch\",5000],[\"phone\",10000],[\"laptop\",50000]]\n",
    "\n",
    "total_cost = 0"
   ]
  },
  {
   "cell_type": "code",
   "execution_count": 18,
   "id": "8f0767b9",
   "metadata": {},
   "outputs": [],
   "source": [
    "amazon_cart = [(\"watch\",5000),(\"phone\",10000),(\"laptop\",50000)]"
   ]
  },
  {
   "cell_type": "markdown",
   "id": "c4840d86",
   "metadata": {},
   "source": [
    "    where ever data integrity is required there we should use tuple"
   ]
  },
  {
   "cell_type": "markdown",
   "id": "54064442",
   "metadata": {},
   "source": [
    "    Tuples are not used often as lists in programming, but are used when immutability is necessary. while you are passing around an object and if you need to make sure that it does not get changed then tuple become your solution. It provide a convenient source of data integrity"
   ]
  },
  {
   "cell_type": "code",
   "execution_count": 19,
   "id": "7aebdfbd",
   "metadata": {},
   "outputs": [
    {
     "data": {
      "text/plain": [
       "(22, 12, 34, 1)"
      ]
     },
     "execution_count": 19,
     "metadata": {},
     "output_type": "execute_result"
    }
   ],
   "source": [
    "A"
   ]
  },
  {
   "cell_type": "code",
   "execution_count": 20,
   "id": "9fd8cd5a",
   "metadata": {},
   "outputs": [
    {
     "data": {
      "text/plain": [
       "(12, 34, 1)"
      ]
     },
     "execution_count": 20,
     "metadata": {},
     "output_type": "execute_result"
    }
   ],
   "source": [
    "A[1:]  #slicing"
   ]
  },
  {
   "cell_type": "code",
   "execution_count": 21,
   "id": "928ef631",
   "metadata": {},
   "outputs": [
    {
     "data": {
      "text/plain": [
       "(1, 34, 12, 22)"
      ]
     },
     "execution_count": 21,
     "metadata": {},
     "output_type": "execute_result"
    }
   ],
   "source": [
    "A[::-1]"
   ]
  },
  {
   "cell_type": "code",
   "execution_count": 22,
   "id": "5d103ce7",
   "metadata": {},
   "outputs": [
    {
     "name": "stdout",
     "output_type": "stream",
     "text": [
      "5000\n",
      "Cart after adding: watch : 5000\n",
      "10000\n",
      "Cart after adding: phone : 15000\n",
      "50000\n",
      "Cart after adding: laptop : 65000\n",
      "total_cost of item: 65000\n"
     ]
    }
   ],
   "source": [
    "amazon_cart = [(\"watch\",5000),(\"phone\",10000),(\"laptop\",50000)]\n",
    "total_cost = 0\n",
    "\n",
    "for item in amazon_cart:\n",
    "    print(item[1])\n",
    "    total_cost = total_cost + item[1]\n",
    "    print(f\"Cart after adding: {item[0]} : {total_cost}\")\n",
    "    \n",
    "print(f\"total_cost of item: {total_cost}\")"
   ]
  },
  {
   "cell_type": "code",
   "execution_count": 23,
   "id": "2a827ab6",
   "metadata": {},
   "outputs": [
    {
     "name": "stdout",
     "output_type": "stream",
     "text": [
      "What you want to purchase: watch\n"
     ]
    }
   ],
   "source": [
    "amazon_website = [(\"watch\",5000),(\"phone\",10000),(\"laptop\",50000),(\"shirt\",1000)]\n",
    "\n",
    "my_choice = input(\"What you want to purchase: \")\n",
    "\n"
   ]
  },
  {
   "cell_type": "code",
   "execution_count": 24,
   "id": "e4c8b1be",
   "metadata": {},
   "outputs": [
    {
     "name": "stdout",
     "output_type": "stream",
     "text": [
      "('watch', 5000)\n"
     ]
    }
   ],
   "source": [
    "for item in amazon_website:\n",
    "    if item[0] == my_choice:\n",
    "        print(item)\n",
    "#     else:\n",
    "#         print(\"OUT OF STOCK\")"
   ]
  },
  {
   "cell_type": "markdown",
   "id": "1212349a",
   "metadata": {},
   "source": [
    "### Sets\n",
    "    unordered collection of unique elements"
   ]
  },
  {
   "cell_type": "code",
   "execution_count": 25,
   "id": "60883b35",
   "metadata": {},
   "outputs": [
    {
     "data": {
      "text/plain": [
       "set"
      ]
     },
     "execution_count": 25,
     "metadata": {},
     "output_type": "execute_result"
    }
   ],
   "source": [
    "x = {1,2,33,4,33,2}\n",
    "type(x)"
   ]
  },
  {
   "cell_type": "code",
   "execution_count": 26,
   "id": "93a22ca7",
   "metadata": {},
   "outputs": [
    {
     "data": {
      "text/plain": [
       "{1, 2, 4, 33}"
      ]
     },
     "execution_count": 26,
     "metadata": {},
     "output_type": "execute_result"
    }
   ],
   "source": [
    "x"
   ]
  },
  {
   "cell_type": "code",
   "execution_count": 27,
   "id": "b4ff4639",
   "metadata": {},
   "outputs": [
    {
     "data": {
      "text/plain": [
       "set"
      ]
     },
     "execution_count": 27,
     "metadata": {},
     "output_type": "execute_result"
    }
   ],
   "source": [
    "x = set()  #recommended\n",
    "type(x)"
   ]
  },
  {
   "cell_type": "code",
   "execution_count": 28,
   "id": "99a3d698",
   "metadata": {},
   "outputs": [
    {
     "data": {
      "text/plain": [
       "dict"
      ]
     },
     "execution_count": 28,
     "metadata": {},
     "output_type": "execute_result"
    }
   ],
   "source": [
    "x = {}  # not recommended\n",
    "type(x)"
   ]
  },
  {
   "cell_type": "code",
   "execution_count": 29,
   "id": "e8e67062",
   "metadata": {},
   "outputs": [
    {
     "data": {
      "text/plain": [
       "set"
      ]
     },
     "execution_count": 29,
     "metadata": {},
     "output_type": "execute_result"
    }
   ],
   "source": [
    "x = {1,2,33,4,33,2}\n",
    "type(x)"
   ]
  },
  {
   "cell_type": "code",
   "execution_count": 30,
   "id": "f2217e61",
   "metadata": {},
   "outputs": [
    {
     "ename": "TypeError",
     "evalue": "'set' object is not subscriptable",
     "output_type": "error",
     "traceback": [
      "\u001b[1;31m---------------------------------------------------------------------------\u001b[0m",
      "\u001b[1;31mTypeError\u001b[0m                                 Traceback (most recent call last)",
      "Cell \u001b[1;32mIn[30], line 1\u001b[0m\n\u001b[1;32m----> 1\u001b[0m \u001b[43mx\u001b[49m\u001b[43m[\u001b[49m\u001b[38;5;241;43m2\u001b[39;49m\u001b[43m]\u001b[49m\n",
      "\u001b[1;31mTypeError\u001b[0m: 'set' object is not subscriptable"
     ]
    }
   ],
   "source": [
    "x[2]  # not allowed as set is unordered"
   ]
  },
  {
   "cell_type": "code",
   "execution_count": 31,
   "id": "615c3595",
   "metadata": {},
   "outputs": [],
   "source": [
    "x.add(99)  # append doesn't work, here we use add"
   ]
  },
  {
   "cell_type": "code",
   "execution_count": 32,
   "id": "5c8fe4dd",
   "metadata": {},
   "outputs": [
    {
     "data": {
      "text/plain": [
       "{1, 2, 4, 33, 99}"
      ]
     },
     "execution_count": 32,
     "metadata": {},
     "output_type": "execute_result"
    }
   ],
   "source": [
    "x"
   ]
  },
  {
   "cell_type": "code",
   "execution_count": 33,
   "id": "7c6b276b",
   "metadata": {},
   "outputs": [
    {
     "ename": "TypeError",
     "evalue": "unsupported operand type(s) for +: 'set' and 'set'",
     "output_type": "error",
     "traceback": [
      "\u001b[1;31m---------------------------------------------------------------------------\u001b[0m",
      "\u001b[1;31mTypeError\u001b[0m                                 Traceback (most recent call last)",
      "Cell \u001b[1;32mIn[33], line 4\u001b[0m\n\u001b[0;32m      1\u001b[0m A \u001b[38;5;241m=\u001b[39m {\u001b[38;5;241m1\u001b[39m,\u001b[38;5;241m2\u001b[39m,\u001b[38;5;241m3\u001b[39m}\n\u001b[0;32m      2\u001b[0m B \u001b[38;5;241m=\u001b[39m {\u001b[38;5;241m4\u001b[39m,\u001b[38;5;241m5\u001b[39m,\u001b[38;5;241m6\u001b[39m}\n\u001b[1;32m----> 4\u001b[0m \u001b[43mA\u001b[49m\u001b[38;5;241;43m+\u001b[39;49m\u001b[43mB\u001b[49m\n",
      "\u001b[1;31mTypeError\u001b[0m: unsupported operand type(s) for +: 'set' and 'set'"
     ]
    }
   ],
   "source": [
    "A = {1,2,3}\n",
    "B = {4,5,6}\n",
    "\n",
    "A+B"
   ]
  },
  {
   "cell_type": "code",
   "execution_count": 34,
   "id": "5639100e",
   "metadata": {},
   "outputs": [],
   "source": [
    "# print the unique value\n",
    "\n",
    "A = [12,12,22,3,4,5,4,44,3,2,2,1]\n",
    "A = set(A)"
   ]
  },
  {
   "cell_type": "code",
   "execution_count": 35,
   "id": "36eb5ddc",
   "metadata": {},
   "outputs": [
    {
     "data": {
      "text/plain": [
       "{1, 2, 3, 4, 5, 12, 22, 44}"
      ]
     },
     "execution_count": 35,
     "metadata": {},
     "output_type": "execute_result"
    }
   ],
   "source": [
    "A"
   ]
  },
  {
   "cell_type": "code",
   "execution_count": 36,
   "id": "617f2a88",
   "metadata": {},
   "outputs": [
    {
     "data": {
      "text/plain": [
       "[1, 2, 3, 4, 5, 12, 44, 22]"
      ]
     },
     "execution_count": 36,
     "metadata": {},
     "output_type": "execute_result"
    }
   ],
   "source": [
    "A = [12,12,22,3,4,5,4,44,3,2,2,1]\n",
    "A = list(set(A))\n",
    "A"
   ]
  },
  {
   "cell_type": "code",
   "execution_count": 37,
   "id": "dc33bad7",
   "metadata": {},
   "outputs": [],
   "source": [
    "A = [12,12,22,3,4,5,4,44,3,2,2,1]\n",
    "A = set(A)\n",
    "A.add(-100)"
   ]
  },
  {
   "cell_type": "code",
   "execution_count": 38,
   "id": "8d00b809",
   "metadata": {},
   "outputs": [
    {
     "data": {
      "text/plain": [
       "{-100, 1, 2, 3, 4, 5, 12, 22, 44}"
      ]
     },
     "execution_count": 38,
     "metadata": {},
     "output_type": "execute_result"
    }
   ],
   "source": [
    "A\n"
   ]
  },
  {
   "cell_type": "code",
   "execution_count": 39,
   "id": "320e4af1",
   "metadata": {},
   "outputs": [
    {
     "data": {
      "text/plain": [
       "{-100, 1, 2, 3, 4, 5, 5.7, 12, 22, 44}"
      ]
     },
     "execution_count": 39,
     "metadata": {},
     "output_type": "execute_result"
    }
   ],
   "source": [
    "A.add(5.7)\n",
    "A"
   ]
  },
  {
   "cell_type": "code",
   "execution_count": 40,
   "id": "7f496c82",
   "metadata": {},
   "outputs": [
    {
     "data": {
      "text/plain": [
       "{-100, 1, 12, 2, 22, 3, 4, 44, 5, 5.7, 'Bhumika'}"
      ]
     },
     "execution_count": 40,
     "metadata": {},
     "output_type": "execute_result"
    }
   ],
   "source": [
    "A.add(\"Bhumika\")\n",
    "A"
   ]
  },
  {
   "cell_type": "code",
   "execution_count": 41,
   "id": "c5e68091",
   "metadata": {},
   "outputs": [],
   "source": [
    "A.remove(1)"
   ]
  },
  {
   "cell_type": "code",
   "execution_count": 42,
   "id": "4c7fa2e2",
   "metadata": {},
   "outputs": [
    {
     "data": {
      "text/plain": [
       "{-100, 12, 2, 22, 3, 4, 44, 5, 5.7, 'Bhumika'}"
      ]
     },
     "execution_count": 42,
     "metadata": {},
     "output_type": "execute_result"
    }
   ],
   "source": [
    "A"
   ]
  },
  {
   "cell_type": "markdown",
   "id": "74fc149d",
   "metadata": {},
   "source": [
    "    sets are mutable in nature"
   ]
  },
  {
   "cell_type": "code",
   "execution_count": null,
   "id": "3cc6fe28",
   "metadata": {},
   "outputs": [],
   "source": []
  }
 ],
 "metadata": {
  "kernelspec": {
   "display_name": "Python 3 (ipykernel)",
   "language": "python",
   "name": "python3"
  },
  "language_info": {
   "codemirror_mode": {
    "name": "ipython",
    "version": 3
   },
   "file_extension": ".py",
   "mimetype": "text/x-python",
   "name": "python",
   "nbconvert_exporter": "python",
   "pygments_lexer": "ipython3",
   "version": "3.10.9"
  }
 },
 "nbformat": 4,
 "nbformat_minor": 5
}

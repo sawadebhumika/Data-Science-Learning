{
 "cells": [
  {
   "cell_type": "code",
   "execution_count": 8,
   "id": "9be5c12e",
   "metadata": {},
   "outputs": [],
   "source": [
    "a = \"Bhumika\""
   ]
  },
  {
   "cell_type": "code",
   "execution_count": 9,
   "id": "a6e8ce44",
   "metadata": {},
   "outputs": [
    {
     "data": {
      "text/plain": [
       "7"
      ]
     },
     "execution_count": 9,
     "metadata": {},
     "output_type": "execute_result"
    }
   ],
   "source": [
    "len(a)  # here len() is a inbuilt function"
   ]
  },
  {
   "cell_type": "code",
   "execution_count": 10,
   "id": "a953cb49",
   "metadata": {},
   "outputs": [
    {
     "data": {
      "text/plain": [
       "5"
      ]
     },
     "execution_count": 10,
     "metadata": {},
     "output_type": "execute_result"
    }
   ],
   "source": [
    "l = [1,2,3,\"bhumika\",8.90]\n",
    "len(l)"
   ]
  },
  {
   "cell_type": "markdown",
   "id": "44b641fe",
   "metadata": {},
   "source": [
    "    wheneever we try to create a function, we try to reutlise the same code again and again\n",
    "    to increase the reusabilty we try to create a function, instead of writing the code again aand again"
   ]
  },
  {
   "cell_type": "code",
   "execution_count": 11,
   "id": "c77fbc86",
   "metadata": {},
   "outputs": [
    {
     "ename": "SyntaxError",
     "evalue": "incomplete input (3488466851.py, line 2)",
     "output_type": "error",
     "traceback": [
      "\u001b[1;36m  Cell \u001b[1;32mIn[11], line 2\u001b[1;36m\u001b[0m\n\u001b[1;33m    \u001b[0m\n\u001b[1;37m    ^\u001b[0m\n\u001b[1;31mSyntaxError\u001b[0m\u001b[1;31m:\u001b[0m incomplete input\n"
     ]
    }
   ],
   "source": [
    "def test():     # it's giving a error, becz we have define a function but not mention the pty of the fuction or what this fuction is going to do\n",
    "    "
   ]
  },
  {
   "cell_type": "code",
   "execution_count": 12,
   "id": "a7e7ed12",
   "metadata": {},
   "outputs": [],
   "source": [
    "def test():\n",
    "    pass"
   ]
  },
  {
   "cell_type": "code",
   "execution_count": 13,
   "id": "5668dabd",
   "metadata": {},
   "outputs": [],
   "source": [
    "def test1():\n",
    "    print(\"This is my first function in python\")\n",
    "    \n",
    "# no error and no output"
   ]
  },
  {
   "cell_type": "code",
   "execution_count": 14,
   "id": "41814594",
   "metadata": {},
   "outputs": [
    {
     "name": "stdout",
     "output_type": "stream",
     "text": [
      "This is my first function in python\n"
     ]
    }
   ],
   "source": [
    "test1()   # call of function"
   ]
  },
  {
   "cell_type": "code",
   "execution_count": 15,
   "id": "6d221ce4",
   "metadata": {},
   "outputs": [
    {
     "name": "stdout",
     "output_type": "stream",
     "text": [
      "This is my first function in python\n"
     ]
    }
   ],
   "source": [
    "b = test1()"
   ]
  },
  {
   "cell_type": "code",
   "execution_count": 16,
   "id": "9c2b2941",
   "metadata": {},
   "outputs": [],
   "source": [
    "b   # no outcome"
   ]
  },
  {
   "cell_type": "code",
   "execution_count": 17,
   "id": "b3c8473e",
   "metadata": {},
   "outputs": [
    {
     "name": "stdout",
     "output_type": "stream",
     "text": [
      "None\n"
     ]
    }
   ],
   "source": [
    "print(b)"
   ]
  },
  {
   "cell_type": "code",
   "execution_count": 18,
   "id": "71c19905",
   "metadata": {},
   "outputs": [
    {
     "data": {
      "text/plain": [
       "NoneType"
      ]
     },
     "execution_count": 18,
     "metadata": {},
     "output_type": "execute_result"
    }
   ],
   "source": [
    "type(b)"
   ]
  },
  {
   "cell_type": "code",
   "execution_count": 19,
   "id": "5b737381",
   "metadata": {},
   "outputs": [
    {
     "name": "stdout",
     "output_type": "stream",
     "text": [
      "This is my first function in python\n"
     ]
    },
    {
     "data": {
      "text/plain": [
       "NoneType"
      ]
     },
     "execution_count": 19,
     "metadata": {},
     "output_type": "execute_result"
    }
   ],
   "source": [
    "type(test1())\n",
    "\n",
    "# Nonetype is kind of a datatype that you will not be able to hold inside any variables as an outcome"
   ]
  },
  {
   "cell_type": "code",
   "execution_count": 20,
   "id": "ab8e8b64",
   "metadata": {},
   "outputs": [
    {
     "data": {
      "text/plain": [
       "str"
      ]
     },
     "execution_count": 20,
     "metadata": {},
     "output_type": "execute_result"
    }
   ],
   "source": [
    "c = \"bhimik\"\n",
    "type(c)"
   ]
  },
  {
   "cell_type": "code",
   "execution_count": 21,
   "id": "dfb65bed",
   "metadata": {},
   "outputs": [],
   "source": [
    "def test2():\n",
    "    return 5"
   ]
  },
  {
   "cell_type": "code",
   "execution_count": 22,
   "id": "ad12bf74",
   "metadata": {},
   "outputs": [
    {
     "data": {
      "text/plain": [
       "5"
      ]
     },
     "execution_count": 22,
     "metadata": {},
     "output_type": "execute_result"
    }
   ],
   "source": [
    "test2()"
   ]
  },
  {
   "cell_type": "code",
   "execution_count": 23,
   "id": "d6f271c1",
   "metadata": {},
   "outputs": [
    {
     "data": {
      "text/plain": [
       "5"
      ]
     },
     "execution_count": 23,
     "metadata": {},
     "output_type": "execute_result"
    }
   ],
   "source": [
    "d = test2()\n",
    "d"
   ]
  },
  {
   "cell_type": "code",
   "execution_count": 24,
   "id": "dc4e7334",
   "metadata": {},
   "outputs": [
    {
     "data": {
      "text/plain": [
       "int"
      ]
     },
     "execution_count": 24,
     "metadata": {},
     "output_type": "execute_result"
    }
   ],
   "source": [
    "type(test2())"
   ]
  },
  {
   "cell_type": "code",
   "execution_count": 25,
   "id": "e760d823",
   "metadata": {},
   "outputs": [
    {
     "data": {
      "text/plain": [
       "int"
      ]
     },
     "execution_count": 25,
     "metadata": {},
     "output_type": "execute_result"
    }
   ],
   "source": [
    "type(d)"
   ]
  },
  {
   "cell_type": "code",
   "execution_count": 26,
   "id": "62de43a6",
   "metadata": {},
   "outputs": [
    {
     "name": "stdout",
     "output_type": "stream",
     "text": [
      "\n"
     ]
    },
    {
     "data": {
      "text/plain": [
       "NoneType"
      ]
     },
     "execution_count": 26,
     "metadata": {},
     "output_type": "execute_result"
    }
   ],
   "source": [
    "type(print())\n",
    "\n",
    "# print always try to return a nonetype"
   ]
  },
  {
   "cell_type": "code",
   "execution_count": 27,
   "id": "d7205f82",
   "metadata": {},
   "outputs": [],
   "source": [
    "def test3():\n",
    "    return 5  #here we will able to perform a primitive operation"
   ]
  },
  {
   "cell_type": "code",
   "execution_count": 28,
   "id": "50cb4525",
   "metadata": {},
   "outputs": [],
   "source": [
    "def test4():\n",
    "    print(\"This is my print return\")"
   ]
  },
  {
   "cell_type": "code",
   "execution_count": 29,
   "id": "62e1c5b7",
   "metadata": {},
   "outputs": [
    {
     "name": "stdout",
     "output_type": "stream",
     "text": [
      "This is my print return\n"
     ]
    }
   ],
   "source": [
    "e = test4()"
   ]
  },
  {
   "cell_type": "code",
   "execution_count": 30,
   "id": "74d674a6",
   "metadata": {},
   "outputs": [],
   "source": [
    "e"
   ]
  },
  {
   "cell_type": "code",
   "execution_count": 31,
   "id": "395da7cc",
   "metadata": {},
   "outputs": [
    {
     "ename": "TypeError",
     "evalue": "unsupported operand type(s) for +: 'NoneType' and 'str'",
     "output_type": "error",
     "traceback": [
      "\u001b[1;31m---------------------------------------------------------------------------\u001b[0m",
      "\u001b[1;31mTypeError\u001b[0m                                 Traceback (most recent call last)",
      "Cell \u001b[1;32mIn[31], line 1\u001b[0m\n\u001b[1;32m----> 1\u001b[0m \u001b[43me\u001b[49m\u001b[43m \u001b[49m\u001b[38;5;241;43m+\u001b[39;49m\u001b[43m \u001b[49m\u001b[38;5;124;43m\"\u001b[39;49m\u001b[38;5;124;43mbhumi\u001b[39;49m\u001b[38;5;124;43m\"\u001b[39;49m\n",
      "\u001b[1;31mTypeError\u001b[0m: unsupported operand type(s) for +: 'NoneType' and 'str'"
     ]
    }
   ],
   "source": [
    "e + \"bhumi\""
   ]
  },
  {
   "cell_type": "code",
   "execution_count": 32,
   "id": "812b6dd4",
   "metadata": {},
   "outputs": [],
   "source": [
    "def test3():\n",
    "    return \"bhumika\""
   ]
  },
  {
   "cell_type": "code",
   "execution_count": 33,
   "id": "e8a9f628",
   "metadata": {},
   "outputs": [
    {
     "data": {
      "text/plain": [
       "'bhumikasawade'"
      ]
     },
     "execution_count": 33,
     "metadata": {},
     "output_type": "execute_result"
    }
   ],
   "source": [
    "test3() + \"sawade\""
   ]
  },
  {
   "cell_type": "code",
   "execution_count": 34,
   "id": "2ba6e189",
   "metadata": {},
   "outputs": [
    {
     "name": "stdout",
     "output_type": "stream",
     "text": [
      "This is my print return\n"
     ]
    },
    {
     "ename": "TypeError",
     "evalue": "unsupported operand type(s) for +: 'NoneType' and 'str'",
     "output_type": "error",
     "traceback": [
      "\u001b[1;31m---------------------------------------------------------------------------\u001b[0m",
      "\u001b[1;31mTypeError\u001b[0m                                 Traceback (most recent call last)",
      "Cell \u001b[1;32mIn[34], line 1\u001b[0m\n\u001b[1;32m----> 1\u001b[0m \u001b[43mtest4\u001b[49m\u001b[43m(\u001b[49m\u001b[43m)\u001b[49m\u001b[43m \u001b[49m\u001b[38;5;241;43m+\u001b[39;49m\u001b[43m \u001b[49m\u001b[38;5;124;43m\"\u001b[39;49m\u001b[38;5;124;43msawadde\u001b[39;49m\u001b[38;5;124;43m\"\u001b[39;49m\n",
      "\u001b[1;31mTypeError\u001b[0m: unsupported operand type(s) for +: 'NoneType' and 'str'"
     ]
    }
   ],
   "source": [
    "test4() + \"sawadde\""
   ]
  },
  {
   "cell_type": "markdown",
   "id": "c9f8149d",
   "metadata": {},
   "source": [
    "    wherever we are looking for a primitive outcome throungh which we'll able to perform a datatype operation or primitive operation in that case we are suppose to use a return keyword othewise we can use print"
   ]
  },
  {
   "cell_type": "code",
   "execution_count": 35,
   "id": "1a39972e",
   "metadata": {},
   "outputs": [
    {
     "ename": "IndentationError",
     "evalue": "expected an indented block after function definition on line 1 (729145282.py, line 2)",
     "output_type": "error",
     "traceback": [
      "\u001b[1;36m  Cell \u001b[1;32mIn[35], line 2\u001b[1;36m\u001b[0m\n\u001b[1;33m    print(\"this is my python code\")\u001b[0m\n\u001b[1;37m    ^\u001b[0m\n\u001b[1;31mIndentationError\u001b[0m\u001b[1;31m:\u001b[0m expected an indented block after function definition on line 1\n"
     ]
    }
   ],
   "source": [
    "def test5():\n",
    "print(\"this is my python code\")\n",
    "    \n",
    "# to seperate a code or segment a code python uses a indentation approach , so we need to maintain a proper indentation"
   ]
  },
  {
   "cell_type": "code",
   "execution_count": 36,
   "id": "fa431028",
   "metadata": {},
   "outputs": [],
   "source": [
    "def test6():\n",
    "    return 1,3,[3,4,5,4],\"bhumik\",(3,4,5,3)"
   ]
  },
  {
   "cell_type": "code",
   "execution_count": 37,
   "id": "75fe0e6e",
   "metadata": {},
   "outputs": [
    {
     "data": {
      "text/plain": [
       "(1, 3, [3, 4, 5, 4], 'bhumik', (3, 4, 5, 3))"
      ]
     },
     "execution_count": 37,
     "metadata": {},
     "output_type": "execute_result"
    }
   ],
   "source": [
    "test6()   # packaged otcome as tuple"
   ]
  },
  {
   "cell_type": "code",
   "execution_count": 38,
   "id": "478faa4e",
   "metadata": {},
   "outputs": [
    {
     "data": {
      "text/plain": [
       "tuple"
      ]
     },
     "execution_count": 38,
     "metadata": {},
     "output_type": "execute_result"
    }
   ],
   "source": [
    "type(test6())"
   ]
  },
  {
   "cell_type": "code",
   "execution_count": 39,
   "id": "0c67a544",
   "metadata": {},
   "outputs": [
    {
     "data": {
      "text/plain": [
       "3"
      ]
     },
     "execution_count": 39,
     "metadata": {},
     "output_type": "execute_result"
    }
   ],
   "source": [
    "test6()[1]"
   ]
  },
  {
   "cell_type": "code",
   "execution_count": 40,
   "id": "f5ee114a",
   "metadata": {},
   "outputs": [
    {
     "data": {
      "text/plain": [
       "[3, 4, 5, 4]"
      ]
     },
     "execution_count": 40,
     "metadata": {},
     "output_type": "execute_result"
    }
   ],
   "source": [
    "test6()[2]"
   ]
  },
  {
   "cell_type": "code",
   "execution_count": 41,
   "id": "c70eb869",
   "metadata": {},
   "outputs": [],
   "source": [
    "def test7():\n",
    "    return 1,3,[3,4,5,4],\"bhumik\",(3,4,5,3)"
   ]
  },
  {
   "cell_type": "code",
   "execution_count": 42,
   "id": "3a0f3730",
   "metadata": {},
   "outputs": [],
   "source": [
    "a,b,c,d,e = test7()  # declaring a variable"
   ]
  },
  {
   "cell_type": "code",
   "execution_count": 43,
   "id": "2c2da707",
   "metadata": {},
   "outputs": [
    {
     "data": {
      "text/plain": [
       "([3, 4, 5, 4], 'bhumik')"
      ]
     },
     "execution_count": 43,
     "metadata": {},
     "output_type": "execute_result"
    }
   ],
   "source": [
    "c,d"
   ]
  },
  {
   "cell_type": "code",
   "execution_count": 44,
   "id": "02268799",
   "metadata": {},
   "outputs": [
    {
     "data": {
      "text/plain": [
       "[3, 4, 5, 4]"
      ]
     },
     "execution_count": 44,
     "metadata": {},
     "output_type": "execute_result"
    }
   ],
   "source": [
    "c"
   ]
  },
  {
   "cell_type": "code",
   "execution_count": 45,
   "id": "c636311d",
   "metadata": {},
   "outputs": [],
   "source": [
    "def test8():\n",
    "    a = 4*5 + 9\n",
    "    return a   #code exsts in a sequential manner"
   ]
  },
  {
   "cell_type": "code",
   "execution_count": 46,
   "id": "d05025bb",
   "metadata": {},
   "outputs": [
    {
     "data": {
      "text/plain": [
       "29"
      ]
     },
     "execution_count": 46,
     "metadata": {},
     "output_type": "execute_result"
    }
   ],
   "source": [
    "test8()"
   ]
  },
  {
   "cell_type": "code",
   "execution_count": 47,
   "id": "bf8f55d2",
   "metadata": {},
   "outputs": [
    {
     "data": {
      "text/plain": [
       "30"
      ]
     },
     "execution_count": 47,
     "metadata": {},
     "output_type": "execute_result"
    }
   ],
   "source": [
    "test8() + 1"
   ]
  },
  {
   "cell_type": "code",
   "execution_count": 48,
   "id": "2e8d5a11",
   "metadata": {},
   "outputs": [
    {
     "name": "stdout",
     "output_type": "stream",
     "text": [
      "32\n"
     ]
    }
   ],
   "source": [
    "l = [2,3,5,4,6,5,4,3]\n",
    "sum_ = 0\n",
    "\n",
    "for i in l:\n",
    "    sum_ = sum_ + i\n",
    "print(sum_)\n",
    "    \n",
    "    "
   ]
  },
  {
   "cell_type": "code",
   "execution_count": 49,
   "id": "06e770cc",
   "metadata": {},
   "outputs": [
    {
     "data": {
      "text/plain": [
       "32"
      ]
     },
     "execution_count": 49,
     "metadata": {},
     "output_type": "execute_result"
    }
   ],
   "source": [
    "sum(l)"
   ]
  },
  {
   "cell_type": "code",
   "execution_count": 50,
   "id": "47d93311",
   "metadata": {},
   "outputs": [],
   "source": [
    "def test9():\n",
    "    l = [2,3,5,4,6,5,4,3,\"bhumi\"]\n",
    "    sum_ = 0\n",
    "\n",
    "    for i in l:\n",
    "        if type(i) == int:\n",
    "            sum_ = sum_ + i\n",
    "    return sum_"
   ]
  },
  {
   "cell_type": "code",
   "execution_count": 51,
   "id": "4517b2c6",
   "metadata": {
    "scrolled": true
   },
   "outputs": [
    {
     "data": {
      "text/plain": [
       "32"
      ]
     },
     "execution_count": 51,
     "metadata": {},
     "output_type": "execute_result"
    }
   ],
   "source": [
    "test9()"
   ]
  },
  {
   "cell_type": "code",
   "execution_count": 52,
   "id": "bbf54c90",
   "metadata": {},
   "outputs": [],
   "source": [
    "l1 = [7,8,9,6,7,\"bhumik\",8.97]"
   ]
  },
  {
   "cell_type": "code",
   "execution_count": 53,
   "id": "98836ac0",
   "metadata": {},
   "outputs": [],
   "source": [
    "def test10(l):   # passing a argument\n",
    "    sum_ = 0\n",
    "\n",
    "    for i in l:\n",
    "        if type(i) == int :\n",
    "            sum_ = sum_ + i\n",
    "    return sum_"
   ]
  },
  {
   "cell_type": "code",
   "execution_count": 54,
   "id": "fd1810a6",
   "metadata": {},
   "outputs": [
    {
     "data": {
      "text/plain": [
       "37"
      ]
     },
     "execution_count": 54,
     "metadata": {},
     "output_type": "execute_result"
    }
   ],
   "source": [
    "test10(l1)"
   ]
  },
  {
   "cell_type": "code",
   "execution_count": 55,
   "id": "8e069d16",
   "metadata": {},
   "outputs": [],
   "source": [
    "def test11(a,b):   # suppose to pass two data at the time of function call\n",
    "    return a + b"
   ]
  },
  {
   "cell_type": "code",
   "execution_count": 56,
   "id": "be824600",
   "metadata": {},
   "outputs": [
    {
     "data": {
      "text/plain": [
       "8"
      ]
     },
     "execution_count": 56,
     "metadata": {},
     "output_type": "execute_result"
    }
   ],
   "source": [
    "test11(4,4)"
   ]
  },
  {
   "cell_type": "code",
   "execution_count": 57,
   "id": "f9464f9d",
   "metadata": {},
   "outputs": [
    {
     "data": {
      "text/plain": [
       "'bhumikswade'"
      ]
     },
     "execution_count": 57,
     "metadata": {},
     "output_type": "execute_result"
    }
   ],
   "source": [
    "test11(\"bhumik\",\"swade\")"
   ]
  },
  {
   "cell_type": "code",
   "execution_count": 58,
   "id": "9c5ee710",
   "metadata": {},
   "outputs": [
    {
     "data": {
      "text/plain": [
       "11"
      ]
     },
     "execution_count": 58,
     "metadata": {},
     "output_type": "execute_result"
    }
   ],
   "source": [
    "test11(b = 4,a = 7)"
   ]
  },
  {
   "cell_type": "code",
   "execution_count": 59,
   "id": "7f999a0e",
   "metadata": {
    "scrolled": true
   },
   "outputs": [
    {
     "name": "stdout",
     "output_type": "stream",
     "text": [
      "['bhumik', 'kumar', 'ineron']\n"
     ]
    }
   ],
   "source": [
    "l = [3,4,5,2,\"bhumik\",\"kumar\",2,3,2,\"ineron\"]\n",
    "list_ = list()\n",
    "\n",
    "for i in l:\n",
    "    if type(i) == str:\n",
    "        list_.append(i)\n",
    "print(list_)\n",
    "        "
   ]
  },
  {
   "cell_type": "code",
   "execution_count": 60,
   "id": "19760932",
   "metadata": {},
   "outputs": [],
   "source": [
    "l1 = [3,4,5,2,\"bhumik\",\"kumar\",2,3,2,\"ineron\"]"
   ]
  },
  {
   "cell_type": "code",
   "execution_count": 61,
   "id": "359dbaba",
   "metadata": {},
   "outputs": [],
   "source": [
    "def test12(l):\n",
    "    list_ = list()\n",
    "\n",
    "    for i in l:\n",
    "        if type(i) == str:\n",
    "            list_.append(i)\n",
    "    return list_"
   ]
  },
  {
   "cell_type": "code",
   "execution_count": 62,
   "id": "f7d95864",
   "metadata": {},
   "outputs": [
    {
     "data": {
      "text/plain": [
       "['bhumik', 'kumar', 'ineron']"
      ]
     },
     "execution_count": 62,
     "metadata": {},
     "output_type": "execute_result"
    }
   ],
   "source": [
    "test12(l1)"
   ]
  },
  {
   "cell_type": "code",
   "execution_count": 63,
   "id": "418f4c57",
   "metadata": {},
   "outputs": [],
   "source": [
    "l2 = [\"light\",\"bulb\",\"tube light\",23.43,98]"
   ]
  },
  {
   "cell_type": "code",
   "execution_count": 64,
   "id": "e78658f9",
   "metadata": {},
   "outputs": [
    {
     "data": {
      "text/plain": [
       "['light', 'bulb', 'tube light']"
      ]
     },
     "execution_count": 64,
     "metadata": {},
     "output_type": "execute_result"
    }
   ],
   "source": [
    "test12(l2)"
   ]
  },
  {
   "cell_type": "code",
   "execution_count": 65,
   "id": "88309b43",
   "metadata": {},
   "outputs": [
    {
     "ename": "TypeError",
     "evalue": "len() takes exactly one argument (0 given)",
     "output_type": "error",
     "traceback": [
      "\u001b[1;31m---------------------------------------------------------------------------\u001b[0m",
      "\u001b[1;31mTypeError\u001b[0m                                 Traceback (most recent call last)",
      "Cell \u001b[1;32mIn[65], line 1\u001b[0m\n\u001b[1;32m----> 1\u001b[0m \u001b[38;5;28;43mlen\u001b[39;49m\u001b[43m(\u001b[49m\u001b[43m)\u001b[49m\n",
      "\u001b[1;31mTypeError\u001b[0m: len() takes exactly one argument (0 given)"
     ]
    }
   ],
   "source": [
    "len()"
   ]
  },
  {
   "cell_type": "code",
   "execution_count": 66,
   "id": "748371ea",
   "metadata": {},
   "outputs": [],
   "source": [
    "# create a writeup for the function, technically called as doc string\n",
    "\n",
    "def test12(l):\n",
    "    \"\"\" This is my function which will help you to sepearte a list into new one\"\"\"     # doc string\n",
    "    list_ = list()\n",
    "\n",
    "    for i in l:\n",
    "        if type(i) == str:\n",
    "            list_.append(i)\n",
    "    return list_"
   ]
  },
  {
   "cell_type": "code",
   "execution_count": null,
   "id": "d3dbaa6c",
   "metadata": {},
   "outputs": [],
   "source": [
    "test12()   # try doing shift+tab"
   ]
  },
  {
   "cell_type": "code",
   "execution_count": null,
   "id": "115170bd",
   "metadata": {},
   "outputs": [],
   "source": []
  }
 ],
 "metadata": {
  "kernelspec": {
   "display_name": "Python 3 (ipykernel)",
   "language": "python",
   "name": "python3"
  },
  "language_info": {
   "codemirror_mode": {
    "name": "ipython",
    "version": 3
   },
   "file_extension": ".py",
   "mimetype": "text/x-python",
   "name": "python",
   "nbconvert_exporter": "python",
   "pygments_lexer": "ipython3",
   "version": "3.10.9"
  }
 },
 "nbformat": 4,
 "nbformat_minor": 5
}
